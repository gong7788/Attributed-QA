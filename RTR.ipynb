{
 "cells": [
  {
   "cell_type": "code",
   "execution_count": 8,
   "metadata": {},
   "outputs": [],
   "source": [
    "import json\n",
    "from langchain.document_loaders import CSVLoader\n",
    "from langchain.text_splitter import RecursiveCharacterTextSplitter\n",
    "from langchain.vectorstores import FAISS\n",
    "from langchain.embeddings import HuggingFaceEmbeddings\n",
    "import pandas as pd"
   ]
  },
  {
   "cell_type": "code",
   "execution_count": 2,
   "metadata": {},
   "outputs": [],
   "source": [
    "#load document\n",
    "# file_path = 'data/doc2dial/doc2dial_qa_train.csv'\n",
    "# loader = CSVLoader(file_path)\n",
    "# document = loader.load()\n",
    "# print(f'documents:{len(document)}')"
   ]
  },
  {
   "cell_type": "code",
   "execution_count": 9,
   "metadata": {},
   "outputs": [],
   "source": [
    "#load qa pairs\n",
    "file_path = 'data/doc2dial/doc2dial_qa_train.csv'\n",
    "df = pd.read_csv(file_path)"
   ]
  },
  {
   "cell_type": "code",
   "execution_count": 6,
   "metadata": {},
   "outputs": [
    {
     "name": "stdout",
     "output_type": "stream",
     "text": [
      "0\n",
      "1\n",
      "2\n",
      "3\n",
      "4\n",
      "5\n"
     ]
    }
   ],
   "source": [
    "for index, row in df.iterrows():\n",
    "    print(index)\n",
    "    if index == 10:\n",
    "        break\n",
    "    elif index % 5 == 0 and index != 0:\n",
    "        break"
   ]
  },
  {
   "cell_type": "code",
   "execution_count": 3,
   "metadata": {},
   "outputs": [],
   "source": [
    "import os\n",
    "directory = 'data/doc2dial/failed_doc'\n",
    "failed_doc_ids = [2,3,4]\n",
    "if not os.path.exists(directory):\n",
    "    os.makedirs(directory)\n",
    "\n",
    "fail_filename = os.path.join(directory, 'failed_doc_ids.csv')\n",
    "\n",
    "with open(fail_filename, 'w') as f:\n",
    "    for item in failed_doc_ids:\n",
    "        f.write(\"%s\\n\" % item)"
   ]
  },
  {
   "cell_type": "code",
   "execution_count": 6,
   "metadata": {},
   "outputs": [],
   "source": [
    "string = '1. Forgetting to Update Address\\nBy statute , you must report a change of address to DMV within ten days of moving. That is the case for the address associated with your license, as well as all the addresses associated with each registered vehicle, which may differ. It is not sufficient to only: write your new address on the back of your old license; tell the United States Postal Service; or inform the police officer writing you a ticket. If you fail to keep your address current , you will miss a suspension order and may be/npossible mail correspondence can reach you. Also , turning in your plates is important to avoid an insurance lapse./nreceive their DRA assessment because we do not have their new address on record. Failure to pay the DRA will result in a suspended license. Learn more about About the NYS Driver Point System [4] and how to Pay Driver Responsibility Assessment [5 ]'"
   ]
  },
  {
   "cell_type": "code",
   "execution_count": 7,
   "metadata": {},
   "outputs": [
    {
     "name": "stdout",
     "output_type": "stream",
     "text": [
      "1. Forgetting to Update Address\n",
      "By statute , you must report a change of address to DMV within ten days of moving. That is the case for the address associated with your license, as well as all the addresses associated with each registered vehicle, which may differ. It is not sufficient to only: write your new address on the back of your old license; tell the United States Postal Service; or inform the police officer writing you a ticket. If you fail to keep your address current , you will miss a suspension order and may be/npossible mail correspondence can reach you. Also , turning in your plates is important to avoid an insurance lapse./nreceive their DRA assessment because we do not have their new address on record. Failure to pay the DRA will result in a suspended license. Learn more about About the NYS Driver Point System [4] and how to Pay Driver Responsibility Assessment [5 ]\n"
     ]
    }
   ],
   "source": [
    "print(string)"
   ]
  },
  {
   "cell_type": "code",
   "execution_count": 82,
   "metadata": {},
   "outputs": [
    {
     "data": {
      "text/plain": [
       "'Top 5 DMV Mistakes and How to Avoid Them#3_0'"
      ]
     },
     "execution_count": 82,
     "metadata": {},
     "output_type": "execute_result"
    }
   ],
   "source": [
    "df['doc_id'][69]"
   ]
  },
  {
   "cell_type": "code",
   "execution_count": 4,
   "metadata": {},
   "outputs": [
    {
     "name": "stdout",
     "output_type": "stream",
     "text": [
      "question      Hello, I forgot o update my address, can you h...\n",
      "answer        hi, you have to report any change of address t...\n",
      "domain                                                      dmv\n",
      "doc_id             Top 5 DMV Mistakes and How to Avoid Them#3_0\n",
      "references    [{'sp_id': '6', 'label': 'solution'}, {'sp_id'...\n",
      "dial_id                        9f44c1539efe6f7e79b02eb1b413aa43\n",
      "Name: 0, dtype: object\n"
     ]
    }
   ],
   "source": [
    "#iterate through qa_set\n",
    "\n",
    "def iterator(df, test=True):\n",
    "    cnt = 0\n",
    "    for index, row in df.iterrows():\n",
    "        print(row)\n",
    "        cnt += 1\n",
    "        if test and cnt == 1:\n",
    "            break\n",
    "        else:\n",
    "            continue\n",
    "\n",
    "iterator(df, test=True)"
   ]
  },
  {
   "cell_type": "code",
   "execution_count": 10,
   "metadata": {},
   "outputs": [
    {
     "data": {
      "text/plain": [
       "question      Hello, I forgot o update my address, can you h...\n",
       "answer        hi, you have to report any change of address t...\n",
       "domain                                                      dmv\n",
       "doc_id             Top 5 DMV Mistakes and How to Avoid Them#3_0\n",
       "references    [{'sp_id': '6', 'label': 'solution'}, {'sp_id'...\n",
       "dial_id                        9f44c1539efe6f7e79b02eb1b413aa43\n",
       "Name: 0, dtype: object"
      ]
     },
     "execution_count": 10,
     "metadata": {},
     "output_type": "execute_result"
    }
   ],
   "source": [
    "doc1= df.loc[0]\n",
    "doc1"
   ]
  },
  {
   "cell_type": "code",
   "execution_count": 11,
   "metadata": {},
   "outputs": [
    {
     "data": {
      "text/plain": [
       "'dmv'"
      ]
     },
     "execution_count": 11,
     "metadata": {},
     "output_type": "execute_result"
    }
   ],
   "source": [
    "doc1['domain']"
   ]
  },
  {
   "cell_type": "code",
   "execution_count": 12,
   "metadata": {},
   "outputs": [],
   "source": [
    "file_path = 'data/doc2dial/doc2dial_doc.json'\n",
    "with open(file_path, 'r') as f:\n",
    "    doc2dial_doc = json.load(f)"
   ]
  },
  {
   "cell_type": "code",
   "execution_count": 13,
   "metadata": {},
   "outputs": [
    {
     "name": "stdout",
     "output_type": "stream",
     "text": [
      "Many DMV customers make easily avoidable mistakes that cause them significant problems, including encounters with law enforcement and impounded vehicles. Because we see customers make these mistakes over and over again , we are issuing this list of the top five DMV mistakes and how to avoid them. \n",
      "\n",
      "1. Forgetting to Update Address \n",
      "By statute , you must report a change of address to DMV within ten days of moving. That is the case for the address associated with your license, as well as all the addresses associated with each registered vehicle, which may differ. It is not sufficient to only: write your new address on the back of your old license; tell the United States Postal Service; or inform the police officer writing you a ticket. If you fail to keep your address current , you will miss a suspension order and may be charged with operating an unregistered vehicle and/or aggravated unlicensed operation, both misdemeanors. This really happens , but the good news is this is a problem that is easily avoidable. Learn more about how to change the address on your license and registrations [1 ] \n",
      "\n",
      "2. Leaving the State Without Notifying DMV \n",
      "States communicate with each other , so when you move to another state, be sure to tie up any loose ends regarding your New York State license or registration. That means resolving any unanswered tickets, suspensions or revocations, and surrendering your license plates to NYS when you get to your new home state. A license suspension or revocation here could mean that your new home state will not issue you a license there. Remember , it is important to notify DMV of your new address so that any possible mail correspondence can reach you. Also , turning in your plates is important to avoid an insurance lapse. \n",
      "\n",
      "3. Letting Insurance Lapse \n",
      "Because we all pay indirectly for crashes involving uninsured motorists , New York State requires every motorist to maintain auto insurance every single day a vehicle is registered. DMV works with insurance companies to electronically monitor your insurance coverage , and we know when coverage is dropped for any reason. When that happens , we mail you an insurance inquiry letter to allow you to clear up the problem. We send 500,000 inquiry letters a year. If the inquiry letter does not resolve the problem , we must suspend the vehicle registration and , if it persists, your driver license!We suspend 300,000 registrations a year for failure to maintain insurance. If you fail to maintain an updated address with us , you won t learn that you have an insurance problem , and we will suspend your registration and license. Make sure you turn in your vehicle s license plates at DMV before you cancel your insurance policy. Insurance policies must be from a company licensed in New York State. Learn more about Insurances Lapes [2] and How to Surrender your Plates [3 ] \n",
      "\n",
      "4. Understanding how Much Traffic Points Cost \n",
      "DMV maintains a point system to track dangerous drivers. Often , motorists convicted of a traffic ticket feel they have resolved all their motoring issues with the local court, but later learn that the Driver Responsibility Assessment DRA is a separate DMV charge based on the total points they accumulate. The $300 DRA fee can be paid in $100 annual installments over three years. Motorists who fail to maintain an updated address with DMV may resolve their tickets with the court, but never receive their DRA assessment because we do not have their new address on record. Failure to pay the DRA will result in a suspended license. Learn more about About the NYS Driver Point System [4] and how to Pay Driver Responsibility Assessment [5 ] \n",
      "\n",
      "5. Not Bringing Proper Documentation to DMV Office \n",
      "About ten percent of customers visiting a DMV office do not bring what they need to complete their transaction, and have to come back a second time to finish their business. This can be as simple as not bringing sufficient funds to pay for a license renewal or not having the proof of auto insurance required to register a car. Better yet , don t visit a DMV office at all, and see if your transaction can be performed online, like an address change, registration renewal, license renewal, replacing a lost title, paying a DRA or scheduling a road test. Our award - winning website is recognized as one of the best in the nation. It has all the answers you need to efficiently perform any DMV transaction. Consider signing up for our MyDMV service, which offers even more benefits. Sign up or log into MyDMV [6 ] \n"
     ]
    }
   ],
   "source": [
    "doc1_text = doc2dial_doc['doc_data'][doc1['domain']][doc1['doc_id']]['doc_text']\n",
    "print(doc1_text)"
   ]
  },
  {
   "attachments": {},
   "cell_type": "markdown",
   "metadata": {},
   "source": [
    "# embedding"
   ]
  },
  {
   "cell_type": "code",
   "execution_count": 14,
   "metadata": {},
   "outputs": [],
   "source": [
    "from langchain.text_splitter import RecursiveCharacterTextSplitter\n",
    "from langchain.vectorstores import FAISS\n",
    "from langchain.embeddings import HuggingFaceEmbeddings\n",
    "from langchain.document_loaders import DataFrameLoader\n",
    "from langchain.docstore.document import Document"
   ]
  },
  {
   "cell_type": "code",
   "execution_count": 15,
   "metadata": {},
   "outputs": [],
   "source": [
    "def split(document):\n",
    "    text_splitter = RecursiveCharacterTextSplitter(\n",
    "    chunk_size = 1000,\n",
    "    chunk_overlap = 0\n",
    "    )\n",
    "    # remove empty documents\n",
    "    split_documents = text_splitter.split_documents(document)\n",
    "    print(f'documents:{len(split_documents)}')\n",
    "    return split_documents\n",
    "\n",
    "def embedding(documents) -> FAISS:\n",
    "    #load embeddings\n",
    "    embeddings = HuggingFaceEmbeddings(model_name = 'sentence-transformers/gtr-t5-base')\n",
    "    db = FAISS.from_documents(documents, embeddings)\n",
    "    return db\n",
    "\n",
    "def save_db(db):\n",
    "    db.save_local(\"data/faiss_index\")\n",
    "\n",
    "def load_db(embeddings):\n",
    "    new_db = FAISS.load_local(\"data/faiss_index\", embeddings)\n",
    "    return new_db"
   ]
  },
  {
   "cell_type": "code",
   "execution_count": 16,
   "metadata": {},
   "outputs": [],
   "source": [
    "document = Document(page_content=doc1_text, metadata={\"source\": doc1['doc_id']})"
   ]
  },
  {
   "cell_type": "code",
   "execution_count": 17,
   "metadata": {},
   "outputs": [
    {
     "name": "stdout",
     "output_type": "stream",
     "text": [
      "documents:8\n"
     ]
    }
   ],
   "source": [
    "split_documents = split([document])"
   ]
  },
  {
   "cell_type": "code",
   "execution_count": 18,
   "metadata": {},
   "outputs": [
    {
     "data": {
      "text/plain": [
       "[Document(page_content='Many DMV customers make easily avoidable mistakes that cause them significant problems, including encounters with law enforcement and impounded vehicles. Because we see customers make these mistakes over and over again , we are issuing this list of the top five DMV mistakes and how to avoid them.', metadata={'source': 'Top 5 DMV Mistakes and How to Avoid Them#3_0'}),\n",
       " Document(page_content='1. Forgetting to Update Address \\nBy statute , you must report a change of address to DMV within ten days of moving. That is the case for the address associated with your license, as well as all the addresses associated with each registered vehicle, which may differ. It is not sufficient to only: write your new address on the back of your old license; tell the United States Postal Service; or inform the police officer writing you a ticket. If you fail to keep your address current , you will miss a suspension order and may be charged with operating an unregistered vehicle and/or aggravated unlicensed operation, both misdemeanors. This really happens , but the good news is this is a problem that is easily avoidable. Learn more about how to change the address on your license and registrations [1 ]', metadata={'source': 'Top 5 DMV Mistakes and How to Avoid Them#3_0'}),\n",
       " Document(page_content='2. Leaving the State Without Notifying DMV \\nStates communicate with each other , so when you move to another state, be sure to tie up any loose ends regarding your New York State license or registration. That means resolving any unanswered tickets, suspensions or revocations, and surrendering your license plates to NYS when you get to your new home state. A license suspension or revocation here could mean that your new home state will not issue you a license there. Remember , it is important to notify DMV of your new address so that any possible mail correspondence can reach you. Also , turning in your plates is important to avoid an insurance lapse.', metadata={'source': 'Top 5 DMV Mistakes and How to Avoid Them#3_0'}),\n",
       " Document(page_content='3. Letting Insurance Lapse', metadata={'source': 'Top 5 DMV Mistakes and How to Avoid Them#3_0'}),\n",
       " Document(page_content='Because we all pay indirectly for crashes involving uninsured motorists , New York State requires every motorist to maintain auto insurance every single day a vehicle is registered. DMV works with insurance companies to electronically monitor your insurance coverage , and we know when coverage is dropped for any reason. When that happens , we mail you an insurance inquiry letter to allow you to clear up the problem. We send 500,000 inquiry letters a year. If the inquiry letter does not resolve the problem , we must suspend the vehicle registration and , if it persists, your driver license!We suspend 300,000 registrations a year for failure to maintain insurance. If you fail to maintain an updated address with us , you won t learn that you have an insurance problem , and we will suspend your registration and license. Make sure you turn in your vehicle s license plates at DMV before you cancel your insurance policy. Insurance policies must be from a company licensed in New York State.', metadata={'source': 'Top 5 DMV Mistakes and How to Avoid Them#3_0'}),\n",
       " Document(page_content='Learn more about Insurances Lapes [2] and How to Surrender your Plates [3 ]', metadata={'source': 'Top 5 DMV Mistakes and How to Avoid Them#3_0'}),\n",
       " Document(page_content='4. Understanding how Much Traffic Points Cost \\nDMV maintains a point system to track dangerous drivers. Often , motorists convicted of a traffic ticket feel they have resolved all their motoring issues with the local court, but later learn that the Driver Responsibility Assessment DRA is a separate DMV charge based on the total points they accumulate. The $300 DRA fee can be paid in $100 annual installments over three years. Motorists who fail to maintain an updated address with DMV may resolve their tickets with the court, but never receive their DRA assessment because we do not have their new address on record. Failure to pay the DRA will result in a suspended license. Learn more about About the NYS Driver Point System [4] and how to Pay Driver Responsibility Assessment [5 ]', metadata={'source': 'Top 5 DMV Mistakes and How to Avoid Them#3_0'}),\n",
       " Document(page_content='5. Not Bringing Proper Documentation to DMV Office \\nAbout ten percent of customers visiting a DMV office do not bring what they need to complete their transaction, and have to come back a second time to finish their business. This can be as simple as not bringing sufficient funds to pay for a license renewal or not having the proof of auto insurance required to register a car. Better yet , don t visit a DMV office at all, and see if your transaction can be performed online, like an address change, registration renewal, license renewal, replacing a lost title, paying a DRA or scheduling a road test. Our award - winning website is recognized as one of the best in the nation. It has all the answers you need to efficiently perform any DMV transaction. Consider signing up for our MyDMV service, which offers even more benefits. Sign up or log into MyDMV [6 ]', metadata={'source': 'Top 5 DMV Mistakes and How to Avoid Them#3_0'})]"
      ]
     },
     "execution_count": 18,
     "metadata": {},
     "output_type": "execute_result"
    }
   ],
   "source": [
    "split_documents"
   ]
  },
  {
   "cell_type": "code",
   "execution_count": 19,
   "metadata": {},
   "outputs": [
    {
     "name": "stderr",
     "output_type": "stream",
     "text": [
      "/home/ygong/miniconda3/envs/atlas-env/lib/python3.8/site-packages/tqdm/auto.py:21: TqdmWarning: IProgress not found. Please update jupyter and ipywidgets. See https://ipywidgets.readthedocs.io/en/stable/user_install.html\n",
      "  from .autonotebook import tqdm as notebook_tqdm\n"
     ]
    }
   ],
   "source": [
    "db = embedding(split_documents)"
   ]
  },
  {
   "cell_type": "code",
   "execution_count": 15,
   "metadata": {},
   "outputs": [],
   "source": [
    "save_db(db)"
   ]
  },
  {
   "cell_type": "code",
   "execution_count": 20,
   "metadata": {},
   "outputs": [
    {
     "data": {
      "text/plain": [
       "[Document(page_content='1. Forgetting to Update Address \\nBy statute , you must report a change of address to DMV within ten days of moving. That is the case for the address associated with your license, as well as all the addresses associated with each registered vehicle, which may differ. It is not sufficient to only: write your new address on the back of your old license; tell the United States Postal Service; or inform the police officer writing you a ticket. If you fail to keep your address current , you will miss a suspension order and may be charged with operating an unregistered vehicle and/or aggravated unlicensed operation, both misdemeanors. This really happens , but the good news is this is a problem that is easily avoidable. Learn more about how to change the address on your license and registrations [1 ]', metadata={'source': 'Top 5 DMV Mistakes and How to Avoid Them#3_0'}),\n",
       " Document(page_content='5. Not Bringing Proper Documentation to DMV Office \\nAbout ten percent of customers visiting a DMV office do not bring what they need to complete their transaction, and have to come back a second time to finish their business. This can be as simple as not bringing sufficient funds to pay for a license renewal or not having the proof of auto insurance required to register a car. Better yet , don t visit a DMV office at all, and see if your transaction can be performed online, like an address change, registration renewal, license renewal, replacing a lost title, paying a DRA or scheduling a road test. Our award - winning website is recognized as one of the best in the nation. It has all the answers you need to efficiently perform any DMV transaction. Consider signing up for our MyDMV service, which offers even more benefits. Sign up or log into MyDMV [6 ]', metadata={'source': 'Top 5 DMV Mistakes and How to Avoid Them#3_0'}),\n",
       " Document(page_content='2. Leaving the State Without Notifying DMV \\nStates communicate with each other , so when you move to another state, be sure to tie up any loose ends regarding your New York State license or registration. That means resolving any unanswered tickets, suspensions or revocations, and surrendering your license plates to NYS when you get to your new home state. A license suspension or revocation here could mean that your new home state will not issue you a license there. Remember , it is important to notify DMV of your new address so that any possible mail correspondence can reach you. Also , turning in your plates is important to avoid an insurance lapse.', metadata={'source': 'Top 5 DMV Mistakes and How to Avoid Them#3_0'}),\n",
       " Document(page_content='Because we all pay indirectly for crashes involving uninsured motorists , New York State requires every motorist to maintain auto insurance every single day a vehicle is registered. DMV works with insurance companies to electronically monitor your insurance coverage , and we know when coverage is dropped for any reason. When that happens , we mail you an insurance inquiry letter to allow you to clear up the problem. We send 500,000 inquiry letters a year. If the inquiry letter does not resolve the problem , we must suspend the vehicle registration and , if it persists, your driver license!We suspend 300,000 registrations a year for failure to maintain insurance. If you fail to maintain an updated address with us , you won t learn that you have an insurance problem , and we will suspend your registration and license. Make sure you turn in your vehicle s license plates at DMV before you cancel your insurance policy. Insurance policies must be from a company licensed in New York State.', metadata={'source': 'Top 5 DMV Mistakes and How to Avoid Them#3_0'})]"
      ]
     },
     "execution_count": 20,
     "metadata": {},
     "output_type": "execute_result"
    }
   ],
   "source": [
    "query = doc1['question']\n",
    "docs = db.similarity_search(query)\n",
    "docs"
   ]
  },
  {
   "cell_type": "code",
   "execution_count": 53,
   "metadata": {},
   "outputs": [
    {
     "data": {
      "text/plain": [
       "804"
      ]
     },
     "execution_count": 53,
     "metadata": {},
     "output_type": "execute_result"
    }
   ],
   "source": [
    "len(docs[0].page_content)"
   ]
  },
  {
   "cell_type": "code",
   "execution_count": 58,
   "metadata": {},
   "outputs": [
    {
     "data": {
      "text/plain": [
       "torch.Size([1, 183])"
      ]
     },
     "execution_count": 58,
     "metadata": {},
     "output_type": "execute_result"
    }
   ],
   "source": [
    "tokenizer(docs[0].page_content, return_tensors=\"pt\")['input_ids'].shape"
   ]
  },
  {
   "cell_type": "code",
   "execution_count": 18,
   "metadata": {},
   "outputs": [
    {
     "data": {
      "text/plain": [
       "{'id_sp': '56',\n",
       " 'tag': 'u',\n",
       " 'start_sp': 4496,\n",
       " 'end_sp': 4527,\n",
       " 'text_sp': 'Sign up or log into MyDMV [6 ] ',\n",
       " 'title': '5. Not Bringing Proper Documentation to DMV Office',\n",
       " 'parent_titles': [],\n",
       " 'id_sec': '15',\n",
       " 'start_sec': 4496,\n",
       " 'text_sec': 'Sign up or log into MyDMV [6 ] ',\n",
       " 'end_sec': 4527}"
      ]
     },
     "execution_count": 18,
     "metadata": {},
     "output_type": "execute_result"
    }
   ],
   "source": [
    "doc2dial_doc['doc_data'][doc1['domain']][doc1['doc_id']]['spans']['56']"
   ]
  },
  {
   "attachments": {},
   "cell_type": "markdown",
   "metadata": {},
   "source": [
    "# answer agent"
   ]
  },
  {
   "cell_type": "code",
   "execution_count": 21,
   "metadata": {},
   "outputs": [],
   "source": [
    "from langchain import VectorDBQA\n",
    "from langchain.chains import qa_with_sources\n",
    "from langchain.chains.question_answering import load_qa_chain\n",
    "from langchain import HuggingFaceHub\n",
    "import os\n"
   ]
  },
  {
   "cell_type": "code",
   "execution_count": 23,
   "metadata": {},
   "outputs": [],
   "source": [
    "#read from txt file\n",
    "with open('api.txt', 'r') as f:\n",
    "    lines = f.readlines()\n",
    "    lines = [line.strip().split(\":\")[1] for line in lines]\n",
    "    openai_api = lines[0]\n",
    "    hf_api = lines[1]"
   ]
  },
  {
   "cell_type": "code",
   "execution_count": 24,
   "metadata": {},
   "outputs": [],
   "source": [
    "os.environ[\"HUGGINGFACEHUB_API_TOKEN\"] = hf_api\n",
    "os.environ[\"OPENAI_API_KEY\"] = openai_api"
   ]
  },
  {
   "cell_type": "code",
   "execution_count": 25,
   "metadata": {},
   "outputs": [],
   "source": [
    "qa_model = HuggingFaceHub(repo_id='google/flan-t5-large')\n",
    "query = \"Please answer the following question.\\n\"+doc1['question']\n",
    "chain = load_qa_chain(llm=qa_model, chain_type=\"stuff\")\n",
    "model_answer = chain.run(input_documents=docs, question=query, raw_response=True)"
   ]
  },
  {
   "cell_type": "code",
   "execution_count": 26,
   "metadata": {},
   "outputs": [
    {
     "data": {
      "text/plain": [
       "[Document(page_content='1. Forgetting to Update Address \\nBy statute , you must report a change of address to DMV within ten days of moving. That is the case for the address associated with your license, as well as all the addresses associated with each registered vehicle, which may differ. It is not sufficient to only: write your new address on the back of your old license; tell the United States Postal Service; or inform the police officer writing you a ticket. If you fail to keep your address current , you will miss a suspension order and may be charged with operating an unregistered vehicle and/or aggravated unlicensed operation, both misdemeanors. This really happens , but the good news is this is a problem that is easily avoidable. Learn more about how to change the address on your license and registrations [1 ]', metadata={'source': 'Top 5 DMV Mistakes and How to Avoid Them#3_0'}),\n",
       " Document(page_content='5. Not Bringing Proper Documentation to DMV Office \\nAbout ten percent of customers visiting a DMV office do not bring what they need to complete their transaction, and have to come back a second time to finish their business. This can be as simple as not bringing sufficient funds to pay for a license renewal or not having the proof of auto insurance required to register a car. Better yet , don t visit a DMV office at all, and see if your transaction can be performed online, like an address change, registration renewal, license renewal, replacing a lost title, paying a DRA or scheduling a road test. Our award - winning website is recognized as one of the best in the nation. It has all the answers you need to efficiently perform any DMV transaction. Consider signing up for our MyDMV service, which offers even more benefits. Sign up or log into MyDMV [6 ]', metadata={'source': 'Top 5 DMV Mistakes and How to Avoid Them#3_0'}),\n",
       " Document(page_content='2. Leaving the State Without Notifying DMV \\nStates communicate with each other , so when you move to another state, be sure to tie up any loose ends regarding your New York State license or registration. That means resolving any unanswered tickets, suspensions or revocations, and surrendering your license plates to NYS when you get to your new home state. A license suspension or revocation here could mean that your new home state will not issue you a license there. Remember , it is important to notify DMV of your new address so that any possible mail correspondence can reach you. Also , turning in your plates is important to avoid an insurance lapse.', metadata={'source': 'Top 5 DMV Mistakes and How to Avoid Them#3_0'}),\n",
       " Document(page_content='Because we all pay indirectly for crashes involving uninsured motorists , New York State requires every motorist to maintain auto insurance every single day a vehicle is registered. DMV works with insurance companies to electronically monitor your insurance coverage , and we know when coverage is dropped for any reason. When that happens , we mail you an insurance inquiry letter to allow you to clear up the problem. We send 500,000 inquiry letters a year. If the inquiry letter does not resolve the problem , we must suspend the vehicle registration and , if it persists, your driver license!We suspend 300,000 registrations a year for failure to maintain insurance. If you fail to maintain an updated address with us , you won t learn that you have an insurance problem , and we will suspend your registration and license. Make sure you turn in your vehicle s license plates at DMV before you cancel your insurance policy. Insurance policies must be from a company licensed in New York State.', metadata={'source': 'Top 5 DMV Mistakes and How to Avoid Them#3_0'})]"
      ]
     },
     "execution_count": 26,
     "metadata": {},
     "output_type": "execute_result"
    }
   ],
   "source": [
    "docs"
   ]
  },
  {
   "cell_type": "code",
   "execution_count": 28,
   "metadata": {},
   "outputs": [
    {
     "data": {
      "text/plain": [
       "'b).'"
      ]
     },
     "execution_count": 28,
     "metadata": {},
     "output_type": "execute_result"
    }
   ],
   "source": [
    "model_answer"
   ]
  },
  {
   "cell_type": "code",
   "execution_count": 47,
   "metadata": {},
   "outputs": [],
   "source": [
    "import QAModel"
   ]
  },
  {
   "cell_type": "code",
   "execution_count": 48,
   "metadata": {},
   "outputs": [],
   "source": [
    "flan_qa_model = AutoModelForSeq2SeqLM.from_pretrained(\"Intel/fid_flan_t5_base_nq\")\n",
    "qa_tokenizer = AutoTokenizer.from_pretrained(\"google/flan-t5-small\")"
   ]
  },
  {
   "cell_type": "code",
   "execution_count": 49,
   "metadata": {},
   "outputs": [
    {
     "name": "stderr",
     "output_type": "stream",
     "text": [
      "Token indices sequence length is longer than the specified maximum sequence length for this model (765 > 512). Running this sequence through the model will result in indexing errors\n"
     ]
    }
   ],
   "source": [
    "model_answer = QAModel.answer_from_local_model(doc1['question'], docs, tokenizer=qa_tokenizer, model=flan_qa_model)"
   ]
  },
  {
   "cell_type": "code",
   "execution_count": 40,
   "metadata": {},
   "outputs": [
    {
     "data": {
      "text/plain": [
       "'DMV'"
      ]
     },
     "execution_count": 40,
     "metadata": {},
     "output_type": "execute_result"
    }
   ],
   "source": [
    "model_answer"
   ]
  },
  {
   "cell_type": "code",
   "execution_count": 25,
   "metadata": {},
   "outputs": [],
   "source": [
    "# from langchain.chains.qa_with_sources import load_qa_with_sources_chain\n",
    "\n",
    "# chain = load_qa_with_sources_chain(qa_model, chain_type=\"map_reduce\")\n",
    "# chain({\"input_documents\": docs, \"question\": query}, return_only_outputs=True)"
   ]
  },
  {
   "cell_type": "code",
   "execution_count": 26,
   "metadata": {},
   "outputs": [],
   "source": [
    "# from langchain import OpenAI\n",
    "\n",
    "# query = \"Please answer the following question using the given documents only.\\n\"+doc1['question']\n",
    "# openai_model = OpenAI(model_name=\"text-davinci-003\", max_tokens=1024)\n",
    "# chain = load_qa_chain(llm=qa_model, chain_type=\"stuff\")\n",
    "# chain.run(input_documents=docs, question=query, raw_response=True)"
   ]
  },
  {
   "attachments": {},
   "cell_type": "markdown",
   "metadata": {},
   "source": [
    "# evaluation"
   ]
  },
  {
   "cell_type": "code",
   "execution_count": 27,
   "metadata": {},
   "outputs": [],
   "source": [
    "import re"
   ]
  },
  {
   "cell_type": "code",
   "execution_count": 28,
   "metadata": {},
   "outputs": [
    {
     "data": {
      "text/plain": [
       "\"[{'sp_id': '6', 'label': 'solution'}, {'sp_id': '7', 'label': 'solution'}]\""
      ]
     },
     "execution_count": 28,
     "metadata": {},
     "output_type": "execute_result"
    }
   ],
   "source": [
    "doc1['references']"
   ]
  },
  {
   "cell_type": "code",
   "execution_count": 29,
   "metadata": {},
   "outputs": [
    {
     "data": {
      "text/plain": [
       "\"[{'sp_id': '56', 'label': 'solution'}]\""
      ]
     },
     "execution_count": 29,
     "metadata": {},
     "output_type": "execute_result"
    }
   ],
   "source": [
    "df.loc[1]['references']"
   ]
  },
  {
   "cell_type": "code",
   "execution_count": 30,
   "metadata": {},
   "outputs": [
    {
     "data": {
      "text/plain": [
       "[6, 7]"
      ]
     },
     "execution_count": 30,
     "metadata": {},
     "output_type": "execute_result"
    }
   ],
   "source": [
    "res = re.findall(r\"\\d+\", doc1['references'])\n",
    "[int(i) for i in res]"
   ]
  },
  {
   "cell_type": "code",
   "execution_count": 31,
   "metadata": {},
   "outputs": [
    {
     "data": {
      "text/plain": [
       "[{'id_sp': '6',\n",
       "  'tag': 'u',\n",
       "  'start_sp': 346,\n",
       "  'end_sp': 416,\n",
       "  'text_sp': 'you must report a change of address to DMV within ten days of moving. ',\n",
       "  'title': '1. Forgetting to Update Address',\n",
       "  'parent_titles': [],\n",
       "  'id_sec': '2',\n",
       "  'start_sec': 333,\n",
       "  'text_sec': 'By statute , you must report a change of address to DMV within ten days of moving. That is the case for the address associated with your license, as well as all the addresses associated with each registered vehicle, which may differ. ',\n",
       "  'end_sec': 567},\n",
       " {'id_sp': '7',\n",
       "  'tag': 'u',\n",
       "  'start_sp': 416,\n",
       "  'end_sp': 567,\n",
       "  'text_sp': 'That is the case for the address associated with your license, as well as all the addresses associated with each registered vehicle, which may differ. ',\n",
       "  'title': '1. Forgetting to Update Address',\n",
       "  'parent_titles': [],\n",
       "  'id_sec': '2',\n",
       "  'start_sec': 333,\n",
       "  'text_sec': 'By statute , you must report a change of address to DMV within ten days of moving. That is the case for the address associated with your license, as well as all the addresses associated with each registered vehicle, which may differ. ',\n",
       "  'end_sec': 567}]"
      ]
     },
     "execution_count": 31,
     "metadata": {},
     "output_type": "execute_result"
    }
   ],
   "source": [
    "#global dictionary\n",
    "# doc2dial_doc\n",
    "\n",
    "def get_ref(doc):\n",
    "    refs_ID = re.findall(r\"\\d+\", doc['references'])\n",
    "    refs_ID = [int(i) for i in refs_ID]\n",
    "    sp_list = [doc2dial_doc['doc_data'][doc['domain']][doc['doc_id']]['spans'][str(i)] for i in refs_ID]\n",
    "    return sp_list\n",
    "\n",
    "get_ref(doc1)\n"
   ]
  },
  {
   "cell_type": "code",
   "execution_count": 32,
   "metadata": {},
   "outputs": [
    {
     "data": {
      "text/plain": [
       "'1. Forgetting to Update Address'"
      ]
     },
     "execution_count": 32,
     "metadata": {},
     "output_type": "execute_result"
    }
   ],
   "source": [
    "get_ref(doc1)[0]['title']"
   ]
  },
  {
   "cell_type": "code",
   "execution_count": 33,
   "metadata": {},
   "outputs": [
    {
     "data": {
      "text/plain": [
       "'you must report a change of address to DMV within ten days of moving. '"
      ]
     },
     "execution_count": 33,
     "metadata": {},
     "output_type": "execute_result"
    }
   ],
   "source": [
    "get_ref(doc1)[0]['text_sp']"
   ]
  },
  {
   "cell_type": "code",
   "execution_count": 34,
   "metadata": {},
   "outputs": [
    {
     "data": {
      "text/plain": [
       "[Document(page_content='1. Forgetting to Update Address', metadata={'source': 'Top 5 DMV Mistakes and How to Avoid Them#3_0'}),\n",
       " Document(page_content='By statute , you must report a change of address to DMV within ten days of moving. That is the case for the address associated with your license, as well as all the addresses associated with each registered vehicle, which may differ. It is not sufficient to only: write your new address on the back of your old license; tell the United States Postal Service; or inform the police officer writing you a ticket. If you fail to keep your address current , you will miss a suspension order and may be', metadata={'source': 'Top 5 DMV Mistakes and How to Avoid Them#3_0'}),\n",
       " Document(page_content='possible mail correspondence can reach you. Also , turning in your plates is important to avoid an insurance lapse.', metadata={'source': 'Top 5 DMV Mistakes and How to Avoid Them#3_0'}),\n",
       " Document(page_content='receive their DRA assessment because we do not have their new address on record. Failure to pay the DRA will result in a suspended license. Learn more about About the NYS Driver Point System [4] and how to Pay Driver Responsibility Assessment [5 ]', metadata={'source': 'Top 5 DMV Mistakes and How to Avoid Them#3_0'})]"
      ]
     },
     "execution_count": 34,
     "metadata": {},
     "output_type": "execute_result"
    }
   ],
   "source": [
    "docs"
   ]
  },
  {
   "cell_type": "code",
   "execution_count": 35,
   "metadata": {},
   "outputs": [
    {
     "data": {
      "text/plain": [
       "'1. Forgetting to Update Address'"
      ]
     },
     "execution_count": 35,
     "metadata": {},
     "output_type": "execute_result"
    }
   ],
   "source": [
    "docs[0].page_content"
   ]
  },
  {
   "cell_type": "code",
   "execution_count": 36,
   "metadata": {},
   "outputs": [],
   "source": [
    "em = 0\n",
    "def eval_refs(refs, retrieved):\n",
    "    #calculate exact match\n",
    "    #calculate f1\n",
    "    \n",
    "    pass"
   ]
  },
  {
   "cell_type": "code",
   "execution_count": 37,
   "metadata": {},
   "outputs": [
    {
     "data": {
      "text/plain": [
       "question                   Can I do my DMV transactions online?\n",
       "answer        Yes, you can sign up for MyDMV for all the onl...\n",
       "domain                                                      dmv\n",
       "doc_id             Top 5 DMV Mistakes and How to Avoid Them#3_0\n",
       "references               [{'sp_id': '56', 'label': 'solution'}]\n",
       "dial_id                        9f44c1539efe6f7e79b02eb1b413aa43\n",
       "Name: 1, dtype: object"
      ]
     },
     "execution_count": 37,
     "metadata": {},
     "output_type": "execute_result"
    }
   ],
   "source": [
    "doc2 = df.loc[1]\n",
    "doc2"
   ]
  },
  {
   "cell_type": "code",
   "execution_count": 38,
   "metadata": {},
   "outputs": [],
   "source": [
    "short_answer = \"By statute , you must report a change of address to DMV within ten days\""
   ]
  },
  {
   "cell_type": "code",
   "execution_count": 39,
   "metadata": {},
   "outputs": [
    {
     "data": {
      "text/plain": [
       "False"
      ]
     },
     "execution_count": 39,
     "metadata": {},
     "output_type": "execute_result"
    }
   ],
   "source": [
    "short_answer in doc1['answer']"
   ]
  },
  {
   "cell_type": "code",
   "execution_count": 62,
   "metadata": {},
   "outputs": [],
   "source": [
    "example = {}\n",
    "example['question'] = doc1['question']\n",
    "example['answer'] = model_answer #TODO should be model result?\n",
    "example['passage'] = docs[:5] #TODO only first document. If use all documents, need to change "
   ]
  },
  {
   "cell_type": "code",
   "execution_count": 63,
   "metadata": {},
   "outputs": [
    {
     "data": {
      "text/plain": [
       "['1. Forgetting to Update Address',\n",
       " 'By statute , you must report a change of address to DMV within ten days of moving. That is the case for the address associated with your license, as well as all the addresses associated with each registered vehicle, which may differ. It is not sufficient to only: write your new address on the back of your old license; tell the United States Postal Service; or inform the police officer writing you a ticket. If you fail to keep your address current , you will miss a suspension order and may be',\n",
       " 'possible mail correspondence can reach you. Also , turning in your plates is important to avoid an insurance lapse.',\n",
       " 'receive their DRA assessment because we do not have their new address on record. Failure to pay the DRA will result in a suspended license. Learn more about About the NYS Driver Point System [4] and how to Pay Driver Responsibility Assessment [5 ]']"
      ]
     },
     "execution_count": 63,
     "metadata": {},
     "output_type": "execute_result"
    }
   ],
   "source": [
    "[document.page_content for document in example[\"passage\"]]"
   ]
  },
  {
   "cell_type": "code",
   "execution_count": 64,
   "metadata": {},
   "outputs": [
    {
     "data": {
      "text/plain": [
       "'1. Forgetting to Update Address/nBy statute , you must report a change of address to DMV within ten days of moving. That is the case for the address associated with your license, as well as all the addresses associated with each registered vehicle, which may differ. It is not sufficient to only: write your new address on the back of your old license; tell the United States Postal Service; or inform the police officer writing you a ticket. If you fail to keep your address current , you will miss a suspension order and may be/npossible mail correspondence can reach you. Also , turning in your plates is important to avoid an insurance lapse./nreceive their DRA assessment because we do not have their new address on record. Failure to pay the DRA will result in a suspended license. Learn more about About the NYS Driver Point System [4] and how to Pay Driver Responsibility Assessment [5 ]'"
      ]
     },
     "execution_count": 64,
     "metadata": {},
     "output_type": "execute_result"
    }
   ],
   "source": [
    "\"/n\".join([document.page_content for document in example[\"passage\"]])"
   ]
  },
  {
   "cell_type": "code",
   "execution_count": 41,
   "metadata": {},
   "outputs": [],
   "source": [
    "from transformers import T5ForConditionalGeneration\n",
    "from transformers import T5Tokenizer\n",
    "\n",
    "PASSAGE_FORMAT = re.compile(\"« ([^»]*) » « ([^»]*) » (.*)\")\n",
    "\n",
    "# def format_passage_for_autoais(passage):\n",
    "#   \"\"\"Produce the NLI format for a passage.\n",
    "\n",
    "#   Args:\n",
    "#     passage: A passage from the Wikipedia scrape.\n",
    "\n",
    "#   Returns:\n",
    "#     a formatted string, e.g.\n",
    "\n",
    "#       Luke Cage (season 2), Release. The second season of Luke Cage was released\n",
    "#       on June 22, 2018, on the streaming service Netflix worldwide, in Ultra HD\n",
    "#       4K and high dynamic range.\n",
    "#   \"\"\"\n",
    "#   m = PASSAGE_FORMAT.match(passage)\n",
    "#   if not m:\n",
    "#     return passage\n",
    "\n",
    "#   headings = m.group(2)\n",
    "#   passage = m.group(3)\n",
    "#   return f\"{headings}. {passage}\"\n",
    "\n",
    "def format_example_for_autoais(example):\n",
    "  return \"premise: {} hypothesis: The answer to the question '{}' is '{}'\".format(\n",
    "      example[\"passage\"], example[\"question\"], example[\"answer\"])\n",
    "\n",
    "def infer_autoais(example, tokenizer, model):\n",
    "  \"\"\"Runs inference for assessing AIS between a premise and hypothesis.\n",
    "\n",
    "  Args:\n",
    "    example: Dict with the example data.\n",
    "    tokenizer: A huggingface tokenizer object.\n",
    "    model: A huggingface model object.\n",
    "\n",
    "  Returns:\n",
    "    A string representing the model prediction.\n",
    "  \"\"\"\n",
    "  input_text = format_example_for_autoais(example)\n",
    "  input_ids = tokenizer(input_text, return_tensors=\"pt\").input_ids\n",
    "  outputs = model.generate(input_ids)\n",
    "  result = tokenizer.decode(outputs[0], skip_special_tokens=True)\n",
    "  inference = \"Y\" if result == \"1\" else \"N\"\n",
    "  example[\"autoais\"] = inference\n",
    "  return inference\n",
    "\n",
    "def score_predictions(predictions, nq_answers):\n",
    "  \"\"\"Scores model predictions against AutoAIS and NQ answers.\n",
    "\n",
    "  Args:\n",
    "    predictions: A dict from questions to prediction rows.\n",
    "    nq_answers: A dict from questions to lists of NQ reference answers.\n",
    "    passages: A dict from identifiers from the attribution corpus to the\n",
    "      corresponding paragraphs.\n",
    "\n",
    "  Returns:\n",
    "    a dict of metric values, keyed by metric names\n",
    "  \"\"\"\n",
    "  AUTOAIS = \"google/t5_xxl_true_nli_mixture\"\n",
    "  hf_tokenizer = T5Tokenizer.from_pretrained(AUTOAIS)\n",
    "  hf_model = T5ForConditionalGeneration.from_pretrained(AUTOAIS)\n",
    "\n",
    "  autoais = 0\n",
    "  target_answers = []\n",
    "  predicted_answers = []\n",
    "  for question, answers in nq_answers.items():\n",
    "    target_answers.append(answers)\n",
    "    example = predictions.get(question, None)\n",
    "    if example is None:\n",
    "    #   logging.error(\"Did not find prediction for '%s'\", question)\n",
    "      predicted_answers.append(\"\")\n",
    "      continue\n",
    "    predicted_answers.append(example[\"answer\"])\n",
    "    if not example[\"passage\"]:\n",
    "      continue\n",
    "    inference = infer_autoais(example, hf_tokenizer, hf_model)\n",
    "    autoais += inference == \"Y\"\n",
    "\n",
    "  scores = {}\n",
    "  scores[\"AutoAIS\"] = autoais / len(target_answers)\n",
    "#   for metric, score in squad(target_answers, predicted_answers).items():\n",
    "#     scores[f\"SQuAD ({metric})\"] = score\n",
    "  return scores"
   ]
  },
  {
   "cell_type": "code",
   "execution_count": 42,
   "metadata": {},
   "outputs": [],
   "source": [
    "# AUTOAIS = \"google/t5_xxl_true_nli_mixture\"\n",
    "# hf_tokenizer = T5Tokenizer.from_pretrained(AUTOAIS)\n",
    "# hf_model = T5ForConditionalGeneration.from_pretrained(AUTOAIS)"
   ]
  },
  {
   "cell_type": "code",
   "execution_count": 43,
   "metadata": {},
   "outputs": [],
   "source": [
    "# infer_autoais(example, hf_tokenizer, hf_model)"
   ]
  },
  {
   "cell_type": "code",
   "execution_count": 44,
   "metadata": {},
   "outputs": [
    {
     "data": {
      "text/plain": [
       "{'question': 'Hello, I forgot o update my address, can you help me with that?',\n",
       " 'answer': 'a suspended license',\n",
       " 'passage': Document(page_content='1. Forgetting to Update Address', metadata={'source': 'Top 5 DMV Mistakes and How to Avoid Them#3_0'})}"
      ]
     },
     "execution_count": 44,
     "metadata": {},
     "output_type": "execute_result"
    }
   ],
   "source": [
    "example"
   ]
  },
  {
   "cell_type": "code",
   "execution_count": 45,
   "metadata": {},
   "outputs": [
    {
     "data": {
      "text/plain": [
       "['you must report a change of address to DMV within ten days of moving. ',\n",
       " 'That is the case for the address associated with your license, as well as all the addresses associated with each registered vehicle, which may differ. ']"
      ]
     },
     "execution_count": 45,
     "metadata": {},
     "output_type": "execute_result"
    }
   ],
   "source": [
    "[term['text_sp'] for term in get_ref(doc1)]"
   ]
  },
  {
   "cell_type": "code",
   "execution_count": 46,
   "metadata": {},
   "outputs": [
    {
     "data": {
      "text/plain": [
       "[Document(page_content='1. Forgetting to Update Address', metadata={'source': 'Top 5 DMV Mistakes and How to Avoid Them#3_0'}),\n",
       " Document(page_content='By statute , you must report a change of address to DMV within ten days of moving. That is the case for the address associated with your license, as well as all the addresses associated with each registered vehicle, which may differ. It is not sufficient to only: write your new address on the back of your old license; tell the United States Postal Service; or inform the police officer writing you a ticket. If you fail to keep your address current , you will miss a suspension order and may be', metadata={'source': 'Top 5 DMV Mistakes and How to Avoid Them#3_0'}),\n",
       " Document(page_content='possible mail correspondence can reach you. Also , turning in your plates is important to avoid an insurance lapse.', metadata={'source': 'Top 5 DMV Mistakes and How to Avoid Them#3_0'}),\n",
       " Document(page_content='receive their DRA assessment because we do not have their new address on record. Failure to pay the DRA will result in a suspended license. Learn more about About the NYS Driver Point System [4] and how to Pay Driver Responsibility Assessment [5 ]', metadata={'source': 'Top 5 DMV Mistakes and How to Avoid Them#3_0'})]"
      ]
     },
     "execution_count": 46,
     "metadata": {},
     "output_type": "execute_result"
    }
   ],
   "source": [
    "docs"
   ]
  },
  {
   "cell_type": "code",
   "execution_count": 47,
   "metadata": {},
   "outputs": [],
   "source": [
    "def normalize_text(s):\n",
    "    \"\"\"Removing articles and punctuation, and standardizing whitespace are all typical text processing steps.\"\"\"\n",
    "    import string, re\n",
    "\n",
    "    def remove_articles(text):\n",
    "        regex = re.compile(r\"\\b(a|an|the)\\b\", re.UNICODE)\n",
    "        return re.sub(regex, \" \", text)\n",
    "\n",
    "    def white_space_fix(text):\n",
    "        return \" \".join(text.split())\n",
    "\n",
    "    def remove_punc(text):\n",
    "        exclude = set(string.punctuation)\n",
    "        return \"\".join(ch for ch in text if ch not in exclude)\n",
    "\n",
    "    def lower(text):\n",
    "        return text.lower()\n",
    "\n",
    "    return white_space_fix(remove_articles(remove_punc(lower(s))))\n",
    "\n",
    "def compute_f1(model_answer, truth):\n",
    "    pred_tokens = normalize_text(model_answer).split()\n",
    "    truth_tokens = normalize_text(truth).split()\n",
    "    \n",
    "    # if either the prediction or the truth is no-answer then f1 = 1 if they agree, 0 otherwise\n",
    "    if len(pred_tokens) == 0 or len(truth_tokens) == 0:\n",
    "        return int(pred_tokens == truth_tokens)\n",
    "    \n",
    "    common_tokens = set(pred_tokens) & set(truth_tokens)\n",
    "    \n",
    "    # if there are no common tokens then f1 = 0\n",
    "    if len(common_tokens) == 0:\n",
    "        return 0\n",
    "    \n",
    "    prec = len(common_tokens) / len(pred_tokens)\n",
    "    rec = len(common_tokens) / len(truth_tokens)\n",
    "    \n",
    "    return 2 * (prec * rec) / (prec + rec)"
   ]
  },
  {
   "cell_type": "code",
   "execution_count": 48,
   "metadata": {},
   "outputs": [
    {
     "data": {
      "text/plain": [
       "'a suspended license'"
      ]
     },
     "execution_count": 48,
     "metadata": {},
     "output_type": "execute_result"
    }
   ],
   "source": [
    "model_answer"
   ]
  },
  {
   "cell_type": "code",
   "execution_count": 49,
   "metadata": {},
   "outputs": [
    {
     "data": {
      "text/plain": [
       "'1. Forgetting to Update Address'"
      ]
     },
     "execution_count": 49,
     "metadata": {},
     "output_type": "execute_result"
    }
   ],
   "source": [
    "docs[0].page_content"
   ]
  },
  {
   "cell_type": "code",
   "execution_count": 50,
   "metadata": {},
   "outputs": [
    {
     "data": {
      "text/plain": [
       "0"
      ]
     },
     "execution_count": 50,
     "metadata": {},
     "output_type": "execute_result"
    }
   ],
   "source": [
    "compute_f1(model_answer, docs[0].page_content)"
   ]
  },
  {
   "cell_type": "code",
   "execution_count": 67,
   "metadata": {},
   "outputs": [
    {
     "data": {
      "text/plain": [
       "True"
      ]
     },
     "execution_count": 67,
     "metadata": {},
     "output_type": "execute_result"
    }
   ],
   "source": [
    "df.loc[0]['question'] == example['question']"
   ]
  },
  {
   "cell_type": "code",
   "execution_count": 54,
   "metadata": {},
   "outputs": [],
   "source": [
    "from transformers import AutoModelForSeq2SeqLM, AutoTokenizer\n",
    "\n",
    "model = AutoModelForSeq2SeqLM.from_pretrained(\"google/flan-t5-small\")\n",
    "tokenizer = AutoTokenizer.from_pretrained(\"google/flan-t5-small\")"
   ]
  },
  {
   "cell_type": "code",
   "execution_count": null,
   "metadata": {},
   "outputs": [],
   "source": []
  }
 ],
 "metadata": {
  "kernelspec": {
   "display_name": "atlas-env",
   "language": "python",
   "name": "python3"
  },
  "language_info": {
   "codemirror_mode": {
    "name": "ipython",
    "version": 3
   },
   "file_extension": ".py",
   "mimetype": "text/x-python",
   "name": "python",
   "nbconvert_exporter": "python",
   "pygments_lexer": "ipython3",
   "version": "3.8.16"
  },
  "orig_nbformat": 4,
  "vscode": {
   "interpreter": {
    "hash": "0524695ab7cc8b827f32433f08320ad099c792295e0943ecb481c2e54455043d"
   }
  }
 },
 "nbformat": 4,
 "nbformat_minor": 2
}
