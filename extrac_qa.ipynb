{
 "cells": [
  {
   "cell_type": "code",
   "execution_count": 6,
   "metadata": {},
   "outputs": [],
   "source": [
    "import json\n",
    "import pandas as pd"
   ]
  },
  {
   "cell_type": "code",
   "execution_count": 2,
   "metadata": {},
   "outputs": [],
   "source": [
    "data_path = 'data/doc2dial/'\n",
    "file_path = data_path + 'doc2dial_dial_train.json'\n",
    "with open(file_path, 'r') as f:\n",
    "    data = json.load(f)"
   ]
  },
  {
   "cell_type": "code",
   "execution_count": 3,
   "metadata": {},
   "outputs": [],
   "source": [
    "domains = ['dmv', 'ssa', 'va', 'studentaid']"
   ]
  },
  {
   "cell_type": "code",
   "execution_count": 25,
   "metadata": {},
   "outputs": [],
   "source": [
    "def run():\n",
    "    df = pd.DataFrame(columns=['question', 'answer', 'domain', 'doc_id', 'references', 'dial_id'])\n",
    "    cnt = 0\n",
    "    for domain in domains:\n",
    "        sub_dict = data['dial_data'][domain]\n",
    "        #iterate sub_dict\n",
    "        for key in sub_dict.keys():\n",
    "            #iterate turns\n",
    "            dial_list = sub_dict[key]\n",
    "            for dial in dial_list:\n",
    "                dial_id = dial['dial_id']\n",
    "                for turn in dial['turns']:\n",
    "                    role = turn['role']\n",
    "                    ref = turn['references']\n",
    "\n",
    "                    if role == 'user':\n",
    "                        question =  turn['utterance']\n",
    "                    elif role == 'agent':\n",
    "                        answer =  turn['utterance']\n",
    "                        df.loc[len(df)] = [question, answer, domain, key, ref, dial_id]\n",
    "                        # qa_list.append([question, answer, domain, ref])\n",
    "                        cnt += 1\n",
    "                    else:\n",
    "                        print('Error: No such role')\n",
    "                        \n",
    "    print('Total QA pairs: ', cnt)\n",
    "    df.to_csv(data_path + 'doc2dial_qa.csv', index=False)           \n",
    "            \n"
   ]
  },
  {
   "cell_type": "code",
   "execution_count": 26,
   "metadata": {},
   "outputs": [
    {
     "name": "stdout",
     "output_type": "stream",
     "text": [
      "Total QA pairs:  21998\n"
     ]
    }
   ],
   "source": [
    "run()"
   ]
  },
  {
   "cell_type": "code",
   "execution_count": 28,
   "metadata": {},
   "outputs": [
    {
     "data": {
      "text/html": [
       "<div>\n",
       "<style scoped>\n",
       "    .dataframe tbody tr th:only-of-type {\n",
       "        vertical-align: middle;\n",
       "    }\n",
       "\n",
       "    .dataframe tbody tr th {\n",
       "        vertical-align: top;\n",
       "    }\n",
       "\n",
       "    .dataframe thead th {\n",
       "        text-align: right;\n",
       "    }\n",
       "</style>\n",
       "<table border=\"1\" class=\"dataframe\">\n",
       "  <thead>\n",
       "    <tr style=\"text-align: right;\">\n",
       "      <th></th>\n",
       "      <th>question</th>\n",
       "      <th>answer</th>\n",
       "      <th>domain</th>\n",
       "      <th>doc_id</th>\n",
       "      <th>references</th>\n",
       "      <th>dial_id</th>\n",
       "    </tr>\n",
       "  </thead>\n",
       "  <tbody>\n",
       "    <tr>\n",
       "      <th>0</th>\n",
       "      <td>Hello, I forgot o update my address, can you h...</td>\n",
       "      <td>hi, you have to report any change of address t...</td>\n",
       "      <td>dmv</td>\n",
       "      <td>Top 5 DMV Mistakes and How to Avoid Them#3_0</td>\n",
       "      <td>[{'sp_id': '6', 'label': 'solution'}, {'sp_id'...</td>\n",
       "      <td>9f44c1539efe6f7e79b02eb1b413aa43</td>\n",
       "    </tr>\n",
       "    <tr>\n",
       "      <th>1</th>\n",
       "      <td>Can I do my DMV transactions online?</td>\n",
       "      <td>Yes, you can sign up for MyDMV for all the onl...</td>\n",
       "      <td>dmv</td>\n",
       "      <td>Top 5 DMV Mistakes and How to Avoid Them#3_0</td>\n",
       "      <td>[{'sp_id': '56', 'label': 'solution'}]</td>\n",
       "      <td>9f44c1539efe6f7e79b02eb1b413aa43</td>\n",
       "    </tr>\n",
       "    <tr>\n",
       "      <th>2</th>\n",
       "      <td>Thanks, and in case I forget to bring all of t...</td>\n",
       "      <td>This happens often with our customers so that'...</td>\n",
       "      <td>dmv</td>\n",
       "      <td>Top 5 DMV Mistakes and How to Avoid Them#3_0</td>\n",
       "      <td>[{'sp_id': '49', 'label': 'solution'}, {'sp_id...</td>\n",
       "      <td>9f44c1539efe6f7e79b02eb1b413aa43</td>\n",
       "    </tr>\n",
       "    <tr>\n",
       "      <th>3</th>\n",
       "      <td>Ok, and can you tell me again where should I r...</td>\n",
       "      <td>Sure. Any change of address must be reported t...</td>\n",
       "      <td>dmv</td>\n",
       "      <td>Top 5 DMV Mistakes and How to Avoid Them#3_0</td>\n",
       "      <td>[{'sp_id': '6', 'label': 'solution'}, {'sp_id'...</td>\n",
       "      <td>9f44c1539efe6f7e79b02eb1b413aa43</td>\n",
       "    </tr>\n",
       "    <tr>\n",
       "      <th>4</th>\n",
       "      <td>Can you tell me more about Traffic points and ...</td>\n",
       "      <td>Traffic points is the system used by DMV to tr...</td>\n",
       "      <td>dmv</td>\n",
       "      <td>Top 5 DMV Mistakes and How to Avoid Them#3_0</td>\n",
       "      <td>[{'sp_id': '41', 'label': 'solution'}, {'sp_id...</td>\n",
       "      <td>9f44c1539efe6f7e79b02eb1b413aa43</td>\n",
       "    </tr>\n",
       "    <tr>\n",
       "      <th>5</th>\n",
       "      <td>Will you keep me informed about when my insura...</td>\n",
       "      <td>Yes. The New York State requires every motoris...</td>\n",
       "      <td>dmv</td>\n",
       "      <td>Top 5 DMV Mistakes and How to Avoid Them#3_0</td>\n",
       "      <td>[{'sp_id': '24', 'label': 'solution'}, {'sp_id...</td>\n",
       "      <td>88ecf840ea87f8c53faff15d4f0bb214</td>\n",
       "    </tr>\n",
       "    <tr>\n",
       "      <th>6</th>\n",
       "      <td>Is it needed that my address is always up to d...</td>\n",
       "      <td>Yes, It is required. If not we won't be able t...</td>\n",
       "      <td>dmv</td>\n",
       "      <td>Top 5 DMV Mistakes and How to Avoid Them#3_0</td>\n",
       "      <td>[{'sp_id': '35', 'label': 'solution'}, {'sp_id...</td>\n",
       "      <td>88ecf840ea87f8c53faff15d4f0bb214</td>\n",
       "    </tr>\n",
       "    <tr>\n",
       "      <th>7</th>\n",
       "      <td>Can you tell me more about the traffic points ...</td>\n",
       "      <td>Yes. This is the system DM uses to keep a reco...</td>\n",
       "      <td>dmv</td>\n",
       "      <td>Top 5 DMV Mistakes and How to Avoid Them#3_0</td>\n",
       "      <td>[{'sp_id': '41', 'label': 'solution'}, {'sp_id...</td>\n",
       "      <td>88ecf840ea87f8c53faff15d4f0bb214</td>\n",
       "    </tr>\n",
       "    <tr>\n",
       "      <th>8</th>\n",
       "      <td>It's always a hassle to bring all the required...</td>\n",
       "      <td>This happens quite often with our customers wh...</td>\n",
       "      <td>dmv</td>\n",
       "      <td>Top 5 DMV Mistakes and How to Avoid Them#3_0</td>\n",
       "      <td>[{'sp_id': '49', 'label': 'solution'}, {'sp_id...</td>\n",
       "      <td>88ecf840ea87f8c53faff15d4f0bb214</td>\n",
       "    </tr>\n",
       "    <tr>\n",
       "      <th>9</th>\n",
       "      <td>In case I have a problem with my insurance and...</td>\n",
       "      <td>In that case, we must suspend the vehicle regi...</td>\n",
       "      <td>dmv</td>\n",
       "      <td>Top 5 DMV Mistakes and How to Avoid Them#3_0</td>\n",
       "      <td>[{'sp_id': '32', 'label': 'solution'}, {'sp_id...</td>\n",
       "      <td>88ecf840ea87f8c53faff15d4f0bb214</td>\n",
       "    </tr>\n",
       "  </tbody>\n",
       "</table>\n",
       "</div>"
      ],
      "text/plain": [
       "                                            question  \\\n",
       "0  Hello, I forgot o update my address, can you h...   \n",
       "1               Can I do my DMV transactions online?   \n",
       "2  Thanks, and in case I forget to bring all of t...   \n",
       "3  Ok, and can you tell me again where should I r...   \n",
       "4  Can you tell me more about Traffic points and ...   \n",
       "5  Will you keep me informed about when my insura...   \n",
       "6  Is it needed that my address is always up to d...   \n",
       "7  Can you tell me more about the traffic points ...   \n",
       "8  It's always a hassle to bring all the required...   \n",
       "9  In case I have a problem with my insurance and...   \n",
       "\n",
       "                                              answer domain  \\\n",
       "0  hi, you have to report any change of address t...    dmv   \n",
       "1  Yes, you can sign up for MyDMV for all the onl...    dmv   \n",
       "2  This happens often with our customers so that'...    dmv   \n",
       "3  Sure. Any change of address must be reported t...    dmv   \n",
       "4  Traffic points is the system used by DMV to tr...    dmv   \n",
       "5  Yes. The New York State requires every motoris...    dmv   \n",
       "6  Yes, It is required. If not we won't be able t...    dmv   \n",
       "7  Yes. This is the system DM uses to keep a reco...    dmv   \n",
       "8  This happens quite often with our customers wh...    dmv   \n",
       "9  In that case, we must suspend the vehicle regi...    dmv   \n",
       "\n",
       "                                         doc_id  \\\n",
       "0  Top 5 DMV Mistakes and How to Avoid Them#3_0   \n",
       "1  Top 5 DMV Mistakes and How to Avoid Them#3_0   \n",
       "2  Top 5 DMV Mistakes and How to Avoid Them#3_0   \n",
       "3  Top 5 DMV Mistakes and How to Avoid Them#3_0   \n",
       "4  Top 5 DMV Mistakes and How to Avoid Them#3_0   \n",
       "5  Top 5 DMV Mistakes and How to Avoid Them#3_0   \n",
       "6  Top 5 DMV Mistakes and How to Avoid Them#3_0   \n",
       "7  Top 5 DMV Mistakes and How to Avoid Them#3_0   \n",
       "8  Top 5 DMV Mistakes and How to Avoid Them#3_0   \n",
       "9  Top 5 DMV Mistakes and How to Avoid Them#3_0   \n",
       "\n",
       "                                          references  \\\n",
       "0  [{'sp_id': '6', 'label': 'solution'}, {'sp_id'...   \n",
       "1             [{'sp_id': '56', 'label': 'solution'}]   \n",
       "2  [{'sp_id': '49', 'label': 'solution'}, {'sp_id...   \n",
       "3  [{'sp_id': '6', 'label': 'solution'}, {'sp_id'...   \n",
       "4  [{'sp_id': '41', 'label': 'solution'}, {'sp_id...   \n",
       "5  [{'sp_id': '24', 'label': 'solution'}, {'sp_id...   \n",
       "6  [{'sp_id': '35', 'label': 'solution'}, {'sp_id...   \n",
       "7  [{'sp_id': '41', 'label': 'solution'}, {'sp_id...   \n",
       "8  [{'sp_id': '49', 'label': 'solution'}, {'sp_id...   \n",
       "9  [{'sp_id': '32', 'label': 'solution'}, {'sp_id...   \n",
       "\n",
       "                            dial_id  \n",
       "0  9f44c1539efe6f7e79b02eb1b413aa43  \n",
       "1  9f44c1539efe6f7e79b02eb1b413aa43  \n",
       "2  9f44c1539efe6f7e79b02eb1b413aa43  \n",
       "3  9f44c1539efe6f7e79b02eb1b413aa43  \n",
       "4  9f44c1539efe6f7e79b02eb1b413aa43  \n",
       "5  88ecf840ea87f8c53faff15d4f0bb214  \n",
       "6  88ecf840ea87f8c53faff15d4f0bb214  \n",
       "7  88ecf840ea87f8c53faff15d4f0bb214  \n",
       "8  88ecf840ea87f8c53faff15d4f0bb214  \n",
       "9  88ecf840ea87f8c53faff15d4f0bb214  "
      ]
     },
     "execution_count": 28,
     "metadata": {},
     "output_type": "execute_result"
    }
   ],
   "source": [
    "df = pd.read_csv(data_path + 'doc2dial_qa.csv')\n",
    "df.head(10)"
   ]
  },
  {
   "cell_type": "code",
   "execution_count": 34,
   "metadata": {},
   "outputs": [
    {
     "data": {
      "text/plain": [
       "3474"
      ]
     },
     "execution_count": 34,
     "metadata": {},
     "output_type": "execute_result"
    }
   ],
   "source": [
    "#mapping doc_id to dail_id\n",
    "df[['doc_id', 'dial_id']]\n",
    "#remove duplicates\n",
    "df = df.drop_duplicates(subset=['doc_id', 'dial_id'])"
   ]
  },
  {
   "cell_type": "code",
   "execution_count": 35,
   "metadata": {},
   "outputs": [
    {
     "data": {
      "text/plain": [
       "3474"
      ]
     },
     "execution_count": 35,
     "metadata": {},
     "output_type": "execute_result"
    }
   ],
   "source": [
    "len(df[['doc_id', 'dial_id']])"
   ]
  },
  {
   "cell_type": "code",
   "execution_count": 42,
   "metadata": {},
   "outputs": [
    {
     "data": {
      "text/html": [
       "<div>\n",
       "<style scoped>\n",
       "    .dataframe tbody tr th:only-of-type {\n",
       "        vertical-align: middle;\n",
       "    }\n",
       "\n",
       "    .dataframe tbody tr th {\n",
       "        vertical-align: top;\n",
       "    }\n",
       "\n",
       "    .dataframe thead th {\n",
       "        text-align: right;\n",
       "    }\n",
       "</style>\n",
       "<table border=\"1\" class=\"dataframe\">\n",
       "  <thead>\n",
       "    <tr style=\"text-align: right;\">\n",
       "      <th></th>\n",
       "      <th>dial_id</th>\n",
       "      <th>doc_id</th>\n",
       "    </tr>\n",
       "  </thead>\n",
       "  <tbody>\n",
       "    <tr>\n",
       "      <th>0</th>\n",
       "      <td>9f44c1539efe6f7e79b02eb1b413aa43</td>\n",
       "      <td>Top 5 DMV Mistakes and How to Avoid Them#3_0</td>\n",
       "    </tr>\n",
       "    <tr>\n",
       "      <th>5</th>\n",
       "      <td>88ecf840ea87f8c53faff15d4f0bb214</td>\n",
       "      <td>Top 5 DMV Mistakes and How to Avoid Them#3_0</td>\n",
       "    </tr>\n",
       "    <tr>\n",
       "      <th>10</th>\n",
       "      <td>3c079944cf36c05b45f668669cc3301b</td>\n",
       "      <td>Top 5 DMV Mistakes and How to Avoid Them#3_0</td>\n",
       "    </tr>\n",
       "    <tr>\n",
       "      <th>15</th>\n",
       "      <td>9fa8c68e2f211edad9fb65eb5897d600</td>\n",
       "      <td>Top 5 DMV Mistakes and How to Avoid Them#3_0</td>\n",
       "    </tr>\n",
       "    <tr>\n",
       "      <th>20</th>\n",
       "      <td>423bd6a66d14c22f8be69add96679255</td>\n",
       "      <td>Top 5 DMV Mistakes and How to Avoid Them#3_0</td>\n",
       "    </tr>\n",
       "    <tr>\n",
       "      <th>25</th>\n",
       "      <td>15aa88cc47d6c698af75ce5a00cc7c04</td>\n",
       "      <td>Top 5 DMV Mistakes and How to Avoid Them#3_0</td>\n",
       "    </tr>\n",
       "    <tr>\n",
       "      <th>31</th>\n",
       "      <td>eec4a276b8f0aebb4069d0dbca94b30f</td>\n",
       "      <td>Top 5 DMV Mistakes and How to Avoid Them#3_0</td>\n",
       "    </tr>\n",
       "    <tr>\n",
       "      <th>37</th>\n",
       "      <td>8b326c47087dfbec10f9ad1e4df1df2b</td>\n",
       "      <td>Top 5 DMV Mistakes and How to Avoid Them#3_0</td>\n",
       "    </tr>\n",
       "    <tr>\n",
       "      <th>42</th>\n",
       "      <td>494fe90938a0d159620d0229fbe059b2</td>\n",
       "      <td>Top 5 DMV Mistakes and How to Avoid Them#3_0</td>\n",
       "    </tr>\n",
       "    <tr>\n",
       "      <th>49</th>\n",
       "      <td>1f84f158224bcc4b92bf466b7f0986b7</td>\n",
       "      <td>Top 5 DMV Mistakes and How to Avoid Them#3_0</td>\n",
       "    </tr>\n",
       "  </tbody>\n",
       "</table>\n",
       "</div>"
      ],
      "text/plain": [
       "                             dial_id  \\\n",
       "0   9f44c1539efe6f7e79b02eb1b413aa43   \n",
       "5   88ecf840ea87f8c53faff15d4f0bb214   \n",
       "10  3c079944cf36c05b45f668669cc3301b   \n",
       "15  9fa8c68e2f211edad9fb65eb5897d600   \n",
       "20  423bd6a66d14c22f8be69add96679255   \n",
       "25  15aa88cc47d6c698af75ce5a00cc7c04   \n",
       "31  eec4a276b8f0aebb4069d0dbca94b30f   \n",
       "37  8b326c47087dfbec10f9ad1e4df1df2b   \n",
       "42  494fe90938a0d159620d0229fbe059b2   \n",
       "49  1f84f158224bcc4b92bf466b7f0986b7   \n",
       "\n",
       "                                          doc_id  \n",
       "0   Top 5 DMV Mistakes and How to Avoid Them#3_0  \n",
       "5   Top 5 DMV Mistakes and How to Avoid Them#3_0  \n",
       "10  Top 5 DMV Mistakes and How to Avoid Them#3_0  \n",
       "15  Top 5 DMV Mistakes and How to Avoid Them#3_0  \n",
       "20  Top 5 DMV Mistakes and How to Avoid Them#3_0  \n",
       "25  Top 5 DMV Mistakes and How to Avoid Them#3_0  \n",
       "31  Top 5 DMV Mistakes and How to Avoid Them#3_0  \n",
       "37  Top 5 DMV Mistakes and How to Avoid Them#3_0  \n",
       "42  Top 5 DMV Mistakes and How to Avoid Them#3_0  \n",
       "49  Top 5 DMV Mistakes and How to Avoid Them#3_0  "
      ]
     },
     "execution_count": 42,
     "metadata": {},
     "output_type": "execute_result"
    }
   ],
   "source": [
    "df[['dial_id', 'doc_id']].head(10)"
   ]
  },
  {
   "cell_type": "code",
   "execution_count": 46,
   "metadata": {},
   "outputs": [],
   "source": [
    "df[['dial_id', 'doc_id']]\n",
    "#build a dictionary mapping dial_id to doc_id\n",
    "dial2doc = {}\n",
    "for index, row in df.iterrows():\n",
    "    dial2doc[row['dial_id']] = row['doc_id']\n",
    "    \n",
    "#build a dictionary mapping doc_id to dial_id (one to many)\n",
    "doc2dial = {}\n",
    "for index, row in df.iterrows():\n",
    "    if row['doc_id'] in doc2dial:\n",
    "        doc2dial[row['doc_id']].append(row['dial_id'])\n",
    "    else:\n",
    "        doc2dial[row['doc_id']] = [row['dial_id']]\n"
   ]
  },
  {
   "cell_type": "code",
   "execution_count": 52,
   "metadata": {},
   "outputs": [],
   "source": [
    "#write dial2doc and doc2dial to json file\n",
    "output = {'dial2doc':dial2doc, 'doc2dial':doc2dial}\n",
    "with open(data_path + 'doc2dial_mapping_train.json', 'w') as f:\n",
    "    json.dump(output, f)"
   ]
  }
 ],
 "metadata": {
  "kernelspec": {
   "display_name": "atlas-env",
   "language": "python",
   "name": "python3"
  },
  "language_info": {
   "codemirror_mode": {
    "name": "ipython",
    "version": 3
   },
   "file_extension": ".py",
   "mimetype": "text/x-python",
   "name": "python",
   "nbconvert_exporter": "python",
   "pygments_lexer": "ipython3",
   "version": "3.8.16"
  },
  "orig_nbformat": 4,
  "vscode": {
   "interpreter": {
    "hash": "0524695ab7cc8b827f32433f08320ad099c792295e0943ecb481c2e54455043d"
   }
  }
 },
 "nbformat": 4,
 "nbformat_minor": 2
}
