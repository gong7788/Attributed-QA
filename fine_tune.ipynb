{
 "cells": [
  {
   "cell_type": "code",
   "execution_count": 1,
   "metadata": {},
   "outputs": [
    {
     "name": "stderr",
     "output_type": "stream",
     "text": [
      "/home/ygong/miniconda3/envs/cloned/lib/python3.8/site-packages/tqdm/auto.py:21: TqdmWarning: IProgress not found. Please update jupyter and ipywidgets. See https://ipywidgets.readthedocs.io/en/stable/user_install.html\n",
      "  from .autonotebook import tqdm as notebook_tqdm\n"
     ]
    }
   ],
   "source": [
    "import torch\n",
    "\n",
    "from transformers import AutoTokenizer, AutoModelForSeq2SeqLM\n",
    "from torch.utils.data import DataLoader\n",
    "from dataloader import doc2dialDataset\n",
    "import ast\n",
    "import pandas as pd\n",
    "import json"
   ]
  },
  {
   "cell_type": "code",
   "execution_count": 37,
   "metadata": {},
   "outputs": [],
   "source": [
    "# df = pd.read_csv('data/doc2dial/Train_dataset/DEFAULT/DEFAULT_withRefs.csv')"
   ]
  },
  {
   "cell_type": "code",
   "execution_count": 39,
   "metadata": {},
   "outputs": [],
   "source": [
    "# df[:10].to_csv('data/doc2dial/TEST/DDP_Finetune.csv')"
   ]
  },
  {
   "cell_type": "code",
   "execution_count": 2,
   "metadata": {},
   "outputs": [],
   "source": [
    "path = 'data/doc2dial/Train_dataset/DEFAULT/DEFAULT_withRefs.csv'\n",
    "\n",
    "dataset = doc2dialDataset(path)\n",
    "dataloader = DataLoader(dataset, batch_size=4, shuffle=False)"
   ]
  },
  {
   "cell_type": "code",
   "execution_count": 3,
   "metadata": {},
   "outputs": [
    {
     "name": "stdout",
     "output_type": "stream",
     "text": [
      "[{'id_sp': '6', 'tag': 'u', 'start_sp': 346, 'end_sp': 416, 'text_sp': 'you must report a change of address to DMV within ten days of moving. ', 'title': '1. Forgetting to Update Address', 'parent_titles': [], 'id_sec': '2', 'start_sec': 333, 'text_sec': 'By statute , you must report a change of address to DMV within ten days of moving. That is the case for the address associated with your license, as well as all the addresses associated with each registered vehicle, which may differ. ', 'end_sec': 567}, {'id_sp': '7', 'tag': 'u', 'start_sp': 416, 'end_sp': 567, 'text_sp': 'That is the case for the address associated with your license, as well as all the addresses associated with each registered vehicle, which may differ. ', 'title': '1. Forgetting to Update Address', 'parent_titles': [], 'id_sec': '2', 'start_sec': 333, 'text_sec': 'By statute , you must report a change of address to DMV within ten days of moving. That is the case for the address associated with your license, as well as all the addresses associated with each registered vehicle, which may differ. ', 'end_sec': 567}]\n",
      "[{'id_sp': '56', 'tag': 'u', 'start_sp': 4496, 'end_sp': 4527, 'text_sp': 'Sign up or log into MyDMV [6 ] ', 'title': '5. Not Bringing Proper Documentation to DMV Office', 'parent_titles': [], 'id_sec': '15', 'start_sec': 4496, 'text_sec': 'Sign up or log into MyDMV [6 ] ', 'end_sec': 4527}]\n",
      "[{'id_sp': '49', 'tag': 'u', 'start_sp': 3714, 'end_sp': 3888, 'text_sp': 'About ten percent of customers visiting a DMV office do not bring what they need to complete their transaction, and have to come back a second time to finish their business. ', 'title': '5. Not Bringing Proper Documentation to DMV Office', 'parent_titles': [], 'id_sec': '13', 'start_sec': 3714, 'text_sec': 'About ten percent of customers visiting a DMV office do not bring what they need to complete their transaction, and have to come back a second time to finish their business. This can be as simple as not bringing sufficient funds to pay for a license renewal or not having the proof of auto insurance required to register a car. Better yet , don t visit a DMV office at all, and see if your transaction can be performed online, like an address change, registration renewal, license renewal, replacing a lost title, paying a DRA or scheduling a road test. ', 'end_sec': 4268}, {'id_sp': '50', 'tag': 'u', 'start_sp': 3888, 'end_sp': 4042, 'text_sp': 'This can be as simple as not bringing sufficient funds to pay for a license renewal or not having the proof of auto insurance required to register a car. ', 'title': '5. Not Bringing Proper Documentation to DMV Office', 'parent_titles': [], 'id_sec': '13', 'start_sec': 3714, 'text_sec': 'About ten percent of customers visiting a DMV office do not bring what they need to complete their transaction, and have to come back a second time to finish their business. This can be as simple as not bringing sufficient funds to pay for a license renewal or not having the proof of auto insurance required to register a car. Better yet , don t visit a DMV office at all, and see if your transaction can be performed online, like an address change, registration renewal, license renewal, replacing a lost title, paying a DRA or scheduling a road test. ', 'end_sec': 4268}, {'id_sp': '52', 'tag': 'u', 'start_sp': 4055, 'end_sp': 4268, 'text_sp': 'don t visit a DMV office at all, and see if your transaction can be performed online, like an address change, registration renewal, license renewal, replacing a lost title, paying a DRA or scheduling a road test. ', 'title': '5. Not Bringing Proper Documentation to DMV Office', 'parent_titles': [], 'id_sec': '13', 'start_sec': 3714, 'text_sec': 'About ten percent of customers visiting a DMV office do not bring what they need to complete their transaction, and have to come back a second time to finish their business. This can be as simple as not bringing sufficient funds to pay for a license renewal or not having the proof of auto insurance required to register a car. Better yet , don t visit a DMV office at all, and see if your transaction can be performed online, like an address change, registration renewal, license renewal, replacing a lost title, paying a DRA or scheduling a road test. ', 'end_sec': 4268}]\n",
      "[{'id_sp': '6', 'tag': 'u', 'start_sp': 346, 'end_sp': 416, 'text_sp': 'you must report a change of address to DMV within ten days of moving. ', 'title': '1. Forgetting to Update Address', 'parent_titles': [], 'id_sec': '2', 'start_sec': 333, 'text_sec': 'By statute , you must report a change of address to DMV within ten days of moving. That is the case for the address associated with your license, as well as all the addresses associated with each registered vehicle, which may differ. ', 'end_sec': 567}, {'id_sp': '7', 'tag': 'u', 'start_sp': 416, 'end_sp': 567, 'text_sp': 'That is the case for the address associated with your license, as well as all the addresses associated with each registered vehicle, which may differ. ', 'title': '1. Forgetting to Update Address', 'parent_titles': [], 'id_sec': '2', 'start_sec': 333, 'text_sec': 'By statute , you must report a change of address to DMV within ten days of moving. That is the case for the address associated with your license, as well as all the addresses associated with each registered vehicle, which may differ. ', 'end_sec': 567}]\n"
     ]
    }
   ],
   "source": [
    "b = next(iter(dataloader))"
   ]
  },
  {
   "cell_type": "code",
   "execution_count": 4,
   "metadata": {},
   "outputs": [],
   "source": [
    "questions = b['question']\n",
    "answers = b['answer']"
   ]
  },
  {
   "cell_type": "code",
   "execution_count": 5,
   "metadata": {},
   "outputs": [
    {
     "data": {
      "text/plain": [
       "'Top 5 DMV Mistakes and How to Avoid Them#3_0'"
      ]
     },
     "execution_count": 5,
     "metadata": {},
     "output_type": "execute_result"
    }
   ],
   "source": [
    "refs= b['ref']\n",
    "doc_ids = b['doc_id']\n",
    "doc_ids[0]"
   ]
  },
  {
   "cell_type": "code",
   "execution_count": 6,
   "metadata": {},
   "outputs": [
    {
     "data": {
      "text/plain": [
       "[{'sp_id': '6', 'label': 'solution'}, {'sp_id': '7', 'label': 'solution'}]"
      ]
     },
     "execution_count": 6,
     "metadata": {},
     "output_type": "execute_result"
    }
   ],
   "source": [
    "ast.literal_eval(refs[0])"
   ]
  },
  {
   "cell_type": "code",
   "execution_count": 7,
   "metadata": {},
   "outputs": [],
   "source": [
    "refs_ID= [term['sp_id'] for term in ast.literal_eval(refs[0])]"
   ]
  },
  {
   "cell_type": "code",
   "execution_count": 8,
   "metadata": {},
   "outputs": [],
   "source": [
    "doc_data = json.load(open('data/doc2dial/doc2dial_doc.json', 'r'))\n",
    "\n",
    "doc_file_span = doc_data['doc_data']['dmv'][doc_ids[0]]['spans']\n",
    "ll = [[doc_file_span[i] for i in l] for l in refs_ID]\n",
    "\n",
    "true_ref_string = [[term['text_sp'] for term in _] for _ in ll]\n",
    "concatenated_string = ' '.join(string for sublist in true_ref_string for string in sublist)"
   ]
  },
  {
   "cell_type": "code",
   "execution_count": 9,
   "metadata": {},
   "outputs": [
    {
     "data": {
      "text/plain": [
       "'you must report a change of address to DMV within ten days of moving.  That is the case for the address associated with your license, as well as all the addresses associated with each registered vehicle, which may differ. '"
      ]
     },
     "execution_count": 9,
     "metadata": {},
     "output_type": "execute_result"
    }
   ],
   "source": [
    "concatenated_string"
   ]
  },
  {
   "cell_type": "code",
   "execution_count": 5,
   "metadata": {},
   "outputs": [
    {
     "data": {
      "text/plain": [
       "['Hello, I forgot o update my address, can you help me with that?',\n",
       " 'Can I do my DMV transactions online?',\n",
       " 'Thanks, and in case I forget to bring all of the documentation needed to the DMV office, what can I do?',\n",
       " 'Ok, and can you tell me again where should I report my new address?']"
      ]
     },
     "execution_count": 5,
     "metadata": {},
     "output_type": "execute_result"
    }
   ],
   "source": [
    "questions"
   ]
  },
  {
   "cell_type": "code",
   "execution_count": 2,
   "metadata": {},
   "outputs": [],
   "source": [
    "import torch.distributed as dist\n",
    "import torch.nn as nn\n",
    "import torch.optim as optim\n",
    "import torch.multiprocessing as mp\n",
    "from torch.nn.parallel import DistributedDataParallel as DDP\n",
    "import os\n",
    "from QAModel import format_prompt"
   ]
  },
  {
   "cell_type": "code",
   "execution_count": 3,
   "metadata": {},
   "outputs": [],
   "source": [
    "from torch.utils.data.distributed import DistributedSampler\n",
    "\n",
    "def prepare(rank, world_size, batch_size=2, pin_memory=False, num_workers=0):\n",
    "    path = 'data/doc2dial/Train_dataset/DEFAULT/DEFAULT_withRefs.csv'\n",
    "    dataset = doc2dialDataset(path)\n",
    "    sampler = DistributedSampler(dataset, num_replicas=world_size, rank=rank, shuffle=True, drop_last=False)\n",
    "    \n",
    "    dataloader = DataLoader(dataset, batch_size=batch_size, pin_memory=pin_memory, num_workers=num_workers, drop_last=False, shuffle=False, sampler=sampler)\n",
    "    \n",
    "    return dataloader"
   ]
  },
  {
   "cell_type": "code",
   "execution_count": 4,
   "metadata": {},
   "outputs": [],
   "source": [
    "n_gpus = torch.cuda.device_count()\n",
    "world_size = n_gpus\n",
    "DDP_dataloader = prepare(rank=0, world_size=2, batch_size=2, pin_memory=False, num_workers=0)"
   ]
  },
  {
   "cell_type": "code",
   "execution_count": 5,
   "metadata": {},
   "outputs": [],
   "source": [
    "DDP_dataloader.sampler.set_epoch(0)  "
   ]
  },
  {
   "cell_type": "code",
   "execution_count": 6,
   "metadata": {},
   "outputs": [],
   "source": [
    "first_batch = next(iter(DDP_dataloader))"
   ]
  },
  {
   "cell_type": "code",
   "execution_count": 7,
   "metadata": {},
   "outputs": [
    {
     "data": {
      "text/plain": [
       "['And if I already sent it but a month has passed and I have not received it?',\n",
       " 'No']"
      ]
     },
     "execution_count": 7,
     "metadata": {},
     "output_type": "execute_result"
    }
   ],
   "source": [
    "qs = first_batch['question']\n",
    "qs"
   ]
  },
  {
   "cell_type": "code",
   "execution_count": 8,
   "metadata": {},
   "outputs": [
    {
     "data": {
      "text/plain": [
       "[\"[{'sp_id': '17', 'label': 'precondition'}]\",\n",
       " \"[{'sp_id': '18', 'label': 'solution'}]\"]"
      ]
     },
     "execution_count": 8,
     "metadata": {},
     "output_type": "execute_result"
    }
   ],
   "source": [
    "DDP_dataloader.sampler.set_epoch(2)  \n",
    "first_batch = next(iter(DDP_dataloader))\n",
    "qs = first_batch['question']\n",
    "refs= first_batch['ref']\n",
    "refs"
   ]
  },
  {
   "cell_type": "code",
   "execution_count": 11,
   "metadata": {},
   "outputs": [
    {
     "data": {
      "text/plain": [
       "{'question': ['need to know more about this complaint that I got',\n",
       "  'For example If I reside outside New York City, will I pay at both place?'],\n",
       " 'answer': ['Has a complaint been filed against you?',\n",
       "  'No. If you reside outside New York City and you are exempt from the vehicle use tax in the county where you reside or have a business'],\n",
       " 'ref': [\"[{'sp_id': '17', 'label': 'precondition'}]\",\n",
       "  \"[{'sp_id': '18', 'label': 'solution'}]\"],\n",
       " 'retrived_doc': ['Complaint filed against you or your business',\n",
       "  'Registration fee chart for passenger vehicles \\nThe chart shows the 2 year fee by vehicle weight. \\n\\nCounty use taxes and supplemental fees \\nResidents of New York City and several counties in New York State must pay a vehicle use tax when they register a passenger vehicle or renew a passenger vehicle registration. If you reside outside New York City and you are exempt from the vehicle use tax in the county where you reside or have a business , complete form UT-11C.'],\n",
       " 'doc_id': ['About complaints and charges for inspection stations and certified inspectors#3_0',\n",
       "  'Passenger vehicle registration fees, use taxes and supplemental fees#3_0'],\n",
       " 'dial_id': ['c5da08d0a0de940d767f422e608df705',\n",
       "  '1e828555bf11fdbc66f76aa411b0d90b']}"
      ]
     },
     "execution_count": 11,
     "metadata": {},
     "output_type": "execute_result"
    }
   ],
   "source": [
    "first_batch"
   ]
  },
  {
   "cell_type": "code",
   "execution_count": 10,
   "metadata": {},
   "outputs": [
    {
     "ename": "KeyError",
     "evalue": "'ref_string'",
     "output_type": "error",
     "traceback": [
      "\u001b[0;31m---------------------------------------------------------------------------\u001b[0m",
      "\u001b[0;31mKeyError\u001b[0m                                  Traceback (most recent call last)",
      "Cell \u001b[0;32mIn[10], line 1\u001b[0m\n\u001b[0;32m----> 1\u001b[0m ref_strings \u001b[39m=\u001b[39m first_batch[\u001b[39m'\u001b[39;49m\u001b[39mref_string\u001b[39;49m\u001b[39m'\u001b[39;49m]\n\u001b[1;32m      2\u001b[0m ref_strings\n",
      "\u001b[0;31mKeyError\u001b[0m: 'ref_string'"
     ]
    }
   ],
   "source": [
    "ref_strings = first_batch['ref_string']\n",
    "ref_strings"
   ]
  },
  {
   "cell_type": "code",
   "execution_count": 33,
   "metadata": {},
   "outputs": [],
   "source": [
    "def setup(rank, world_size):\n",
    "    os.environ['MASTER_ADDR'] = 'localhost'\n",
    "    os.environ['MASTER_PORT'] = '12355'\n",
    "\n",
    "    # initialize the process group\n",
    "    dist.init_process_group(\"gloo\", rank=rank, world_size=world_size)\n",
    "\n",
    "def cleanup():\n",
    "    dist.destroy_process_group()\n",
    "\n",
    "\n",
    "def demo_parallel(rank, world_size):\n",
    "    print(f\"Running DDP with model parallel example on rank {rank}.\")\n",
    "    setup(rank, world_size)\n",
    "\n",
    "    DDP_dataloader = prepare(rank, world_size, batch_size=2, pin_memory=False, num_workers=0)\n",
    "    first_batch = next(iter(DDP_dataloader))\n",
    "\n",
    "    tokenizer = T5Tokenizer.from_pretrained(\"t5-small\")\n",
    "    model = T5ForConditionalGeneration.from_pretrained(\"t5-small\")\n",
    "\n",
    "    model = model.to(rank)\n",
    "    ddp_model = DDP(model, device_ids=[rank])\n",
    "\n",
    "    for epoch in epochs:\n",
    "        #encoding inputs\n",
    "        dataloader.sampler.set_epoch(epoch)\n",
    "\n",
    "        for step, x in enumerate(epoch):\n",
    "\n",
    "            qs = first_batch['question']\n",
    "            answers = first_batch['answer']\n",
    "            refs = first_batch['ref'] # ?\n",
    "\n",
    "            temps = format_prompt(qs, refs)\n",
    "            \n",
    "            encoding = tokenizer(temps, \n",
    "                                return_tensors=\"pt\", \n",
    "                                padding='longest', \n",
    "                                max_length=1024, \n",
    "                                truncation=True)\n",
    "            \n",
    "            input_ids, attention_mask = encoding.input_ids, encoding.attention_mask\n",
    "            #encoding targets\n",
    "            target_encoding = tokenizer(answers,\n",
    "                                        return_tensors=\"pt\",\n",
    "                                        padding='longest',\n",
    "                                        max_length=1024,\n",
    "                                        truncation=True)\n",
    "            labels = target_encoding.input_ids\n",
    "\n",
    "            loss_fn = nn.MSELoss()\n",
    "            optimizer = optim.SGD(ddp_model.parameters(), lr=0.001)\n",
    "\n",
    "            optimizer.zero_grad()\n",
    "\n",
    "            outputs = ddp_model(input_ids, attention_mask)\n",
    "\n",
    "            loss_fn(outputs, labels).backward()\n",
    "            optimizer.step()\n",
    "\n",
    "    cleanup()\n",
    "\n",
    "def run_demo(demo_fn, world_size):\n",
    "    mp.spawn(demo_fn,\n",
    "             args=(world_size,),\n",
    "             nprocs=world_size,\n",
    "             join=True)"
   ]
  },
  {
   "cell_type": "code",
   "execution_count": 36,
   "metadata": {},
   "outputs": [
    {
     "name": "stderr",
     "output_type": "stream",
     "text": [
      "Traceback (most recent call last):\n",
      "  File \"<string>\", line 1, in <module>\n",
      "  File \"/home/ygong/miniconda3/envs/atlas-env/lib/python3.8/multiprocessing/spawn.py\", line 116, in spawn_main\n",
      "    exitcode = _main(fd, parent_sentinel)\n",
      "  File \"/home/ygong/miniconda3/envs/atlas-env/lib/python3.8/multiprocessing/spawn.py\", line 126, in _main\n",
      "    self = reduction.pickle.load(from_parent)\n",
      "AttributeError: Can't get attribute 'demo_parallel' on <module '__main__' (built-in)>\n"
     ]
    },
    {
     "ename": "ProcessExitedException",
     "evalue": "process 1 terminated with exit code 1",
     "output_type": "error",
     "traceback": [
      "\u001b[0;31m---------------------------------------------------------------------------\u001b[0m",
      "\u001b[0;31mProcessExitedException\u001b[0m                    Traceback (most recent call last)",
      "Cell \u001b[0;32mIn[36], line 4\u001b[0m\n\u001b[1;32m      2\u001b[0m \u001b[39massert\u001b[39;00m n_gpus \u001b[39m>\u001b[39m\u001b[39m=\u001b[39m \u001b[39m2\u001b[39m, \u001b[39mf\u001b[39m\u001b[39m\"\u001b[39m\u001b[39mRequires at least 2 GPUs to run, but got \u001b[39m\u001b[39m{\u001b[39;00mn_gpus\u001b[39m}\u001b[39;00m\u001b[39m\"\u001b[39m\n\u001b[1;32m      3\u001b[0m world_size \u001b[39m=\u001b[39m n_gpus\n\u001b[0;32m----> 4\u001b[0m run_demo(demo_parallel, world_size)\n",
      "Cell \u001b[0;32mIn[33], line 65\u001b[0m, in \u001b[0;36mrun_demo\u001b[0;34m(demo_fn, world_size)\u001b[0m\n\u001b[1;32m     64\u001b[0m \u001b[39mdef\u001b[39;00m \u001b[39mrun_demo\u001b[39m(demo_fn, world_size):\n\u001b[0;32m---> 65\u001b[0m     mp\u001b[39m.\u001b[39;49mspawn(demo_fn,\n\u001b[1;32m     66\u001b[0m              args\u001b[39m=\u001b[39;49m(world_size,),\n\u001b[1;32m     67\u001b[0m              nprocs\u001b[39m=\u001b[39;49mworld_size,\n\u001b[1;32m     68\u001b[0m              join\u001b[39m=\u001b[39;49m\u001b[39mTrue\u001b[39;49;00m)\n",
      "File \u001b[0;32m~/miniconda3/envs/atlas-env/lib/python3.8/site-packages/torch/multiprocessing/spawn.py:240\u001b[0m, in \u001b[0;36mspawn\u001b[0;34m(fn, args, nprocs, join, daemon, start_method)\u001b[0m\n\u001b[1;32m    236\u001b[0m     msg \u001b[39m=\u001b[39m (\u001b[39m'\u001b[39m\u001b[39mThis method only supports start_method=spawn (got: \u001b[39m\u001b[39m%s\u001b[39;00m\u001b[39m).\u001b[39m\u001b[39m\\n\u001b[39;00m\u001b[39m'\u001b[39m\n\u001b[1;32m    237\u001b[0m            \u001b[39m'\u001b[39m\u001b[39mTo use a different start_method use:\u001b[39m\u001b[39m\\n\u001b[39;00m\u001b[39m\\t\u001b[39;00m\u001b[39m\\t\u001b[39;00m\u001b[39m'\u001b[39m\n\u001b[1;32m    238\u001b[0m            \u001b[39m'\u001b[39m\u001b[39m torch.multiprocessing.start_processes(...)\u001b[39m\u001b[39m'\u001b[39m \u001b[39m%\u001b[39m start_method)\n\u001b[1;32m    239\u001b[0m     warnings\u001b[39m.\u001b[39mwarn(msg)\n\u001b[0;32m--> 240\u001b[0m \u001b[39mreturn\u001b[39;00m start_processes(fn, args, nprocs, join, daemon, start_method\u001b[39m=\u001b[39;49m\u001b[39m'\u001b[39;49m\u001b[39mspawn\u001b[39;49m\u001b[39m'\u001b[39;49m)\n",
      "File \u001b[0;32m~/miniconda3/envs/atlas-env/lib/python3.8/site-packages/torch/multiprocessing/spawn.py:198\u001b[0m, in \u001b[0;36mstart_processes\u001b[0;34m(fn, args, nprocs, join, daemon, start_method)\u001b[0m\n\u001b[1;32m    195\u001b[0m     \u001b[39mreturn\u001b[39;00m context\n\u001b[1;32m    197\u001b[0m \u001b[39m# Loop on join until it returns True or raises an exception.\u001b[39;00m\n\u001b[0;32m--> 198\u001b[0m \u001b[39mwhile\u001b[39;00m \u001b[39mnot\u001b[39;00m context\u001b[39m.\u001b[39;49mjoin():\n\u001b[1;32m    199\u001b[0m     \u001b[39mpass\u001b[39;00m\n",
      "File \u001b[0;32m~/miniconda3/envs/atlas-env/lib/python3.8/site-packages/torch/multiprocessing/spawn.py:149\u001b[0m, in \u001b[0;36mProcessContext.join\u001b[0;34m(self, timeout)\u001b[0m\n\u001b[1;32m    140\u001b[0m         \u001b[39mraise\u001b[39;00m ProcessExitedException(\n\u001b[1;32m    141\u001b[0m             \u001b[39m\"\u001b[39m\u001b[39mprocess \u001b[39m\u001b[39m%d\u001b[39;00m\u001b[39m terminated with signal \u001b[39m\u001b[39m%s\u001b[39;00m\u001b[39m\"\u001b[39m \u001b[39m%\u001b[39m\n\u001b[1;32m    142\u001b[0m             (error_index, name),\n\u001b[0;32m   (...)\u001b[0m\n\u001b[1;32m    146\u001b[0m             signal_name\u001b[39m=\u001b[39mname\n\u001b[1;32m    147\u001b[0m         )\n\u001b[1;32m    148\u001b[0m     \u001b[39melse\u001b[39;00m:\n\u001b[0;32m--> 149\u001b[0m         \u001b[39mraise\u001b[39;00m ProcessExitedException(\n\u001b[1;32m    150\u001b[0m             \u001b[39m\"\u001b[39m\u001b[39mprocess \u001b[39m\u001b[39m%d\u001b[39;00m\u001b[39m terminated with exit code \u001b[39m\u001b[39m%d\u001b[39;00m\u001b[39m\"\u001b[39m \u001b[39m%\u001b[39m\n\u001b[1;32m    151\u001b[0m             (error_index, exitcode),\n\u001b[1;32m    152\u001b[0m             error_index\u001b[39m=\u001b[39merror_index,\n\u001b[1;32m    153\u001b[0m             error_pid\u001b[39m=\u001b[39mfailed_process\u001b[39m.\u001b[39mpid,\n\u001b[1;32m    154\u001b[0m             exit_code\u001b[39m=\u001b[39mexitcode\n\u001b[1;32m    155\u001b[0m         )\n\u001b[1;32m    157\u001b[0m original_trace \u001b[39m=\u001b[39m \u001b[39mself\u001b[39m\u001b[39m.\u001b[39merror_queues[error_index]\u001b[39m.\u001b[39mget()\n\u001b[1;32m    158\u001b[0m msg \u001b[39m=\u001b[39m \u001b[39m\"\u001b[39m\u001b[39m\\n\u001b[39;00m\u001b[39m\\n\u001b[39;00m\u001b[39m-- Process \u001b[39m\u001b[39m%d\u001b[39;00m\u001b[39m terminated with the following error:\u001b[39m\u001b[39m\\n\u001b[39;00m\u001b[39m\"\u001b[39m \u001b[39m%\u001b[39m error_index\n",
      "\u001b[0;31mProcessExitedException\u001b[0m: process 1 terminated with exit code 1"
     ]
    }
   ],
   "source": [
    "n_gpus = torch.cuda.device_count()\n",
    "assert n_gpus >= 2, f\"Requires at least 2 GPUs to run, but got {n_gpus}\"\n",
    "world_size = n_gpus\n",
    "run_demo(demo_parallel, world_size)"
   ]
  },
  {
   "cell_type": "code",
   "execution_count": 2,
   "metadata": {},
   "outputs": [],
   "source": [
    "from accelerate import init_empty_weights\n",
    "from torch import nn\n",
    "\n",
    "# with init_empty_weights():\n",
    "    # model = nn.Sequential(*[nn.Linear(10000, 10000) for _ in range(1000)])"
   ]
  },
  {
   "cell_type": "code",
   "execution_count": 2,
   "metadata": {},
   "outputs": [
    {
     "name": "stderr",
     "output_type": "stream",
     "text": [
      "Loading checkpoint shards: 100%|██████████| 5/5 [02:07<00:00, 25.45s/it]\n"
     ]
    }
   ],
   "source": [
    "AUTOAIS = \"google/t5_xxl_true_nli_mixture\"\n",
    "t0pp = AutoModelForSeq2SeqLM.from_pretrained(AUTOAIS, device_map=\"auto\")"
   ]
  }
 ],
 "metadata": {
  "kernelspec": {
   "display_name": "atlas-env",
   "language": "python",
   "name": "python3"
  },
  "language_info": {
   "codemirror_mode": {
    "name": "ipython",
    "version": 3
   },
   "file_extension": ".py",
   "mimetype": "text/x-python",
   "name": "python",
   "nbconvert_exporter": "python",
   "pygments_lexer": "ipython3",
   "version": "3.8.16"
  },
  "orig_nbformat": 4
 },
 "nbformat": 4,
 "nbformat_minor": 2
}
