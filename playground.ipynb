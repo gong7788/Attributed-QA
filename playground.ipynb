{
 "cells": [
  {
   "cell_type": "code",
   "execution_count": 1,
   "metadata": {},
   "outputs": [
    {
     "name": "stderr",
     "output_type": "stream",
     "text": [
      "/home/ygong/miniconda3/envs/atlas-env/lib/python3.8/site-packages/tqdm/auto.py:21: TqdmWarning: IProgress not found. Please update jupyter and ipywidgets. See https://ipywidgets.readthedocs.io/en/stable/user_install.html\n",
      "  from .autonotebook import tqdm as notebook_tqdm\n"
     ]
    }
   ],
   "source": [
    "import json\n",
    "from models.retriever import retrieve_only"
   ]
  },
  {
   "cell_type": "code",
   "execution_count": 5,
   "metadata": {},
   "outputs": [],
   "source": [
    "data_path = 'data/doc2dial/'\n",
    "file_path = data_path  + 'doc2dial_dial_train.json'\n",
    "with open(file_path, 'r') as f:\n",
    "    data = json.load(f)"
   ]
  },
  {
   "cell_type": "code",
   "execution_count": 8,
   "metadata": {},
   "outputs": [
    {
     "data": {
      "text/plain": [
       "dict_keys(['dmv', 'ssa', 'va', 'studentaid'])"
      ]
     },
     "execution_count": 8,
     "metadata": {},
     "output_type": "execute_result"
    }
   ],
   "source": [
    "data['dial_data'].keys()"
   ]
  },
  {
   "cell_type": "code",
   "execution_count": 6,
   "metadata": {},
   "outputs": [],
   "source": [
    "file_path = data_path + 'doc2dial_doc.json'\n",
    "with open(file_path, 'r') as f:\n",
    "    data = json.load(f)"
   ]
  },
  {
   "cell_type": "code",
   "execution_count": 4,
   "metadata": {},
   "outputs": [
    {
     "data": {
      "text/plain": [
       "109"
      ]
     },
     "execution_count": 4,
     "metadata": {},
     "output_type": "execute_result"
    }
   ],
   "source": [
    "len(data['doc_data']['ssa'].keys())"
   ]
  },
  {
   "cell_type": "code",
   "execution_count": 7,
   "metadata": {},
   "outputs": [],
   "source": [
    "doc_list = list(data['doc_data']['ssa'].keys())"
   ]
  },
  {
   "cell_type": "code",
   "execution_count": 6,
   "metadata": {},
   "outputs": [
    {
     "data": {
      "text/plain": [
       "'Benefits Planner: Survivors | Planning For Your Survivors | Social Security Administration#1_0'"
      ]
     },
     "execution_count": 6,
     "metadata": {},
     "output_type": "execute_result"
    }
   ],
   "source": [
    "doc_list[0]"
   ]
  },
  {
   "cell_type": "code",
   "execution_count": 7,
   "metadata": {},
   "outputs": [
    {
     "data": {
      "text/plain": [
       "dict_keys(['title', 'doc_id', 'domain', 'doc_text', 'spans', 'doc_html_ts', 'doc_html_raw'])"
      ]
     },
     "execution_count": 7,
     "metadata": {},
     "output_type": "execute_result"
    }
   ],
   "source": [
    "data['doc_data']['ssa'][doc_list[0]].keys()"
   ]
  },
  {
   "cell_type": "code",
   "execution_count": 8,
   "metadata": {},
   "outputs": [
    {
     "data": {
      "text/plain": [
       "'Benefits Planner: Survivors | Planning For Your Survivors | Social Security Administration#1'"
      ]
     },
     "execution_count": 8,
     "metadata": {},
     "output_type": "execute_result"
    }
   ],
   "source": [
    "data['doc_data']['ssa'][doc_list[0]]['title']"
   ]
  },
  {
   "cell_type": "code",
   "execution_count": 13,
   "metadata": {},
   "outputs": [
    {
     "data": {
      "text/plain": [
       "{'1': {'id_sp': '1',\n",
       "  'tag': 'h2',\n",
       "  'start_sp': 0,\n",
       "  'end_sp': 61,\n",
       "  'text_sp': '\\n\\nBenefits Planner: Survivors | Planning For Your Survivors \\n',\n",
       "  'title': 'Benefits Planner: Survivors | Planning For Your Survivors',\n",
       "  'parent_titles': [],\n",
       "  'id_sec': 't_0',\n",
       "  'start_sec': 0,\n",
       "  'end_sec': 61,\n",
       "  'text_sec': '\\n\\nBenefits Planner: Survivors | Planning For Your Survivors \\n'},\n",
       " '2': {'id_sp': '2',\n",
       "  'tag': 'u',\n",
       "  'start_sp': 61,\n",
       "  'end_sp': 90,\n",
       "  'text_sp': 'As you plan for the future , ',\n",
       "  'title': 'Benefits Planner: Survivors | Planning For Your Survivors',\n",
       "  'parent_titles': [],\n",
       "  'id_sec': '1',\n",
       "  'start_sec': 61,\n",
       "  'text_sec': \"As you plan for the future , you'll want to think about what your family would need if you should die now. Social Security can help your family if you have earned enough Social Security credits through your work. \",\n",
       "  'end_sec': 274},\n",
       " '3': {'id_sp': '3',\n",
       "  'tag': 'u',\n",
       "  'start_sp': 90,\n",
       "  'end_sp': 168,\n",
       "  'text_sp': \"you'll want to think about what your family would need if you should die now. \",\n",
       "  'title': 'Benefits Planner: Survivors | Planning For Your Survivors',\n",
       "  'parent_titles': [],\n",
       "  'id_sec': '1',\n",
       "  'start_sec': 61,\n",
       "  'text_sec': \"As you plan for the future , you'll want to think about what your family would need if you should die now. Social Security can help your family if you have earned enough Social Security credits through your work. \",\n",
       "  'end_sec': 274},\n",
       " '4': {'id_sp': '4',\n",
       "  'tag': 'u',\n",
       "  'start_sp': 168,\n",
       "  'end_sp': 274,\n",
       "  'text_sp': 'Social Security can help your family if you have earned enough Social Security credits through your work. ',\n",
       "  'title': 'Benefits Planner: Survivors | Planning For Your Survivors',\n",
       "  'parent_titles': [],\n",
       "  'id_sec': '1',\n",
       "  'start_sec': 61,\n",
       "  'text_sec': \"As you plan for the future , you'll want to think about what your family would need if you should die now. Social Security can help your family if you have earned enough Social Security credits through your work. \",\n",
       "  'end_sec': 274},\n",
       " '5': {'id_sp': '5',\n",
       "  'tag': 'u',\n",
       "  'start_sp': 274,\n",
       "  'end_sp': 317,\n",
       "  'text_sp': 'You can earn up to four credits each year. ',\n",
       "  'title': 'Benefits Planner: Survivors | Planning For Your Survivors',\n",
       "  'parent_titles': [],\n",
       "  'id_sec': '2',\n",
       "  'start_sec': 274,\n",
       "  'text_sec': 'You can earn up to four credits each year. In 2019 , for example , you earn one credit for each $1,360 of wages or self - employment income. When you have earned $5,440 , you have earned your four credits for the year. ',\n",
       "  'end_sec': 493},\n",
       " '6': {'id_sp': '6',\n",
       "  'tag': 'u',\n",
       "  'start_sp': 317,\n",
       "  'end_sp': 327,\n",
       "  'text_sp': 'In 2019 , ',\n",
       "  'title': 'Benefits Planner: Survivors | Planning For Your Survivors',\n",
       "  'parent_titles': [],\n",
       "  'id_sec': '2',\n",
       "  'start_sec': 274,\n",
       "  'text_sec': 'You can earn up to four credits each year. In 2019 , for example , you earn one credit for each $1,360 of wages or self - employment income. When you have earned $5,440 , you have earned your four credits for the year. ',\n",
       "  'end_sec': 493},\n",
       " '7': {'id_sp': '7',\n",
       "  'tag': 'u',\n",
       "  'start_sp': 327,\n",
       "  'end_sp': 341,\n",
       "  'text_sp': 'for example , ',\n",
       "  'title': 'Benefits Planner: Survivors | Planning For Your Survivors',\n",
       "  'parent_titles': [],\n",
       "  'id_sec': '2',\n",
       "  'start_sec': 274,\n",
       "  'text_sec': 'You can earn up to four credits each year. In 2019 , for example , you earn one credit for each $1,360 of wages or self - employment income. When you have earned $5,440 , you have earned your four credits for the year. ',\n",
       "  'end_sec': 493},\n",
       " '8': {'id_sp': '8',\n",
       "  'tag': 'u',\n",
       "  'start_sp': 341,\n",
       "  'end_sp': 415,\n",
       "  'text_sp': 'you earn one credit for each $1,360 of wages or self - employment income. ',\n",
       "  'title': 'Benefits Planner: Survivors | Planning For Your Survivors',\n",
       "  'parent_titles': [],\n",
       "  'id_sec': '2',\n",
       "  'start_sec': 274,\n",
       "  'text_sec': 'You can earn up to four credits each year. In 2019 , for example , you earn one credit for each $1,360 of wages or self - employment income. When you have earned $5,440 , you have earned your four credits for the year. ',\n",
       "  'end_sec': 493},\n",
       " '9': {'id_sp': '9',\n",
       "  'tag': 'u',\n",
       "  'start_sp': 415,\n",
       "  'end_sp': 445,\n",
       "  'text_sp': 'When you have earned $5,440 , ',\n",
       "  'title': 'Benefits Planner: Survivors | Planning For Your Survivors',\n",
       "  'parent_titles': [],\n",
       "  'id_sec': '2',\n",
       "  'start_sec': 274,\n",
       "  'text_sec': 'You can earn up to four credits each year. In 2019 , for example , you earn one credit for each $1,360 of wages or self - employment income. When you have earned $5,440 , you have earned your four credits for the year. ',\n",
       "  'end_sec': 493},\n",
       " '10': {'id_sp': '10',\n",
       "  'tag': 'u',\n",
       "  'start_sp': 445,\n",
       "  'end_sp': 493,\n",
       "  'text_sp': 'you have earned your four credits for the year. ',\n",
       "  'title': 'Benefits Planner: Survivors | Planning For Your Survivors',\n",
       "  'parent_titles': [],\n",
       "  'id_sec': '2',\n",
       "  'start_sec': 274,\n",
       "  'text_sec': 'You can earn up to four credits each year. In 2019 , for example , you earn one credit for each $1,360 of wages or self - employment income. When you have earned $5,440 , you have earned your four credits for the year. ',\n",
       "  'end_sec': 493},\n",
       " '11': {'id_sp': '11',\n",
       "  'tag': 'u',\n",
       "  'start_sp': 493,\n",
       "  'end_sp': 595,\n",
       "  'text_sp': 'The number of credits needed to provide benefits for your survivors depends on your age when you die. ',\n",
       "  'title': 'Benefits Planner: Survivors | Planning For Your Survivors',\n",
       "  'parent_titles': [],\n",
       "  'id_sec': '3',\n",
       "  'start_sec': 493,\n",
       "  'text_sec': 'The number of credits needed to provide benefits for your survivors depends on your age when you die. No one needs more than 40 credits 10 years of work to be eligible for any Social Security benefit. But , the younger a person is , the fewer credits they must have for family members to receive survivors benefits. ',\n",
       "  'end_sec': 809},\n",
       " '12': {'id_sp': '12',\n",
       "  'tag': 'u',\n",
       "  'start_sp': 595,\n",
       "  'end_sp': 694,\n",
       "  'text_sp': 'No one needs more than 40 credits 10 years of work to be eligible for any Social Security benefit. ',\n",
       "  'title': 'Benefits Planner: Survivors | Planning For Your Survivors',\n",
       "  'parent_titles': [],\n",
       "  'id_sec': '3',\n",
       "  'start_sec': 493,\n",
       "  'text_sec': 'The number of credits needed to provide benefits for your survivors depends on your age when you die. No one needs more than 40 credits 10 years of work to be eligible for any Social Security benefit. But , the younger a person is , the fewer credits they must have for family members to receive survivors benefits. ',\n",
       "  'end_sec': 809},\n",
       " '13': {'id_sp': '13',\n",
       "  'tag': 'u',\n",
       "  'start_sp': 694,\n",
       "  'end_sp': 700,\n",
       "  'text_sp': 'But , ',\n",
       "  'title': 'Benefits Planner: Survivors | Planning For Your Survivors',\n",
       "  'parent_titles': [],\n",
       "  'id_sec': '3',\n",
       "  'start_sec': 493,\n",
       "  'text_sec': 'The number of credits needed to provide benefits for your survivors depends on your age when you die. No one needs more than 40 credits 10 years of work to be eligible for any Social Security benefit. But , the younger a person is , the fewer credits they must have for family members to receive survivors benefits. ',\n",
       "  'end_sec': 809},\n",
       " '14': {'id_sp': '14',\n",
       "  'tag': 'u',\n",
       "  'start_sp': 700,\n",
       "  'end_sp': 726,\n",
       "  'text_sp': 'the younger a person is , ',\n",
       "  'title': 'Benefits Planner: Survivors | Planning For Your Survivors',\n",
       "  'parent_titles': [],\n",
       "  'id_sec': '3',\n",
       "  'start_sec': 493,\n",
       "  'text_sec': 'The number of credits needed to provide benefits for your survivors depends on your age when you die. No one needs more than 40 credits 10 years of work to be eligible for any Social Security benefit. But , the younger a person is , the fewer credits they must have for family members to receive survivors benefits. ',\n",
       "  'end_sec': 809},\n",
       " '15': {'id_sp': '15',\n",
       "  'tag': 'u',\n",
       "  'start_sp': 726,\n",
       "  'end_sp': 809,\n",
       "  'text_sp': 'the fewer credits they must have for family members to receive survivors benefits. ',\n",
       "  'title': 'Benefits Planner: Survivors | Planning For Your Survivors',\n",
       "  'parent_titles': [],\n",
       "  'id_sec': '3',\n",
       "  'start_sec': 493,\n",
       "  'text_sec': 'The number of credits needed to provide benefits for your survivors depends on your age when you die. No one needs more than 40 credits 10 years of work to be eligible for any Social Security benefit. But , the younger a person is , the fewer credits they must have for family members to receive survivors benefits. ',\n",
       "  'end_sec': 809},\n",
       " '16': {'id_sp': '16',\n",
       "  'tag': 'u',\n",
       "  'start_sp': 809,\n",
       "  'end_sp': 949,\n",
       "  'text_sp': \"Benefits can be paid to your children and your spouse who is caring for the children even if you don't have the required number of credits. \",\n",
       "  'title': 'Benefits Planner: Survivors | Planning For Your Survivors',\n",
       "  'parent_titles': [],\n",
       "  'id_sec': '4',\n",
       "  'start_sec': 809,\n",
       "  'text_sec': \"Benefits can be paid to your children and your spouse who is caring for the children even if you don't have the required number of credits. They can get benefits if you have credit for one and one - half years of work 6 credits in the three years just before your death. \",\n",
       "  'end_sec': 1080},\n",
       " '17': {'id_sp': '17',\n",
       "  'tag': 'u',\n",
       "  'start_sp': 949,\n",
       "  'end_sp': 1080,\n",
       "  'text_sp': 'They can get benefits if you have credit for one and one - half years of work 6 credits in the three years just before your death. ',\n",
       "  'title': 'Benefits Planner: Survivors | Planning For Your Survivors',\n",
       "  'parent_titles': [],\n",
       "  'id_sec': '4',\n",
       "  'start_sec': 809,\n",
       "  'text_sec': \"Benefits can be paid to your children and your spouse who is caring for the children even if you don't have the required number of credits. They can get benefits if you have credit for one and one - half years of work 6 credits in the three years just before your death. \",\n",
       "  'end_sec': 1080},\n",
       " '18': {'id_sp': '18',\n",
       "  'tag': 'h3',\n",
       "  'start_sp': 1080,\n",
       "  'end_sp': 1109,\n",
       "  'text_sp': '\\n\\nFor Your Widow Or Widower \\n',\n",
       "  'title': 'For Your Widow Or Widower',\n",
       "  'parent_titles': [{'id_sp': '1',\n",
       "    'text': 'Benefits Planner: Survivors | Planning For Your Survivors',\n",
       "    'level': 'h2'}],\n",
       "  'id_sec': 't_5',\n",
       "  'start_sec': 1080,\n",
       "  'end_sec': 1109,\n",
       "  'text_sec': '\\n\\nFor Your Widow Or Widower \\n'},\n",
       " '19': {'id_sp': '19',\n",
       "  'tag': 'u',\n",
       "  'start_sp': 1109,\n",
       "  'end_sp': 1251,\n",
       "  'text_sp': \"There are about five million widows and widowers receiving monthly Social Security benefits based on their deceased spouse's earnings record. \",\n",
       "  'title': 'For Your Widow Or Widower',\n",
       "  'parent_titles': [],\n",
       "  'id_sec': '5',\n",
       "  'start_sec': 1109,\n",
       "  'text_sec': \"There are about five million widows and widowers receiving monthly Social Security benefits based on their deceased spouse's earnings record. And , for many of those survivors, particularly aged women, those benefits are keeping them out of poverty. \",\n",
       "  'end_sec': 1359},\n",
       " '20': {'id_sp': '20',\n",
       "  'tag': 'u',\n",
       "  'start_sp': 1251,\n",
       "  'end_sp': 1257,\n",
       "  'text_sp': 'And , ',\n",
       "  'title': 'For Your Widow Or Widower',\n",
       "  'parent_titles': [],\n",
       "  'id_sec': '5',\n",
       "  'start_sec': 1109,\n",
       "  'text_sec': \"There are about five million widows and widowers receiving monthly Social Security benefits based on their deceased spouse's earnings record. And , for many of those survivors, particularly aged women, those benefits are keeping them out of poverty. \",\n",
       "  'end_sec': 1359},\n",
       " '21': {'id_sp': '21',\n",
       "  'tag': 'u',\n",
       "  'start_sp': 1257,\n",
       "  'end_sp': 1359,\n",
       "  'text_sp': 'for many of those survivors, particularly aged women, those benefits are keeping them out of poverty. ',\n",
       "  'title': 'For Your Widow Or Widower',\n",
       "  'parent_titles': [],\n",
       "  'id_sec': '5',\n",
       "  'start_sec': 1109,\n",
       "  'text_sec': \"There are about five million widows and widowers receiving monthly Social Security benefits based on their deceased spouse's earnings record. And , for many of those survivors, particularly aged women, those benefits are keeping them out of poverty. \",\n",
       "  'end_sec': 1359},\n",
       " '22': {'id_sp': '22',\n",
       "  'tag': 'u',\n",
       "  'start_sp': 1359,\n",
       "  'end_sp': 1393,\n",
       "  'text_sp': 'Widows and widowers can receive : ',\n",
       "  'title': 'For Your Widow Or Widower',\n",
       "  'parent_titles': [],\n",
       "  'id_sec': '6',\n",
       "  'start_sec': 1359,\n",
       "  'text_sec': \"Widows and widowers can receive : reduced benefits as early as age 60 or full benefits at full retirement age or older. benefits as early as age 50 if they're disabled AND their disability started before or within seven years of your death. benefits at any age , if they have not remarried , and if they take care of your child who is under age 16 or disabled and receives benefits on your record. \",\n",
       "  'end_sec': 1757},\n",
       " '23': {'id_sp': '23',\n",
       "  'tag': 'u',\n",
       "  'start_sp': 1393,\n",
       "  'end_sp': 1479,\n",
       "  'text_sp': 'reduced benefits as early as age 60 or full benefits at full retirement age or older. ',\n",
       "  'title': 'For Your Widow Or Widower',\n",
       "  'parent_titles': [],\n",
       "  'id_sec': '6',\n",
       "  'start_sec': 1359,\n",
       "  'text_sec': \"Widows and widowers can receive : reduced benefits as early as age 60 or full benefits at full retirement age or older. benefits as early as age 50 if they're disabled AND their disability started before or within seven years of your death. benefits at any age , if they have not remarried , and if they take care of your child who is under age 16 or disabled and receives benefits on your record. \",\n",
       "  'end_sec': 1757},\n",
       " '24': {'id_sp': '24',\n",
       "  'tag': 'u',\n",
       "  'start_sp': 1479,\n",
       "  'end_sp': 1600,\n",
       "  'text_sp': \"benefits as early as age 50 if they're disabled AND their disability started before or within seven years of your death. \",\n",
       "  'title': 'For Your Widow Or Widower',\n",
       "  'parent_titles': [],\n",
       "  'id_sec': '6',\n",
       "  'start_sec': 1359,\n",
       "  'text_sec': \"Widows and widowers can receive : reduced benefits as early as age 60 or full benefits at full retirement age or older. benefits as early as age 50 if they're disabled AND their disability started before or within seven years of your death. benefits at any age , if they have not remarried , and if they take care of your child who is under age 16 or disabled and receives benefits on your record. \",\n",
       "  'end_sec': 1757},\n",
       " '25': {'id_sp': '25',\n",
       "  'tag': 'u',\n",
       "  'start_sp': 1600,\n",
       "  'end_sp': 1622,\n",
       "  'text_sp': 'benefits at any age , ',\n",
       "  'title': 'For Your Widow Or Widower',\n",
       "  'parent_titles': [],\n",
       "  'id_sec': '6',\n",
       "  'start_sec': 1359,\n",
       "  'text_sec': \"Widows and widowers can receive : reduced benefits as early as age 60 or full benefits at full retirement age or older. benefits as early as age 50 if they're disabled AND their disability started before or within seven years of your death. benefits at any age , if they have not remarried , and if they take care of your child who is under age 16 or disabled and receives benefits on your record. \",\n",
       "  'end_sec': 1757},\n",
       " '26': {'id_sp': '26',\n",
       "  'tag': 'u',\n",
       "  'start_sp': 1622,\n",
       "  'end_sp': 1651,\n",
       "  'text_sp': 'if they have not remarried , ',\n",
       "  'title': 'For Your Widow Or Widower',\n",
       "  'parent_titles': [],\n",
       "  'id_sec': '6',\n",
       "  'start_sec': 1359,\n",
       "  'text_sec': \"Widows and widowers can receive : reduced benefits as early as age 60 or full benefits at full retirement age or older. benefits as early as age 50 if they're disabled AND their disability started before or within seven years of your death. benefits at any age , if they have not remarried , and if they take care of your child who is under age 16 or disabled and receives benefits on your record. \",\n",
       "  'end_sec': 1757},\n",
       " '27': {'id_sp': '27',\n",
       "  'tag': 'u',\n",
       "  'start_sp': 1651,\n",
       "  'end_sp': 1757,\n",
       "  'text_sp': 'and if they take care of your child who is under age 16 or disabled and receives benefits on your record. ',\n",
       "  'title': 'For Your Widow Or Widower',\n",
       "  'parent_titles': [],\n",
       "  'id_sec': '6',\n",
       "  'start_sec': 1359,\n",
       "  'text_sec': \"Widows and widowers can receive : reduced benefits as early as age 60 or full benefits at full retirement age or older. benefits as early as age 50 if they're disabled AND their disability started before or within seven years of your death. benefits at any age , if they have not remarried , and if they take care of your child who is under age 16 or disabled and receives benefits on your record. \",\n",
       "  'end_sec': 1757},\n",
       " '28': {'id_sp': '28',\n",
       "  'tag': 'u',\n",
       "  'start_sp': 1757,\n",
       "  'end_sp': 1825,\n",
       "  'text_sp': 'If applying for disability benefits on a deceased worker s record , ',\n",
       "  'title': 'For Your Widow Or Widower',\n",
       "  'parent_titles': [],\n",
       "  'id_sec': '7',\n",
       "  'start_sec': 1757,\n",
       "  'text_sec': 'If applying for disability benefits on a deceased worker s record , they can speed up the application process if they complete an Adult Disability Report and have it available at the time of their appointment. ',\n",
       "  'end_sec': 1967},\n",
       " '29': {'id_sp': '29',\n",
       "  'tag': 'u',\n",
       "  'start_sp': 1825,\n",
       "  'end_sp': 1967,\n",
       "  'text_sp': 'they can speed up the application process if they complete an Adult Disability Report and have it available at the time of their appointment. ',\n",
       "  'title': 'For Your Widow Or Widower',\n",
       "  'parent_titles': [],\n",
       "  'id_sec': '7',\n",
       "  'start_sec': 1757,\n",
       "  'text_sec': 'If applying for disability benefits on a deceased worker s record , they can speed up the application process if they complete an Adult Disability Report and have it available at the time of their appointment. ',\n",
       "  'end_sec': 1967},\n",
       " '30': {'id_sp': '30',\n",
       "  'tag': 'u',\n",
       "  'start_sp': 1967,\n",
       "  'end_sp': 2054,\n",
       "  'text_sp': 'We use the same definition of disability for widows and widowers as we do for workers. ',\n",
       "  'title': 'For Your Widow Or Widower',\n",
       "  'parent_titles': [],\n",
       "  'id_sec': '8',\n",
       "  'start_sec': 1967,\n",
       "  'text_sec': 'We use the same definition of disability for widows and widowers as we do for workers. ',\n",
       "  'end_sec': 2054},\n",
       " '31': {'id_sp': '31',\n",
       "  'tag': 'h3',\n",
       "  'start_sp': 2054,\n",
       "  'end_sp': 2092,\n",
       "  'text_sp': '\\n\\nFor Your Surviving Divorced Spouse \\n',\n",
       "  'title': 'For Your Surviving Divorced Spouse',\n",
       "  'parent_titles': [{'id_sp': '1',\n",
       "    'text': 'Benefits Planner: Survivors | Planning For Your Survivors',\n",
       "    'level': 'h2'}],\n",
       "  'id_sec': 't_8',\n",
       "  'start_sec': 2054,\n",
       "  'end_sec': 2092,\n",
       "  'text_sec': '\\n\\nFor Your Surviving Divorced Spouse \\n'},\n",
       " '32': {'id_sp': '32',\n",
       "  'tag': 'u',\n",
       "  'start_sp': 2092,\n",
       "  'end_sp': 2134,\n",
       "  'text_sp': 'If you have a surviving divorced spouse , ',\n",
       "  'title': 'For Your Surviving Divorced Spouse',\n",
       "  'parent_titles': [],\n",
       "  'id_sec': '9',\n",
       "  'start_sec': 2092,\n",
       "  'text_sec': 'If you have a surviving divorced spouse , they could get the same benefits as your widow or widower provided that your marriage lasted 10 years or more. ',\n",
       "  'end_sec': 2245},\n",
       " '33': {'id_sp': '33',\n",
       "  'tag': 'u',\n",
       "  'start_sp': 2134,\n",
       "  'end_sp': 2245,\n",
       "  'text_sp': 'they could get the same benefits as your widow or widower provided that your marriage lasted 10 years or more. ',\n",
       "  'title': 'For Your Surviving Divorced Spouse',\n",
       "  'parent_titles': [],\n",
       "  'id_sec': '9',\n",
       "  'start_sec': 2092,\n",
       "  'text_sec': 'If you have a surviving divorced spouse , they could get the same benefits as your widow or widower provided that your marriage lasted 10 years or more. ',\n",
       "  'end_sec': 2245},\n",
       " '34': {'id_sp': '34',\n",
       "  'tag': 'u',\n",
       "  'start_sp': 2245,\n",
       "  'end_sp': 2388,\n",
       "  'text_sp': \"Benefits paid to a surviving divorced spouse won't affect the benefit amounts your other survivors will receive based on your earnings record. \",\n",
       "  'title': 'For Your Surviving Divorced Spouse',\n",
       "  'parent_titles': [],\n",
       "  'id_sec': '10',\n",
       "  'start_sec': 2245,\n",
       "  'text_sec': \"Benefits paid to a surviving divorced spouse won't affect the benefit amounts your other survivors will receive based on your earnings record. \",\n",
       "  'end_sec': 2388},\n",
       " '35': {'id_sp': '35',\n",
       "  'tag': 'u',\n",
       "  'start_sp': 2388,\n",
       "  'end_sp': 2502,\n",
       "  'text_sp': 'If your former spouse is caring for your child who is under age 16 or disabled and gets benefits on your record , ',\n",
       "  'title': 'For Your Surviving Divorced Spouse',\n",
       "  'parent_titles': [],\n",
       "  'id_sec': '11',\n",
       "  'start_sec': 2388,\n",
       "  'text_sec': 'If your former spouse is caring for your child who is under age 16 or disabled and gets benefits on your record , they will not have to meet the length - of - marriage rule. The child must be your natural or legally adopted child. ',\n",
       "  'end_sec': 2619},\n",
       " '36': {'id_sp': '36',\n",
       "  'tag': 'u',\n",
       "  'start_sp': 2502,\n",
       "  'end_sp': 2562,\n",
       "  'text_sp': 'they will not have to meet the length - of - marriage rule. ',\n",
       "  'title': 'For Your Surviving Divorced Spouse',\n",
       "  'parent_titles': [],\n",
       "  'id_sec': '11',\n",
       "  'start_sec': 2388,\n",
       "  'text_sec': 'If your former spouse is caring for your child who is under age 16 or disabled and gets benefits on your record , they will not have to meet the length - of - marriage rule. The child must be your natural or legally adopted child. ',\n",
       "  'end_sec': 2619},\n",
       " '37': {'id_sp': '37',\n",
       "  'tag': 'u',\n",
       "  'start_sp': 2562,\n",
       "  'end_sp': 2619,\n",
       "  'text_sp': 'The child must be your natural or legally adopted child. ',\n",
       "  'title': 'For Your Surviving Divorced Spouse',\n",
       "  'parent_titles': [],\n",
       "  'id_sec': '11',\n",
       "  'start_sec': 2388,\n",
       "  'text_sec': 'If your former spouse is caring for your child who is under age 16 or disabled and gets benefits on your record , they will not have to meet the length - of - marriage rule. The child must be your natural or legally adopted child. ',\n",
       "  'end_sec': 2619},\n",
       " '38': {'id_sp': '38',\n",
       "  'tag': 'h3',\n",
       "  'start_sp': 2619,\n",
       "  'end_sp': 2640,\n",
       "  'text_sp': '\\n\\nFor Your Children \\n',\n",
       "  'title': 'For Your Children',\n",
       "  'parent_titles': [{'id_sp': '1',\n",
       "    'text': 'Benefits Planner: Survivors | Planning For Your Survivors',\n",
       "    'level': 'h2'}],\n",
       "  'id_sec': 't_12',\n",
       "  'start_sec': 2619,\n",
       "  'end_sec': 2640,\n",
       "  'text_sec': '\\n\\nFor Your Children \\n'},\n",
       " '39': {'id_sp': '39',\n",
       "  'tag': 'u',\n",
       "  'start_sp': 2640,\n",
       "  'end_sp': 2814,\n",
       "  'text_sp': 'Your unmarried children who are under 18 up to age 19 if attending elementary or secondary school full time can be eligible to receive Social Security benefits when you die. ',\n",
       "  'title': 'For Your Children',\n",
       "  'parent_titles': [],\n",
       "  'id_sec': '12',\n",
       "  'start_sec': 2640,\n",
       "  'text_sec': 'Your unmarried children who are under 18 up to age 19 if attending elementary or secondary school full time can be eligible to receive Social Security benefits when you die. ',\n",
       "  'end_sec': 2814},\n",
       " '40': {'id_sp': '40',\n",
       "  'tag': 'u',\n",
       "  'start_sp': 2814,\n",
       "  'end_sp': 2914,\n",
       "  'text_sp': 'And your child can get benefits at any age if they were disabled before age 22 and remain disabled. ',\n",
       "  'title': 'For Your Children',\n",
       "  'parent_titles': [],\n",
       "  'id_sec': '13',\n",
       "  'start_sec': 2814,\n",
       "  'text_sec': 'And your child can get benefits at any age if they were disabled before age 22 and remain disabled. ',\n",
       "  'end_sec': 2914},\n",
       " '41': {'id_sp': '41',\n",
       "  'tag': 'u',\n",
       "  'start_sp': 2914,\n",
       "  'end_sp': 2946,\n",
       "  'text_sp': 'Besides your natural children , ',\n",
       "  'title': 'For Your Children',\n",
       "  'parent_titles': [],\n",
       "  'id_sec': '14',\n",
       "  'start_sec': 2914,\n",
       "  'text_sec': 'Besides your natural children , your stepchildren, grandchildren, step grandchildren or adopted children may receive benefits under certain circumstances. For further information , view our publication. ',\n",
       "  'end_sec': 3117},\n",
       " '42': {'id_sp': '42',\n",
       "  'tag': 'u',\n",
       "  'start_sp': 2946,\n",
       "  'end_sp': 3069,\n",
       "  'text_sp': 'your stepchildren, grandchildren, step grandchildren or adopted children may receive benefits under certain circumstances. ',\n",
       "  'title': 'For Your Children',\n",
       "  'parent_titles': [],\n",
       "  'id_sec': '14',\n",
       "  'start_sec': 2914,\n",
       "  'text_sec': 'Besides your natural children , your stepchildren, grandchildren, step grandchildren or adopted children may receive benefits under certain circumstances. For further information , view our publication. ',\n",
       "  'end_sec': 3117},\n",
       " '43': {'id_sp': '43',\n",
       "  'tag': 'u',\n",
       "  'start_sp': 3069,\n",
       "  'end_sp': 3095,\n",
       "  'text_sp': 'For further information , ',\n",
       "  'title': 'For Your Children',\n",
       "  'parent_titles': [],\n",
       "  'id_sec': '14',\n",
       "  'start_sec': 2914,\n",
       "  'text_sec': 'Besides your natural children , your stepchildren, grandchildren, step grandchildren or adopted children may receive benefits under certain circumstances. For further information , view our publication. ',\n",
       "  'end_sec': 3117},\n",
       " '44': {'id_sp': '44',\n",
       "  'tag': 'u',\n",
       "  'start_sp': 3095,\n",
       "  'end_sp': 3117,\n",
       "  'text_sp': 'view our publication. ',\n",
       "  'title': 'For Your Children',\n",
       "  'parent_titles': [],\n",
       "  'id_sec': '14',\n",
       "  'start_sec': 2914,\n",
       "  'text_sec': 'Besides your natural children , your stepchildren, grandchildren, step grandchildren or adopted children may receive benefits under certain circumstances. For further information , view our publication. ',\n",
       "  'end_sec': 3117},\n",
       " '45': {'id_sp': '45',\n",
       "  'tag': 'h3',\n",
       "  'start_sp': 3117,\n",
       "  'end_sp': 3137,\n",
       "  'text_sp': '\\n\\nFor Your Parents \\n',\n",
       "  'title': 'For Your Parents',\n",
       "  'parent_titles': [{'id_sp': '1',\n",
       "    'text': 'Benefits Planner: Survivors | Planning For Your Survivors',\n",
       "    'level': 'h2'}],\n",
       "  'id_sec': 't_15',\n",
       "  'start_sec': 3117,\n",
       "  'end_sec': 3137,\n",
       "  'text_sec': '\\n\\nFor Your Parents \\n'},\n",
       " '46': {'id_sp': '46',\n",
       "  'tag': 'u',\n",
       "  'start_sp': 3137,\n",
       "  'end_sp': 3335,\n",
       "  'text_sp': 'You must have been providing at least half of your parent s support and your parent must not be eligible to receive a retirement benefit that is higher than the benefit we could pay on your record. ',\n",
       "  'title': 'For Your Parents',\n",
       "  'parent_titles': [],\n",
       "  'id_sec': '15',\n",
       "  'start_sec': 3137,\n",
       "  'text_sec': 'You must have been providing at least half of your parent s support and your parent must not be eligible to receive a retirement benefit that is higher than the benefit we could pay on your record. Generally, your parent also must not have married after your death ; however, there are some exceptions. ',\n",
       "  'end_sec': 3440},\n",
       " '47': {'id_sp': '47',\n",
       "  'tag': 'u',\n",
       "  'start_sp': 3335,\n",
       "  'end_sp': 3404,\n",
       "  'text_sp': 'Generally, your parent also must not have married after your death ; ',\n",
       "  'title': 'For Your Parents',\n",
       "  'parent_titles': [],\n",
       "  'id_sec': '15',\n",
       "  'start_sec': 3137,\n",
       "  'text_sec': 'You must have been providing at least half of your parent s support and your parent must not be eligible to receive a retirement benefit that is higher than the benefit we could pay on your record. Generally, your parent also must not have married after your death ; however, there are some exceptions. ',\n",
       "  'end_sec': 3440},\n",
       " '48': {'id_sp': '48',\n",
       "  'tag': 'u',\n",
       "  'start_sp': 3404,\n",
       "  'end_sp': 3440,\n",
       "  'text_sp': 'however, there are some exceptions. ',\n",
       "  'title': 'For Your Parents',\n",
       "  'parent_titles': [],\n",
       "  'id_sec': '15',\n",
       "  'start_sec': 3137,\n",
       "  'text_sec': 'You must have been providing at least half of your parent s support and your parent must not be eligible to receive a retirement benefit that is higher than the benefit we could pay on your record. Generally, your parent also must not have married after your death ; however, there are some exceptions. ',\n",
       "  'end_sec': 3440},\n",
       " '49': {'id_sp': '49',\n",
       "  'tag': 'u',\n",
       "  'start_sp': 3440,\n",
       "  'end_sp': 3477,\n",
       "  'text_sp': 'In addition to your natural parent , ',\n",
       "  'title': 'For Your Parents',\n",
       "  'parent_titles': [],\n",
       "  'id_sec': '16',\n",
       "  'start_sec': 3440,\n",
       "  'text_sec': 'In addition to your natural parent , your stepparent or adoptive parent may receive benefits if they became your parent before you were age 16. ',\n",
       "  'end_sec': 3584},\n",
       " '50': {'id_sp': '50',\n",
       "  'tag': 'u',\n",
       "  'start_sp': 3477,\n",
       "  'end_sp': 3584,\n",
       "  'text_sp': 'your stepparent or adoptive parent may receive benefits if they became your parent before you were age 16. ',\n",
       "  'title': 'For Your Parents',\n",
       "  'parent_titles': [],\n",
       "  'id_sec': '16',\n",
       "  'start_sec': 3440,\n",
       "  'text_sec': 'In addition to your natural parent , your stepparent or adoptive parent may receive benefits if they became your parent before you were age 16. ',\n",
       "  'end_sec': 3584},\n",
       " '51': {'id_sp': '51',\n",
       "  'tag': 'h3',\n",
       "  'start_sp': 3584,\n",
       "  'end_sp': 3625,\n",
       "  'text_sp': '\\n\\nHow Much Would Your Survivors Receive \\n',\n",
       "  'title': 'How Much Would Your Survivors Receive',\n",
       "  'parent_titles': [{'id_sp': '1',\n",
       "    'text': 'Benefits Planner: Survivors | Planning For Your Survivors',\n",
       "    'level': 'h2'}],\n",
       "  'id_sec': 't_17',\n",
       "  'start_sec': 3584,\n",
       "  'end_sec': 3625,\n",
       "  'text_sec': '\\n\\nHow Much Would Your Survivors Receive \\n'},\n",
       " '52': {'id_sp': '52',\n",
       "  'tag': 'u',\n",
       "  'start_sp': 3625,\n",
       "  'end_sp': 3672,\n",
       "  'text_sp': 'How much your family could receive in benefits ',\n",
       "  'title': 'How Much Would Your Survivors Receive',\n",
       "  'parent_titles': [],\n",
       "  'id_sec': '17',\n",
       "  'start_sec': 3625,\n",
       "  'text_sec': 'How much your family could receive in benefits depends on your average lifetime earnings. The higher your earnings were , the higher their benefits would be. We calculate a basic amount as if you had reached full retirement age at the time you die. ',\n",
       "  'end_sec': 3874},\n",
       " '53': {'id_sp': '53',\n",
       "  'tag': 'u',\n",
       "  'start_sp': 3672,\n",
       "  'end_sp': 3715,\n",
       "  'text_sp': 'depends on your average lifetime earnings. ',\n",
       "  'title': 'How Much Would Your Survivors Receive',\n",
       "  'parent_titles': [],\n",
       "  'id_sec': '17',\n",
       "  'start_sec': 3625,\n",
       "  'text_sec': 'How much your family could receive in benefits depends on your average lifetime earnings. The higher your earnings were , the higher their benefits would be. We calculate a basic amount as if you had reached full retirement age at the time you die. ',\n",
       "  'end_sec': 3874},\n",
       " '54': {'id_sp': '54',\n",
       "  'tag': 'u',\n",
       "  'start_sp': 3715,\n",
       "  'end_sp': 3747,\n",
       "  'text_sp': 'The higher your earnings were , ',\n",
       "  'title': 'How Much Would Your Survivors Receive',\n",
       "  'parent_titles': [],\n",
       "  'id_sec': '17',\n",
       "  'start_sec': 3625,\n",
       "  'text_sec': 'How much your family could receive in benefits depends on your average lifetime earnings. The higher your earnings were , the higher their benefits would be. We calculate a basic amount as if you had reached full retirement age at the time you die. ',\n",
       "  'end_sec': 3874},\n",
       " '55': {'id_sp': '55',\n",
       "  'tag': 'u',\n",
       "  'start_sp': 3747,\n",
       "  'end_sp': 3783,\n",
       "  'text_sp': 'the higher their benefits would be. ',\n",
       "  'title': 'How Much Would Your Survivors Receive',\n",
       "  'parent_titles': [],\n",
       "  'id_sec': '17',\n",
       "  'start_sec': 3625,\n",
       "  'text_sec': 'How much your family could receive in benefits depends on your average lifetime earnings. The higher your earnings were , the higher their benefits would be. We calculate a basic amount as if you had reached full retirement age at the time you die. ',\n",
       "  'end_sec': 3874},\n",
       " '56': {'id_sp': '56',\n",
       "  'tag': 'u',\n",
       "  'start_sp': 3783,\n",
       "  'end_sp': 3874,\n",
       "  'text_sp': 'We calculate a basic amount as if you had reached full retirement age at the time you die. ',\n",
       "  'title': 'How Much Would Your Survivors Receive',\n",
       "  'parent_titles': [],\n",
       "  'id_sec': '17',\n",
       "  'start_sec': 3625,\n",
       "  'text_sec': 'How much your family could receive in benefits depends on your average lifetime earnings. The higher your earnings were , the higher their benefits would be. We calculate a basic amount as if you had reached full retirement age at the time you die. ',\n",
       "  'end_sec': 3874},\n",
       " '57': {'id_sp': '57',\n",
       "  'tag': 'u',\n",
       "  'start_sp': 3874,\n",
       "  'end_sp': 3923,\n",
       "  'text_sp': 'These are examples of monthly benefit payments : ',\n",
       "  'title': 'How Much Would Your Survivors Receive',\n",
       "  'parent_titles': [],\n",
       "  'id_sec': '18',\n",
       "  'start_sec': 3874,\n",
       "  'text_sec': 'These are examples of monthly benefit payments : Widow or widower, full retirement age or older 100 percent of your benefit amount ; Widow or widower , age 60 to full retirement age 71 to 99 percent of your basic amount ; Disabled widow or widower , age 50 through 59 71 percent ; Widow or widower , any age, caring for a child under age 16 75 percent ; A child under age 18 19 if still in elementary or secondary school or disabled 75 percent ; and Your dependent parent , age 62 or older : One surviving parent 82 percent. Two surviving parents 75 percent to each parent. ',\n",
       "  'end_sec': 4448},\n",
       " '58': {'id_sp': '58',\n",
       "  'tag': 'u',\n",
       "  'start_sp': 3923,\n",
       "  'end_sp': 4007,\n",
       "  'text_sp': 'Widow or widower, full retirement age or older 100 percent of your benefit amount ; ',\n",
       "  'title': 'How Much Would Your Survivors Receive',\n",
       "  'parent_titles': [],\n",
       "  'id_sec': '18',\n",
       "  'start_sec': 3874,\n",
       "  'text_sec': 'These are examples of monthly benefit payments : Widow or widower, full retirement age or older 100 percent of your benefit amount ; Widow or widower , age 60 to full retirement age 71 to 99 percent of your basic amount ; Disabled widow or widower , age 50 through 59 71 percent ; Widow or widower , any age, caring for a child under age 16 75 percent ; A child under age 18 19 if still in elementary or secondary school or disabled 75 percent ; and Your dependent parent , age 62 or older : One surviving parent 82 percent. Two surviving parents 75 percent to each parent. ',\n",
       "  'end_sec': 4448},\n",
       " '59': {'id_sp': '59',\n",
       "  'tag': 'u',\n",
       "  'start_sp': 4007,\n",
       "  'end_sp': 4026,\n",
       "  'text_sp': 'Widow or widower , ',\n",
       "  'title': 'How Much Would Your Survivors Receive',\n",
       "  'parent_titles': [],\n",
       "  'id_sec': '18',\n",
       "  'start_sec': 3874,\n",
       "  'text_sec': 'These are examples of monthly benefit payments : Widow or widower, full retirement age or older 100 percent of your benefit amount ; Widow or widower , age 60 to full retirement age 71 to 99 percent of your basic amount ; Disabled widow or widower , age 50 through 59 71 percent ; Widow or widower , any age, caring for a child under age 16 75 percent ; A child under age 18 19 if still in elementary or secondary school or disabled 75 percent ; and Your dependent parent , age 62 or older : One surviving parent 82 percent. Two surviving parents 75 percent to each parent. ',\n",
       "  'end_sec': 4448},\n",
       " '60': {'id_sp': '60',\n",
       "  'tag': 'u',\n",
       "  'start_sp': 4026,\n",
       "  'end_sp': 4096,\n",
       "  'text_sp': 'age 60 to full retirement age 71 to 99 percent of your basic amount ; ',\n",
       "  'title': 'How Much Would Your Survivors Receive',\n",
       "  'parent_titles': [],\n",
       "  'id_sec': '18',\n",
       "  'start_sec': 3874,\n",
       "  'text_sec': 'These are examples of monthly benefit payments : Widow or widower, full retirement age or older 100 percent of your benefit amount ; Widow or widower , age 60 to full retirement age 71 to 99 percent of your basic amount ; Disabled widow or widower , age 50 through 59 71 percent ; Widow or widower , any age, caring for a child under age 16 75 percent ; A child under age 18 19 if still in elementary or secondary school or disabled 75 percent ; and Your dependent parent , age 62 or older : One surviving parent 82 percent. Two surviving parents 75 percent to each parent. ',\n",
       "  'end_sec': 4448},\n",
       " '61': {'id_sp': '61',\n",
       "  'tag': 'u',\n",
       "  'start_sp': 4096,\n",
       "  'end_sp': 4124,\n",
       "  'text_sp': 'Disabled widow or widower , ',\n",
       "  'title': 'How Much Would Your Survivors Receive',\n",
       "  'parent_titles': [],\n",
       "  'id_sec': '18',\n",
       "  'start_sec': 3874,\n",
       "  'text_sec': 'These are examples of monthly benefit payments : Widow or widower, full retirement age or older 100 percent of your benefit amount ; Widow or widower , age 60 to full retirement age 71 to 99 percent of your basic amount ; Disabled widow or widower , age 50 through 59 71 percent ; Widow or widower , any age, caring for a child under age 16 75 percent ; A child under age 18 19 if still in elementary or secondary school or disabled 75 percent ; and Your dependent parent , age 62 or older : One surviving parent 82 percent. Two surviving parents 75 percent to each parent. ',\n",
       "  'end_sec': 4448},\n",
       " '62': {'id_sp': '62',\n",
       "  'tag': 'u',\n",
       "  'start_sp': 4124,\n",
       "  'end_sp': 4155,\n",
       "  'text_sp': 'age 50 through 59 71 percent ; ',\n",
       "  'title': 'How Much Would Your Survivors Receive',\n",
       "  'parent_titles': [],\n",
       "  'id_sec': '18',\n",
       "  'start_sec': 3874,\n",
       "  'text_sec': 'These are examples of monthly benefit payments : Widow or widower, full retirement age or older 100 percent of your benefit amount ; Widow or widower , age 60 to full retirement age 71 to 99 percent of your basic amount ; Disabled widow or widower , age 50 through 59 71 percent ; Widow or widower , any age, caring for a child under age 16 75 percent ; A child under age 18 19 if still in elementary or secondary school or disabled 75 percent ; and Your dependent parent , age 62 or older : One surviving parent 82 percent. Two surviving parents 75 percent to each parent. ',\n",
       "  'end_sec': 4448},\n",
       " '63': {'id_sp': '63',\n",
       "  'tag': 'u',\n",
       "  'start_sp': 4155,\n",
       "  'end_sp': 4174,\n",
       "  'text_sp': 'Widow or widower , ',\n",
       "  'title': 'How Much Would Your Survivors Receive',\n",
       "  'parent_titles': [],\n",
       "  'id_sec': '18',\n",
       "  'start_sec': 3874,\n",
       "  'text_sec': 'These are examples of monthly benefit payments : Widow or widower, full retirement age or older 100 percent of your benefit amount ; Widow or widower , age 60 to full retirement age 71 to 99 percent of your basic amount ; Disabled widow or widower , age 50 through 59 71 percent ; Widow or widower , any age, caring for a child under age 16 75 percent ; A child under age 18 19 if still in elementary or secondary school or disabled 75 percent ; and Your dependent parent , age 62 or older : One surviving parent 82 percent. Two surviving parents 75 percent to each parent. ',\n",
       "  'end_sec': 4448},\n",
       " '64': {'id_sp': '64',\n",
       "  'tag': 'u',\n",
       "  'start_sp': 4174,\n",
       "  'end_sp': 4228,\n",
       "  'text_sp': 'any age, caring for a child under age 16 75 percent ; ',\n",
       "  'title': 'How Much Would Your Survivors Receive',\n",
       "  'parent_titles': [],\n",
       "  'id_sec': '18',\n",
       "  'start_sec': 3874,\n",
       "  'text_sec': 'These are examples of monthly benefit payments : Widow or widower, full retirement age or older 100 percent of your benefit amount ; Widow or widower , age 60 to full retirement age 71 to 99 percent of your basic amount ; Disabled widow or widower , age 50 through 59 71 percent ; Widow or widower , any age, caring for a child under age 16 75 percent ; A child under age 18 19 if still in elementary or secondary school or disabled 75 percent ; and Your dependent parent , age 62 or older : One surviving parent 82 percent. Two surviving parents 75 percent to each parent. ',\n",
       "  'end_sec': 4448},\n",
       " '65': {'id_sp': '65',\n",
       "  'tag': 'u',\n",
       "  'start_sp': 4228,\n",
       "  'end_sp': 4320,\n",
       "  'text_sp': 'A child under age 18 19 if still in elementary or secondary school or disabled 75 percent ; ',\n",
       "  'title': 'How Much Would Your Survivors Receive',\n",
       "  'parent_titles': [],\n",
       "  'id_sec': '18',\n",
       "  'start_sec': 3874,\n",
       "  'text_sec': 'These are examples of monthly benefit payments : Widow or widower, full retirement age or older 100 percent of your benefit amount ; Widow or widower , age 60 to full retirement age 71 to 99 percent of your basic amount ; Disabled widow or widower , age 50 through 59 71 percent ; Widow or widower , any age, caring for a child under age 16 75 percent ; A child under age 18 19 if still in elementary or secondary school or disabled 75 percent ; and Your dependent parent , age 62 or older : One surviving parent 82 percent. Two surviving parents 75 percent to each parent. ',\n",
       "  'end_sec': 4448},\n",
       " '66': {'id_sp': '66',\n",
       "  'tag': 'u',\n",
       "  'start_sp': 4320,\n",
       "  'end_sp': 4324,\n",
       "  'text_sp': 'and ',\n",
       "  'title': 'How Much Would Your Survivors Receive',\n",
       "  'parent_titles': [],\n",
       "  'id_sec': '18',\n",
       "  'start_sec': 3874,\n",
       "  'text_sec': 'These are examples of monthly benefit payments : Widow or widower, full retirement age or older 100 percent of your benefit amount ; Widow or widower , age 60 to full retirement age 71 to 99 percent of your basic amount ; Disabled widow or widower , age 50 through 59 71 percent ; Widow or widower , any age, caring for a child under age 16 75 percent ; A child under age 18 19 if still in elementary or secondary school or disabled 75 percent ; and Your dependent parent , age 62 or older : One surviving parent 82 percent. Two surviving parents 75 percent to each parent. ',\n",
       "  'end_sec': 4448},\n",
       " '67': {'id_sp': '67',\n",
       "  'tag': 'u',\n",
       "  'start_sp': 4324,\n",
       "  'end_sp': 4348,\n",
       "  'text_sp': 'Your dependent parent , ',\n",
       "  'title': 'How Much Would Your Survivors Receive',\n",
       "  'parent_titles': [],\n",
       "  'id_sec': '18',\n",
       "  'start_sec': 3874,\n",
       "  'text_sec': 'These are examples of monthly benefit payments : Widow or widower, full retirement age or older 100 percent of your benefit amount ; Widow or widower , age 60 to full retirement age 71 to 99 percent of your basic amount ; Disabled widow or widower , age 50 through 59 71 percent ; Widow or widower , any age, caring for a child under age 16 75 percent ; A child under age 18 19 if still in elementary or secondary school or disabled 75 percent ; and Your dependent parent , age 62 or older : One surviving parent 82 percent. Two surviving parents 75 percent to each parent. ',\n",
       "  'end_sec': 4448},\n",
       " '68': {'id_sp': '68',\n",
       "  'tag': 'u',\n",
       "  'start_sp': 4348,\n",
       "  'end_sp': 4366,\n",
       "  'text_sp': 'age 62 or older : ',\n",
       "  'title': 'How Much Would Your Survivors Receive',\n",
       "  'parent_titles': [],\n",
       "  'id_sec': '18',\n",
       "  'start_sec': 3874,\n",
       "  'text_sec': 'These are examples of monthly benefit payments : Widow or widower, full retirement age or older 100 percent of your benefit amount ; Widow or widower , age 60 to full retirement age 71 to 99 percent of your basic amount ; Disabled widow or widower , age 50 through 59 71 percent ; Widow or widower , any age, caring for a child under age 16 75 percent ; A child under age 18 19 if still in elementary or secondary school or disabled 75 percent ; and Your dependent parent , age 62 or older : One surviving parent 82 percent. Two surviving parents 75 percent to each parent. ',\n",
       "  'end_sec': 4448},\n",
       " '69': {'id_sp': '69',\n",
       "  'tag': 'u',\n",
       "  'start_sp': 4366,\n",
       "  'end_sp': 4399,\n",
       "  'text_sp': 'One surviving parent 82 percent. ',\n",
       "  'title': 'How Much Would Your Survivors Receive',\n",
       "  'parent_titles': [],\n",
       "  'id_sec': '18',\n",
       "  'start_sec': 3874,\n",
       "  'text_sec': 'These are examples of monthly benefit payments : Widow or widower, full retirement age or older 100 percent of your benefit amount ; Widow or widower , age 60 to full retirement age 71 to 99 percent of your basic amount ; Disabled widow or widower , age 50 through 59 71 percent ; Widow or widower , any age, caring for a child under age 16 75 percent ; A child under age 18 19 if still in elementary or secondary school or disabled 75 percent ; and Your dependent parent , age 62 or older : One surviving parent 82 percent. Two surviving parents 75 percent to each parent. ',\n",
       "  'end_sec': 4448},\n",
       " '70': {'id_sp': '70',\n",
       "  'tag': 'u',\n",
       "  'start_sp': 4399,\n",
       "  'end_sp': 4448,\n",
       "  'text_sp': 'Two surviving parents 75 percent to each parent. ',\n",
       "  'title': 'How Much Would Your Survivors Receive',\n",
       "  'parent_titles': [],\n",
       "  'id_sec': '18',\n",
       "  'start_sec': 3874,\n",
       "  'text_sec': 'These are examples of monthly benefit payments : Widow or widower, full retirement age or older 100 percent of your benefit amount ; Widow or widower , age 60 to full retirement age 71 to 99 percent of your basic amount ; Disabled widow or widower , age 50 through 59 71 percent ; Widow or widower , any age, caring for a child under age 16 75 percent ; A child under age 18 19 if still in elementary or secondary school or disabled 75 percent ; and Your dependent parent , age 62 or older : One surviving parent 82 percent. Two surviving parents 75 percent to each parent. ',\n",
       "  'end_sec': 4448},\n",
       " '71': {'id_sp': '71',\n",
       "  'tag': 'u',\n",
       "  'start_sp': 4448,\n",
       "  'end_sp': 4520,\n",
       "  'text_sp': 'Percentages for a surviving divorced spouse would be the same as above. ',\n",
       "  'title': 'How Much Would Your Survivors Receive',\n",
       "  'parent_titles': [],\n",
       "  'id_sec': '19',\n",
       "  'start_sec': 4448,\n",
       "  'text_sec': 'Percentages for a surviving divorced spouse would be the same as above. ',\n",
       "  'end_sec': 4520},\n",
       " '72': {'id_sp': '72',\n",
       "  'tag': 'u',\n",
       "  'start_sp': 4520,\n",
       "  'end_sp': 4574,\n",
       "  'text_sp': 'There may also be a special lump - sum death payment. ',\n",
       "  'title': 'How Much Would Your Survivors Receive',\n",
       "  'parent_titles': [],\n",
       "  'id_sec': '20',\n",
       "  'start_sec': 4520,\n",
       "  'text_sec': 'There may also be a special lump - sum death payment. ',\n",
       "  'end_sec': 4574},\n",
       " '73': {'id_sp': '73',\n",
       "  'tag': 'h3',\n",
       "  'start_sp': 4574,\n",
       "  'end_sp': 4599,\n",
       "  'text_sp': '\\n\\nMaximum Family Amount \\n',\n",
       "  'title': 'Maximum Family Amount',\n",
       "  'parent_titles': [{'id_sp': '1',\n",
       "    'text': 'Benefits Planner: Survivors | Planning For Your Survivors',\n",
       "    'level': 'h2'}],\n",
       "  'id_sec': 't_20',\n",
       "  'start_sec': 4574,\n",
       "  'end_sec': 4599,\n",
       "  'text_sec': '\\n\\nMaximum Family Amount \\n'},\n",
       " '74': {'id_sp': '74',\n",
       "  'tag': 'u',\n",
       "  'start_sp': 4599,\n",
       "  'end_sp': 4673,\n",
       "  'text_sp': \"There's a limit to the amount that family members can receive each month. \",\n",
       "  'title': 'Maximum Family Amount',\n",
       "  'parent_titles': [],\n",
       "  'id_sec': '21',\n",
       "  'start_sec': 4599,\n",
       "  'text_sec': \"There's a limit to the amount that family members can receive each month. The limit varies , but it is generally equal to between 150 and 180 percent of the basic benefit rate. \",\n",
       "  'end_sec': 4776},\n",
       " '75': {'id_sp': '75',\n",
       "  'tag': 'u',\n",
       "  'start_sp': 4673,\n",
       "  'end_sp': 4692,\n",
       "  'text_sp': 'The limit varies , ',\n",
       "  'title': 'Maximum Family Amount',\n",
       "  'parent_titles': [],\n",
       "  'id_sec': '21',\n",
       "  'start_sec': 4599,\n",
       "  'text_sec': \"There's a limit to the amount that family members can receive each month. The limit varies , but it is generally equal to between 150 and 180 percent of the basic benefit rate. \",\n",
       "  'end_sec': 4776},\n",
       " '76': {'id_sp': '76',\n",
       "  'tag': 'u',\n",
       "  'start_sp': 4692,\n",
       "  'end_sp': 4776,\n",
       "  'text_sp': 'but it is generally equal to between 150 and 180 percent of the basic benefit rate. ',\n",
       "  'title': 'Maximum Family Amount',\n",
       "  'parent_titles': [],\n",
       "  'id_sec': '21',\n",
       "  'start_sec': 4599,\n",
       "  'text_sec': \"There's a limit to the amount that family members can receive each month. The limit varies , but it is generally equal to between 150 and 180 percent of the basic benefit rate. \",\n",
       "  'end_sec': 4776},\n",
       " '77': {'id_sp': '77',\n",
       "  'tag': 'u',\n",
       "  'start_sp': 4776,\n",
       "  'end_sp': 4858,\n",
       "  'text_sp': 'If the sum of the benefits payable to family members is greater than this limit , ',\n",
       "  'title': 'Maximum Family Amount',\n",
       "  'parent_titles': [],\n",
       "  'id_sec': '22',\n",
       "  'start_sec': 4776,\n",
       "  'text_sec': \"If the sum of the benefits payable to family members is greater than this limit , the benefits will be reduced proportionately. Any benefits paid to a surviving divorced spouse based on disability or age won't count toward this maximum amount. \",\n",
       "  'end_sec': 5020},\n",
       " '78': {'id_sp': '78',\n",
       "  'tag': 'u',\n",
       "  'start_sp': 4858,\n",
       "  'end_sp': 4904,\n",
       "  'text_sp': 'the benefits will be reduced proportionately. ',\n",
       "  'title': 'Maximum Family Amount',\n",
       "  'parent_titles': [],\n",
       "  'id_sec': '22',\n",
       "  'start_sec': 4776,\n",
       "  'text_sec': \"If the sum of the benefits payable to family members is greater than this limit , the benefits will be reduced proportionately. Any benefits paid to a surviving divorced spouse based on disability or age won't count toward this maximum amount. \",\n",
       "  'end_sec': 5020},\n",
       " '79': {'id_sp': '79',\n",
       "  'tag': 'u',\n",
       "  'start_sp': 4904,\n",
       "  'end_sp': 5020,\n",
       "  'text_sp': \"Any benefits paid to a surviving divorced spouse based on disability or age won't count toward this maximum amount. \",\n",
       "  'title': 'Maximum Family Amount',\n",
       "  'parent_titles': [],\n",
       "  'id_sec': '22',\n",
       "  'start_sec': 4776,\n",
       "  'text_sec': \"If the sum of the benefits payable to family members is greater than this limit , the benefits will be reduced proportionately. Any benefits paid to a surviving divorced spouse based on disability or age won't count toward this maximum amount. \",\n",
       "  'end_sec': 5020},\n",
       " '80': {'id_sp': '80',\n",
       "  'tag': 'u',\n",
       "  'start_sp': 5020,\n",
       "  'end_sp': 5150,\n",
       "  'text_sp': 'Get your online or check our Benefit Calculators for an estimate of the benefits your family could receive if you died right now. ',\n",
       "  'title': 'Maximum Family Amount',\n",
       "  'parent_titles': [],\n",
       "  'id_sec': '23',\n",
       "  'start_sec': 5020,\n",
       "  'text_sec': 'Get your online or check our Benefit Calculators for an estimate of the benefits your family could receive if you died right now. ',\n",
       "  'end_sec': 5150},\n",
       " '81': {'id_sp': '81',\n",
       "  'tag': 'h3',\n",
       "  'start_sp': 5150,\n",
       "  'end_sp': 5183,\n",
       "  'text_sp': '\\n\\nOther Things You Need To Know \\n',\n",
       "  'title': 'Other Things You Need To Know',\n",
       "  'parent_titles': [{'id_sp': '1',\n",
       "    'text': 'Benefits Planner: Survivors | Planning For Your Survivors',\n",
       "    'level': 'h2'}],\n",
       "  'id_sec': 't_23',\n",
       "  'start_sec': 5150,\n",
       "  'end_sec': 5183,\n",
       "  'text_sec': '\\n\\nOther Things You Need To Know \\n'},\n",
       " '82': {'id_sp': '82',\n",
       "  'tag': 'u',\n",
       "  'start_sp': 5183,\n",
       "  'end_sp': 5260,\n",
       "  'text_sp': 'There are limits on how much survivors may earn while they receive benefits. ',\n",
       "  'title': 'Other Things You Need To Know',\n",
       "  'parent_titles': [],\n",
       "  'id_sec': '24',\n",
       "  'start_sec': 5183,\n",
       "  'text_sec': 'There are limits on how much survivors may earn while they receive benefits. ',\n",
       "  'end_sec': 5260},\n",
       " '83': {'id_sp': '83',\n",
       "  'tag': 'u',\n",
       "  'start_sp': 5260,\n",
       "  'end_sp': 5368,\n",
       "  'text_sp': 'Benefits for a widow, widower, or surviving divorced spouse may be affected by several additional factors : ',\n",
       "  'title': 'Other Things You Need To Know',\n",
       "  'parent_titles': [],\n",
       "  'id_sec': '25',\n",
       "  'start_sec': 5260,\n",
       "  'text_sec': 'Benefits for a widow, widower, or surviving divorced spouse may be affected by several additional factors : ',\n",
       "  'end_sec': 5368},\n",
       " '84': {'id_sp': '84',\n",
       "  'tag': 'u',\n",
       "  'start_sp': 5368,\n",
       "  'end_sp': 5477,\n",
       "  'text_sp': 'If your widow, widower, or surviving divorced spouse remarries before they reach age 60 age 50 if disabled , ',\n",
       "  'title': 'Other Things You Need To Know',\n",
       "  'parent_titles': [],\n",
       "  'id_sec': '26',\n",
       "  'start_sec': 5368,\n",
       "  'text_sec': \"If your widow, widower, or surviving divorced spouse remarries before they reach age 60 age 50 if disabled , they cannot receive benefits as a surviving spouse while they're married. \",\n",
       "  'end_sec': 5551},\n",
       " '85': {'id_sp': '85',\n",
       "  'tag': 'u',\n",
       "  'start_sp': 5477,\n",
       "  'end_sp': 5551,\n",
       "  'text_sp': \"they cannot receive benefits as a surviving spouse while they're married. \",\n",
       "  'title': 'Other Things You Need To Know',\n",
       "  'parent_titles': [],\n",
       "  'id_sec': '26',\n",
       "  'start_sec': 5368,\n",
       "  'text_sec': \"If your widow, widower, or surviving divorced spouse remarries before they reach age 60 age 50 if disabled , they cannot receive benefits as a surviving spouse while they're married. \",\n",
       "  'end_sec': 5551},\n",
       " '86': {'id_sp': '86',\n",
       "  'tag': 'u',\n",
       "  'start_sp': 5551,\n",
       "  'end_sp': 5659,\n",
       "  'text_sp': 'If your widow, widower, or surviving divorced spouse remarries after they reach age 60 age 50 if disabled , ',\n",
       "  'title': 'Other Things You Need To Know',\n",
       "  'parent_titles': [],\n",
       "  'id_sec': '27',\n",
       "  'start_sec': 5551,\n",
       "  'text_sec': 'If your widow, widower, or surviving divorced spouse remarries after they reach age 60 age 50 if disabled , they will continue to qualify for benefits on your Social Security record. ',\n",
       "  'end_sec': 5734},\n",
       " '87': {'id_sp': '87',\n",
       "  'tag': 'u',\n",
       "  'start_sp': 5659,\n",
       "  'end_sp': 5734,\n",
       "  'text_sp': 'they will continue to qualify for benefits on your Social Security record. ',\n",
       "  'title': 'Other Things You Need To Know',\n",
       "  'parent_titles': [],\n",
       "  'id_sec': '27',\n",
       "  'start_sec': 5551,\n",
       "  'text_sec': 'If your widow, widower, or surviving divorced spouse remarries after they reach age 60 age 50 if disabled , they will continue to qualify for benefits on your Social Security record. ',\n",
       "  'end_sec': 5734},\n",
       " '88': {'id_sp': '88',\n",
       "  'tag': 'u',\n",
       "  'start_sp': 5734,\n",
       "  'end_sp': 5744,\n",
       "  'text_sp': 'However , ',\n",
       "  'title': 'Other Things You Need To Know',\n",
       "  'parent_titles': [],\n",
       "  'id_sec': '28',\n",
       "  'start_sec': 5734,\n",
       "  'text_sec': \"However , if their current spouse is a Social Security beneficiary , they may want to apply for spouse's benefits on their record. If that amount is more than the widow's or widower's benefit on your record , they will receive a combination of benefits that equals the higher amount. \",\n",
       "  'end_sec': 6018},\n",
       " '89': {'id_sp': '89',\n",
       "  'tag': 'u',\n",
       "  'start_sp': 5744,\n",
       "  'end_sp': 5803,\n",
       "  'text_sp': 'if their current spouse is a Social Security beneficiary , ',\n",
       "  'title': 'Other Things You Need To Know',\n",
       "  'parent_titles': [],\n",
       "  'id_sec': '28',\n",
       "  'start_sec': 5734,\n",
       "  'text_sec': \"However , if their current spouse is a Social Security beneficiary , they may want to apply for spouse's benefits on their record. If that amount is more than the widow's or widower's benefit on your record , they will receive a combination of benefits that equals the higher amount. \",\n",
       "  'end_sec': 6018},\n",
       " '90': {'id_sp': '90',\n",
       "  'tag': 'u',\n",
       "  'start_sp': 5803,\n",
       "  'end_sp': 5865,\n",
       "  'text_sp': \"they may want to apply for spouse's benefits on their record. \",\n",
       "  'title': 'Other Things You Need To Know',\n",
       "  'parent_titles': [],\n",
       "  'id_sec': '28',\n",
       "  'start_sec': 5734,\n",
       "  'text_sec': \"However , if their current spouse is a Social Security beneficiary , they may want to apply for spouse's benefits on their record. If that amount is more than the widow's or widower's benefit on your record , they will receive a combination of benefits that equals the higher amount. \",\n",
       "  'end_sec': 6018},\n",
       " '91': {'id_sp': '91',\n",
       "  'tag': 'u',\n",
       "  'start_sp': 5865,\n",
       "  'end_sp': 5943,\n",
       "  'text_sp': \"If that amount is more than the widow's or widower's benefit on your record , \",\n",
       "  'title': 'Other Things You Need To Know',\n",
       "  'parent_titles': [],\n",
       "  'id_sec': '28',\n",
       "  'start_sec': 5734,\n",
       "  'text_sec': \"However , if their current spouse is a Social Security beneficiary , they may want to apply for spouse's benefits on their record. If that amount is more than the widow's or widower's benefit on your record , they will receive a combination of benefits that equals the higher amount. \",\n",
       "  'end_sec': 6018},\n",
       " '92': {'id_sp': '92',\n",
       "  'tag': 'u',\n",
       "  'start_sp': 5943,\n",
       "  'end_sp': 6018,\n",
       "  'text_sp': 'they will receive a combination of benefits that equals the higher amount. ',\n",
       "  'title': 'Other Things You Need To Know',\n",
       "  'parent_titles': [],\n",
       "  'id_sec': '28',\n",
       "  'start_sec': 5734,\n",
       "  'text_sec': \"However , if their current spouse is a Social Security beneficiary , they may want to apply for spouse's benefits on their record. If that amount is more than the widow's or widower's benefit on your record , they will receive a combination of benefits that equals the higher amount. \",\n",
       "  'end_sec': 6018},\n",
       " '93': {'id_sp': '93',\n",
       "  'tag': 'u',\n",
       "  'start_sp': 6018,\n",
       "  'end_sp': 6106,\n",
       "  'text_sp': 'If your widow, widower, or surviving divorced spouse receives benefits on your record , ',\n",
       "  'title': 'Other Things You Need To Know',\n",
       "  'parent_titles': [],\n",
       "  'id_sec': '29',\n",
       "  'start_sec': 6018,\n",
       "  'text_sec': \"If your widow, widower, or surviving divorced spouse receives benefits on your record , they can switch to their own retirement benefit as early as age 62. This assumes they're eligible for retirement benefits and their retirement rate is higher than their rate as a widow, widower, or surviving divorced spouse. \",\n",
       "  'end_sec': 6331},\n",
       " '94': {'id_sp': '94',\n",
       "  'tag': 'u',\n",
       "  'start_sp': 6106,\n",
       "  'end_sp': 6174,\n",
       "  'text_sp': 'they can switch to their own retirement benefit as early as age 62. ',\n",
       "  'title': 'Other Things You Need To Know',\n",
       "  'parent_titles': [],\n",
       "  'id_sec': '29',\n",
       "  'start_sec': 6018,\n",
       "  'text_sec': \"If your widow, widower, or surviving divorced spouse receives benefits on your record , they can switch to their own retirement benefit as early as age 62. This assumes they're eligible for retirement benefits and their retirement rate is higher than their rate as a widow, widower, or surviving divorced spouse. \",\n",
       "  'end_sec': 6331},\n",
       " '95': {'id_sp': '95',\n",
       "  'tag': 'u',\n",
       "  'start_sp': 6174,\n",
       "  'end_sp': 6331,\n",
       "  'text_sp': \"This assumes they're eligible for retirement benefits and their retirement rate is higher than their rate as a widow, widower, or surviving divorced spouse. \",\n",
       "  'title': 'Other Things You Need To Know',\n",
       "  'parent_titles': [],\n",
       "  'id_sec': '29',\n",
       "  'start_sec': 6018,\n",
       "  'text_sec': \"If your widow, widower, or surviving divorced spouse receives benefits on your record , they can switch to their own retirement benefit as early as age 62. This assumes they're eligible for retirement benefits and their retirement rate is higher than their rate as a widow, widower, or surviving divorced spouse. \",\n",
       "  'end_sec': 6331},\n",
       " '96': {'id_sp': '96',\n",
       "  'tag': 'u',\n",
       "  'start_sp': 6331,\n",
       "  'end_sp': 6347,\n",
       "  'text_sp': 'In many cases , ',\n",
       "  'title': 'Other Things You Need To Know',\n",
       "  'parent_titles': [],\n",
       "  'id_sec': '30',\n",
       "  'start_sec': 6331,\n",
       "  'text_sec': 'In many cases , a widow or widower can begin receiving one benefit at a reduced rate and then, at full retirement age, switch to the other benefit at an unreduced rate. ',\n",
       "  'end_sec': 6500},\n",
       " '97': {'id_sp': '97',\n",
       "  'tag': 'u',\n",
       "  'start_sp': 6347,\n",
       "  'end_sp': 6500,\n",
       "  'text_sp': 'a widow or widower can begin receiving one benefit at a reduced rate and then, at full retirement age, switch to the other benefit at an unreduced rate. ',\n",
       "  'title': 'Other Things You Need To Know',\n",
       "  'parent_titles': [],\n",
       "  'id_sec': '30',\n",
       "  'start_sec': 6331,\n",
       "  'text_sec': 'In many cases , a widow or widower can begin receiving one benefit at a reduced rate and then, at full retirement age, switch to the other benefit at an unreduced rate. ',\n",
       "  'end_sec': 6500},\n",
       " '98': {'id_sp': '98',\n",
       "  'tag': 'u',\n",
       "  'start_sp': 6500,\n",
       "  'end_sp': 6664,\n",
       "  'text_sp': 'If your widow, widower, or surviving divorced spouse will also receive a pension based on work not covered by Social Security, such as government or foreign work , ',\n",
       "  'title': 'Other Things You Need To Know',\n",
       "  'parent_titles': [],\n",
       "  'id_sec': '31',\n",
       "  'start_sec': 6500,\n",
       "  'text_sec': 'If your widow, widower, or surviving divorced spouse will also receive a pension based on work not covered by Social Security, such as government or foreign work , their Social Security benefits as a survivor may be affected. ',\n",
       "  'end_sec': 6726},\n",
       " '99': {'id_sp': '99',\n",
       "  'tag': 'u',\n",
       "  'start_sp': 6664,\n",
       "  'end_sp': 6726,\n",
       "  'text_sp': 'their Social Security benefits as a survivor may be affected. ',\n",
       "  'title': 'Other Things You Need To Know',\n",
       "  'parent_titles': [],\n",
       "  'id_sec': '31',\n",
       "  'start_sec': 6500,\n",
       "  'text_sec': 'If your widow, widower, or surviving divorced spouse will also receive a pension based on work not covered by Social Security, such as government or foreign work , their Social Security benefits as a survivor may be affected. ',\n",
       "  'end_sec': 6726}}"
      ]
     },
     "execution_count": 13,
     "metadata": {},
     "output_type": "execute_result"
    }
   ],
   "source": [
    "data['doc_data']['ssa'][doc_list[0]]['spans']"
   ]
  },
  {
   "cell_type": "code",
   "execution_count": 25,
   "metadata": {},
   "outputs": [
    {
     "data": {
      "text/plain": [
       "dict_keys(['title', 'doc_id', 'domain', 'doc_text', 'spans', 'doc_html_ts', 'doc_html_raw'])"
      ]
     },
     "execution_count": 25,
     "metadata": {},
     "output_type": "execute_result"
    }
   ],
   "source": [
    "data['doc_data']['ssa'][doc_list[0]].keys()"
   ]
  },
  {
   "cell_type": "code",
   "execution_count": 8,
   "metadata": {},
   "outputs": [],
   "source": [
    "def filter_and_write_to_json(data, keys, output_file) -> None:\n",
    "    # Create a new dictionary with only the desired keys\n",
    "    filtered_data = {key: data[key] for key in keys if key in data}\n",
    "\n",
    "    # Write the filtered data to a JSON file\n",
    "    with open(output_file, 'w') as file:\n",
    "        json.dump(filtered_data, file)"
   ]
  },
  {
   "cell_type": "code",
   "execution_count": 9,
   "metadata": {},
   "outputs": [],
   "source": [
    "keys_to_filter = ['title', 'doc_text']\n",
    "filter_and_write_to_json(data['doc_data']['ssa'][doc_list[0]], keys_to_filter, 'data/doc1.json')"
   ]
  },
  {
   "attachments": {},
   "cell_type": "markdown",
   "metadata": {},
   "source": [
    "# VA"
   ]
  },
  {
   "cell_type": "code",
   "execution_count": 20,
   "metadata": {},
   "outputs": [],
   "source": [
    "# data['doc_data']['va'].keys()\n",
    "va_doc_list = list(data['doc_data']['va'].keys())"
   ]
  },
  {
   "cell_type": "code",
   "execution_count": 23,
   "metadata": {},
   "outputs": [
    {
     "data": {
      "text/plain": [
       "dict_keys(['title', 'doc_id', 'domain', 'doc_text', 'spans', 'doc_html_ts', 'doc_html_raw'])"
      ]
     },
     "execution_count": 23,
     "metadata": {},
     "output_type": "execute_result"
    }
   ],
   "source": [
    "data['doc_data']['va'][va_doc_list[0]].keys()"
   ]
  },
  {
   "attachments": {},
   "cell_type": "markdown",
   "metadata": {},
   "source": [
    "# Embedding"
   ]
  },
  {
   "cell_type": "code",
   "execution_count": 10,
   "metadata": {},
   "outputs": [
    {
     "name": "stderr",
     "output_type": "stream",
     "text": [
      "/home/ygong/miniconda3/envs/atlas-env/lib/python3.8/site-packages/tqdm/auto.py:21: TqdmWarning: IProgress not found. Please update jupyter and ipywidgets. See https://ipywidgets.readthedocs.io/en/stable/user_install.html\n",
      "  from .autonotebook import tqdm as notebook_tqdm\n"
     ]
    }
   ],
   "source": [
    "from sentence_transformers import SentenceTransformer\n",
    "model = SentenceTransformer('sentence-transformers/gtr-t5-base')"
   ]
  },
  {
   "cell_type": "code",
   "execution_count": 18,
   "metadata": {},
   "outputs": [
    {
     "name": "stdout",
     "output_type": "stream",
     "text": [
      "[[-0.01774821  0.05172963  0.01236839 ... -0.00744141 -0.05631506\n",
      "  -0.03496897]\n",
      " [-0.00638394  0.04372559  0.02519693 ... -0.00848611 -0.08687393\n",
      "  -0.01826629]]\n"
     ]
    }
   ],
   "source": [
    "sentences = [\"This is an example sentence\", \"Each sentence is converted\"]\n",
    "embeddings = model.encode(sentences)\n",
    "print(embeddings)"
   ]
  },
  {
   "cell_type": "code",
   "execution_count": null,
   "metadata": {},
   "outputs": [],
   "source": [
    "def get_embeddings(batch, model):\n",
    "    embeddings = model.encode(batch[\"text\"])\n",
    "    return {\"embeddings\": embeddings}\n",
    "\n",
    "model = SentenceTransformer(\n",
    "    \"sentence-transformers/multi-qa-mpnet-base-dot-v1\",\n",
    ")\n",
    "\n",
    "dataset = datasets.load_dataset(\"json\", data_files=\"data.jsonl\", split=\"train\")\n",
    "dataset = dataset.map(get_embeddings, batched=True, batch_size=32, fn_kwargs={\"model\": model})\n",
    "dataset = dataset.with_format(\n",
    "    type=\"numpy\", columns=[\"embeddings\"], output_all_columns=True,\n",
    ")\n",
    "dataset.add_faiss_index(\"embeddings\")\n",
    "dataset.save_faiss_index(\"embeddings\", \"index.faiss\")"
   ]
  },
  {
   "cell_type": "code",
   "execution_count": 1,
   "metadata": {},
   "outputs": [
    {
     "name": "stdout",
     "output_type": "stream",
     "text": [
      "documents:1\n"
     ]
    }
   ],
   "source": [
    "from langchain.document_loaders import JSONLoader\n",
    "\n",
    "loader = JSONLoader(\n",
    "    file_path='data/doc1.json',\n",
    "    jq_schema='.doc_text',\n",
    ")\n",
    "document = loader.load()\n",
    "print(f'documents:{len(document)}')"
   ]
  },
  {
   "cell_type": "code",
   "execution_count": 2,
   "metadata": {},
   "outputs": [
    {
     "name": "stdout",
     "output_type": "stream",
     "text": [
      "documents:23\n"
     ]
    }
   ],
   "source": [
    "from langchain.text_splitter import RecursiveCharacterTextSplitter\n",
    "\n",
    "text_splitter = RecursiveCharacterTextSplitter(\n",
    "    chunk_size = 500,\n",
    "    chunk_overlap = 50\n",
    ")\n",
    "# remove empty documents\n",
    "split_documents = text_splitter.split_documents(document)\n",
    "print(f'documents:{len(split_documents)}')"
   ]
  },
  {
   "cell_type": "code",
   "execution_count": 3,
   "metadata": {},
   "outputs": [
    {
     "data": {
      "text/plain": [
       "[Document(page_content='Benefits Planner: Survivors | Planning For Your Survivors', metadata={'source': '/home/ygong/Attributed-QA/data/doc1.json', 'seq_num': 1}),\n",
       " Document(page_content=\"As you plan for the future , you'll want to think about what your family would need if you should die now. Social Security can help your family if you have earned enough Social Security credits through your work. You can earn up to four credits each year. In 2019 , for example , you earn one credit for each $1,360 of wages or self - employment income. When you have earned $5,440 , you have earned your four credits for the year. The number of credits needed to provide benefits for your survivors\", metadata={'source': '/home/ygong/Attributed-QA/data/doc1.json', 'seq_num': 1}),\n",
       " Document(page_content=\"needed to provide benefits for your survivors depends on your age when you die. No one needs more than 40 credits 10 years of work to be eligible for any Social Security benefit. But , the younger a person is , the fewer credits they must have for family members to receive survivors benefits. Benefits can be paid to your children and your spouse who is caring for the children even if you don't have the required number of credits. They can get benefits if you have credit for one and one - half\", metadata={'source': '/home/ygong/Attributed-QA/data/doc1.json', 'seq_num': 1}),\n",
       " Document(page_content='if you have credit for one and one - half years of work 6 credits in the three years just before your death.', metadata={'source': '/home/ygong/Attributed-QA/data/doc1.json', 'seq_num': 1}),\n",
       " Document(page_content='For Your Widow Or Widower', metadata={'source': '/home/ygong/Attributed-QA/data/doc1.json', 'seq_num': 1}),\n",
       " Document(page_content=\"There are about five million widows and widowers receiving monthly Social Security benefits based on their deceased spouse's earnings record. And , for many of those survivors, particularly aged women, those benefits are keeping them out of poverty. Widows and widowers can receive : reduced benefits as early as age 60 or full benefits at full retirement age or older. benefits as early as age 50 if they're disabled AND their disability started before or within seven years of your death. benefits\", metadata={'source': '/home/ygong/Attributed-QA/data/doc1.json', 'seq_num': 1}),\n",
       " Document(page_content='or within seven years of your death. benefits at any age , if they have not remarried , and if they take care of your child who is under age 16 or disabled and receives benefits on your record. If applying for disability benefits on a deceased worker s record , they can speed up the application process if they complete an Adult Disability Report and have it available at the time of their appointment. We use the same definition of disability for widows and widowers as we do for workers.', metadata={'source': '/home/ygong/Attributed-QA/data/doc1.json', 'seq_num': 1}),\n",
       " Document(page_content='For Your Surviving Divorced Spouse', metadata={'source': '/home/ygong/Attributed-QA/data/doc1.json', 'seq_num': 1}),\n",
       " Document(page_content=\"If you have a surviving divorced spouse , they could get the same benefits as your widow or widower provided that your marriage lasted 10 years or more. Benefits paid to a surviving divorced spouse won't affect the benefit amounts your other survivors will receive based on your earnings record. If your former spouse is caring for your child who is under age 16 or disabled and gets benefits on your record , they will not have to meet the length - of - marriage rule. The child must be your\", metadata={'source': '/home/ygong/Attributed-QA/data/doc1.json', 'seq_num': 1}),\n",
       " Document(page_content='- of - marriage rule. The child must be your natural or legally adopted child.', metadata={'source': '/home/ygong/Attributed-QA/data/doc1.json', 'seq_num': 1}),\n",
       " Document(page_content='For Your Children \\nYour unmarried children who are under 18 up to age 19 if attending elementary or secondary school full time can be eligible to receive Social Security benefits when you die. And your child can get benefits at any age if they were disabled before age 22 and remain disabled. Besides your natural children , your stepchildren, grandchildren, step grandchildren or adopted children may receive benefits under certain circumstances. For further information , view our publication.', metadata={'source': '/home/ygong/Attributed-QA/data/doc1.json', 'seq_num': 1}),\n",
       " Document(page_content='For Your Parents \\nYou must have been providing at least half of your parent s support and your parent must not be eligible to receive a retirement benefit that is higher than the benefit we could pay on your record. Generally, your parent also must not have married after your death ; however, there are some exceptions. In addition to your natural parent , your stepparent or adoptive parent may receive benefits if they became your parent before you were age 16.', metadata={'source': '/home/ygong/Attributed-QA/data/doc1.json', 'seq_num': 1}),\n",
       " Document(page_content='How Much Would Your Survivors Receive', metadata={'source': '/home/ygong/Attributed-QA/data/doc1.json', 'seq_num': 1}),\n",
       " Document(page_content='How much your family could receive in benefits depends on your average lifetime earnings. The higher your earnings were , the higher their benefits would be. We calculate a basic amount as if you had reached full retirement age at the time you die. These are examples of monthly benefit payments : Widow or widower, full retirement age or older 100 percent of your benefit amount ; Widow or widower , age 60 to full retirement age 71 to 99 percent of your basic amount ; Disabled widow or widower ,', metadata={'source': '/home/ygong/Attributed-QA/data/doc1.json', 'seq_num': 1}),\n",
       " Document(page_content='your basic amount ; Disabled widow or widower , age 50 through 59 71 percent ; Widow or widower , any age, caring for a child under age 16 75 percent ; A child under age 18 19 if still in elementary or secondary school or disabled 75 percent ; and Your dependent parent , age 62 or older : One surviving parent 82 percent. Two surviving parents 75 percent to each parent. Percentages for a surviving divorced spouse would be the same as above. There may also be a special lump - sum death payment.', metadata={'source': '/home/ygong/Attributed-QA/data/doc1.json', 'seq_num': 1}),\n",
       " Document(page_content='Maximum Family Amount', metadata={'source': '/home/ygong/Attributed-QA/data/doc1.json', 'seq_num': 1}),\n",
       " Document(page_content=\"There's a limit to the amount that family members can receive each month. The limit varies , but it is generally equal to between 150 and 180 percent of the basic benefit rate. If the sum of the benefits payable to family members is greater than this limit , the benefits will be reduced proportionately. Any benefits paid to a surviving divorced spouse based on disability or age won't count toward this maximum amount. Get your online or check our Benefit Calculators for an estimate of the\", metadata={'source': '/home/ygong/Attributed-QA/data/doc1.json', 'seq_num': 1}),\n",
       " Document(page_content='our Benefit Calculators for an estimate of the benefits your family could receive if you died right now.', metadata={'source': '/home/ygong/Attributed-QA/data/doc1.json', 'seq_num': 1}),\n",
       " Document(page_content='Other Things You Need To Know', metadata={'source': '/home/ygong/Attributed-QA/data/doc1.json', 'seq_num': 1}),\n",
       " Document(page_content=\"There are limits on how much survivors may earn while they receive benefits. Benefits for a widow, widower, or surviving divorced spouse may be affected by several additional factors : If your widow, widower, or surviving divorced spouse remarries before they reach age 60 age 50 if disabled , they cannot receive benefits as a surviving spouse while they're married. If your widow, widower, or surviving divorced spouse remarries after they reach age 60 age 50 if disabled , they will continue to\", metadata={'source': '/home/ygong/Attributed-QA/data/doc1.json', 'seq_num': 1}),\n",
       " Document(page_content=\"age 60 age 50 if disabled , they will continue to qualify for benefits on your Social Security record. However , if their current spouse is a Social Security beneficiary , they may want to apply for spouse's benefits on their record. If that amount is more than the widow's or widower's benefit on your record , they will receive a combination of benefits that equals the higher amount. If your widow, widower, or surviving divorced spouse receives benefits on your record , they can switch to their\", metadata={'source': '/home/ygong/Attributed-QA/data/doc1.json', 'seq_num': 1}),\n",
       " Document(page_content=\"on your record , they can switch to their own retirement benefit as early as age 62. This assumes they're eligible for retirement benefits and their retirement rate is higher than their rate as a widow, widower, or surviving divorced spouse. In many cases , a widow or widower can begin receiving one benefit at a reduced rate and then, at full retirement age, switch to the other benefit at an unreduced rate. If your widow, widower, or surviving divorced spouse will also receive a pension based\", metadata={'source': '/home/ygong/Attributed-QA/data/doc1.json', 'seq_num': 1}),\n",
       " Document(page_content='divorced spouse will also receive a pension based on work not covered by Social Security, such as government or foreign work , their Social Security benefits as a survivor may be affected.', metadata={'source': '/home/ygong/Attributed-QA/data/doc1.json', 'seq_num': 1})]"
      ]
     },
     "execution_count": 3,
     "metadata": {},
     "output_type": "execute_result"
    }
   ],
   "source": [
    "split_documents"
   ]
  },
  {
   "cell_type": "code",
   "execution_count": 4,
   "metadata": {},
   "outputs": [
    {
     "name": "stderr",
     "output_type": "stream",
     "text": [
      "/home/ygong/miniconda3/envs/atlas-env/lib/python3.8/site-packages/tqdm/auto.py:21: TqdmWarning: IProgress not found. Please update jupyter and ipywidgets. See https://ipywidgets.readthedocs.io/en/stable/user_install.html\n",
      "  from .autonotebook import tqdm as notebook_tqdm\n"
     ]
    },
    {
     "ename": "ImportError",
     "evalue": "Could not import sentence_transformers python package. Please install it with `pip install sentence_transformers`.",
     "output_type": "error",
     "traceback": [
      "\u001b[0;31m---------------------------------------------------------------------------\u001b[0m",
      "\u001b[0;31mImportError\u001b[0m                               Traceback (most recent call last)",
      "File \u001b[0;32m~/Attributed-QA/langchain/langchain/embeddings/huggingface.py:51\u001b[0m, in \u001b[0;36mHuggingFaceEmbeddings.__init__\u001b[0;34m(self, **kwargs)\u001b[0m\n\u001b[1;32m     50\u001b[0m \u001b[39mtry\u001b[39;00m:\n\u001b[0;32m---> 51\u001b[0m     \u001b[39mimport\u001b[39;00m \u001b[39msentence_transformers\u001b[39;00m\n\u001b[1;32m     53\u001b[0m \u001b[39mexcept\u001b[39;00m \u001b[39mImportError\u001b[39;00m \u001b[39mas\u001b[39;00m exc:\n",
      "File \u001b[0;32m~/miniconda3/envs/atlas-env/lib/python3.8/site-packages/sentence_transformers/__init__.py:3\u001b[0m\n\u001b[1;32m      2\u001b[0m __MODEL_HUB_ORGANIZATION__ \u001b[39m=\u001b[39m \u001b[39m'\u001b[39m\u001b[39msentence-transformers\u001b[39m\u001b[39m'\u001b[39m\n\u001b[0;32m----> 3\u001b[0m \u001b[39mfrom\u001b[39;00m \u001b[39m.\u001b[39;00m\u001b[39mdatasets\u001b[39;00m \u001b[39mimport\u001b[39;00m SentencesDataset, ParallelSentencesDataset\n\u001b[1;32m      4\u001b[0m \u001b[39mfrom\u001b[39;00m \u001b[39m.\u001b[39;00m\u001b[39mLoggingHandler\u001b[39;00m \u001b[39mimport\u001b[39;00m LoggingHandler\n",
      "File \u001b[0;32m~/miniconda3/envs/atlas-env/lib/python3.8/site-packages/sentence_transformers/datasets/__init__.py:3\u001b[0m\n\u001b[1;32m      2\u001b[0m \u001b[39mfrom\u001b[39;00m \u001b[39m.\u001b[39;00m\u001b[39mNoDuplicatesDataLoader\u001b[39;00m \u001b[39mimport\u001b[39;00m NoDuplicatesDataLoader\n\u001b[0;32m----> 3\u001b[0m \u001b[39mfrom\u001b[39;00m \u001b[39m.\u001b[39;00m\u001b[39mParallelSentencesDataset\u001b[39;00m \u001b[39mimport\u001b[39;00m ParallelSentencesDataset\n\u001b[1;32m      4\u001b[0m \u001b[39mfrom\u001b[39;00m \u001b[39m.\u001b[39;00m\u001b[39mSentencesDataset\u001b[39;00m \u001b[39mimport\u001b[39;00m SentencesDataset\n",
      "File \u001b[0;32m~/miniconda3/envs/atlas-env/lib/python3.8/site-packages/sentence_transformers/datasets/ParallelSentencesDataset.py:4\u001b[0m\n\u001b[1;32m      3\u001b[0m \u001b[39mimport\u001b[39;00m \u001b[39mgzip\u001b[39;00m\n\u001b[0;32m----> 4\u001b[0m \u001b[39mfrom\u001b[39;00m \u001b[39m.\u001b[39;00m\u001b[39m.\u001b[39;00m \u001b[39mimport\u001b[39;00m SentenceTransformer\n\u001b[1;32m      5\u001b[0m \u001b[39mfrom\u001b[39;00m \u001b[39m.\u001b[39;00m\u001b[39m.\u001b[39;00m\u001b[39mreaders\u001b[39;00m \u001b[39mimport\u001b[39;00m InputExample\n",
      "File \u001b[0;32m~/miniconda3/envs/atlas-env/lib/python3.8/site-packages/sentence_transformers/SentenceTransformer.py:11\u001b[0m\n\u001b[1;32m     10\u001b[0m \u001b[39mfrom\u001b[39;00m \u001b[39mnumpy\u001b[39;00m \u001b[39mimport\u001b[39;00m ndarray\n\u001b[0;32m---> 11\u001b[0m \u001b[39mimport\u001b[39;00m \u001b[39mtransformers\u001b[39;00m\n\u001b[1;32m     12\u001b[0m \u001b[39mfrom\u001b[39;00m \u001b[39mhuggingface_hub\u001b[39;00m \u001b[39mimport\u001b[39;00m HfApi, HfFolder, Repository, hf_hub_url, cached_download\n",
      "File \u001b[0;32m~/miniconda3/envs/atlas-env/lib/python3.8/site-packages/transformers/__init__.py:30\u001b[0m\n\u001b[1;32m     29\u001b[0m \u001b[39m# Check the dependencies satisfy the minimal versions required.\u001b[39;00m\n\u001b[0;32m---> 30\u001b[0m \u001b[39mfrom\u001b[39;00m \u001b[39m.\u001b[39;00m \u001b[39mimport\u001b[39;00m dependency_versions_check\n\u001b[1;32m     31\u001b[0m \u001b[39mfrom\u001b[39;00m \u001b[39m.\u001b[39;00m\u001b[39mutils\u001b[39;00m \u001b[39mimport\u001b[39;00m (\n\u001b[1;32m     32\u001b[0m     _LazyModule,\n\u001b[1;32m     33\u001b[0m     is_flax_available,\n\u001b[0;32m   (...)\u001b[0m\n\u001b[1;32m     42\u001b[0m     logging,\n\u001b[1;32m     43\u001b[0m )\n",
      "File \u001b[0;32m~/miniconda3/envs/atlas-env/lib/python3.8/site-packages/transformers/dependency_versions_check.py:41\u001b[0m\n\u001b[1;32m     39\u001b[0m             \u001b[39mcontinue\u001b[39;00m  \u001b[39m# not required, check version only if installed\u001b[39;00m\n\u001b[0;32m---> 41\u001b[0m     require_version_core(deps[pkg])\n\u001b[1;32m     42\u001b[0m \u001b[39melse\u001b[39;00m:\n",
      "File \u001b[0;32m~/miniconda3/envs/atlas-env/lib/python3.8/site-packages/transformers/utils/versions.py:120\u001b[0m, in \u001b[0;36mrequire_version_core\u001b[0;34m(requirement)\u001b[0m\n\u001b[1;32m    119\u001b[0m hint \u001b[39m=\u001b[39m \u001b[39m\"\u001b[39m\u001b[39mTry: pip install transformers -U or pip install -e \u001b[39m\u001b[39m'\u001b[39m\u001b[39m.[dev]\u001b[39m\u001b[39m'\u001b[39m\u001b[39m if you\u001b[39m\u001b[39m'\u001b[39m\u001b[39mre working with git main\u001b[39m\u001b[39m\"\u001b[39m\n\u001b[0;32m--> 120\u001b[0m \u001b[39mreturn\u001b[39;00m require_version(requirement, hint)\n",
      "File \u001b[0;32m~/miniconda3/envs/atlas-env/lib/python3.8/site-packages/transformers/utils/versions.py:114\u001b[0m, in \u001b[0;36mrequire_version\u001b[0;34m(requirement, hint)\u001b[0m\n\u001b[1;32m    113\u001b[0m \u001b[39mfor\u001b[39;00m op, want_ver \u001b[39min\u001b[39;00m wanted\u001b[39m.\u001b[39mitems():\n\u001b[0;32m--> 114\u001b[0m     _compare_versions(op, got_ver, want_ver, requirement, pkg, hint)\n",
      "File \u001b[0;32m~/miniconda3/envs/atlas-env/lib/python3.8/site-packages/transformers/utils/versions.py:49\u001b[0m, in \u001b[0;36m_compare_versions\u001b[0;34m(op, got_ver, want_ver, requirement, pkg, hint)\u001b[0m\n\u001b[1;32m     48\u001b[0m \u001b[39mif\u001b[39;00m \u001b[39mnot\u001b[39;00m ops[op](version\u001b[39m.\u001b[39mparse(got_ver), version\u001b[39m.\u001b[39mparse(want_ver)):\n\u001b[0;32m---> 49\u001b[0m     \u001b[39mraise\u001b[39;00m \u001b[39mImportError\u001b[39;00m(\n\u001b[1;32m     50\u001b[0m         \u001b[39mf\u001b[39m\u001b[39m\"\u001b[39m\u001b[39m{\u001b[39;00mrequirement\u001b[39m}\u001b[39;00m\u001b[39m is required for a normal functioning of this module, but found \u001b[39m\u001b[39m{\u001b[39;00mpkg\u001b[39m}\u001b[39;00m\u001b[39m==\u001b[39m\u001b[39m{\u001b[39;00mgot_ver\u001b[39m}\u001b[39;00m\u001b[39m.\u001b[39m\u001b[39m{\u001b[39;00mhint\u001b[39m}\u001b[39;00m\u001b[39m\"\u001b[39m\n\u001b[1;32m     51\u001b[0m     )\n",
      "\u001b[0;31mImportError\u001b[0m: tokenizers>=0.11.1,!=0.11.3,<0.13 is required for a normal functioning of this module, but found tokenizers==0.13.3.\nTry: pip install transformers -U or pip install -e '.[dev]' if you're working with git main",
      "\nThe above exception was the direct cause of the following exception:\n",
      "\u001b[0;31mImportError\u001b[0m                               Traceback (most recent call last)",
      "Cell \u001b[0;32mIn[4], line 3\u001b[0m\n\u001b[1;32m      1\u001b[0m \u001b[39mfrom\u001b[39;00m \u001b[39mlangchain\u001b[39;00m\u001b[39m.\u001b[39;00m\u001b[39mvectorstores\u001b[39;00m \u001b[39mimport\u001b[39;00m FAISS\n\u001b[1;32m      2\u001b[0m \u001b[39mfrom\u001b[39;00m \u001b[39mlangchain\u001b[39;00m\u001b[39m.\u001b[39;00m\u001b[39membeddings\u001b[39;00m \u001b[39mimport\u001b[39;00m HuggingFaceEmbeddings\n\u001b[0;32m----> 3\u001b[0m embeddings \u001b[39m=\u001b[39m HuggingFaceEmbeddings(model_name \u001b[39m=\u001b[39;49m \u001b[39m'\u001b[39;49m\u001b[39msentence-transformers/gtr-t5-base\u001b[39;49m\u001b[39m'\u001b[39;49m)\n\u001b[1;32m      4\u001b[0m \u001b[39m# embeddings = SentenceTransformer('sentence-transformers/gtr-t5-base')\u001b[39;00m\n\u001b[1;32m      5\u001b[0m \n\u001b[1;32m      6\u001b[0m \u001b[39m# docsearch = Chroma.from_documents(split_documents, embeddings, persist_directory=\"data/vector_store\")\u001b[39;00m\n\u001b[1;32m      7\u001b[0m \u001b[39m# docsearch.persist()\u001b[39;00m\n\u001b[1;32m      8\u001b[0m \n\u001b[1;32m      9\u001b[0m \u001b[39m# docsearch = Chroma(persist_directory=\"data/vector_store\", embedding_function=embeddings)\u001b[39;00m\n\u001b[1;32m     11\u001b[0m db \u001b[39m=\u001b[39m FAISS\u001b[39m.\u001b[39mfrom_documents(split_documents, embeddings)\n",
      "File \u001b[0;32m~/Attributed-QA/langchain/langchain/embeddings/huggingface.py:54\u001b[0m, in \u001b[0;36mHuggingFaceEmbeddings.__init__\u001b[0;34m(self, **kwargs)\u001b[0m\n\u001b[1;32m     51\u001b[0m     \u001b[39mimport\u001b[39;00m \u001b[39msentence_transformers\u001b[39;00m\n\u001b[1;32m     53\u001b[0m \u001b[39mexcept\u001b[39;00m \u001b[39mImportError\u001b[39;00m \u001b[39mas\u001b[39;00m exc:\n\u001b[0;32m---> 54\u001b[0m     \u001b[39mraise\u001b[39;00m \u001b[39mImportError\u001b[39;00m(\n\u001b[1;32m     55\u001b[0m         \u001b[39m\"\u001b[39m\u001b[39mCould not import sentence_transformers python package. \u001b[39m\u001b[39m\"\u001b[39m\n\u001b[1;32m     56\u001b[0m         \u001b[39m\"\u001b[39m\u001b[39mPlease install it with `pip install sentence_transformers`.\u001b[39m\u001b[39m\"\u001b[39m\n\u001b[1;32m     57\u001b[0m     ) \u001b[39mfrom\u001b[39;00m \u001b[39mexc\u001b[39;00m\n\u001b[1;32m     59\u001b[0m \u001b[39mself\u001b[39m\u001b[39m.\u001b[39mclient \u001b[39m=\u001b[39m sentence_transformers\u001b[39m.\u001b[39mSentenceTransformer(\n\u001b[1;32m     60\u001b[0m     \u001b[39mself\u001b[39m\u001b[39m.\u001b[39mmodel_name, cache_folder\u001b[39m=\u001b[39m\u001b[39mself\u001b[39m\u001b[39m.\u001b[39mcache_folder, \u001b[39m*\u001b[39m\u001b[39m*\u001b[39m\u001b[39mself\u001b[39m\u001b[39m.\u001b[39mmodel_kwargs\n\u001b[1;32m     61\u001b[0m )\n",
      "\u001b[0;31mImportError\u001b[0m: Could not import sentence_transformers python package. Please install it with `pip install sentence_transformers`."
     ]
    }
   ],
   "source": [
    "from langchain.vectorstores import FAISS\n",
    "from langchain.embeddings import HuggingFaceEmbeddings\n",
    "embeddings = HuggingFaceEmbeddings(model_name = 'sentence-transformers/gtr-t5-base')\n",
    "# embeddings = SentenceTransformer('sentence-transformers/gtr-t5-base')\n",
    "\n",
    "# docsearch = Chroma.from_documents(split_documents, embeddings, persist_directory=\"data/vector_store\")\n",
    "# docsearch.persist()\n",
    "\n",
    "# docsearch = Chroma(persist_directory=\"data/vector_store\", embedding_function=embeddings)\n",
    "\n",
    "db = FAISS.from_documents(split_documents, embeddings)\n"
   ]
  },
  {
   "cell_type": "code",
   "execution_count": 116,
   "metadata": {},
   "outputs": [
    {
     "name": "stdout",
     "output_type": "stream",
     "text": [
      "huggingface/tokenizers: The current process just got forked, after parallelism has already been used. Disabling parallelism to avoid deadlocks...\n",
      "To disable this warning, you can either:\n",
      "\t- Avoid using `tokenizers` before the fork if possible\n",
      "\t- Explicitly set the environment variable TOKENIZERS_PARALLELISM=(true | false)\n"
     ]
    },
    {
     "ename": "AttributeError",
     "evalue": "'Document' object has no attribute 'replace'",
     "output_type": "error",
     "traceback": [
      "\u001b[0;31m---------------------------------------------------------------------------\u001b[0m",
      "\u001b[0;31mAttributeError\u001b[0m                            Traceback (most recent call last)",
      "Cell \u001b[0;32mIn[116], line 2\u001b[0m\n\u001b[1;32m      1\u001b[0m \u001b[39mfrom\u001b[39;00m \u001b[39mlangchain\u001b[39;00m\u001b[39m.\u001b[39;00m\u001b[39mvectorstores\u001b[39;00m \u001b[39mimport\u001b[39;00m Chroma\n\u001b[0;32m----> 2\u001b[0m docsearch \u001b[39m=\u001b[39m Chroma\u001b[39m.\u001b[39;49mfrom_texts(split_documents, embeddings, metadatas\u001b[39m=\u001b[39;49m[{\u001b[39m\"\u001b[39;49m\u001b[39msource\u001b[39;49m\u001b[39m\"\u001b[39;49m: \u001b[39mstr\u001b[39;49m(i)} \u001b[39mfor\u001b[39;49;00m i \u001b[39min\u001b[39;49;00m \u001b[39mrange\u001b[39;49m(\u001b[39mlen\u001b[39;49m(split_documents))])\n",
      "File \u001b[0;32m~/Attributed-QA/langchain/langchain/vectorstores/chroma.py:414\u001b[0m, in \u001b[0;36mChroma.from_texts\u001b[0;34m(cls, texts, embedding, metadatas, ids, collection_name, persist_directory, client_settings, client, **kwargs)\u001b[0m\n\u001b[1;32m    390\u001b[0m \u001b[39m\u001b[39m\u001b[39m\"\"\"Create a Chroma vectorstore from a raw documents.\u001b[39;00m\n\u001b[1;32m    391\u001b[0m \n\u001b[1;32m    392\u001b[0m \u001b[39mIf a persist_directory is specified, the collection will be persisted there.\u001b[39;00m\n\u001b[0;32m   (...)\u001b[0m\n\u001b[1;32m    405\u001b[0m \u001b[39m    Chroma: Chroma vectorstore.\u001b[39;00m\n\u001b[1;32m    406\u001b[0m \u001b[39m\"\"\"\u001b[39;00m\n\u001b[1;32m    407\u001b[0m chroma_collection \u001b[39m=\u001b[39m \u001b[39mcls\u001b[39m(\n\u001b[1;32m    408\u001b[0m     collection_name\u001b[39m=\u001b[39mcollection_name,\n\u001b[1;32m    409\u001b[0m     embedding_function\u001b[39m=\u001b[39membedding,\n\u001b[0;32m   (...)\u001b[0m\n\u001b[1;32m    412\u001b[0m     client\u001b[39m=\u001b[39mclient,\n\u001b[1;32m    413\u001b[0m )\n\u001b[0;32m--> 414\u001b[0m chroma_collection\u001b[39m.\u001b[39;49madd_texts(texts\u001b[39m=\u001b[39;49mtexts, metadatas\u001b[39m=\u001b[39;49mmetadatas, ids\u001b[39m=\u001b[39;49mids)\n\u001b[1;32m    415\u001b[0m \u001b[39mreturn\u001b[39;00m chroma_collection\n",
      "File \u001b[0;32m~/Attributed-QA/langchain/langchain/vectorstores/chroma.py:159\u001b[0m, in \u001b[0;36mChroma.add_texts\u001b[0;34m(self, texts, metadatas, ids, **kwargs)\u001b[0m\n\u001b[1;32m    157\u001b[0m embeddings \u001b[39m=\u001b[39m \u001b[39mNone\u001b[39;00m\n\u001b[1;32m    158\u001b[0m \u001b[39mif\u001b[39;00m \u001b[39mself\u001b[39m\u001b[39m.\u001b[39m_embedding_function \u001b[39mis\u001b[39;00m \u001b[39mnot\u001b[39;00m \u001b[39mNone\u001b[39;00m:\n\u001b[0;32m--> 159\u001b[0m     embeddings \u001b[39m=\u001b[39m \u001b[39mself\u001b[39;49m\u001b[39m.\u001b[39;49m_embedding_function\u001b[39m.\u001b[39;49membed_documents(\u001b[39mlist\u001b[39;49m(texts))\n\u001b[1;32m    160\u001b[0m \u001b[39mself\u001b[39m\u001b[39m.\u001b[39m_collection\u001b[39m.\u001b[39madd(\n\u001b[1;32m    161\u001b[0m     metadatas\u001b[39m=\u001b[39mmetadatas, embeddings\u001b[39m=\u001b[39membeddings, documents\u001b[39m=\u001b[39mtexts, ids\u001b[39m=\u001b[39mids\n\u001b[1;32m    162\u001b[0m )\n\u001b[1;32m    163\u001b[0m \u001b[39mreturn\u001b[39;00m ids\n",
      "File \u001b[0;32m~/Attributed-QA/langchain/langchain/embeddings/huggingface.py:77\u001b[0m, in \u001b[0;36mHuggingFaceEmbeddings.embed_documents\u001b[0;34m(self, texts)\u001b[0m\n\u001b[1;32m     68\u001b[0m \u001b[39mdef\u001b[39;00m \u001b[39membed_documents\u001b[39m(\u001b[39mself\u001b[39m, texts: List[\u001b[39mstr\u001b[39m]) \u001b[39m-\u001b[39m\u001b[39m>\u001b[39m List[List[\u001b[39mfloat\u001b[39m]]:\n\u001b[1;32m     69\u001b[0m \u001b[39m    \u001b[39m\u001b[39m\"\"\"Compute doc embeddings using a HuggingFace transformer model.\u001b[39;00m\n\u001b[1;32m     70\u001b[0m \n\u001b[1;32m     71\u001b[0m \u001b[39m    Args:\u001b[39;00m\n\u001b[0;32m   (...)\u001b[0m\n\u001b[1;32m     75\u001b[0m \u001b[39m        List of embeddings, one for each text.\u001b[39;00m\n\u001b[1;32m     76\u001b[0m \u001b[39m    \"\"\"\u001b[39;00m\n\u001b[0;32m---> 77\u001b[0m     texts \u001b[39m=\u001b[39m \u001b[39mlist\u001b[39;49m(\u001b[39mmap\u001b[39;49m(\u001b[39mlambda\u001b[39;49;00m x: x\u001b[39m.\u001b[39;49mreplace(\u001b[39m\"\u001b[39;49m\u001b[39m\\n\u001b[39;49;00m\u001b[39m\"\u001b[39;49m, \u001b[39m\"\u001b[39;49m\u001b[39m \u001b[39;49m\u001b[39m\"\u001b[39;49m), texts))\n\u001b[1;32m     78\u001b[0m     embeddings \u001b[39m=\u001b[39m \u001b[39mself\u001b[39m\u001b[39m.\u001b[39mclient\u001b[39m.\u001b[39mencode(texts, \u001b[39m*\u001b[39m\u001b[39m*\u001b[39m\u001b[39mself\u001b[39m\u001b[39m.\u001b[39mencode_kwargs)\n\u001b[1;32m     79\u001b[0m     \u001b[39mreturn\u001b[39;00m embeddings\u001b[39m.\u001b[39mtolist()\n",
      "File \u001b[0;32m~/Attributed-QA/langchain/langchain/embeddings/huggingface.py:77\u001b[0m, in \u001b[0;36mHuggingFaceEmbeddings.embed_documents.<locals>.<lambda>\u001b[0;34m(x)\u001b[0m\n\u001b[1;32m     68\u001b[0m \u001b[39mdef\u001b[39;00m \u001b[39membed_documents\u001b[39m(\u001b[39mself\u001b[39m, texts: List[\u001b[39mstr\u001b[39m]) \u001b[39m-\u001b[39m\u001b[39m>\u001b[39m List[List[\u001b[39mfloat\u001b[39m]]:\n\u001b[1;32m     69\u001b[0m \u001b[39m    \u001b[39m\u001b[39m\"\"\"Compute doc embeddings using a HuggingFace transformer model.\u001b[39;00m\n\u001b[1;32m     70\u001b[0m \n\u001b[1;32m     71\u001b[0m \u001b[39m    Args:\u001b[39;00m\n\u001b[0;32m   (...)\u001b[0m\n\u001b[1;32m     75\u001b[0m \u001b[39m        List of embeddings, one for each text.\u001b[39;00m\n\u001b[1;32m     76\u001b[0m \u001b[39m    \"\"\"\u001b[39;00m\n\u001b[0;32m---> 77\u001b[0m     texts \u001b[39m=\u001b[39m \u001b[39mlist\u001b[39m(\u001b[39mmap\u001b[39m(\u001b[39mlambda\u001b[39;00m x: x\u001b[39m.\u001b[39;49mreplace(\u001b[39m\"\u001b[39m\u001b[39m\\n\u001b[39;00m\u001b[39m\"\u001b[39m, \u001b[39m\"\u001b[39m\u001b[39m \u001b[39m\u001b[39m\"\u001b[39m), texts))\n\u001b[1;32m     78\u001b[0m     embeddings \u001b[39m=\u001b[39m \u001b[39mself\u001b[39m\u001b[39m.\u001b[39mclient\u001b[39m.\u001b[39mencode(texts, \u001b[39m*\u001b[39m\u001b[39m*\u001b[39m\u001b[39mself\u001b[39m\u001b[39m.\u001b[39mencode_kwargs)\n\u001b[1;32m     79\u001b[0m     \u001b[39mreturn\u001b[39;00m embeddings\u001b[39m.\u001b[39mtolist()\n",
      "\u001b[0;31mAttributeError\u001b[0m: 'Document' object has no attribute 'replace'"
     ]
    }
   ],
   "source": [
    "from langchain.vectorstores import Chroma\n",
    "docsearch = Chroma.from_texts(split_documents, embeddings, metadatas=[{\"source\": str(i)} for i in range(len(split_documents))])"
   ]
  },
  {
   "cell_type": "code",
   "execution_count": 60,
   "metadata": {},
   "outputs": [],
   "source": [
    "query = \"who need 40 credits?\"\n",
    "docs = db.similarity_search(query)"
   ]
  },
  {
   "cell_type": "code",
   "execution_count": 16,
   "metadata": {},
   "outputs": [],
   "source": [
    "db.save_local(\"data/faiss_index\")"
   ]
  },
  {
   "cell_type": "code",
   "execution_count": 18,
   "metadata": {},
   "outputs": [],
   "source": [
    "new_db = FAISS.load_local(\"data/faiss_index\", embeddings)"
   ]
  },
  {
   "cell_type": "code",
   "execution_count": 113,
   "metadata": {},
   "outputs": [
    {
     "data": {
      "text/plain": [
       "[Document(page_content=\"needed to provide benefits for your survivors depends on your age when you die. No one needs more than 40 credits 10 years of work to be eligible for any Social Security benefit. But , the younger a person is , the fewer credits they must have for family members to receive survivors benefits. Benefits can be paid to your children and your spouse who is caring for the children even if you don't have the required number of credits. They can get benefits if you have credit for one and one - half\", metadata={'source': '/home/ygong/Attributed-QA/data/doc1.json', 'seq_num': 1}),\n",
       " Document(page_content='if you have credit for one and one - half years of work 6 credits in the three years just before your death.', metadata={'source': '/home/ygong/Attributed-QA/data/doc1.json', 'seq_num': 1}),\n",
       " Document(page_content=\"As you plan for the future , you'll want to think about what your family would need if you should die now. Social Security can help your family if you have earned enough Social Security credits through your work. You can earn up to four credits each year. In 2019 , for example , you earn one credit for each $1,360 of wages or self - employment income. When you have earned $5,440 , you have earned your four credits for the year. The number of credits needed to provide benefits for your survivors\", metadata={'source': '/home/ygong/Attributed-QA/data/doc1.json', 'seq_num': 1}),\n",
       " Document(page_content='your basic amount ; Disabled widow or widower , age 50 through 59 71 percent ; Widow or widower , any age, caring for a child under age 16 75 percent ; A child under age 18 19 if still in elementary or secondary school or disabled 75 percent ; and Your dependent parent , age 62 or older : One surviving parent 82 percent. Two surviving parents 75 percent to each parent. Percentages for a surviving divorced spouse would be the same as above. There may also be a special lump - sum death payment.', metadata={'source': '/home/ygong/Attributed-QA/data/doc1.json', 'seq_num': 1})]"
      ]
     },
     "execution_count": 113,
     "metadata": {},
     "output_type": "execute_result"
    }
   ],
   "source": [
    "docs"
   ]
  },
  {
   "cell_type": "code",
   "execution_count": 1,
   "metadata": {},
   "outputs": [],
   "source": [
    "paragraph = \"Beyoncé Giselle Knowles-Carter (/biːˈjɒnseɪ/ bee-YON-say) (born September 4, 1981) is an American singer, songwriter, record producer and actress. Born and raised in Houston, Texas, she performed in various singing and dancing competitions as a child, and rose to fame in the late 1990s as lead singer of R&B girl-group Destiny's Child. Managed by her father, Mathew Knowles, the group became one of the world's best-selling girl groups of all time. Their hiatus saw the release of Beyoncé's debut album, Dangerously in Love (2003), which established her as a solo artist worldwide, earned five Grammy Awards and featured the Billboard Hot 100 number-one singles \\\"Crazy in Love\\\" and \\\"Baby Boy\\\".\""
   ]
  },
  {
   "cell_type": "code",
   "execution_count": 3,
   "metadata": {},
   "outputs": [
    {
     "data": {
      "text/plain": [
       "'singing and dancing competitions as a child, and rose to fame in the late 1990s as lead singer of R&B girl-group Destiny\\'s Child. Managed by her father, Mathew Knowles, the group became one of the world\\'s best-selling girl groups of all time. Their hiatus saw the release of Beyoncé\\'s debut album, Dangerously in Love (2003), which established her as a solo artist worldwide, earned five Grammy Awards and featured the Billboard Hot 100 number-one singles \"Crazy in Love\" and \"Baby Boy\".'"
      ]
     },
     "execution_count": 3,
     "metadata": {},
     "output_type": "execute_result"
    }
   ],
   "source": [
    "paragraph[207:]"
   ]
  },
  {
   "attachments": {},
   "cell_type": "markdown",
   "metadata": {},
   "source": [
    "# QA"
   ]
  },
  {
   "cell_type": "code",
   "execution_count": 32,
   "metadata": {},
   "outputs": [],
   "source": [
    "from langchain import VectorDBQA\n",
    "from langchain.chains import qa_with_sources\n",
    "from langchain.chains.question_answering import load_qa_chain\n",
    "from langchain import HuggingFaceHub\n",
    "import os\n",
    "os.environ[\"HUGGINGFACEHUB_API_TOKEN\"] = 'your_token'\n"
   ]
  },
  {
   "cell_type": "code",
   "execution_count": 64,
   "metadata": {},
   "outputs": [
    {
     "data": {
      "text/plain": [
       "'No one needs more than 40 credits 10 years of work to be eligible for any Social Security benefit'"
      ]
     },
     "execution_count": 64,
     "metadata": {},
     "output_type": "execute_result"
    }
   ],
   "source": [
    "# qa = qa_with_sources.from_chain_type(llm=qa_model, chain_type=\"map_reduce\", vectorstore=db,return_source_documents=True)\n",
    "\n",
    "qa_model = HuggingFaceHub(repo_id='google/flan-t5-base')\n",
    "query = \"Please answer the following question.\\nHow need 40 credits?\"\n",
    "chain = load_qa_chain(llm=qa_model, chain_type=\"stuff\")\n",
    "chain.run(input_documents=docs, question=query, raw_response=True)\n",
    "\n",
    "\n",
    "# result = qa({\"query\": \"I'm looking for information regarding benefits planning, can you help me?\"})\n",
    "# print(result)"
   ]
  },
  {
   "cell_type": "code",
   "execution_count": 120,
   "metadata": {},
   "outputs": [
    {
     "data": {
      "text/plain": [
       "{'output_text': 'No one needs more than 40 credits 10 years of work to be eligible for any Social Security benefit'}"
      ]
     },
     "execution_count": 120,
     "metadata": {},
     "output_type": "execute_result"
    }
   ],
   "source": [
    "from langchain.chains.qa_with_sources import load_qa_with_sources_chain\n",
    "query = \"Please answer the following question.\\nHow need 40 credits?\"\n",
    "chain = load_qa_with_sources_chain(qa_model, chain_type=\"stuff\")\n",
    "chain({\"input_documents\": docs, \"question\": query}, return_only_outputs=True)"
   ]
  },
  {
   "cell_type": "code",
   "execution_count": 56,
   "metadata": {},
   "outputs": [
    {
     "data": {
      "text/plain": [
       "[Document(page_content='Benefits Planner: Survivors | Planning For Your Survivors', metadata={'source': '/home/ygong/Attributed-QA/data/doc1.json', 'seq_num': 1}),\n",
       " Document(page_content=\"If you have a surviving divorced spouse , they could get the same benefits as your widow or widower provided that your marriage lasted 10 years or more. Benefits paid to a surviving divorced spouse won't affect the benefit amounts your other survivors will receive based on your earnings record. If your former spouse is caring for your child who is under age 16 or disabled and gets benefits on your record , they will not have to meet the length - of - marriage rule. The child must be your\", metadata={'source': '/home/ygong/Attributed-QA/data/doc1.json', 'seq_num': 1}),\n",
       " Document(page_content=\"on your record , they can switch to their own retirement benefit as early as age 62. This assumes they're eligible for retirement benefits and their retirement rate is higher than their rate as a widow, widower, or surviving divorced spouse. In many cases , a widow or widower can begin receiving one benefit at a reduced rate and then, at full retirement age, switch to the other benefit at an unreduced rate. If your widow, widower, or surviving divorced spouse will also receive a pension based\", metadata={'source': '/home/ygong/Attributed-QA/data/doc1.json', 'seq_num': 1}),\n",
       " Document(page_content=\"needed to provide benefits for your survivors depends on your age when you die. No one needs more than 40 credits 10 years of work to be eligible for any Social Security benefit. But , the younger a person is , the fewer credits they must have for family members to receive survivors benefits. Benefits can be paid to your children and your spouse who is caring for the children even if you don't have the required number of credits. They can get benefits if you have credit for one and one - half\", metadata={'source': '/home/ygong/Attributed-QA/data/doc1.json', 'seq_num': 1})]"
      ]
     },
     "execution_count": 56,
     "metadata": {},
     "output_type": "execute_result"
    }
   ],
   "source": [
    "docs"
   ]
  },
  {
   "cell_type": "code",
   "execution_count": 66,
   "metadata": {},
   "outputs": [],
   "source": [
    "# read from a text file\n",
    "with open('api.txt', 'r') as file:\n",
    "    api = file.read()"
   ]
  },
  {
   "cell_type": "code",
   "execution_count": 68,
   "metadata": {},
   "outputs": [],
   "source": [
    "os.environ[\"OPENAI_API_KEY\"] = api"
   ]
  },
  {
   "cell_type": "code",
   "execution_count": 114,
   "metadata": {},
   "outputs": [
    {
     "ename": "ImportError",
     "evalue": "Could not import openai python package. Please install it with `pip install openai`.",
     "output_type": "error",
     "traceback": [
      "\u001b[0;31m---------------------------------------------------------------------------\u001b[0m",
      "\u001b[0;31mModuleNotFoundError\u001b[0m                       Traceback (most recent call last)",
      "File \u001b[0;32m~/Attributed-QA/langchain/langchain/llms/openai.py:236\u001b[0m, in \u001b[0;36mBaseOpenAI.validate_environment\u001b[0;34m(cls, values)\u001b[0m\n\u001b[1;32m    235\u001b[0m \u001b[39mtry\u001b[39;00m:\n\u001b[0;32m--> 236\u001b[0m     \u001b[39mimport\u001b[39;00m \u001b[39mopenai\u001b[39;00m\n\u001b[1;32m    238\u001b[0m     values[\u001b[39m\"\u001b[39m\u001b[39mclient\u001b[39m\u001b[39m\"\u001b[39m] \u001b[39m=\u001b[39m openai\u001b[39m.\u001b[39mCompletion\n",
      "\u001b[0;31mModuleNotFoundError\u001b[0m: No module named 'openai'",
      "\nDuring handling of the above exception, another exception occurred:\n",
      "\u001b[0;31mImportError\u001b[0m                               Traceback (most recent call last)",
      "Cell \u001b[0;32mIn[114], line 3\u001b[0m\n\u001b[1;32m      1\u001b[0m \u001b[39mfrom\u001b[39;00m \u001b[39mlangchain\u001b[39;00m \u001b[39mimport\u001b[39;00m OpenAI\n\u001b[1;32m      2\u001b[0m query \u001b[39m=\u001b[39m \u001b[39m\"\u001b[39m\u001b[39mPlease answer the following question.\u001b[39m\u001b[39m\\n\u001b[39;00m\u001b[39mHow need 40 credits?\u001b[39m\u001b[39m\"\u001b[39m\n\u001b[0;32m----> 3\u001b[0m openai_model \u001b[39m=\u001b[39m OpenAI(model_name\u001b[39m=\u001b[39;49m\u001b[39m\"\u001b[39;49m\u001b[39mtext-davinci-003\u001b[39;49m\u001b[39m\"\u001b[39;49m, max_tokens\u001b[39m=\u001b[39;49m\u001b[39m1024\u001b[39;49m)\n\u001b[1;32m      4\u001b[0m chain \u001b[39m=\u001b[39m load_qa_with_sources_chain(openai_model, chain_type\u001b[39m=\u001b[39m\u001b[39m\"\u001b[39m\u001b[39mstuff\u001b[39m\u001b[39m\"\u001b[39m)\n\u001b[1;32m      5\u001b[0m chain({\u001b[39m\"\u001b[39m\u001b[39minput_documents\u001b[39m\u001b[39m\"\u001b[39m: docs, \u001b[39m\"\u001b[39m\u001b[39mquestion\u001b[39m\u001b[39m\"\u001b[39m: query}, return_only_outputs\u001b[39m=\u001b[39m\u001b[39mTrue\u001b[39;00m)\n",
      "File \u001b[0;32m~/miniconda3/envs/atlas-env/lib/python3.8/site-packages/pydantic/main.py:339\u001b[0m, in \u001b[0;36mpydantic.main.BaseModel.__init__\u001b[0;34m()\u001b[0m\n",
      "File \u001b[0;32m~/miniconda3/envs/atlas-env/lib/python3.8/site-packages/pydantic/main.py:1102\u001b[0m, in \u001b[0;36mpydantic.main.validate_model\u001b[0;34m()\u001b[0m\n",
      "File \u001b[0;32m~/Attributed-QA/langchain/langchain/llms/openai.py:240\u001b[0m, in \u001b[0;36mBaseOpenAI.validate_environment\u001b[0;34m(cls, values)\u001b[0m\n\u001b[1;32m    238\u001b[0m     values[\u001b[39m\"\u001b[39m\u001b[39mclient\u001b[39m\u001b[39m\"\u001b[39m] \u001b[39m=\u001b[39m openai\u001b[39m.\u001b[39mCompletion\n\u001b[1;32m    239\u001b[0m \u001b[39mexcept\u001b[39;00m \u001b[39mImportError\u001b[39;00m:\n\u001b[0;32m--> 240\u001b[0m     \u001b[39mraise\u001b[39;00m \u001b[39mImportError\u001b[39;00m(\n\u001b[1;32m    241\u001b[0m         \u001b[39m\"\u001b[39m\u001b[39mCould not import openai python package. \u001b[39m\u001b[39m\"\u001b[39m\n\u001b[1;32m    242\u001b[0m         \u001b[39m\"\u001b[39m\u001b[39mPlease install it with `pip install openai`.\u001b[39m\u001b[39m\"\u001b[39m\n\u001b[1;32m    243\u001b[0m     )\n\u001b[1;32m    244\u001b[0m \u001b[39mif\u001b[39;00m values[\u001b[39m\"\u001b[39m\u001b[39mstreaming\u001b[39m\u001b[39m\"\u001b[39m] \u001b[39mand\u001b[39;00m values[\u001b[39m\"\u001b[39m\u001b[39mn\u001b[39m\u001b[39m\"\u001b[39m] \u001b[39m>\u001b[39m \u001b[39m1\u001b[39m:\n\u001b[1;32m    245\u001b[0m     \u001b[39mraise\u001b[39;00m \u001b[39mValueError\u001b[39;00m(\u001b[39m\"\u001b[39m\u001b[39mCannot stream results when n > 1.\u001b[39m\u001b[39m\"\u001b[39m)\n",
      "\u001b[0;31mImportError\u001b[0m: Could not import openai python package. Please install it with `pip install openai`."
     ]
    }
   ],
   "source": [
    "from langchain import OpenAI\n",
    "query = \"Please answer the following question.\\nHow need 40 credits?\"\n",
    "openai_model = OpenAI(model_name=\"text-davinci-003\", max_tokens=1024)\n",
    "chain = load_qa_with_sources_chain(openai_model, chain_type=\"stuff\")\n",
    "chain({\"input_documents\": docs, \"question\": query}, return_only_outputs=True)"
   ]
  },
  {
   "attachments": {},
   "cell_type": "markdown",
   "metadata": {},
   "source": [
    "# evaluation"
   ]
  },
  {
   "cell_type": "code",
   "execution_count": 1,
   "metadata": {},
   "outputs": [
    {
     "name": "stderr",
     "output_type": "stream",
     "text": [
      "/home/ygong/miniconda3/envs/atlas-env/lib/python3.8/site-packages/tqdm/auto.py:21: TqdmWarning: IProgress not found. Please update jupyter and ipywidgets. See https://ipywidgets.readthedocs.io/en/stable/user_install.html\n",
      "  from .autonotebook import tqdm as notebook_tqdm\n"
     ]
    }
   ],
   "source": [
    "import evaluation\n",
    "import pandas as pd\n",
    "\n",
    "data_paths = ['data/doc2dial/result_1_cp500.csv', 'data/doc2dial/result_1.csv']\n",
    "\n",
    "def read_data(data_paths):\n",
    "    \"\"\"Reads the data from the given paths.\"\"\"\n",
    "    dfs = []\n",
    "    for path in data_paths:\n",
    "        dfs.append(pd.read_csv(path))\n",
    "    return pd.concat(dfs)"
   ]
  },
  {
   "cell_type": "code",
   "execution_count": 2,
   "metadata": {},
   "outputs": [],
   "source": [
    "df = read_data(data_paths)\n",
    "# df = df.dropna(subset=['answer'])"
   ]
  },
  {
   "cell_type": "code",
   "execution_count": 254,
   "metadata": {},
   "outputs": [
    {
     "data": {
      "text/plain": [
       "21993"
      ]
     },
     "execution_count": 254,
     "metadata": {},
     "output_type": "execute_result"
    }
   ],
   "source": [
    "len(df)"
   ]
  },
  {
   "cell_type": "code",
   "execution_count": 261,
   "metadata": {},
   "outputs": [
    {
     "data": {
      "text/html": [
       "<div>\n",
       "<style scoped>\n",
       "    .dataframe tbody tr th:only-of-type {\n",
       "        vertical-align: middle;\n",
       "    }\n",
       "\n",
       "    .dataframe tbody tr th {\n",
       "        vertical-align: top;\n",
       "    }\n",
       "\n",
       "    .dataframe thead th {\n",
       "        text-align: right;\n",
       "    }\n",
       "</style>\n",
       "<table border=\"1\" class=\"dataframe\">\n",
       "  <thead>\n",
       "    <tr style=\"text-align: right;\">\n",
       "      <th></th>\n",
       "      <th>question</th>\n",
       "      <th>answer</th>\n",
       "      <th>passage(context)</th>\n",
       "    </tr>\n",
       "  </thead>\n",
       "  <tbody>\n",
       "    <tr>\n",
       "      <th>21487</th>\n",
       "      <td>If I want to know more about this topic and ma...</td>\n",
       "      <td>I want to know more about this topic and make ...</td>\n",
       "      <td>Making Payments</td>\n",
       "    </tr>\n",
       "    <tr>\n",
       "      <th>21488</th>\n",
       "      <td>ok i understand and what things should i avoid?</td>\n",
       "      <td>(iii)</td>\n",
       "      <td>Circumstances That May Affect Your Grace Period</td>\n",
       "    </tr>\n",
       "    <tr>\n",
       "      <th>21489</th>\n",
       "      <td>What if it's not up to me and I can't make pay...</td>\n",
       "      <td>d).</td>\n",
       "      <td>I m having trouble making my loan payment. \\nC...</td>\n",
       "    </tr>\n",
       "    <tr>\n",
       "      <th>21490</th>\n",
       "      <td>How can I make a payment by post?</td>\n",
       "      <td>You can mail a check or money order to a speci...</td>\n",
       "      <td>Making Payments</td>\n",
       "    </tr>\n",
       "    <tr>\n",
       "      <th>21491</th>\n",
       "      <td>Can you forgive the student loan?</td>\n",
       "      <td>in certain situations</td>\n",
       "      <td>Having Your Student Loan Forgiven \\nYou are ge...</td>\n",
       "    </tr>\n",
       "  </tbody>\n",
       "</table>\n",
       "</div>"
      ],
      "text/plain": [
       "                                                question  \\\n",
       "21487  If I want to know more about this topic and ma...   \n",
       "21488    ok i understand and what things should i avoid?   \n",
       "21489  What if it's not up to me and I can't make pay...   \n",
       "21490                  How can I make a payment by post?   \n",
       "21491                  Can you forgive the student loan?   \n",
       "\n",
       "                                                  answer  \\\n",
       "21487  I want to know more about this topic and make ...   \n",
       "21488                                              (iii)   \n",
       "21489                                                d).   \n",
       "21490  You can mail a check or money order to a speci...   \n",
       "21491                              in certain situations   \n",
       "\n",
       "                                        passage(context)  \n",
       "21487                                    Making Payments  \n",
       "21488    Circumstances That May Affect Your Grace Period  \n",
       "21489  I m having trouble making my loan payment. \\nC...  \n",
       "21490                                    Making Payments  \n",
       "21491  Having Your Student Loan Forgiven \\nYou are ge...  "
      ]
     },
     "execution_count": 261,
     "metadata": {},
     "output_type": "execute_result"
    }
   ],
   "source": [
    "df.tail()"
   ]
  },
  {
   "cell_type": "code",
   "execution_count": 44,
   "metadata": {},
   "outputs": [],
   "source": [
    "def load_doc_file(file_path):\n",
    "    \"\"\"\n",
    "    Load doc2dial_doc.json file\n",
    "    \"\"\"\n",
    "    #check if file is json\n",
    "    if file_path.endswith('.json'):\n",
    "        with open(file_path, 'r') as f:\n",
    "            doc2dial_doc = json.load(f)\n",
    "        return doc2dial_doc\n",
    "    else:\n",
    "        raise ValueError('File is not json')"
   ]
  },
  {
   "cell_type": "code",
   "execution_count": 45,
   "metadata": {},
   "outputs": [],
   "source": [
    "doc_file_path = 'data/doc2dial/doc2dial_doc.json'\n",
    "doc2dial_doc = load_doc_file(doc_file_path)"
   ]
  },
  {
   "attachments": {},
   "cell_type": "markdown",
   "metadata": {},
   "source": [
    "compute f1(model answer, true answer), autoais(q,a,ref), attribution_f1(retrieved answer, true answer)"
   ]
  },
  {
   "cell_type": "code",
   "execution_count": 9,
   "metadata": {},
   "outputs": [],
   "source": [
    "qa_file_path = 'data/doc2dial/doc2dial_qa_train.csv'\n",
    "qa_df = pd.read_csv(qa_file_path)"
   ]
  },
  {
   "cell_type": "code",
   "execution_count": 2,
   "metadata": {},
   "outputs": [],
   "source": [
    "# from transformers import T5Tokenizer, T5ForConditionalGeneration\n",
    "# import torch\n",
    "\n",
    "# device = torch.device(\"cuda\" if torch.cuda.is_available() else \"cpu\")\n",
    "\n",
    "\n",
    "# AUTOAIS = \"google/t5_xxl_true_nli_mixture\"\n",
    "# hf_tokenizer = T5Tokenizer.from_pretrained(AUTOAIS)\n",
    "# hf_model = T5ForConditionalGeneration.from_pretrained(AUTOAIS)\n",
    "# if torch.cuda.device_count() > 1:\n",
    "#     print('use multiple GPUs')\n",
    "#     hf_model = torch.nn.DataParallel(hf_model)\n",
    "# hf_model.to(device)"
   ]
  },
  {
   "cell_type": "code",
   "execution_count": 13,
   "metadata": {},
   "outputs": [
    {
     "data": {
      "text/plain": [
       "device(type='cuda')"
      ]
     },
     "execution_count": 13,
     "metadata": {},
     "output_type": "execute_result"
    }
   ],
   "source": [
    "torch.device(\"cuda\" if torch.cuda.is_available() else \"cpu\")"
   ]
  },
  {
   "cell_type": "code",
   "execution_count": 16,
   "metadata": {},
   "outputs": [],
   "source": [
    "failed_doc_ids = [645,1448,1523,1573,8159]\n",
    "\n",
    "def eval_test(df, doc2dial_doc, qa_df, failed_doc_ids, test_num=5):\n",
    "    null_answer_cnt = 0\n",
    "    tn = 0\n",
    "    total_autoais = 0\n",
    "    cnt = 0\n",
    "    eval_df = pd.DataFrame(columns=['id', 'autoais', 'f1', 'att_f1'])\n",
    "\n",
    "    for index, row in df.iterrows():\n",
    "        print('index: ', index)\n",
    "        print('question: ', row['question'])\n",
    "        # print('test_num: ', tn)\n",
    "        if tn == test_num:\n",
    "            break\n",
    "        tn += 1\n",
    "        # print('index: ', index)\n",
    "        # print('cnt: ', cnt)\n",
    "\n",
    "        # qa_pair = qa_df.iloc[cnt]\n",
    "        qa_pair = qa_df[qa_df['question'] == df.iloc[cnt]['question']].iloc[0]\n",
    "        \n",
    "        if row['question'] != qa_pair['question']:\n",
    "            print('question not match')\n",
    "            print('row question: ', row['question'])\n",
    "            print('qa_pair question: ', qa_pair['question'])\n",
    "            # cnt += 2\n",
    "            # continue\n",
    "        model_answer = row['answer']\n",
    "\n",
    "        # if str(model_answer) == 'nan':\n",
    "        #     print('answer is NaN')\n",
    "        #     print('cnt: ', cnt)\n",
    "        #     cnt += 1\n",
    "        #     null_answer_cnt += 1\n",
    "        #     continue\n",
    "        retrived_doc = row['passage(context)']\n",
    "        retrived_doc = retrived_doc.replace('/n', '\\n')\n",
    "        # print('retrived_doc: ', retrived_doc)\n",
    "\n",
    "        sp_list = evaluation.get_ref(qa_pair, doc2dial_doc)\n",
    "        ref_list = [item['text_sp'] for item in sp_list]\n",
    "        true_ref = '\\n'.join(ref_list)\n",
    "\n",
    "        # print('true_ref: ', true_ref)\n",
    "\n",
    "        #autoais\n",
    "        example = {}\n",
    "        example['question'] = row['question']\n",
    "        example['answer'] = model_answer \n",
    "        example['passage'] = retrived_doc\n",
    "            \n",
    "        # print('model_answer: ', model_answer)\n",
    "        print('true_ref: ', true_ref)\n",
    "        print('true_answer', qa_pair['answer'])\n",
    "\n",
    "        # autoais = evaluation.infer_autoais(example, hf_tokenizer, hf_model)\n",
    "        # total_autoais += autoais == 'Y' \n",
    "        #f1 score\n",
    "        try:\n",
    "            f1 = evaluation.compute_f1(model_answer, qa_pair['answer'])\n",
    "        except:\n",
    "            print('cnt: ', cnt)\n",
    "            null_answer_cnt += 1\n",
    "        print('f1: ', f1)\n",
    "\n",
    "        #attribution_f1 score (retrieved answer, true answer)\n",
    "        att_f1 = evaluation.compute_f1(retrived_doc, true_ref)\n",
    "\n",
    "        eval_df.loc[len(eval_df)] = [cnt, 'Y', f1, att_f1]\n",
    "        if cnt == test_num:\n",
    "            break\n",
    "        cnt += 1\n",
    "\n",
    "    print('null_answer_cnt: ', null_answer_cnt)\n",
    "# ['avg', eval_df['autoais'].mean(), eval_df['f1'].mean(), eval_df['att_f1'].mean()]"
   ]
  },
  {
   "cell_type": "code",
   "execution_count": 17,
   "metadata": {},
   "outputs": [
    {
     "name": "stdout",
     "output_type": "stream",
     "text": [
      "index:  0\n",
      "question:  Hello, I forgot o update my address, can you help me with that?\n",
      "true_ref:  you must report a change of address to DMV within ten days of moving. \n",
      "That is the case for the address associated with your license, as well as all the addresses associated with each registered vehicle, which may differ. \n",
      "true_answer hi, you have to report any change of address to DMV within 10 days after moving. You should do this both for the address associated with your license and all the addresses associated with all your vehicles.\n",
      "f1:  0\n",
      "index:  1\n",
      "question:  Can I do my DMV transactions online?\n",
      "true_ref:  Sign up or log into MyDMV [6 ] \n",
      "true_answer Yes, you can sign up for MyDMV for all the online transactions needed.\n",
      "f1:  0\n",
      "index:  2\n",
      "question:  Thanks, and in case I forget to bring all of the documentation needed to the DMV office, what can I do?\n",
      "true_ref:  About ten percent of customers visiting a DMV office do not bring what they need to complete their transaction, and have to come back a second time to finish their business. \n",
      "This can be as simple as not bringing sufficient funds to pay for a license renewal or not having the proof of auto insurance required to register a car. \n",
      "don t visit a DMV office at all, and see if your transaction can be performed online, like an address change, registration renewal, license renewal, replacing a lost title, paying a DRA or scheduling a road test. \n",
      "true_answer This happens often with our customers so that's why our website and MyDMV are so useful for our customers. Just check if you can make your transaction online so you don't have to go to the DMV Office.\n",
      "f1:  0\n",
      "index:  3\n",
      "question:  Ok, and can you tell me again where should I report my new address?\n",
      "true_ref:  you must report a change of address to DMV within ten days of moving. \n",
      "That is the case for the address associated with your license, as well as all the addresses associated with each registered vehicle, which may differ. \n",
      "true_answer Sure. Any change of address must be reported to the DMV, that's for the address associated with your license and any of your vehicles.\n",
      "f1:  0.08695652173913045\n",
      "index:  4\n",
      "question:  Can you tell me more about Traffic points and their cost?\n",
      "true_ref:  DMV maintains a point system to track dangerous drivers. \n",
      "motorists convicted of a traffic ticket feel they have resolved all their motoring issues with the local court, but later learn that the Driver Responsibility Assessment DRA is a separate DMV charge based on the total points they accumulate. \n",
      "true_answer Traffic points is the system used by DMV to track dangerous drivers. The cost of the traffic points is independent of the DRA, so you get a separate charge based on the total points you accumulate.\n",
      "f1:  0.15789473684210528\n",
      "index:  5\n",
      "question:  Will you keep me informed about when my insurance is about to lapse?\n",
      "null_answer_cnt:  0\n"
     ]
    }
   ],
   "source": [
    "eval_test(df, doc2dial_doc, qa_df, failed_doc_ids, test_num=5) #[ ] seems a bug here, first and second are both index 0"
   ]
  },
  {
   "cell_type": "code",
   "execution_count": 187,
   "metadata": {},
   "outputs": [
    {
     "data": {
      "text/html": [
       "<div>\n",
       "<style scoped>\n",
       "    .dataframe tbody tr th:only-of-type {\n",
       "        vertical-align: middle;\n",
       "    }\n",
       "\n",
       "    .dataframe tbody tr th {\n",
       "        vertical-align: top;\n",
       "    }\n",
       "\n",
       "    .dataframe thead th {\n",
       "        text-align: right;\n",
       "    }\n",
       "</style>\n",
       "<table border=\"1\" class=\"dataframe\">\n",
       "  <thead>\n",
       "    <tr style=\"text-align: right;\">\n",
       "      <th></th>\n",
       "      <th>question</th>\n",
       "      <th>answer</th>\n",
       "      <th>domain</th>\n",
       "      <th>doc_id</th>\n",
       "      <th>references</th>\n",
       "      <th>dial_id</th>\n",
       "    </tr>\n",
       "  </thead>\n",
       "  <tbody>\n",
       "    <tr>\n",
       "      <th>1</th>\n",
       "      <td>Can I do my DMV transactions online?</td>\n",
       "      <td>Yes, you can sign up for MyDMV for all the onl...</td>\n",
       "      <td>dmv</td>\n",
       "      <td>Top 5 DMV Mistakes and How to Avoid Them#3_0</td>\n",
       "      <td>[{'sp_id': '56', 'label': 'solution'}]</td>\n",
       "      <td>9f44c1539efe6f7e79b02eb1b413aa43</td>\n",
       "    </tr>\n",
       "  </tbody>\n",
       "</table>\n",
       "</div>"
      ],
      "text/plain": [
       "                               question  \\\n",
       "1  Can I do my DMV transactions online?   \n",
       "\n",
       "                                              answer domain  \\\n",
       "1  Yes, you can sign up for MyDMV for all the onl...    dmv   \n",
       "\n",
       "                                         doc_id  \\\n",
       "1  Top 5 DMV Mistakes and How to Avoid Them#3_0   \n",
       "\n",
       "                               references                           dial_id  \n",
       "1  [{'sp_id': '56', 'label': 'solution'}]  9f44c1539efe6f7e79b02eb1b413aa43  "
      ]
     },
     "execution_count": 187,
     "metadata": {},
     "output_type": "execute_result"
    }
   ],
   "source": [
    "qa_df[qa_df['question'] == df.iloc[1]['question']]"
   ]
  },
  {
   "cell_type": "code",
   "execution_count": null,
   "metadata": {},
   "outputs": [],
   "source": []
  },
  {
   "cell_type": "code",
   "execution_count": 49,
   "metadata": {},
   "outputs": [
    {
     "data": {
      "text/plain": [
       "21768"
      ]
     },
     "execution_count": 49,
     "metadata": {},
     "output_type": "execute_result"
    }
   ],
   "source": [
    "len(df)"
   ]
  },
  {
   "cell_type": "code",
   "execution_count": 250,
   "metadata": {},
   "outputs": [
    {
     "data": {
      "text/plain": [
       "21998"
      ]
     },
     "execution_count": 250,
     "metadata": {},
     "output_type": "execute_result"
    }
   ],
   "source": [
    "len(qa_df)"
   ]
  },
  {
   "cell_type": "code",
   "execution_count": 210,
   "metadata": {},
   "outputs": [
    {
     "data": {
      "text/plain": [
       "21768"
      ]
     },
     "execution_count": 210,
     "metadata": {},
     "output_type": "execute_result"
    }
   ],
   "source": [
    "#remove answer is NaN\n",
    "df = df.dropna(subset=['answer'])\n",
    "len(df)"
   ]
  },
  {
   "cell_type": "code",
   "execution_count": 171,
   "metadata": {},
   "outputs": [
    {
     "data": {
      "text/plain": [
       "\"I ordered my replacement license and still have not received it, it's over 2 weeks since I ordered it\""
      ]
     },
     "execution_count": 171,
     "metadata": {},
     "output_type": "execute_result"
    }
   ],
   "source": [
    "df.iloc[694]['question']"
   ]
  },
  {
   "cell_type": "code",
   "execution_count": 176,
   "metadata": {},
   "outputs": [],
   "source": [
    "qa_pair = qa_df[qa_df['question'] == df.iloc[694]['question']]"
   ]
  },
  {
   "cell_type": "code",
   "execution_count": 201,
   "metadata": {},
   "outputs": [
    {
     "data": {
      "text/plain": [
       "\"I ordered my replacement license and still have not received it, it's over 2 weeks since I ordered it\""
      ]
     },
     "execution_count": 201,
     "metadata": {},
     "output_type": "execute_result"
    }
   ],
   "source": [
    "qa_pair.iloc[0]['question']"
   ]
  },
  {
   "cell_type": "code",
   "execution_count": 181,
   "metadata": {},
   "outputs": [
    {
     "data": {
      "text/plain": [
       "695    True\n",
       "Name: question, dtype: bool"
      ]
     },
     "execution_count": 181,
     "metadata": {},
     "output_type": "execute_result"
    }
   ],
   "source": [
    "qa_pair['question'] == df.iloc[694]['question']"
   ]
  },
  {
   "cell_type": "code",
   "execution_count": 243,
   "metadata": {},
   "outputs": [
    {
     "data": {
      "text/html": [
       "<div>\n",
       "<style scoped>\n",
       "    .dataframe tbody tr th:only-of-type {\n",
       "        vertical-align: middle;\n",
       "    }\n",
       "\n",
       "    .dataframe tbody tr th {\n",
       "        vertical-align: top;\n",
       "    }\n",
       "\n",
       "    .dataframe thead th {\n",
       "        text-align: right;\n",
       "    }\n",
       "</style>\n",
       "<table border=\"1\" class=\"dataframe\">\n",
       "  <thead>\n",
       "    <tr style=\"text-align: right;\">\n",
       "      <th></th>\n",
       "      <th>question</th>\n",
       "      <th>answer</th>\n",
       "      <th>passage(context)</th>\n",
       "    </tr>\n",
       "  </thead>\n",
       "  <tbody>\n",
       "    <tr>\n",
       "      <th>606</th>\n",
       "      <td>id like to register a moped</td>\n",
       "      <td>NaN</td>\n",
       "      <td>can certify a moped.</td>\n",
       "    </tr>\n",
       "    <tr>\n",
       "      <th>607</th>\n",
       "      <td>no a regular moped, it has 2 wheels and moves ...</td>\n",
       "      <td>no</td>\n",
       "      <td>Register a moped[1] \\n\\n\\nWhat is considered a...</td>\n",
       "    </tr>\n",
       "    <tr>\n",
       "      <th>608</th>\n",
       "      <td>i have a document i can bring to an office</td>\n",
       "      <td>yes</td>\n",
       "      <td>What do I need to bring to the DMV? \\nBefore v...</td>\n",
       "    </tr>\n",
       "    <tr>\n",
       "      <th>609</th>\n",
       "      <td>i am in the UK where do i bring my documents?</td>\n",
       "      <td>DMV</td>\n",
       "      <td>What do I need to bring to the DMV? \\nBefore v...</td>\n",
       "    </tr>\n",
       "    <tr>\n",
       "      <th>610</th>\n",
       "      <td>can i still use my moped without my documents?</td>\n",
       "      <td>no</td>\n",
       "      <td>What do I need to bring to the DMV? \\nBefore v...</td>\n",
       "    </tr>\n",
       "    <tr>\n",
       "      <th>611</th>\n",
       "      <td>i will also bring proof of insurance and my id...</td>\n",
       "      <td>yes</td>\n",
       "      <td>to determine if you need insurance. Your insur...</td>\n",
       "    </tr>\n",
       "    <tr>\n",
       "      <th>612</th>\n",
       "      <td>i have full insurance and full drivers permit</td>\n",
       "      <td>no</td>\n",
       "      <td>permits and driver licenses. See information a...</td>\n",
       "    </tr>\n",
       "    <tr>\n",
       "      <th>613</th>\n",
       "      <td>I just passed my test and I want to know what ...</td>\n",
       "      <td>I want to know what to do next after I pass my...</td>\n",
       "      <td>If you fail your test \\nDon't worry. If you fa...</td>\n",
       "    </tr>\n",
       "    <tr>\n",
       "      <th>614</th>\n",
       "      <td>What should I do after passing my road test if...</td>\n",
       "      <td>obey the restrictions for junior drivers</td>\n",
       "      <td>After you pass your test \\nour license examine...</td>\n",
       "    </tr>\n",
       "    <tr>\n",
       "      <th>615</th>\n",
       "      <td>What happens if I fail my test?</td>\n",
       "      <td>(iv)</td>\n",
       "      <td>If you fail your test \\nDon't worry. If you fa...</td>\n",
       "    </tr>\n",
       "  </tbody>\n",
       "</table>\n",
       "</div>"
      ],
      "text/plain": [
       "                                              question  \\\n",
       "606                        id like to register a moped   \n",
       "607  no a regular moped, it has 2 wheels and moves ...   \n",
       "608         i have a document i can bring to an office   \n",
       "609      i am in the UK where do i bring my documents?   \n",
       "610     can i still use my moped without my documents?   \n",
       "611  i will also bring proof of insurance and my id...   \n",
       "612      i have full insurance and full drivers permit   \n",
       "613  I just passed my test and I want to know what ...   \n",
       "614  What should I do after passing my road test if...   \n",
       "615                    What happens if I fail my test?   \n",
       "\n",
       "                                                answer  \\\n",
       "606                                                NaN   \n",
       "607                                                 no   \n",
       "608                                                yes   \n",
       "609                                                DMV   \n",
       "610                                                 no   \n",
       "611                                                yes   \n",
       "612                                                 no   \n",
       "613  I want to know what to do next after I pass my...   \n",
       "614           obey the restrictions for junior drivers   \n",
       "615                                               (iv)   \n",
       "\n",
       "                                      passage(context)  \n",
       "606                               can certify a moped.  \n",
       "607  Register a moped[1] \\n\\n\\nWhat is considered a...  \n",
       "608  What do I need to bring to the DMV? \\nBefore v...  \n",
       "609  What do I need to bring to the DMV? \\nBefore v...  \n",
       "610  What do I need to bring to the DMV? \\nBefore v...  \n",
       "611  to determine if you need insurance. Your insur...  \n",
       "612  permits and driver licenses. See information a...  \n",
       "613  If you fail your test \\nDon't worry. If you fa...  \n",
       "614  After you pass your test \\nour license examine...  \n",
       "615  If you fail your test \\nDon't worry. If you fa...  "
      ]
     },
     "execution_count": 243,
     "metadata": {},
     "output_type": "execute_result"
    }
   ],
   "source": [
    "df[1107:].head(10)"
   ]
  },
  {
   "cell_type": "code",
   "execution_count": 229,
   "metadata": {},
   "outputs": [
    {
     "data": {
      "text/html": [
       "<div>\n",
       "<style scoped>\n",
       "    .dataframe tbody tr th:only-of-type {\n",
       "        vertical-align: middle;\n",
       "    }\n",
       "\n",
       "    .dataframe tbody tr th {\n",
       "        vertical-align: top;\n",
       "    }\n",
       "\n",
       "    .dataframe thead th {\n",
       "        text-align: right;\n",
       "    }\n",
       "</style>\n",
       "<table border=\"1\" class=\"dataframe\">\n",
       "  <thead>\n",
       "    <tr style=\"text-align: right;\">\n",
       "      <th></th>\n",
       "      <th>question</th>\n",
       "      <th>answer</th>\n",
       "      <th>domain</th>\n",
       "      <th>doc_id</th>\n",
       "      <th>references</th>\n",
       "      <th>dial_id</th>\n",
       "    </tr>\n",
       "  </thead>\n",
       "  <tbody>\n",
       "    <tr>\n",
       "      <th>1653</th>\n",
       "      <td>Is there an additional fee?</td>\n",
       "      <td>Yes there's an annual fee and a renewal fee.</td>\n",
       "      <td>dmv</td>\n",
       "      <td>NYS Adventure License and Adventure Custom Pla...</td>\n",
       "      <td>[{'sp_id': '7', 'label': 'solution'}]</td>\n",
       "      <td>1907fda3e3d0542cde4d39a67a77e871</td>\n",
       "    </tr>\n",
       "    <tr>\n",
       "      <th>1654</th>\n",
       "      <td>Will it take long?</td>\n",
       "      <td>You can pay a fee and get it immediately or wa...</td>\n",
       "      <td>dmv</td>\n",
       "      <td>NYS Adventure License and Adventure Custom Pla...</td>\n",
       "      <td>[{'sp_id': '35', 'label': 'solution'}, {'sp_id...</td>\n",
       "      <td>1907fda3e3d0542cde4d39a67a77e871</td>\n",
       "    </tr>\n",
       "    <tr>\n",
       "      <th>1655</th>\n",
       "      <td>How much does it cost?</td>\n",
       "      <td>Some fees are waived for first timers.</td>\n",
       "      <td>dmv</td>\n",
       "      <td>NYS Adventure License and Adventure Custom Pla...</td>\n",
       "      <td>[{'sp_id': '13', 'label': 'solution'}, {'sp_id...</td>\n",
       "      <td>1907fda3e3d0542cde4d39a67a77e871</td>\n",
       "    </tr>\n",
       "    <tr>\n",
       "      <th>1656</th>\n",
       "      <td>What do I do if I already have a lifetime spor...</td>\n",
       "      <td>Then you can request the icon be added to your...</td>\n",
       "      <td>dmv</td>\n",
       "      <td>NYS Adventure License and Adventure Custom Pla...</td>\n",
       "      <td>[{'sp_id': '38', 'label': 'solution'}]</td>\n",
       "      <td>e2a552ecffdea8cdcd1cf2c488f4430d</td>\n",
       "    </tr>\n",
       "    <tr>\n",
       "      <th>1657</th>\n",
       "      <td>What do I do if I already have a lifetime spor...</td>\n",
       "      <td>Do you need to know what to expect at the DMV ...</td>\n",
       "      <td>dmv</td>\n",
       "      <td>NYS Adventure License and Adventure Custom Pla...</td>\n",
       "      <td>[{'sp_id': '39', 'label': 'precondition'}]</td>\n",
       "      <td>e2a552ecffdea8cdcd1cf2c488f4430d</td>\n",
       "    </tr>\n",
       "    <tr>\n",
       "      <th>1658</th>\n",
       "      <td>Yes, I've never done this before.</td>\n",
       "      <td>Bring the required proof and there is a $12.50...</td>\n",
       "      <td>dmv</td>\n",
       "      <td>NYS Adventure License and Adventure Custom Pla...</td>\n",
       "      <td>[{'sp_id': '40', 'label': 'solution'}]</td>\n",
       "      <td>e2a552ecffdea8cdcd1cf2c488f4430d</td>\n",
       "    </tr>\n",
       "    <tr>\n",
       "      <th>1659</th>\n",
       "      <td>Are custom plates available now?</td>\n",
       "      <td>Yes, the I LOVE NYS Adventure plates are curre...</td>\n",
       "      <td>dmv</td>\n",
       "      <td>NYS Adventure License and Adventure Custom Pla...</td>\n",
       "      <td>[{'sp_id': '3', 'label': 'solution'}, {'sp_id'...</td>\n",
       "      <td>e2a552ecffdea8cdcd1cf2c488f4430d</td>\n",
       "    </tr>\n",
       "    <tr>\n",
       "      <th>1660</th>\n",
       "      <td>Can I order them online?</td>\n",
       "      <td>No, but you can bring a copy of your driver's ...</td>\n",
       "      <td>dmv</td>\n",
       "      <td>NYS Adventure License and Adventure Custom Pla...</td>\n",
       "      <td>[{'sp_id': '21', 'label': 'solution'}, {'sp_id...</td>\n",
       "      <td>e2a552ecffdea8cdcd1cf2c488f4430d</td>\n",
       "    </tr>\n",
       "    <tr>\n",
       "      <th>1661</th>\n",
       "      <td>Can you get these plates for any vehicle?</td>\n",
       "      <td>Yes, they are available for passenger, commerc...</td>\n",
       "      <td>dmv</td>\n",
       "      <td>NYS Adventure License and Adventure Custom Pla...</td>\n",
       "      <td>[{'sp_id': '3', 'label': 'solution'}, {'sp_id'...</td>\n",
       "      <td>e2a552ecffdea8cdcd1cf2c488f4430d</td>\n",
       "    </tr>\n",
       "    <tr>\n",
       "      <th>1662</th>\n",
       "      <td>Is it yearly or is there a lifetime option?</td>\n",
       "      <td>There is a Lifetime Empire Passport and you au...</td>\n",
       "      <td>dmv</td>\n",
       "      <td>NYS Adventure License and Adventure Custom Pla...</td>\n",
       "      <td>[{'sp_id': '35', 'label': 'solution'}, {'sp_id...</td>\n",
       "      <td>e2a552ecffdea8cdcd1cf2c488f4430d</td>\n",
       "    </tr>\n",
       "  </tbody>\n",
       "</table>\n",
       "</div>"
      ],
      "text/plain": [
       "                                               question  \\\n",
       "1653                        Is there an additional fee?   \n",
       "1654                                 Will it take long?   \n",
       "1655                             How much does it cost?   \n",
       "1656  What do I do if I already have a lifetime spor...   \n",
       "1657  What do I do if I already have a lifetime spor...   \n",
       "1658                  Yes, I've never done this before.   \n",
       "1659                   Are custom plates available now?   \n",
       "1660                           Can I order them online?   \n",
       "1661          Can you get these plates for any vehicle?   \n",
       "1662        Is it yearly or is there a lifetime option?   \n",
       "\n",
       "                                                 answer domain  \\\n",
       "1653       Yes there's an annual fee and a renewal fee.    dmv   \n",
       "1654  You can pay a fee and get it immediately or wa...    dmv   \n",
       "1655             Some fees are waived for first timers.    dmv   \n",
       "1656  Then you can request the icon be added to your...    dmv   \n",
       "1657  Do you need to know what to expect at the DMV ...    dmv   \n",
       "1658  Bring the required proof and there is a $12.50...    dmv   \n",
       "1659  Yes, the I LOVE NYS Adventure plates are curre...    dmv   \n",
       "1660  No, but you can bring a copy of your driver's ...    dmv   \n",
       "1661  Yes, they are available for passenger, commerc...    dmv   \n",
       "1662  There is a Lifetime Empire Passport and you au...    dmv   \n",
       "\n",
       "                                                 doc_id  \\\n",
       "1653  NYS Adventure License and Adventure Custom Pla...   \n",
       "1654  NYS Adventure License and Adventure Custom Pla...   \n",
       "1655  NYS Adventure License and Adventure Custom Pla...   \n",
       "1656  NYS Adventure License and Adventure Custom Pla...   \n",
       "1657  NYS Adventure License and Adventure Custom Pla...   \n",
       "1658  NYS Adventure License and Adventure Custom Pla...   \n",
       "1659  NYS Adventure License and Adventure Custom Pla...   \n",
       "1660  NYS Adventure License and Adventure Custom Pla...   \n",
       "1661  NYS Adventure License and Adventure Custom Pla...   \n",
       "1662  NYS Adventure License and Adventure Custom Pla...   \n",
       "\n",
       "                                             references  \\\n",
       "1653              [{'sp_id': '7', 'label': 'solution'}]   \n",
       "1654  [{'sp_id': '35', 'label': 'solution'}, {'sp_id...   \n",
       "1655  [{'sp_id': '13', 'label': 'solution'}, {'sp_id...   \n",
       "1656             [{'sp_id': '38', 'label': 'solution'}]   \n",
       "1657         [{'sp_id': '39', 'label': 'precondition'}]   \n",
       "1658             [{'sp_id': '40', 'label': 'solution'}]   \n",
       "1659  [{'sp_id': '3', 'label': 'solution'}, {'sp_id'...   \n",
       "1660  [{'sp_id': '21', 'label': 'solution'}, {'sp_id...   \n",
       "1661  [{'sp_id': '3', 'label': 'solution'}, {'sp_id'...   \n",
       "1662  [{'sp_id': '35', 'label': 'solution'}, {'sp_id...   \n",
       "\n",
       "                               dial_id  \n",
       "1653  1907fda3e3d0542cde4d39a67a77e871  \n",
       "1654  1907fda3e3d0542cde4d39a67a77e871  \n",
       "1655  1907fda3e3d0542cde4d39a67a77e871  \n",
       "1656  e2a552ecffdea8cdcd1cf2c488f4430d  \n",
       "1657  e2a552ecffdea8cdcd1cf2c488f4430d  \n",
       "1658  e2a552ecffdea8cdcd1cf2c488f4430d  \n",
       "1659  e2a552ecffdea8cdcd1cf2c488f4430d  \n",
       "1660  e2a552ecffdea8cdcd1cf2c488f4430d  \n",
       "1661  e2a552ecffdea8cdcd1cf2c488f4430d  \n",
       "1662  e2a552ecffdea8cdcd1cf2c488f4430d  "
      ]
     },
     "execution_count": 229,
     "metadata": {},
     "output_type": "execute_result"
    }
   ],
   "source": [
    "qa_df[1653:].head(10)"
   ]
  },
  {
   "cell_type": "code",
   "execution_count": 113,
   "metadata": {},
   "outputs": [
    {
     "data": {
      "text/plain": [
       "True"
      ]
     },
     "execution_count": 113,
     "metadata": {},
     "output_type": "execute_result"
    }
   ],
   "source": [
    "str(df.iloc[345]['answer']) == 'nan'"
   ]
  },
  {
   "cell_type": "code",
   "execution_count": 34,
   "metadata": {},
   "outputs": [
    {
     "data": {
      "text/plain": [
       "'About ten percent of customers visiting a DMV office do not bring what they need to complete their transaction, and have to come back a second time to finish their business. This can be as simple as not bringing sufficient funds to pay for a license renewal or not having the proof of auto insurance required to register a car. Better yet , don t visit a DMV office at all, and see if your transaction can be performed online, like an address change, registration renewal, license renewal, replacing'"
      ]
     },
     "execution_count": 34,
     "metadata": {},
     "output_type": "execute_result"
    }
   ],
   "source": [
    "df.iloc[1]['passage(context)']"
   ]
  },
  {
   "cell_type": "code",
   "execution_count": 24,
   "metadata": {},
   "outputs": [
    {
     "data": {
      "text/plain": [
       "question      Hello, I forgot o update my address, can you h...\n",
       "answer        hi, you have to report any change of address t...\n",
       "domain                                                      dmv\n",
       "doc_id             Top 5 DMV Mistakes and How to Avoid Them#3_0\n",
       "references    [{'sp_id': '6', 'label': 'solution'}, {'sp_id'...\n",
       "dial_id                        9f44c1539efe6f7e79b02eb1b413aa43\n",
       "Name: 0, dtype: object"
      ]
     },
     "execution_count": 24,
     "metadata": {},
     "output_type": "execute_result"
    }
   ],
   "source": [
    "qa_pair"
   ]
  },
  {
   "cell_type": "code",
   "execution_count": 30,
   "metadata": {},
   "outputs": [
    {
     "data": {
      "text/plain": [
       "[{'id_sp': '6',\n",
       "  'tag': 'u',\n",
       "  'start_sp': 346,\n",
       "  'end_sp': 416,\n",
       "  'text_sp': 'you must report a change of address to DMV within ten days of moving. ',\n",
       "  'title': '1. Forgetting to Update Address',\n",
       "  'parent_titles': [],\n",
       "  'id_sec': '2',\n",
       "  'start_sec': 333,\n",
       "  'text_sec': 'By statute , you must report a change of address to DMV within ten days of moving. That is the case for the address associated with your license, as well as all the addresses associated with each registered vehicle, which may differ. ',\n",
       "  'end_sec': 567},\n",
       " {'id_sp': '7',\n",
       "  'tag': 'u',\n",
       "  'start_sp': 416,\n",
       "  'end_sp': 567,\n",
       "  'text_sp': 'That is the case for the address associated with your license, as well as all the addresses associated with each registered vehicle, which may differ. ',\n",
       "  'title': '1. Forgetting to Update Address',\n",
       "  'parent_titles': [],\n",
       "  'id_sec': '2',\n",
       "  'start_sec': 333,\n",
       "  'text_sec': 'By statute , you must report a change of address to DMV within ten days of moving. That is the case for the address associated with your license, as well as all the addresses associated with each registered vehicle, which may differ. ',\n",
       "  'end_sec': 567}]"
      ]
     },
     "execution_count": 30,
     "metadata": {},
     "output_type": "execute_result"
    }
   ],
   "source": [
    "evaluation.get_ref(qa_pair, doc2dial_doc)"
   ]
  },
  {
   "cell_type": "code",
   "execution_count": 34,
   "metadata": {},
   "outputs": [
    {
     "name": "stdout",
     "output_type": "stream",
     "text": [
      "you must report a change of address to DMV within ten days of moving. \n",
      "That is the case for the address associated with your license, as well as all the addresses associated with each registered vehicle, which may differ. \n"
     ]
    }
   ],
   "source": [
    "sp_list = evaluation.get_ref(qa_pair, doc2dial_doc)\n",
    "ref_list = [item['text_sp'] for item in sp_list]\n",
    "print('\\n'.join(ref_list))"
   ]
  },
  {
   "cell_type": "code",
   "execution_count": 1,
   "metadata": {},
   "outputs": [
    {
     "data": {
      "text/plain": [
       "True"
      ]
     },
     "execution_count": 1,
     "metadata": {},
     "output_type": "execute_result"
    }
   ],
   "source": [
    "csv_file = 'data/doc2dial/qa_train_dmv.csv'\n",
    "'doc2dial' in csv_file"
   ]
  },
  {
   "cell_type": "markdown",
   "metadata": {},
   "source": [
    "# Test retrieve_only"
   ]
  },
  {
   "cell_type": "code",
   "execution_count": 4,
   "metadata": {},
   "outputs": [],
   "source": [
    "from models.retriever import retrieve_only\n",
    "import os"
   ]
  },
  {
   "cell_type": "code",
   "execution_count": 2,
   "metadata": {},
   "outputs": [
    {
     "name": "stdout",
     "output_type": "stream",
     "text": [
      "search failed at:  431\n",
      "search failed at:  1008\n",
      "search failed at:  1028\n"
     ]
    }
   ],
   "source": [
    "data_path = 'data/doc2dial/qa_train_dmv.csv'\n",
    "result_df, failed_doc_ids = retrieve_only(data_path, cs=500, c_overlap=0, new_method=False)"
   ]
  },
  {
   "cell_type": "code",
   "execution_count": 3,
   "metadata": {},
   "outputs": [
    {
     "data": {
      "text/html": [
       "<div>\n",
       "<style scoped>\n",
       "    .dataframe tbody tr th:only-of-type {\n",
       "        vertical-align: middle;\n",
       "    }\n",
       "\n",
       "    .dataframe tbody tr th {\n",
       "        vertical-align: top;\n",
       "    }\n",
       "\n",
       "    .dataframe thead th {\n",
       "        text-align: right;\n",
       "    }\n",
       "</style>\n",
       "<table border=\"1\" class=\"dataframe\">\n",
       "  <thead>\n",
       "    <tr style=\"text-align: right;\">\n",
       "      <th></th>\n",
       "      <th>question</th>\n",
       "      <th>answer</th>\n",
       "      <th>ref</th>\n",
       "      <th>passage(context)</th>\n",
       "      <th>doc_id</th>\n",
       "      <th>dial_id</th>\n",
       "    </tr>\n",
       "  </thead>\n",
       "  <tbody>\n",
       "    <tr>\n",
       "      <th>0</th>\n",
       "      <td>Hello, I forgot o update my address, can you h...</td>\n",
       "      <td>hi, you have to report any change of address t...</td>\n",
       "      <td>[{'sp_id': '6', 'label': 'solution'}, {'sp_id'...</td>\n",
       "      <td>1. Forgetting to Update Address</td>\n",
       "      <td>Top 5 DMV Mistakes and How to Avoid Them#3_0</td>\n",
       "      <td>9f44c1539efe6f7e79b02eb1b413aa43</td>\n",
       "    </tr>\n",
       "    <tr>\n",
       "      <th>1</th>\n",
       "      <td>Can I do my DMV transactions online?</td>\n",
       "      <td>Yes, you can sign up for MyDMV for all the onl...</td>\n",
       "      <td>[{'sp_id': '56', 'label': 'solution'}]</td>\n",
       "      <td>About ten percent of customers visiting a DMV ...</td>\n",
       "      <td>Top 5 DMV Mistakes and How to Avoid Them#3_0</td>\n",
       "      <td>9f44c1539efe6f7e79b02eb1b413aa43</td>\n",
       "    </tr>\n",
       "    <tr>\n",
       "      <th>2</th>\n",
       "      <td>Thanks, and in case I forget to bring all of t...</td>\n",
       "      <td>This happens often with our customers so that'...</td>\n",
       "      <td>[{'sp_id': '49', 'label': 'solution'}, {'sp_id...</td>\n",
       "      <td>About ten percent of customers visiting a DMV ...</td>\n",
       "      <td>Top 5 DMV Mistakes and How to Avoid Them#3_0</td>\n",
       "      <td>9f44c1539efe6f7e79b02eb1b413aa43</td>\n",
       "    </tr>\n",
       "    <tr>\n",
       "      <th>3</th>\n",
       "      <td>Ok, and can you tell me again where should I r...</td>\n",
       "      <td>Sure. Any change of address must be reported t...</td>\n",
       "      <td>[{'sp_id': '6', 'label': 'solution'}, {'sp_id'...</td>\n",
       "      <td>By statute , you must report a change of addre...</td>\n",
       "      <td>Top 5 DMV Mistakes and How to Avoid Them#3_0</td>\n",
       "      <td>9f44c1539efe6f7e79b02eb1b413aa43</td>\n",
       "    </tr>\n",
       "    <tr>\n",
       "      <th>4</th>\n",
       "      <td>Can you tell me more about Traffic points and ...</td>\n",
       "      <td>Traffic points is the system used by DMV to tr...</td>\n",
       "      <td>[{'sp_id': '41', 'label': 'solution'}, {'sp_id...</td>\n",
       "      <td>4. Understanding how Much Traffic Points Cost</td>\n",
       "      <td>Top 5 DMV Mistakes and How to Avoid Them#3_0</td>\n",
       "      <td>9f44c1539efe6f7e79b02eb1b413aa43</td>\n",
       "    </tr>\n",
       "  </tbody>\n",
       "</table>\n",
       "</div>"
      ],
      "text/plain": [
       "                                            question  \\\n",
       "0  Hello, I forgot o update my address, can you h...   \n",
       "1               Can I do my DMV transactions online?   \n",
       "2  Thanks, and in case I forget to bring all of t...   \n",
       "3  Ok, and can you tell me again where should I r...   \n",
       "4  Can you tell me more about Traffic points and ...   \n",
       "\n",
       "                                              answer  \\\n",
       "0  hi, you have to report any change of address t...   \n",
       "1  Yes, you can sign up for MyDMV for all the onl...   \n",
       "2  This happens often with our customers so that'...   \n",
       "3  Sure. Any change of address must be reported t...   \n",
       "4  Traffic points is the system used by DMV to tr...   \n",
       "\n",
       "                                                 ref  \\\n",
       "0  [{'sp_id': '6', 'label': 'solution'}, {'sp_id'...   \n",
       "1             [{'sp_id': '56', 'label': 'solution'}]   \n",
       "2  [{'sp_id': '49', 'label': 'solution'}, {'sp_id...   \n",
       "3  [{'sp_id': '6', 'label': 'solution'}, {'sp_id'...   \n",
       "4  [{'sp_id': '41', 'label': 'solution'}, {'sp_id...   \n",
       "\n",
       "                                    passage(context)  \\\n",
       "0                    1. Forgetting to Update Address   \n",
       "1  About ten percent of customers visiting a DMV ...   \n",
       "2  About ten percent of customers visiting a DMV ...   \n",
       "3  By statute , you must report a change of addre...   \n",
       "4      4. Understanding how Much Traffic Points Cost   \n",
       "\n",
       "                                         doc_id  \\\n",
       "0  Top 5 DMV Mistakes and How to Avoid Them#3_0   \n",
       "1  Top 5 DMV Mistakes and How to Avoid Them#3_0   \n",
       "2  Top 5 DMV Mistakes and How to Avoid Them#3_0   \n",
       "3  Top 5 DMV Mistakes and How to Avoid Them#3_0   \n",
       "4  Top 5 DMV Mistakes and How to Avoid Them#3_0   \n",
       "\n",
       "                            dial_id  \n",
       "0  9f44c1539efe6f7e79b02eb1b413aa43  \n",
       "1  9f44c1539efe6f7e79b02eb1b413aa43  \n",
       "2  9f44c1539efe6f7e79b02eb1b413aa43  \n",
       "3  9f44c1539efe6f7e79b02eb1b413aa43  \n",
       "4  9f44c1539efe6f7e79b02eb1b413aa43  "
      ]
     },
     "execution_count": 3,
     "metadata": {},
     "output_type": "execute_result"
    }
   ],
   "source": [
    "result_df.head()"
   ]
  },
  {
   "cell_type": "code",
   "execution_count": 6,
   "metadata": {},
   "outputs": [],
   "source": [
    "#write to csv\n",
    "#[x] mkdir ...\n",
    "#[x] rename the file name, with info\n",
    "fold_path = 'data/doc2dial'\n",
    "if not os.path.exists(fold_path):\n",
    "    os.makedirs(result_path)\n",
    "\n",
    "result_path = os.path.join(fold_path, 'qa_train_dmv_withRefs.csv')\n",
    "result_df.to_csv('data/doc2dial/qa_train_dmv_withRefs.csv', index=False)"
   ]
  },
  {
   "cell_type": "code",
   "execution_count": 29,
   "metadata": {},
   "outputs": [],
   "source": [
    "save_dir = 'data/doc2dial/DEFAULT'\n",
    "output = save_dir.split('/')[-1]\n",
    "output = output+'_withRefs.csv'\n",
    "output = save_dir + '/' + output"
   ]
  },
  {
   "cell_type": "code",
   "execution_count": 31,
   "metadata": {},
   "outputs": [
    {
     "data": {
      "text/plain": [
       "'data/doc2dial/DEFAULT/DEFAULT_withModelAnswer.csv'"
      ]
     },
     "execution_count": 31,
     "metadata": {},
     "output_type": "execute_result"
    }
   ],
   "source": [
    "output.replace('withRefs', 'withModelAnswer')"
   ]
  },
  {
   "cell_type": "code",
   "execution_count": 20,
   "metadata": {},
   "outputs": [
    {
     "data": {
      "text/plain": [
       "'/home/ygong/Attributed-QA/data/doc2dial/test.csv'"
      ]
     },
     "execution_count": 20,
     "metadata": {},
     "output_type": "execute_result"
    }
   ],
   "source": [
    "os.getcwd() + '/data/doc2dial/test.csv'"
   ]
  },
  {
   "cell_type": "code",
   "execution_count": 8,
   "metadata": {},
   "outputs": [],
   "source": [
    "from configparser import ConfigParser"
   ]
  },
  {
   "cell_type": "code",
   "execution_count": 9,
   "metadata": {},
   "outputs": [],
   "source": [
    "config_object = ConfigParser()"
   ]
  },
  {
   "cell_type": "code",
   "execution_count": 14,
   "metadata": {},
   "outputs": [
    {
     "data": {
      "text/plain": [
       "'500'"
      ]
     },
     "execution_count": 14,
     "metadata": {},
     "output_type": "execute_result"
    }
   ],
   "source": [
    "config_object['DEFAULT']\n",
    "config_object.read(\"config.ini\")\n",
    "userinfo = config_object[\"DEFAULT\"]\n",
    "userinfo['chunk_size']"
   ]
  },
  {
   "cell_type": "code",
   "execution_count": 11,
   "metadata": {},
   "outputs": [],
   "source": [
    "#read csv\n",
    "import pandas as pd\n",
    "\n",
    "df1 = pd.read_csv('data/doc2dial/doc2dial_testset/DEFAULT/DEFAULT_withModelAnswer.csv')\n",
    "# df2 = pd.read_csv('data/doc2dial/doc2dial_testset/DEFAULT/DEFAULT_withRefs.csv')"
   ]
  },
  {
   "cell_type": "code",
   "execution_count": 12,
   "metadata": {},
   "outputs": [
    {
     "data": {
      "text/plain": [
       "question          What can I do if I forgot to update my address?\n",
       "answer          Don't forget to that, there are branches you c...\n",
       "model_answer    You can update your address on your phone or c...\n",
       "ref             [[{'sp_id': '5', 'label': 'solution'}, {'sp_id...\n",
       "retrived_doc                      1. Forgetting to Update Address\n",
       "doc_id               Top 5 DMV Mistakes and How to Avoid Them#3_0\n",
       "Name: 0, dtype: object"
      ]
     },
     "execution_count": 12,
     "metadata": {},
     "output_type": "execute_result"
    }
   ],
   "source": [
    "df1.loc[0]"
   ]
  },
  {
   "cell_type": "code",
   "execution_count": 13,
   "metadata": {},
   "outputs": [
    {
     "data": {
      "text/html": [
       "<div>\n",
       "<style scoped>\n",
       "    .dataframe tbody tr th:only-of-type {\n",
       "        vertical-align: middle;\n",
       "    }\n",
       "\n",
       "    .dataframe tbody tr th {\n",
       "        vertical-align: top;\n",
       "    }\n",
       "\n",
       "    .dataframe thead th {\n",
       "        text-align: right;\n",
       "    }\n",
       "</style>\n",
       "<table border=\"1\" class=\"dataframe\">\n",
       "  <thead>\n",
       "    <tr style=\"text-align: right;\">\n",
       "      <th></th>\n",
       "      <th>question</th>\n",
       "      <th>answer</th>\n",
       "      <th>model_answer</th>\n",
       "      <th>ref</th>\n",
       "      <th>retrived_doc</th>\n",
       "      <th>doc_id</th>\n",
       "    </tr>\n",
       "  </thead>\n",
       "  <tbody>\n",
       "    <tr>\n",
       "      <th>0</th>\n",
       "      <td>What can I do if I forgot to update my address?</td>\n",
       "      <td>Don't forget to that, there are branches you c...</td>\n",
       "      <td>You can update your address on your phone or c...</td>\n",
       "      <td>[[{'sp_id': '5', 'label': 'solution'}, {'sp_id...</td>\n",
       "      <td>1. Forgetting to Update Address</td>\n",
       "      <td>Top 5 DMV Mistakes and How to Avoid Them#3_0</td>\n",
       "    </tr>\n",
       "    <tr>\n",
       "      <th>1</th>\n",
       "      <td>What if iI already moved?##Please go to a loca...</td>\n",
       "      <td>Please go to a local branch and update your ad...</td>\n",
       "      <td>ii.</td>\n",
       "      <td>[[{'sp_id': '35', 'label': 'solution'}, {'sp_i...</td>\n",
       "      <td>By statute , you must report a change of addre...</td>\n",
       "      <td>Top 5 DMV Mistakes and How to Avoid Them#3_0</td>\n",
       "    </tr>\n",
       "    <tr>\n",
       "      <th>2</th>\n",
       "      <td>What if my insurance lapsed too?</td>\n",
       "      <td>You'll need to either bring a copy of your cur...</td>\n",
       "      <td>I would have to pay for the plates</td>\n",
       "      <td>[[{'sp_id': '24', 'label': 'solution'}, {'sp_i...</td>\n",
       "      <td>possible mail correspondence can reach you. Al...</td>\n",
       "      <td>Top 5 DMV Mistakes and How to Avoid Them#3_0</td>\n",
       "    </tr>\n",
       "    <tr>\n",
       "      <th>3</th>\n",
       "      <td>I'll make sure to do so.</td>\n",
       "      <td>If you need the forms mailed to you, or to dow...</td>\n",
       "      <td>b).</td>\n",
       "      <td>[[{'sp_id': '29', 'label': 'solution'}]]</td>\n",
       "      <td>possible mail correspondence can reach you. Al...</td>\n",
       "      <td>Top 5 DMV Mistakes and How to Avoid Them#3_0</td>\n",
       "    </tr>\n",
       "    <tr>\n",
       "      <th>4</th>\n",
       "      <td>I'll make sure to do so.</td>\n",
       "      <td>Thank you; it will save you at least an hour i...</td>\n",
       "      <td>b).</td>\n",
       "      <td>[[{'sp_id': '35', 'label': 'solution'}, {'sp_i...</td>\n",
       "      <td>possible mail correspondence can reach you. Al...</td>\n",
       "      <td>Top 5 DMV Mistakes and How to Avoid Them#3_0</td>\n",
       "    </tr>\n",
       "  </tbody>\n",
       "</table>\n",
       "</div>"
      ],
      "text/plain": [
       "                                            question  \\\n",
       "0    What can I do if I forgot to update my address?   \n",
       "1  What if iI already moved?##Please go to a loca...   \n",
       "2                   What if my insurance lapsed too?   \n",
       "3                           I'll make sure to do so.   \n",
       "4                           I'll make sure to do so.   \n",
       "\n",
       "                                              answer  \\\n",
       "0  Don't forget to that, there are branches you c...   \n",
       "1  Please go to a local branch and update your ad...   \n",
       "2  You'll need to either bring a copy of your cur...   \n",
       "3  If you need the forms mailed to you, or to dow...   \n",
       "4  Thank you; it will save you at least an hour i...   \n",
       "\n",
       "                                        model_answer  \\\n",
       "0  You can update your address on your phone or c...   \n",
       "1                                                ii.   \n",
       "2                 I would have to pay for the plates   \n",
       "3                                                b).   \n",
       "4                                                b).   \n",
       "\n",
       "                                                 ref  \\\n",
       "0  [[{'sp_id': '5', 'label': 'solution'}, {'sp_id...   \n",
       "1  [[{'sp_id': '35', 'label': 'solution'}, {'sp_i...   \n",
       "2  [[{'sp_id': '24', 'label': 'solution'}, {'sp_i...   \n",
       "3           [[{'sp_id': '29', 'label': 'solution'}]]   \n",
       "4  [[{'sp_id': '35', 'label': 'solution'}, {'sp_i...   \n",
       "\n",
       "                                        retrived_doc  \\\n",
       "0                    1. Forgetting to Update Address   \n",
       "1  By statute , you must report a change of addre...   \n",
       "2  possible mail correspondence can reach you. Al...   \n",
       "3  possible mail correspondence can reach you. Al...   \n",
       "4  possible mail correspondence can reach you. Al...   \n",
       "\n",
       "                                         doc_id  \n",
       "0  Top 5 DMV Mistakes and How to Avoid Them#3_0  \n",
       "1  Top 5 DMV Mistakes and How to Avoid Them#3_0  \n",
       "2  Top 5 DMV Mistakes and How to Avoid Them#3_0  \n",
       "3  Top 5 DMV Mistakes and How to Avoid Them#3_0  \n",
       "4  Top 5 DMV Mistakes and How to Avoid Them#3_0  "
      ]
     },
     "execution_count": 13,
     "metadata": {},
     "output_type": "execute_result"
    }
   ],
   "source": [
    "df1.head()"
   ]
  },
  {
   "cell_type": "code",
   "execution_count": 9,
   "metadata": {},
   "outputs": [],
   "source": [
    "new_df = pd.read_csv('data/doc2dial/qa_test_dmv.csv')"
   ]
  },
  {
   "cell_type": "code",
   "execution_count": 10,
   "metadata": {},
   "outputs": [
    {
     "data": {
      "text/plain": [
       "question          What can I do if I forgot to update my address?\n",
       "answer          Don't forget to that, there are branches you c...\n",
       "model_answer    You can update your address on your phone or c...\n",
       "ref             [[{'sp_id': '5', 'label': 'solution'}, {'sp_id...\n",
       "retrived_doc                      1. Forgetting to Update Address\n",
       "doc_id               Top 5 DMV Mistakes and How to Avoid Them#3_0\n",
       "Name: 0, dtype: object"
      ]
     },
     "execution_count": 10,
     "metadata": {},
     "output_type": "execute_result"
    }
   ],
   "source": [
    "new_df.loc[0]"
   ]
  },
  {
   "cell_type": "code",
   "execution_count": 46,
   "metadata": {},
   "outputs": [
    {
     "ename": "KeyError",
     "evalue": "'references'",
     "output_type": "error",
     "traceback": [
      "\u001b[0;31m---------------------------------------------------------------------------\u001b[0m",
      "\u001b[0;31mKeyError\u001b[0m                                  Traceback (most recent call last)",
      "File \u001b[0;32m~/miniconda3/envs/atlas-env/lib/python3.8/site-packages/pandas/core/indexes/base.py:3652\u001b[0m, in \u001b[0;36mIndex.get_loc\u001b[0;34m(self, key)\u001b[0m\n\u001b[1;32m   3651\u001b[0m \u001b[39mtry\u001b[39;00m:\n\u001b[0;32m-> 3652\u001b[0m     \u001b[39mreturn\u001b[39;00m \u001b[39mself\u001b[39;49m\u001b[39m.\u001b[39;49m_engine\u001b[39m.\u001b[39;49mget_loc(casted_key)\n\u001b[1;32m   3653\u001b[0m \u001b[39mexcept\u001b[39;00m \u001b[39mKeyError\u001b[39;00m \u001b[39mas\u001b[39;00m err:\n",
      "File \u001b[0;32m~/miniconda3/envs/atlas-env/lib/python3.8/site-packages/pandas/_libs/index.pyx:147\u001b[0m, in \u001b[0;36mpandas._libs.index.IndexEngine.get_loc\u001b[0;34m()\u001b[0m\n",
      "File \u001b[0;32m~/miniconda3/envs/atlas-env/lib/python3.8/site-packages/pandas/_libs/index.pyx:176\u001b[0m, in \u001b[0;36mpandas._libs.index.IndexEngine.get_loc\u001b[0;34m()\u001b[0m\n",
      "File \u001b[0;32mpandas/_libs/hashtable_class_helper.pxi:7080\u001b[0m, in \u001b[0;36mpandas._libs.hashtable.PyObjectHashTable.get_item\u001b[0;34m()\u001b[0m\n",
      "File \u001b[0;32mpandas/_libs/hashtable_class_helper.pxi:7088\u001b[0m, in \u001b[0;36mpandas._libs.hashtable.PyObjectHashTable.get_item\u001b[0;34m()\u001b[0m\n",
      "\u001b[0;31mKeyError\u001b[0m: 'references'",
      "\nThe above exception was the direct cause of the following exception:\n",
      "\u001b[0;31mKeyError\u001b[0m                                  Traceback (most recent call last)",
      "Cell \u001b[0;32mIn[46], line 3\u001b[0m\n\u001b[1;32m      1\u001b[0m \u001b[39mfrom\u001b[39;00m \u001b[39mevaluation\u001b[39;00m \u001b[39mimport\u001b[39;00m get_ref\n\u001b[1;32m      2\u001b[0m doc \u001b[39m=\u001b[39m df1\u001b[39m.\u001b[39mloc[\u001b[39m0\u001b[39m]\n\u001b[0;32m----> 3\u001b[0m get_ref(doc, doc2dial_doc)\n",
      "File \u001b[0;32m~/Attributed-QA/evaluation.py:6\u001b[0m, in \u001b[0;36mget_ref\u001b[0;34m(doc, doc2dial_doc)\u001b[0m\n\u001b[1;32m      5\u001b[0m \u001b[39mdef\u001b[39;00m \u001b[39mget_ref\u001b[39m(doc, doc2dial_doc):\n\u001b[0;32m----> 6\u001b[0m     refs_ID \u001b[39m=\u001b[39m re\u001b[39m.\u001b[39mfindall(\u001b[39mr\u001b[39m\u001b[39m\"\u001b[39m\u001b[39m\\\u001b[39m\u001b[39md+\u001b[39m\u001b[39m\"\u001b[39m, doc[\u001b[39m'\u001b[39;49m\u001b[39mreferences\u001b[39;49m\u001b[39m'\u001b[39;49m])\n\u001b[1;32m      7\u001b[0m     refs_ID \u001b[39m=\u001b[39m [\u001b[39mint\u001b[39m(i) \u001b[39mfor\u001b[39;00m i \u001b[39min\u001b[39;00m refs_ID]\n\u001b[1;32m      8\u001b[0m     sp_list \u001b[39m=\u001b[39m [doc2dial_doc[\u001b[39m'\u001b[39m\u001b[39mdoc_data\u001b[39m\u001b[39m'\u001b[39m][doc[\u001b[39m'\u001b[39m\u001b[39mdomain\u001b[39m\u001b[39m'\u001b[39m]][doc[\u001b[39m'\u001b[39m\u001b[39mdoc_id\u001b[39m\u001b[39m'\u001b[39m]][\u001b[39m'\u001b[39m\u001b[39mspans\u001b[39m\u001b[39m'\u001b[39m][\u001b[39mstr\u001b[39m(i)] \u001b[39mfor\u001b[39;00m i \u001b[39min\u001b[39;00m refs_ID]\n",
      "File \u001b[0;32m~/miniconda3/envs/atlas-env/lib/python3.8/site-packages/pandas/core/series.py:1007\u001b[0m, in \u001b[0;36mSeries.__getitem__\u001b[0;34m(self, key)\u001b[0m\n\u001b[1;32m   1004\u001b[0m     \u001b[39mreturn\u001b[39;00m \u001b[39mself\u001b[39m\u001b[39m.\u001b[39m_values[key]\n\u001b[1;32m   1006\u001b[0m \u001b[39melif\u001b[39;00m key_is_scalar:\n\u001b[0;32m-> 1007\u001b[0m     \u001b[39mreturn\u001b[39;00m \u001b[39mself\u001b[39;49m\u001b[39m.\u001b[39;49m_get_value(key)\n\u001b[1;32m   1009\u001b[0m \u001b[39mif\u001b[39;00m is_hashable(key):\n\u001b[1;32m   1010\u001b[0m     \u001b[39m# Otherwise index.get_value will raise InvalidIndexError\u001b[39;00m\n\u001b[1;32m   1011\u001b[0m     \u001b[39mtry\u001b[39;00m:\n\u001b[1;32m   1012\u001b[0m         \u001b[39m# For labels that don't resolve as scalars like tuples and frozensets\u001b[39;00m\n",
      "File \u001b[0;32m~/miniconda3/envs/atlas-env/lib/python3.8/site-packages/pandas/core/series.py:1116\u001b[0m, in \u001b[0;36mSeries._get_value\u001b[0;34m(self, label, takeable)\u001b[0m\n\u001b[1;32m   1113\u001b[0m     \u001b[39mreturn\u001b[39;00m \u001b[39mself\u001b[39m\u001b[39m.\u001b[39m_values[label]\n\u001b[1;32m   1115\u001b[0m \u001b[39m# Similar to Index.get_value, but we do not fall back to positional\u001b[39;00m\n\u001b[0;32m-> 1116\u001b[0m loc \u001b[39m=\u001b[39m \u001b[39mself\u001b[39;49m\u001b[39m.\u001b[39;49mindex\u001b[39m.\u001b[39;49mget_loc(label)\n\u001b[1;32m   1118\u001b[0m \u001b[39mif\u001b[39;00m is_integer(loc):\n\u001b[1;32m   1119\u001b[0m     \u001b[39mreturn\u001b[39;00m \u001b[39mself\u001b[39m\u001b[39m.\u001b[39m_values[loc]\n",
      "File \u001b[0;32m~/miniconda3/envs/atlas-env/lib/python3.8/site-packages/pandas/core/indexes/base.py:3654\u001b[0m, in \u001b[0;36mIndex.get_loc\u001b[0;34m(self, key)\u001b[0m\n\u001b[1;32m   3652\u001b[0m     \u001b[39mreturn\u001b[39;00m \u001b[39mself\u001b[39m\u001b[39m.\u001b[39m_engine\u001b[39m.\u001b[39mget_loc(casted_key)\n\u001b[1;32m   3653\u001b[0m \u001b[39mexcept\u001b[39;00m \u001b[39mKeyError\u001b[39;00m \u001b[39mas\u001b[39;00m err:\n\u001b[0;32m-> 3654\u001b[0m     \u001b[39mraise\u001b[39;00m \u001b[39mKeyError\u001b[39;00m(key) \u001b[39mfrom\u001b[39;00m \u001b[39merr\u001b[39;00m\n\u001b[1;32m   3655\u001b[0m \u001b[39mexcept\u001b[39;00m \u001b[39mTypeError\u001b[39;00m:\n\u001b[1;32m   3656\u001b[0m     \u001b[39m# If we have a listlike key, _check_indexing_error will raise\u001b[39;00m\n\u001b[1;32m   3657\u001b[0m     \u001b[39m#  InvalidIndexError. Otherwise we fall through and re-raise\u001b[39;00m\n\u001b[1;32m   3658\u001b[0m     \u001b[39m#  the TypeError.\u001b[39;00m\n\u001b[1;32m   3659\u001b[0m     \u001b[39mself\u001b[39m\u001b[39m.\u001b[39m_check_indexing_error(key)\n",
      "\u001b[0;31mKeyError\u001b[0m: 'references'"
     ]
    }
   ],
   "source": [
    "from evaluation import get_ref\n",
    "doc = df1.loc[0]\n",
    "get_ref(doc, doc2dial_doc)"
   ]
  },
  {
   "cell_type": "code",
   "execution_count": 36,
   "metadata": {},
   "outputs": [
    {
     "data": {
      "text/plain": [
       "4147"
      ]
     },
     "execution_count": 36,
     "metadata": {},
     "output_type": "execute_result"
    }
   ],
   "source": [
    "len(df2)"
   ]
  },
  {
   "cell_type": "code",
   "execution_count": 41,
   "metadata": {},
   "outputs": [
    {
     "name": "stdout",
     "output_type": "stream",
     "text": [
      "Section: doc2dial_500_top5\n",
      "\n",
      "Section: doc2dial_500_top1_new\n",
      "\n"
     ]
    }
   ],
   "source": [
    "import configparser\n",
    "config = configparser.ConfigParser()\n",
    "config.read(\"config.ini\")\n",
    "\n",
    "# Iterate over each section in the configuration file\n",
    "for section in config.sections():\n",
    "    print(f\"Section: {section}\")\n",
    "    print() "
   ]
  },
  {
   "cell_type": "code",
   "execution_count": 1,
   "metadata": {},
   "outputs": [
    {
     "data": {
      "text/plain": [
       "[1, 2, 3, 4, 5, 6, 7, 8, 9, 10]"
      ]
     },
     "execution_count": 1,
     "metadata": {},
     "output_type": "execute_result"
    }
   ],
   "source": [
    "l = [1,2,3,4,5,6,7,8,9,10]\n",
    "[i for i in l]"
   ]
  },
  {
   "cell_type": "markdown",
   "metadata": {},
   "source": [
    "# Test t5base"
   ]
  },
  {
   "cell_type": "code",
   "execution_count": 1,
   "metadata": {},
   "outputs": [
    {
     "name": "stderr",
     "output_type": "stream",
     "text": [
      "/home/ygong/miniconda3/envs/atlas-env/lib/python3.8/site-packages/tqdm/auto.py:21: TqdmWarning: IProgress not found. Please update jupyter and ipywidgets. See https://ipywidgets.readthedocs.io/en/stable/user_install.html\n",
      "  from .autonotebook import tqdm as notebook_tqdm\n"
     ]
    }
   ],
   "source": [
    "from transformers import AutoTokenizer, AutoModelForSeq2SeqLM\n",
    "from torch.utils.data import DataLoader\n",
    "from document_loader import doc2dialDataset\n",
    "from QAModel import local_answer_model\n",
    "from models.retriever import retrieve_only\n",
    "from document_loader import doc2dialEvalDataset\n",
    "import ast\n",
    "import evaluation"
   ]
  },
  {
   "cell_type": "code",
   "execution_count": 2,
   "metadata": {},
   "outputs": [
    {
     "ename": "RuntimeError",
     "evalue": "CUDA out of memory. Tried to allocate 40.00 MiB (GPU 0; 10.92 GiB total capacity; 10.29 GiB already allocated; 11.38 MiB free; 10.29 GiB reserved in total by PyTorch) If reserved memory is >> allocated memory try setting max_split_size_mb to avoid fragmentation.  See documentation for Memory Management and PYTORCH_CUDA_ALLOC_CONF",
     "output_type": "error",
     "traceback": [
      "\u001b[0;31m---------------------------------------------------------------------------\u001b[0m",
      "\u001b[0;31mRuntimeError\u001b[0m                              Traceback (most recent call last)",
      "Cell \u001b[0;32mIn[2], line 2\u001b[0m\n\u001b[1;32m      1\u001b[0m qa_model_name \u001b[39m=\u001b[39m \u001b[39m'\u001b[39m\u001b[39mgoogle/flan-t5-xl\u001b[39m\u001b[39m'\u001b[39m\n\u001b[0;32m----> 2\u001b[0m model \u001b[39m=\u001b[39m AutoModelForSeq2SeqLM\u001b[39m.\u001b[39;49mfrom_pretrained(qa_model_name)\u001b[39m.\u001b[39;49mto(\u001b[39m'\u001b[39;49m\u001b[39mcuda\u001b[39;49m\u001b[39m'\u001b[39;49m)\n",
      "File \u001b[0;32m~/miniconda3/envs/atlas-env/lib/python3.8/site-packages/torch/nn/modules/module.py:907\u001b[0m, in \u001b[0;36mModule.to\u001b[0;34m(self, *args, **kwargs)\u001b[0m\n\u001b[1;32m    903\u001b[0m         \u001b[39mreturn\u001b[39;00m t\u001b[39m.\u001b[39mto(device, dtype \u001b[39mif\u001b[39;00m t\u001b[39m.\u001b[39mis_floating_point() \u001b[39mor\u001b[39;00m t\u001b[39m.\u001b[39mis_complex() \u001b[39melse\u001b[39;00m \u001b[39mNone\u001b[39;00m,\n\u001b[1;32m    904\u001b[0m                     non_blocking, memory_format\u001b[39m=\u001b[39mconvert_to_format)\n\u001b[1;32m    905\u001b[0m     \u001b[39mreturn\u001b[39;00m t\u001b[39m.\u001b[39mto(device, dtype \u001b[39mif\u001b[39;00m t\u001b[39m.\u001b[39mis_floating_point() \u001b[39mor\u001b[39;00m t\u001b[39m.\u001b[39mis_complex() \u001b[39melse\u001b[39;00m \u001b[39mNone\u001b[39;00m, non_blocking)\n\u001b[0;32m--> 907\u001b[0m \u001b[39mreturn\u001b[39;00m \u001b[39mself\u001b[39;49m\u001b[39m.\u001b[39;49m_apply(convert)\n",
      "File \u001b[0;32m~/miniconda3/envs/atlas-env/lib/python3.8/site-packages/torch/nn/modules/module.py:578\u001b[0m, in \u001b[0;36mModule._apply\u001b[0;34m(self, fn)\u001b[0m\n\u001b[1;32m    576\u001b[0m \u001b[39mdef\u001b[39;00m \u001b[39m_apply\u001b[39m(\u001b[39mself\u001b[39m, fn):\n\u001b[1;32m    577\u001b[0m     \u001b[39mfor\u001b[39;00m module \u001b[39min\u001b[39;00m \u001b[39mself\u001b[39m\u001b[39m.\u001b[39mchildren():\n\u001b[0;32m--> 578\u001b[0m         module\u001b[39m.\u001b[39;49m_apply(fn)\n\u001b[1;32m    580\u001b[0m     \u001b[39mdef\u001b[39;00m \u001b[39mcompute_should_use_set_data\u001b[39m(tensor, tensor_applied):\n\u001b[1;32m    581\u001b[0m         \u001b[39mif\u001b[39;00m torch\u001b[39m.\u001b[39m_has_compatible_shallow_copy_type(tensor, tensor_applied):\n\u001b[1;32m    582\u001b[0m             \u001b[39m# If the new tensor has compatible tensor type as the existing tensor,\u001b[39;00m\n\u001b[1;32m    583\u001b[0m             \u001b[39m# the current behavior is to change the tensor in-place using `.data =`,\u001b[39;00m\n\u001b[0;32m   (...)\u001b[0m\n\u001b[1;32m    588\u001b[0m             \u001b[39m# global flag to let the user control whether they want the future\u001b[39;00m\n\u001b[1;32m    589\u001b[0m             \u001b[39m# behavior of overwriting the existing tensor or not.\u001b[39;00m\n",
      "File \u001b[0;32m~/miniconda3/envs/atlas-env/lib/python3.8/site-packages/torch/nn/modules/module.py:578\u001b[0m, in \u001b[0;36mModule._apply\u001b[0;34m(self, fn)\u001b[0m\n\u001b[1;32m    576\u001b[0m \u001b[39mdef\u001b[39;00m \u001b[39m_apply\u001b[39m(\u001b[39mself\u001b[39m, fn):\n\u001b[1;32m    577\u001b[0m     \u001b[39mfor\u001b[39;00m module \u001b[39min\u001b[39;00m \u001b[39mself\u001b[39m\u001b[39m.\u001b[39mchildren():\n\u001b[0;32m--> 578\u001b[0m         module\u001b[39m.\u001b[39;49m_apply(fn)\n\u001b[1;32m    580\u001b[0m     \u001b[39mdef\u001b[39;00m \u001b[39mcompute_should_use_set_data\u001b[39m(tensor, tensor_applied):\n\u001b[1;32m    581\u001b[0m         \u001b[39mif\u001b[39;00m torch\u001b[39m.\u001b[39m_has_compatible_shallow_copy_type(tensor, tensor_applied):\n\u001b[1;32m    582\u001b[0m             \u001b[39m# If the new tensor has compatible tensor type as the existing tensor,\u001b[39;00m\n\u001b[1;32m    583\u001b[0m             \u001b[39m# the current behavior is to change the tensor in-place using `.data =`,\u001b[39;00m\n\u001b[0;32m   (...)\u001b[0m\n\u001b[1;32m    588\u001b[0m             \u001b[39m# global flag to let the user control whether they want the future\u001b[39;00m\n\u001b[1;32m    589\u001b[0m             \u001b[39m# behavior of overwriting the existing tensor or not.\u001b[39;00m\n",
      "    \u001b[0;31m[... skipping similar frames: Module._apply at line 578 (4 times)]\u001b[0m\n",
      "File \u001b[0;32m~/miniconda3/envs/atlas-env/lib/python3.8/site-packages/torch/nn/modules/module.py:578\u001b[0m, in \u001b[0;36mModule._apply\u001b[0;34m(self, fn)\u001b[0m\n\u001b[1;32m    576\u001b[0m \u001b[39mdef\u001b[39;00m \u001b[39m_apply\u001b[39m(\u001b[39mself\u001b[39m, fn):\n\u001b[1;32m    577\u001b[0m     \u001b[39mfor\u001b[39;00m module \u001b[39min\u001b[39;00m \u001b[39mself\u001b[39m\u001b[39m.\u001b[39mchildren():\n\u001b[0;32m--> 578\u001b[0m         module\u001b[39m.\u001b[39;49m_apply(fn)\n\u001b[1;32m    580\u001b[0m     \u001b[39mdef\u001b[39;00m \u001b[39mcompute_should_use_set_data\u001b[39m(tensor, tensor_applied):\n\u001b[1;32m    581\u001b[0m         \u001b[39mif\u001b[39;00m torch\u001b[39m.\u001b[39m_has_compatible_shallow_copy_type(tensor, tensor_applied):\n\u001b[1;32m    582\u001b[0m             \u001b[39m# If the new tensor has compatible tensor type as the existing tensor,\u001b[39;00m\n\u001b[1;32m    583\u001b[0m             \u001b[39m# the current behavior is to change the tensor in-place using `.data =`,\u001b[39;00m\n\u001b[0;32m   (...)\u001b[0m\n\u001b[1;32m    588\u001b[0m             \u001b[39m# global flag to let the user control whether they want the future\u001b[39;00m\n\u001b[1;32m    589\u001b[0m             \u001b[39m# behavior of overwriting the existing tensor or not.\u001b[39;00m\n",
      "File \u001b[0;32m~/miniconda3/envs/atlas-env/lib/python3.8/site-packages/torch/nn/modules/module.py:601\u001b[0m, in \u001b[0;36mModule._apply\u001b[0;34m(self, fn)\u001b[0m\n\u001b[1;32m    597\u001b[0m \u001b[39m# Tensors stored in modules are graph leaves, and we don't want to\u001b[39;00m\n\u001b[1;32m    598\u001b[0m \u001b[39m# track autograd history of `param_applied`, so we have to use\u001b[39;00m\n\u001b[1;32m    599\u001b[0m \u001b[39m# `with torch.no_grad():`\u001b[39;00m\n\u001b[1;32m    600\u001b[0m \u001b[39mwith\u001b[39;00m torch\u001b[39m.\u001b[39mno_grad():\n\u001b[0;32m--> 601\u001b[0m     param_applied \u001b[39m=\u001b[39m fn(param)\n\u001b[1;32m    602\u001b[0m should_use_set_data \u001b[39m=\u001b[39m compute_should_use_set_data(param, param_applied)\n\u001b[1;32m    603\u001b[0m \u001b[39mif\u001b[39;00m should_use_set_data:\n",
      "File \u001b[0;32m~/miniconda3/envs/atlas-env/lib/python3.8/site-packages/torch/nn/modules/module.py:905\u001b[0m, in \u001b[0;36mModule.to.<locals>.convert\u001b[0;34m(t)\u001b[0m\n\u001b[1;32m    902\u001b[0m \u001b[39mif\u001b[39;00m convert_to_format \u001b[39mis\u001b[39;00m \u001b[39mnot\u001b[39;00m \u001b[39mNone\u001b[39;00m \u001b[39mand\u001b[39;00m t\u001b[39m.\u001b[39mdim() \u001b[39min\u001b[39;00m (\u001b[39m4\u001b[39m, \u001b[39m5\u001b[39m):\n\u001b[1;32m    903\u001b[0m     \u001b[39mreturn\u001b[39;00m t\u001b[39m.\u001b[39mto(device, dtype \u001b[39mif\u001b[39;00m t\u001b[39m.\u001b[39mis_floating_point() \u001b[39mor\u001b[39;00m t\u001b[39m.\u001b[39mis_complex() \u001b[39melse\u001b[39;00m \u001b[39mNone\u001b[39;00m,\n\u001b[1;32m    904\u001b[0m                 non_blocking, memory_format\u001b[39m=\u001b[39mconvert_to_format)\n\u001b[0;32m--> 905\u001b[0m \u001b[39mreturn\u001b[39;00m t\u001b[39m.\u001b[39;49mto(device, dtype \u001b[39mif\u001b[39;49;00m t\u001b[39m.\u001b[39;49mis_floating_point() \u001b[39mor\u001b[39;49;00m t\u001b[39m.\u001b[39;49mis_complex() \u001b[39melse\u001b[39;49;00m \u001b[39mNone\u001b[39;49;00m, non_blocking)\n",
      "\u001b[0;31mRuntimeError\u001b[0m: CUDA out of memory. Tried to allocate 40.00 MiB (GPU 0; 10.92 GiB total capacity; 10.29 GiB already allocated; 11.38 MiB free; 10.29 GiB reserved in total by PyTorch) If reserved memory is >> allocated memory try setting max_split_size_mb to avoid fragmentation.  See documentation for Memory Management and PYTORCH_CUDA_ALLOC_CONF"
     ]
    }
   ],
   "source": [
    "qa_model_name = 'google/flan-t5-base'\n",
    "model = AutoModelForSeq2SeqLM.from_pretrained(qa_model_name).to('cuda')"
   ]
  },
  {
   "cell_type": "code",
   "execution_count": 2,
   "metadata": {},
   "outputs": [],
   "source": [
    "fid_model = AutoModelForSeq2SeqLM.from_pretrained(\"Intel/fid_flan_t5_base_nq\").to('cuda')\n",
    "tokenizer = AutoTokenizer.from_pretrained(\"google/flan-t5-base\")"
   ]
  },
  {
   "cell_type": "code",
   "execution_count": null,
   "metadata": {},
   "outputs": [],
   "source": []
  },
  {
   "cell_type": "code",
   "execution_count": 2,
   "metadata": {},
   "outputs": [],
   "source": [
    "data_path = 'data/doc2dial/qa_test_dmv.csv'\n",
    "# data_path = 'data/doc2dial/qa_train_dmv.csv'\n",
    "\n",
    "result_df = retrieve_only(data_path, \n",
    "            cs=500, \n",
    "            c_overlap=0, \n",
    "            save_dir=None,\n",
    "            new_method=False,\n",
    "            embedding_model='sentence-transformers/gtr-t5-base',\n",
    "            topk=1,\n",
    "            test_mode=True)\n",
    "\n",
    "dataset = doc2dialDataset(result_df)\n",
    "dataloader = DataLoader(dataset, batch_size=8, shuffle=False)\n",
    "\n",
    "first_batch = next(iter(dataloader))"
   ]
  },
  {
   "cell_type": "code",
   "execution_count": 71,
   "metadata": {},
   "outputs": [
    {
     "data": {
      "text/plain": [
       "[1, 7]"
      ]
     },
     "execution_count": 71,
     "metadata": {},
     "output_type": "execute_result"
    }
   ],
   "source": [
    "import random\n",
    "\n",
    "split_size = int(0.2 * len(dataset))\n",
    "[random.randint(0, len(dataset)) for _ in range(split_size)]"
   ]
  },
  {
   "cell_type": "code",
   "execution_count": 72,
   "metadata": {},
   "outputs": [],
   "source": [
    "# choose 20% random samples from dataset\n",
    "import random\n",
    "\n",
    "mask = [random.randint(0, len(dataset)) for _ in range(split_size)]\n",
    "subset = DataLoader(dataset, batch_size=2, shuffle=False, sampler=mask)\n"
   ]
  },
  {
   "cell_type": "code",
   "execution_count": 77,
   "metadata": {},
   "outputs": [
    {
     "data": {
      "text/plain": [
       "[6, 1]"
      ]
     },
     "execution_count": 77,
     "metadata": {},
     "output_type": "execute_result"
    }
   ],
   "source": [
    "mask"
   ]
  },
  {
   "cell_type": "code",
   "execution_count": 76,
   "metadata": {},
   "outputs": [
    {
     "data": {
      "text/plain": [
       "['What will happen if I let my insurance lapse?',\n",
       " 'What if iI already moved?\\nPlease go to a local branch with a piece of mail and update your address.']"
      ]
     },
     "execution_count": 76,
     "metadata": {},
     "output_type": "execute_result"
    }
   ],
   "source": [
    "first_batch = next(iter(subset))\n",
    "first_batch['question']"
   ]
  },
  {
   "cell_type": "code",
   "execution_count": 4,
   "metadata": {},
   "outputs": [],
   "source": [
    "questions = first_batch['question']\n",
    "answers = first_batch['answer']\n",
    "retrieve_docs = first_batch['retrived_doc']\n",
    "refs = first_batch['ref']\n",
    "\n",
    "retrieve_docs = first_batch['retrived_doc']\n",
    "doc_ids = first_batch['doc_id']\n",
    "dial_ids = first_batch['dial_id']\n",
    "\n",
    "# device = 'cuda'\n",
    "\n",
    "# model_answers = local_answer_model(fid_model, tokenizer, questions, retrieve_docs, device)\n",
    "# print(model_answers)"
   ]
  },
  {
   "cell_type": "code",
   "execution_count": 6,
   "metadata": {},
   "outputs": [
    {
     "data": {
      "text/plain": [
       "['What can I do if I forgot to update my address?',\n",
       " 'What if iI already moved?\\nPlease go to a local branch with a piece of mail and update your address.',\n",
       " 'What if my insurance lapsed too?',\n",
       " \"I'll make sure to do so.\",\n",
       " \"I'll make sure to do so.\",\n",
       " \"What if it doesn't solve my problem though?\",\n",
       " 'What will happen if I let my insurance lapse?',\n",
       " 'No, my insurance is not lapsed right now.\\nHow do I learn more about insurance lapses and how to surrender my plates?']"
      ]
     },
     "execution_count": 6,
     "metadata": {},
     "output_type": "execute_result"
    }
   ],
   "source": [
    "questions"
   ]
  },
  {
   "cell_type": "code",
   "execution_count": 7,
   "metadata": {},
   "outputs": [
    {
     "data": {
      "text/plain": [
       "[\"Don't forget to that, there are branches you can go to do this.\\nPlease refrence local Maps or our website to find a local branch.\",\n",
       " 'Please go to a local branch and update your address.',\n",
       " \"You'll need to either bring a copy of your current, new, insurance or pay the un-insured fee.\\nPlease make sure to bring all documentation needed to a local branch to expedite this process.\",\n",
       " 'If you need the forms mailed to you, or to download them, please check our website.',\n",
       " 'Thank you; it will save you at least an hour in line.',\n",
       " 'Provided you bring all relevant documentation to the DMV branch, you should have no issues.',\n",
       " 'It is a good thing that to not let your insurance lapse because otherwise, we all pay for it indirectly.  \\nDo you know what happens when your insurance lapse?',\n",
       " 'You have to contact the DMV if you want to surrender your plates and ask them how to do that.']"
      ]
     },
     "execution_count": 7,
     "metadata": {},
     "output_type": "execute_result"
    }
   ],
   "source": [
    "answers"
   ]
  },
  {
   "cell_type": "code",
   "execution_count": 25,
   "metadata": {},
   "outputs": [
    {
     "data": {
      "text/plain": [
       "496"
      ]
     },
     "execution_count": 25,
     "metadata": {},
     "output_type": "execute_result"
    }
   ],
   "source": [
    "len(retrieve_docs[1])"
   ]
  },
  {
   "cell_type": "code",
   "execution_count": 3,
   "metadata": {},
   "outputs": [],
   "source": [
    "# path = 'data/doc2dial/TEST/test.csv'\n",
    "path = 'data/doc2dial/doc2dial_testset/doc2dial_250_top5/doc2dial_250_top5_withModelAnswer.csv'\n",
    "\n",
    "dataset = doc2dialEvalDataset(path)\n",
    "# inference task, so shuffle is False\n",
    "dataloader = DataLoader(dataset, batch_size=16, shuffle=False)\n",
    "\n",
    "first_batch = next(iter(dataloader))\n",
    "questions = first_batch['question']\n",
    "true_answers = first_batch['answer']\n",
    "model_answer = first_batch['model_answer']\n",
    "retrived_docs = first_batch['retrived_doc']\n",
    "true_refs = first_batch['ref']\n",
    "doc_ids = first_batch['doc_id']\n",
    "dial_ids = first_batch['dial_id']\n",
    "true_ref_position = first_batch['true_ref_position']\n",
    "# retrieved_doc_s = first_batch['retrieved_doc_s']\n",
    "ref_strings = first_batch['ref_string']"
   ]
  },
  {
   "cell_type": "code",
   "execution_count": 4,
   "metadata": {},
   "outputs": [
    {
     "name": "stdout",
     "output_type": "stream",
     "text": [
      "len of questions:  16\n",
      "len of true_answers:  16\n",
      "len of model_answer:  16\n",
      "len of retrived_docs:  16\n",
      "len of true_refs:  16\n",
      "len of true_ref_position:  16\n",
      "len of ref_strings:  16\n"
     ]
    }
   ],
   "source": [
    "# print len of each batch\n",
    "print('len of questions: ', len(questions))\n",
    "print('len of true_answers: ', len(true_answers))\n",
    "print('len of model_answer: ', len(model_answer))\n",
    "print('len of retrived_docs: ', len(retrived_docs))\n",
    "print('len of true_refs: ', len(true_refs))\n",
    "print('len of true_ref_position: ', len(true_ref_position))\n",
    "# print('len of retrieved_doc_s: ', len(retrieved_doc_s))\n",
    "print('len of ref_strings: ', len(ref_strings))"
   ]
  },
  {
   "cell_type": "code",
   "execution_count": 16,
   "metadata": {},
   "outputs": [
    {
     "data": {
      "text/plain": [
       "['1. Forgetting to Update Address',\n",
       " 'sufficient to only: write your new address on the back of your old license; tell the United States Postal Service; or inform the police officer writing you a ticket. If you fail to keep your address current , you will miss a suspension order and may',\n",
       " 'possible mail correspondence can reach you. Also , turning in your plates is important to avoid an insurance lapse.',\n",
       " 'By statute , you must report a change of address to DMV within ten days of moving. That is the case for the address associated with your license, as well as all the addresses associated with each registered vehicle, which may differ. It is not']"
      ]
     },
     "execution_count": 16,
     "metadata": {},
     "output_type": "execute_result"
    }
   ],
   "source": [
    "retrived_docs[0].split('\\n')"
   ]
  },
  {
   "cell_type": "code",
   "execution_count": 13,
   "metadata": {},
   "outputs": [
    {
     "data": {
      "text/plain": [
       "[tensor([ 300,  577, 1650, 1650, 1650, 4214, 1650, 2782, 2287, 2044, 1401,   27,\n",
       "           82,  758,  809, 3106]),\n",
       " tensor([ 577,  300, 1768, 2536, 2536, 2536, 1768, 1650, 3163, 1650, 1151, 1220,\n",
       "         3683,   27,  758, 3189]),\n",
       " tensor([1650, 1401, 2782, 4214, 4214,  577, 2536, 2536, 2536, 3412,  577, 1904,\n",
       "         3106, 3106, 3436, 4199]),\n",
       " tensor([ 333,  333, 2536,  577,  577, 3412, 2044, 1768, 1796, 2287, 2287, 3106,\n",
       "         3189, 1055, 1947,   82])]"
      ]
     },
     "execution_count": 13,
     "metadata": {},
     "output_type": "execute_result"
    }
   ],
   "source": [
    "retrieved_doc_s"
   ]
  },
  {
   "cell_type": "code",
   "execution_count": 50,
   "metadata": {},
   "outputs": [
    {
     "data": {
      "text/plain": [
       "'[[(333, 346), (346, 416), (416, 567)], [(743, 786)]]'"
      ]
     },
     "execution_count": 50,
     "metadata": {},
     "output_type": "execute_result"
    }
   ],
   "source": [
    "true_ref_position[0]"
   ]
  },
  {
   "cell_type": "code",
   "execution_count": 54,
   "metadata": {},
   "outputs": [
    {
     "data": {
      "text/plain": [
       "\"[[{'sp_id': '5', 'label': 'solution'}, {'sp_id': '6', 'label': 'solution'}, {'sp_id': '7', 'label': 'solution'}], [{'sp_id': '9', 'label': 'precondition'}]]\""
      ]
     },
     "execution_count": 54,
     "metadata": {},
     "output_type": "execute_result"
    }
   ],
   "source": [
    "true_refs[0]"
   ]
  },
  {
   "cell_type": "code",
   "execution_count": 58,
   "metadata": {},
   "outputs": [
    {
     "data": {
      "text/plain": [
       "[[tensor([ 300,  577, 1650, 1650]), tensor([ 330,  825, 1764, 1764])],\n",
       " [tensor([ 577,  300, 1768, 2536]), tensor([ 825,  330, 1793, 2780])],\n",
       " [tensor([1650, 1401, 2782, 4214]), tensor([1764, 1648, 2868, 4461])],\n",
       " [tensor([ 333,  333, 2536,  577]), tensor([ 575,  575, 2780,  825])]]"
      ]
     },
     "execution_count": 58,
     "metadata": {},
     "output_type": "execute_result"
    }
   ],
   "source": [
    "retrieved_doc_position"
   ]
  },
  {
   "cell_type": "code",
   "execution_count": 61,
   "metadata": {},
   "outputs": [
    {
     "data": {
      "text/plain": [
       "['possible mail correspondence can reach you. Also , turning in your plates is important to avoid an insurance lapse.',\n",
       " 'that you have an insurance problem , and we will suspend your registration and license. Make sure you turn in your vehicle s license plates at DMV before you cancel your insurance policy. Insurance policies must be from a company licensed in New',\n",
       " 'a lost title, paying a DRA or scheduling a road test. Our award - winning website is recognized as one of the best in the nation. It has all the answers you need to efficiently perform any DMV transaction. Consider signing up for our MyDMV service,',\n",
       " 'sufficient to only: write your new address on the back of your old license; tell the United States Postal Service; or inform the police officer writing you a ticket. If you fail to keep your address current , you will miss a suspension order and may']"
      ]
     },
     "execution_count": 61,
     "metadata": {},
     "output_type": "execute_result"
    }
   ],
   "source": [
    "retrived_docs[3].split('\\n')"
   ]
  },
  {
   "cell_type": "code",
   "execution_count": 7,
   "metadata": {},
   "outputs": [],
   "source": [
    "import re\n",
    "def get_ref(doc, doc2dial_doc):\n",
    "    refs_ID = re.findall(r\"\\d+\", doc['references'])\n",
    "    refs_ID = [int(i) for i in refs_ID]\n",
    "    sp_list = [doc2dial_doc['doc_data'][doc['domain']][doc['doc_id']]['spans'][str(i)] for i in refs_ID]\n",
    "    return sp_list"
   ]
  },
  {
   "cell_type": "code",
   "execution_count": 35,
   "metadata": {},
   "outputs": [
    {
     "data": {
      "text/plain": [
       "[\"Don't forget to that, there are branches you can go to do this.\\nPlease refrence local Maps or our website to find a local branch.\",\n",
       " 'Please go to a local branch and update your address.',\n",
       " \"You'll need to either bring a copy of your current, new, insurance or pay the un-insured fee.\\nPlease make sure to bring all documentation needed to a local branch to expedite this process.\",\n",
       " 'If you need the forms mailed to you, or to download them, please check our website.']"
      ]
     },
     "execution_count": 35,
     "metadata": {},
     "output_type": "execute_result"
    }
   ],
   "source": [
    "true_answers"
   ]
  },
  {
   "cell_type": "code",
   "execution_count": 9,
   "metadata": {},
   "outputs": [
    {
     "data": {
      "text/plain": [
       "\"[[{'sp_id': '5', 'label': 'solution'}, {'sp_id': '6', 'label': 'solution'}, {'sp_id': '7', 'label': 'solution'}], [{'sp_id': '9', 'label': 'precondition'}]]\""
      ]
     },
     "execution_count": 9,
     "metadata": {},
     "output_type": "execute_result"
    }
   ],
   "source": [
    "true_refs[0]"
   ]
  },
  {
   "cell_type": "code",
   "execution_count": 40,
   "metadata": {},
   "outputs": [
    {
     "data": {
      "text/plain": [
       "['1. Forgetting to Update Address\\nsufficient to only: write your new address on the back of your old license; tell the United States Postal Service; or inform the police officer writing you a ticket. If you fail to keep your address current , you will miss a suspension order and may\\npossible mail correspondence can reach you. Also , turning in your plates is important to avoid an insurance lapse.\\nBy statute , you must report a change of address to DMV within ten days of moving. That is the case for the address associated with your license, as well as all the addresses associated with each registered vehicle, which may differ. It is not',\n",
       " 'sufficient to only: write your new address on the back of your old license; tell the United States Postal Service; or inform the police officer writing you a ticket. If you fail to keep your address current , you will miss a suspension order and may\\n1. Forgetting to Update Address\\nyour license plates to NYS when you get to your new home state. A license suspension or revocation here could mean that your new home state will not issue you a license there. Remember , it is important to notify DMV of your new address so that any\\nBy statute , you must report a change of address to DMV within ten days of moving. That is the case for the address associated with your license, as well as all the addresses associated with each registered vehicle, which may differ. It is not',\n",
       " 'possible mail correspondence can reach you. Also , turning in your plates is important to avoid an insurance lapse.\\n3. Letting Insurance Lapse\\nYork State. Learn more about Insurances Lapes [2] and How to Surrender your Plates [3 ]\\nthat you have an insurance problem , and we will suspend your registration and license. Make sure you turn in your vehicle s license plates at DMV before you cancel your insurance policy. Insurance policies must be from a company licensed in New',\n",
       " 'possible mail correspondence can reach you. Also , turning in your plates is important to avoid an insurance lapse.\\nthat you have an insurance problem , and we will suspend your registration and license. Make sure you turn in your vehicle s license plates at DMV before you cancel your insurance policy. Insurance policies must be from a company licensed in New\\na lost title, paying a DRA or scheduling a road test. Our award - winning website is recognized as one of the best in the nation. It has all the answers you need to efficiently perform any DMV transaction. Consider signing up for our MyDMV service,\\nsufficient to only: write your new address on the back of your old license; tell the United States Postal Service; or inform the police officer writing you a ticket. If you fail to keep your address current , you will miss a suspension order and may']"
      ]
     },
     "execution_count": 40,
     "metadata": {},
     "output_type": "execute_result"
    }
   ],
   "source": [
    "retrived_docs"
   ]
  },
  {
   "cell_type": "code",
   "execution_count": 7,
   "metadata": {},
   "outputs": [],
   "source": [
    "string_value = true_refs[0]"
   ]
  },
  {
   "cell_type": "code",
   "execution_count": 9,
   "metadata": {},
   "outputs": [],
   "source": [
    "import ast\n",
    "# data_list = ast.literal_eval(string_value)"
   ]
  },
  {
   "cell_type": "code",
   "execution_count": 13,
   "metadata": {},
   "outputs": [
    {
     "data": {
      "text/plain": [
       "[[{'sp_id': '5', 'label': 'solution'},\n",
       "  {'sp_id': '6', 'label': 'solution'},\n",
       "  {'sp_id': '7', 'label': 'solution'}],\n",
       " [{'sp_id': '9', 'label': 'precondition'}]]"
      ]
     },
     "execution_count": 13,
     "metadata": {},
     "output_type": "execute_result"
    }
   ],
   "source": [
    "data_list"
   ]
  },
  {
   "cell_type": "code",
   "execution_count": 14,
   "metadata": {},
   "outputs": [
    {
     "data": {
      "text/plain": [
       "[['5', '6', '7'], ['9']]"
      ]
     },
     "execution_count": 14,
     "metadata": {},
     "output_type": "execute_result"
    }
   ],
   "source": [
    "[[term['sp_id'] for term in _] for _ in data_list]"
   ]
  },
  {
   "cell_type": "code",
   "execution_count": 15,
   "metadata": {},
   "outputs": [
    {
     "data": {
      "text/plain": [
       "[['5', '6', '7'], ['9']]"
      ]
     },
     "execution_count": 15,
     "metadata": {},
     "output_type": "execute_result"
    }
   ],
   "source": [
    "def find_ref_id(string_value):\n",
    "    s = ast.literal_eval(string_value)\n",
    "    idx_list = [[term['sp_id'] for term in _] for _ in ast.literal_eval(string_value)]\n",
    "    return idx_list\n",
    "\n",
    "[find_ref_id(i) for i in true_refs][0]"
   ]
  },
  {
   "cell_type": "code",
   "execution_count": 16,
   "metadata": {},
   "outputs": [
    {
     "name": "stdout",
     "output_type": "stream",
     "text": [
      "[['5', '6', '7'], ['9']]\n",
      "[['35', '36', '37']]\n"
     ]
    }
   ],
   "source": [
    "for true_ref in true_refs:\n",
    "    print(find_ref_id(true_ref))"
   ]
  },
  {
   "cell_type": "code",
   "execution_count": 4,
   "metadata": {},
   "outputs": [],
   "source": [
    "import json\n",
    "file_path = 'data/doc2dial/doc2dial_doc.json'\n",
    "with open(file_path, 'r') as f:\n",
    "    data = json.load(f)"
   ]
  },
  {
   "cell_type": "code",
   "execution_count": 8,
   "metadata": {},
   "outputs": [],
   "source": [
    "doc_id = doc_ids[0]\n",
    "refs_ID = [[term['sp_id'] for term in _] for _ in ast.literal_eval(string_value)]\n",
    "doc_file_span = data['doc_data']['dmv'][doc_id]['spans']\n",
    "ll = [[doc_file_span[i] for i in l] for l in refs_ID]"
   ]
  },
  {
   "cell_type": "code",
   "execution_count": 9,
   "metadata": {},
   "outputs": [
    {
     "data": {
      "text/plain": [
       "\"[[{'sp_id': '5', 'label': 'solution'}, {'sp_id': '6', 'label': 'solution'}, {'sp_id': '7', 'label': 'solution'}], [{'sp_id': '9', 'label': 'precondition'}]]\""
      ]
     },
     "execution_count": 9,
     "metadata": {},
     "output_type": "execute_result"
    }
   ],
   "source": [
    "true_refs[0]"
   ]
  },
  {
   "cell_type": "code",
   "execution_count": 10,
   "metadata": {},
   "outputs": [
    {
     "data": {
      "text/plain": [
       "[['5', '6', '7'], ['9']]"
      ]
     },
     "execution_count": 10,
     "metadata": {},
     "output_type": "execute_result"
    }
   ],
   "source": [
    "refs_ID"
   ]
  },
  {
   "cell_type": "code",
   "execution_count": 14,
   "metadata": {},
   "outputs": [],
   "source": [
    "ref_string_list = [[term['text_sp'] for term in _] for _ in ll]"
   ]
  },
  {
   "cell_type": "code",
   "execution_count": 44,
   "metadata": {},
   "outputs": [
    {
     "data": {
      "text/plain": [
       "'By statute ,  you must report a change of address to DMV within ten days of moving.  That is the case for the address associated with your license, as well as all the addresses associated with each registered vehicle, which may differ.  If you fail to keep your address current , '"
      ]
     },
     "execution_count": 44,
     "metadata": {},
     "output_type": "execute_result"
    }
   ],
   "source": [
    "' '.join(string for sublist in ref_string_list for string in sublist)"
   ]
  },
  {
   "cell_type": "code",
   "execution_count": 43,
   "metadata": {},
   "outputs": [
    {
     "data": {
      "text/plain": [
       "[['By statute , ',\n",
       "  'you must report a change of address to DMV within ten days of moving. ',\n",
       "  'That is the case for the address associated with your license, as well as all the addresses associated with each registered vehicle, which may differ. '],\n",
       " ['If you fail to keep your address current , ']]"
      ]
     },
     "execution_count": 43,
     "metadata": {},
     "output_type": "execute_result"
    }
   ],
   "source": [
    "ref_string_list"
   ]
  },
  {
   "cell_type": "code",
   "execution_count": 29,
   "metadata": {},
   "outputs": [],
   "source": [
    "s = [' '.join(_) for _ in ref_string_list]"
   ]
  },
  {
   "cell_type": "code",
   "execution_count": 35,
   "metadata": {},
   "outputs": [
    {
     "data": {
      "text/plain": [
       "['By statute ,  you must report a change of address to DMV within ten days of moving.  That is the case for the address associated with your license, as well as all the addresses associated with each registered vehicle, which may differ. ',\n",
       " 'If you fail to keep your address current , ']"
      ]
     },
     "execution_count": 35,
     "metadata": {},
     "output_type": "execute_result"
    }
   ],
   "source": [
    "s"
   ]
  },
  {
   "cell_type": "code",
   "execution_count": 42,
   "metadata": {},
   "outputs": [
    {
     "data": {
      "text/plain": [
       "'By statute ,  you must report a change of address to DMV within ten days of moving.  That is the case for the address associated with your license, as well as all the addresses associated with each registered vehicle, which may differ.  If you fail to keep your address current , '"
      ]
     },
     "execution_count": 42,
     "metadata": {},
     "output_type": "execute_result"
    }
   ],
   "source": [
    "' '.join([' '.join(_) for _ in ref_string_list])"
   ]
  },
  {
   "cell_type": "code",
   "execution_count": 36,
   "metadata": {},
   "outputs": [
    {
     "data": {
      "text/plain": [
       "' By statute ,  you must report a change of address to DMV within ten days of moving.  That is the case for the address associated with your license, as well as all the addresses associated with each registered vehicle, which may differ.  If you fail to keep your address current , '"
      ]
     },
     "execution_count": 36,
     "metadata": {},
     "output_type": "execute_result"
    }
   ],
   "source": [
    "temp = ''\n",
    "for ss in s:\n",
    "    temp += ' ' + ss\n",
    "\n",
    "temp"
   ]
  },
  {
   "cell_type": "code",
   "execution_count": 13,
   "metadata": {},
   "outputs": [
    {
     "data": {
      "text/plain": [
       "'1. Forgetting to Update Address\\nsufficient to only: write your new address on the back of your old license; tell the United States Postal Service; or inform the police officer writing you a ticket. If you fail to keep your address current , you will miss a suspension order and may\\npossible mail correspondence can reach you. Also , turning in your plates is important to avoid an insurance lapse.\\nBy statute , you must report a change of address to DMV within ten days of moving. That is the case for the address associated with your license, as well as all the addresses associated with each registered vehicle, which may differ. It is not'"
      ]
     },
     "execution_count": 13,
     "metadata": {},
     "output_type": "execute_result"
    }
   ],
   "source": [
    "retrived_docs[0]"
   ]
  },
  {
   "cell_type": "code",
   "execution_count": 51,
   "metadata": {},
   "outputs": [
    {
     "data": {
      "text/plain": [
       "[[(333, 346), (346, 416), (416, 567)], [(743, 786)]]"
      ]
     },
     "execution_count": 51,
     "metadata": {},
     "output_type": "execute_result"
    }
   ],
   "source": [
    "[[(term['start_sp'], term['end_sp']) for term in _] for _ in ll]"
   ]
  },
  {
   "cell_type": "code",
   "execution_count": 6,
   "metadata": {},
   "outputs": [
    {
     "data": {
      "text/plain": [
       "'By statute , you must report a change of address to DMV within ten days of moving. That is the case for the address associated with your license, as well as all the addresses associated with each registered vehicle, which may differ. It is not sufficient to only: write your new address on the back of your old license; tell the United States Postal Service; or inform the police officer writing you a ticket. If you fail to keep your address current , you will miss a suspension order and may be'"
      ]
     },
     "execution_count": 6,
     "metadata": {},
     "output_type": "execute_result"
    }
   ],
   "source": [
    "retrived_docs[1]"
   ]
  },
  {
   "cell_type": "code",
   "execution_count": null,
   "metadata": {},
   "outputs": [],
   "source": [
    "def compare(true_ref, retrived_doc):\n",
    "    pass"
   ]
  },
  {
   "cell_type": "code",
   "execution_count": 13,
   "metadata": {},
   "outputs": [],
   "source": [
    "p = \"Many DMV customers make easily avoidable mistakes that cause them significant problems, including encounters with law enforcement and impounded vehicles. Because we see customers make these mistakes over and over again , we are issuing this list of the top five DMV mistakes and how to avoid them. \\n\\n1. Forgetting to Update Address \\nBy statute , you must report a change of address to DMV within ten days of moving. That is the case for the address associated with your license, as well as all the addresses associated with each registered vehicle, which may differ. It is not sufficient to only: write your new address on the back of your old license; tell the United States Postal Service; or inform the police officer writing you a ticket. If you fail to keep your address current , you will miss a suspension order and may be charged with operating an unregistered vehicle and/or aggravated unlicensed operation, both misdemeanors. This really happens , but the good news is this is a problem that is easily avoidable. Learn more about how to change the address on your license and registrations [1 ] \\n\\n2. Leaving the State Without Notifying DMV \\nStates communicate with each other , so when you move to another state, be sure to tie up any loose ends regarding your New York State license or registration. That means resolving any unanswered tickets, suspensions or revocations, and surrendering your license plates to NYS when you get to your new home state. A license suspension or revocation here could mean that your new home state will not issue you a license there. Remember , it is important to notify DMV of your new address so that any possible mail correspondence can reach you. Also , turning in your plates is important to avoid an insurance lapse. \\n\\n3. Letting Insurance Lapse \\nBecause we all pay indirectly for crashes involving uninsured motorists , New York State requires every motorist to maintain auto insurance every single day a vehicle is registered. DMV works with insurance companies to electronically monitor your insurance coverage , and we know when coverage is dropped for any reason. When that happens , we mail you an insurance inquiry letter to allow you to clear up the problem. We send 500,000 inquiry letters a year. If the inquiry letter does not resolve the problem , we must suspend the vehicle registration and , if it persists, your driver license!We suspend 300,000 registrations a year for failure to maintain insurance. If you fail to maintain an updated address with us , you won t learn that you have an insurance problem , and we will suspend your registration and license. Make sure you turn in your vehicle s license plates at DMV before you cancel your insurance policy. Insurance policies must be from a company licensed in New York State. Learn more about Insurances Lapes [2] and How to Surrender your Plates [3 ] \\n\\n4. Understanding how Much Traffic Points Cost \\nDMV maintains a point system to track dangerous drivers. Often , motorists convicted of a traffic ticket feel they have resolved all their motoring issues with the local court, but later learn that the Driver Responsibility Assessment DRA is a separate DMV charge based on the total points they accumulate. The $300 DRA fee can be paid in $100 annual installments over three years. Motorists who fail to maintain an updated address with DMV may resolve their tickets with the court, but never receive their DRA assessment because we do not have their new address on record. Failure to pay the DRA will result in a suspended license. Learn more about About the NYS Driver Point System [4] and how to Pay Driver Responsibility Assessment [5 ] \\n\\n5. Not Bringing Proper Documentation to DMV Office \\nAbout ten percent of customers visiting a DMV office do not bring what they need to complete their transaction, and have to come back a second time to finish their business. This can be as simple as not bringing sufficient funds to pay for a license renewal or not having the proof of auto insurance required to register a car. Better yet , don t visit a DMV office at all, and see if your transaction can be performed online, like an address change, registration renewal, license renewal, replacing a lost title, paying a DRA or scheduling a road test. Our award - winning website is recognized as one of the best in the nation. It has all the answers you need to efficiently perform any DMV transaction. Consider signing up for our MyDMV service, which offers even more benefits. Sign up or log into MyDMV [6 ] \""
   ]
  },
  {
   "cell_type": "code",
   "execution_count": 29,
   "metadata": {},
   "outputs": [
    {
     "data": {
      "text/plain": [
       "\"Don't forget to that, there are branches you can go to do this.\\nPlease refrence local Maps or our website to find a local branch.\""
      ]
     },
     "execution_count": 29,
     "metadata": {},
     "output_type": "execute_result"
    }
   ],
   "source": [
    "true_answers[0]"
   ]
  },
  {
   "cell_type": "code",
   "execution_count": 5,
   "metadata": {},
   "outputs": [
    {
     "data": {
      "text/plain": [
       "'[[(333, 346), (346, 416), (416, 567)], [(743, 786)]]'"
      ]
     },
     "execution_count": 5,
     "metadata": {},
     "output_type": "execute_result"
    }
   ],
   "source": [
    "true_ref_position[0]"
   ]
  },
  {
   "cell_type": "code",
   "execution_count": 32,
   "metadata": {},
   "outputs": [
    {
     "data": {
      "text/plain": [
       "'1. Forgetting to Update Address'"
      ]
     },
     "execution_count": 32,
     "metadata": {},
     "output_type": "execute_result"
    }
   ],
   "source": [
    "retrived_docs[0]"
   ]
  },
  {
   "cell_type": "code",
   "execution_count": 56,
   "metadata": {},
   "outputs": [
    {
     "name": "stdout",
     "output_type": "stream",
     "text": [
      "333 353\n"
     ]
    }
   ],
   "source": [
    "sentence = 'By statute , you must'\n",
    "\n",
    "start = p.find(sentence)\n",
    "end = start + len(sentence) - 1\n",
    "print(start, end)"
   ]
  },
  {
   "cell_type": "code",
   "execution_count": 29,
   "metadata": {},
   "outputs": [
    {
     "data": {
      "text/plain": [
       "['1. Forgetting to Update Address',\n",
       " 'By statute , you must report a change of address to DMV within ten days of moving. That is the case for the address associated with your license, as well as all the addresses associated with each registered vehicle, which may differ. It is not sufficient to only: write your new address on the back of your old license; tell the United States Postal Service; or inform the police officer writing you a ticket. If you fail to keep your address current , you will miss a suspension order and may be',\n",
       " 'possible mail correspondence can reach you. Also , turning in your plates is important to avoid an insurance lapse.',\n",
       " 'possible mail correspondence can reach you. Also , turning in your plates is important to avoid an insurance lapse.']"
      ]
     },
     "execution_count": 29,
     "metadata": {},
     "output_type": "execute_result"
    }
   ],
   "source": [
    "retrived_docs"
   ]
  },
  {
   "cell_type": "code",
   "execution_count": 41,
   "metadata": {},
   "outputs": [
    {
     "name": "stdout",
     "output_type": "stream",
     "text": [
      "[(300, 330), (577, 825), (1650, 1764), (333, 575)]\n"
     ]
    }
   ],
   "source": [
    "sentences = retrived_docs[0].split('\\n')\n",
    "\n",
    "starts = [p.find(sentence) for sentence in sentences]\n",
    "ends = [start + len(sentence) - 1 for start, sentence in zip(starts, sentences)]\n",
    "ranges = [(start, end) for start, end in zip(starts, ends)]\n",
    "print(ranges)"
   ]
  },
  {
   "cell_type": "code",
   "execution_count": 49,
   "metadata": {},
   "outputs": [
    {
     "data": {
      "text/plain": [
       "[tensor([ 300,  577, 1650, 1650]), tensor([ 330,  825, 1764, 1764])]"
      ]
     },
     "execution_count": 49,
     "metadata": {},
     "output_type": "execute_result"
    }
   ],
   "source": [
    "retrieved_doc_position[0]"
   ]
  },
  {
   "cell_type": "code",
   "execution_count": 3,
   "metadata": {},
   "outputs": [],
   "source": [
    "from evaluation import compute_f1"
   ]
  },
  {
   "cell_type": "code",
   "execution_count": 5,
   "metadata": {},
   "outputs": [
    {
     "data": {
      "text/plain": [
       "(0.489795918367347, 0.8, 0.35294117647058826)"
      ]
     },
     "execution_count": 5,
     "metadata": {},
     "output_type": "execute_result"
    }
   ],
   "source": [
    "compute_f1(ref_strings[0], retrived_docs[0], return_prec_recall=True)"
   ]
  },
  {
   "cell_type": "code",
   "execution_count": 66,
   "metadata": {},
   "outputs": [
    {
     "data": {
      "text/plain": [
       "\"[[{'sp_id': '5', 'label': 'solution'}, {'sp_id': '6', 'label': 'solution'}, {'sp_id': '7', 'label': 'solution'}], [{'sp_id': '9', 'label': 'precondition'}]]\""
      ]
     },
     "execution_count": 66,
     "metadata": {},
     "output_type": "execute_result"
    }
   ],
   "source": [
    "true_refs[0]"
   ]
  },
  {
   "cell_type": "code",
   "execution_count": 12,
   "metadata": {},
   "outputs": [
    {
     "name": "stdout",
     "output_type": "stream",
     "text": [
      "3\n"
     ]
    }
   ],
   "source": [
    "def fn(a, b, *args, **kwargs):\n",
    "    test = kwargs.get('test_mode', False)\n",
    "    \n",
    "    print(args[0])\n",
    "\n",
    "test_mode = True\n",
    "fn(1, 2, 3, 4, 5, test_mode=True)"
   ]
  },
  {
   "cell_type": "code",
   "execution_count": 10,
   "metadata": {},
   "outputs": [
    {
     "data": {
      "text/html": [
       "<div>\n",
       "<style scoped>\n",
       "    .dataframe tbody tr th:only-of-type {\n",
       "        vertical-align: middle;\n",
       "    }\n",
       "\n",
       "    .dataframe tbody tr th {\n",
       "        vertical-align: top;\n",
       "    }\n",
       "\n",
       "    .dataframe thead th {\n",
       "        text-align: right;\n",
       "    }\n",
       "</style>\n",
       "<table border=\"1\" class=\"dataframe\">\n",
       "  <thead>\n",
       "    <tr style=\"text-align: right;\">\n",
       "      <th></th>\n",
       "      <th>question</th>\n",
       "      <th>answer</th>\n",
       "      <th>model_answer</th>\n",
       "      <th>ref</th>\n",
       "      <th>retrived_doc</th>\n",
       "      <th>answer_f1</th>\n",
       "      <th>answer_prec</th>\n",
       "      <th>answer_recall</th>\n",
       "      <th>autoais_retrevied</th>\n",
       "      <th>att_f1</th>\n",
       "      <th>att_prec</th>\n",
       "      <th>att_recall</th>\n",
       "      <th>autoais_true_answer</th>\n",
       "    </tr>\n",
       "  </thead>\n",
       "  <tbody>\n",
       "    <tr>\n",
       "      <th>0</th>\n",
       "      <td>What can I do if I forgot to update my address?</td>\n",
       "      <td>Don't forget to that, there are branches you c...</td>\n",
       "      <td>report a change of address to DMV</td>\n",
       "      <td>By statute ,  you must report a change of addr...</td>\n",
       "      <td>1. Forgetting to Update Address\\nBy statute , ...</td>\n",
       "      <td>0.066667</td>\n",
       "      <td>0.166667</td>\n",
       "      <td>0.041667</td>\n",
       "      <td>1.0</td>\n",
       "      <td>0.382979</td>\n",
       "      <td>0.251748</td>\n",
       "      <td>0.800000</td>\n",
       "      <td>0.0</td>\n",
       "    </tr>\n",
       "    <tr>\n",
       "      <th>1</th>\n",
       "      <td>What if iI already moved?\\nPlease go to a loca...</td>\n",
       "      <td>Please go to a local branch and update your ad...</td>\n",
       "      <td>iii.</td>\n",
       "      <td>you won t learn that you have an insurance pro...</td>\n",
       "      <td>By statute , you must report a change of addre...</td>\n",
       "      <td>0.000000</td>\n",
       "      <td>0.000000</td>\n",
       "      <td>0.000000</td>\n",
       "      <td>NaN</td>\n",
       "      <td>0.117117</td>\n",
       "      <td>0.069519</td>\n",
       "      <td>0.371429</td>\n",
       "      <td>NaN</td>\n",
       "    </tr>\n",
       "    <tr>\n",
       "      <th>2</th>\n",
       "      <td>What if my insurance lapsed too?</td>\n",
       "      <td>You'll need to either bring a copy of your cur...</td>\n",
       "      <td>(iv)</td>\n",
       "      <td>Because we all pay indirectly for crashes invo...</td>\n",
       "      <td>possible mail correspondence can reach you. Al...</td>\n",
       "      <td>0.000000</td>\n",
       "      <td>0.000000</td>\n",
       "      <td>0.000000</td>\n",
       "      <td>0.0</td>\n",
       "      <td>0.185430</td>\n",
       "      <td>0.126126</td>\n",
       "      <td>0.350000</td>\n",
       "      <td>0.0</td>\n",
       "    </tr>\n",
       "    <tr>\n",
       "      <th>3</th>\n",
       "      <td>I'll make sure to do so.</td>\n",
       "      <td>If you need the forms mailed to you, or to dow...</td>\n",
       "      <td>I will report my change of address to DMV</td>\n",
       "      <td>we mail you an insurance inquiry letter to all...</td>\n",
       "      <td>possible mail correspondence can reach you. Al...</td>\n",
       "      <td>0.083333</td>\n",
       "      <td>0.111111</td>\n",
       "      <td>0.066667</td>\n",
       "      <td>NaN</td>\n",
       "      <td>0.057692</td>\n",
       "      <td>0.030769</td>\n",
       "      <td>0.461538</td>\n",
       "      <td>NaN</td>\n",
       "    </tr>\n",
       "    <tr>\n",
       "      <th>4</th>\n",
       "      <td>I'll make sure to do so.</td>\n",
       "      <td>Thank you; it will save you at least an hour i...</td>\n",
       "      <td>I will report my change of address to DMV</td>\n",
       "      <td>you won t learn that you have an insurance pro...</td>\n",
       "      <td>possible mail correspondence can reach you. Al...</td>\n",
       "      <td>0.100000</td>\n",
       "      <td>0.111111</td>\n",
       "      <td>0.090909</td>\n",
       "      <td>NaN</td>\n",
       "      <td>0.113043</td>\n",
       "      <td>0.066667</td>\n",
       "      <td>0.371429</td>\n",
       "      <td>NaN</td>\n",
       "    </tr>\n",
       "  </tbody>\n",
       "</table>\n",
       "</div>"
      ],
      "text/plain": [
       "                                            question  \\\n",
       "0    What can I do if I forgot to update my address?   \n",
       "1  What if iI already moved?\\nPlease go to a loca...   \n",
       "2                   What if my insurance lapsed too?   \n",
       "3                           I'll make sure to do so.   \n",
       "4                           I'll make sure to do so.   \n",
       "\n",
       "                                              answer  \\\n",
       "0  Don't forget to that, there are branches you c...   \n",
       "1  Please go to a local branch and update your ad...   \n",
       "2  You'll need to either bring a copy of your cur...   \n",
       "3  If you need the forms mailed to you, or to dow...   \n",
       "4  Thank you; it will save you at least an hour i...   \n",
       "\n",
       "                                model_answer  \\\n",
       "0          report a change of address to DMV   \n",
       "1                                       iii.   \n",
       "2                                       (iv)   \n",
       "3  I will report my change of address to DMV   \n",
       "4  I will report my change of address to DMV   \n",
       "\n",
       "                                                 ref  \\\n",
       "0  By statute ,  you must report a change of addr...   \n",
       "1  you won t learn that you have an insurance pro...   \n",
       "2  Because we all pay indirectly for crashes invo...   \n",
       "3  we mail you an insurance inquiry letter to all...   \n",
       "4  you won t learn that you have an insurance pro...   \n",
       "\n",
       "                                        retrived_doc  answer_f1  answer_prec  \\\n",
       "0  1. Forgetting to Update Address\\nBy statute , ...   0.066667     0.166667   \n",
       "1  By statute , you must report a change of addre...   0.000000     0.000000   \n",
       "2  possible mail correspondence can reach you. Al...   0.000000     0.000000   \n",
       "3  possible mail correspondence can reach you. Al...   0.083333     0.111111   \n",
       "4  possible mail correspondence can reach you. Al...   0.100000     0.111111   \n",
       "\n",
       "   answer_recall  autoais_retrevied    att_f1  att_prec  att_recall  \\\n",
       "0       0.041667                1.0  0.382979  0.251748    0.800000   \n",
       "1       0.000000                NaN  0.117117  0.069519    0.371429   \n",
       "2       0.000000                0.0  0.185430  0.126126    0.350000   \n",
       "3       0.066667                NaN  0.057692  0.030769    0.461538   \n",
       "4       0.090909                NaN  0.113043  0.066667    0.371429   \n",
       "\n",
       "   autoais_true_answer  \n",
       "0                  0.0  \n",
       "1                  NaN  \n",
       "2                  0.0  \n",
       "3                  NaN  \n",
       "4                  NaN  "
      ]
     },
     "execution_count": 10,
     "metadata": {},
     "output_type": "execute_result"
    }
   ],
   "source": [
    "import pandas as pd\n",
    "df = pd.read_csv('data/doc2dial/eval_test.csv')\n",
    "df.head()"
   ]
  },
  {
   "cell_type": "code",
   "execution_count": 6,
   "metadata": {},
   "outputs": [],
   "source": [
    "ans_f1 = []\n",
    "ans_prec = []\n",
    "ans_recall = []\n",
    "for i in range(8):\n",
    "    f1, prec, recall = evaluation.compute_f1(model_answer[i], true_answers[i], return_prec_recall=True)\n",
    "    ans_f1.append(f1)\n",
    "    ans_prec.append(prec)\n",
    "    ans_recall.append(recall)"
   ]
  },
  {
   "cell_type": "code",
   "execution_count": 7,
   "metadata": {},
   "outputs": [
    {
     "data": {
      "text/plain": [
       "[0, 0, 0, 0, 0.11764705882352942, 0, 0.1142857142857143, 0]"
      ]
     },
     "execution_count": 7,
     "metadata": {},
     "output_type": "execute_result"
    }
   ],
   "source": [
    "ans_f1"
   ]
  },
  {
   "cell_type": "code",
   "execution_count": 9,
   "metadata": {},
   "outputs": [
    {
     "data": {
      "text/plain": [
       "['What can I do if I forgot to update my address?',\n",
       " 'What if iI already moved?\\nPlease go to a local branch with a piece of mail and update your address.',\n",
       " 'What if my insurance lapsed too?',\n",
       " \"I'll make sure to do so.\",\n",
       " \"I'll make sure to do so.\",\n",
       " \"What if it doesn't solve my problem though?\",\n",
       " 'What will happen if I let my insurance lapse?',\n",
       " 'No, my insurance is not lapsed right now.\\nHow do I learn more about insurance lapses and how to surrender my plates?']"
      ]
     },
     "execution_count": 9,
     "metadata": {},
     "output_type": "execute_result"
    }
   ],
   "source": [
    "questions"
   ]
  },
  {
   "cell_type": "code",
   "execution_count": 19,
   "metadata": {},
   "outputs": [
    {
     "data": {
      "text/plain": [
       "['a', 'b', 'c']"
      ]
     },
     "execution_count": 19,
     "metadata": {},
     "output_type": "execute_result"
    }
   ],
   "source": [
    "'\\n'.join(['a', 'b', 'c']).split('\\n')"
   ]
  },
  {
   "cell_type": "code",
   "execution_count": 3,
   "metadata": {},
   "outputs": [],
   "source": [
    "import pandas as pd\n",
    "df = pd.read_csv('data/doc2dial/doc2dial_testset/doc2dial_1000_top1/eval.csv')"
   ]
  },
  {
   "cell_type": "code",
   "execution_count": 28,
   "metadata": {},
   "outputs": [],
   "source": [
    "def fn(cards):\n",
    "    min_adds = 0\n",
    "    max_card = max(cards)\n",
    "    res = 2\n",
    "\n",
    "    for num in cards:\n",
    "        if num % 2 == 1:\n",
    "            min_adds += 1\n",
    "\n",
    "    for i in range(2, min_adds):\n",
    "        temp = 0\n",
    "        for num in cards:\n",
    "            while num % i != 0:\n",
    "                temp += 1\n",
    "                num += 1\n",
    "        min_adds = min(min_adds, temp)\n",
    "        res = i\n",
    "    return res, min_adds"
   ]
  },
  {
   "cell_type": "code",
   "execution_count": 35,
   "metadata": {},
   "outputs": [
    {
     "data": {
      "text/plain": [
       "(2, 1)"
      ]
     },
     "execution_count": 35,
     "metadata": {},
     "output_type": "execute_result"
    }
   ],
   "source": [
    "cards = [6, 9, 12]\n",
    "fn(cards)"
   ]
  },
  {
   "cell_type": "code",
   "execution_count": 1,
   "metadata": {},
   "outputs": [],
   "source": [
    "import os\n",
    "import pandas as pd\n"
   ]
  },
  {
   "cell_type": "code",
   "execution_count": 5,
   "metadata": {},
   "outputs": [
    {
     "name": "stdout",
     "output_type": "stream",
     "text": [
      "doc2dial_1000_top1_withRefs.csv 4147\n",
      "DEFAULT_withModelAnswer.csv 4147\n",
      "DEFAULT_withRefs.csv 4147\n",
      "doc2dial_500_top5_withModelAnswer.csv 4147\n",
      "doc2dial_500_top5_withRefs.csv 4147\n",
      "doc2dial_500_top1_new_withRefs.csv 4147\n",
      "doc2dial_500_top5_new_withModelAnswer.csv 4147\n",
      "doc2dial_500_top5_new_withRefs.csv 4147\n",
      "doc2dial_1000_top1_new_withRefs.csv 4147\n",
      "doc2dial_1000_top1_new_withModelAnswer.csv 4147\n"
     ]
    }
   ],
   "source": [
    "path = 'data/doc2dial/Train_dataset'\n",
    "\n",
    "for subfolder in os.listdir(path):\n",
    "    subfolder_path = os.path.join(path, subfolder)\n",
    "    if os.path.isdir(subfolder_path):\n",
    "        for file in os.listdir(subfolder_path):\n",
    "            file_path = os.path.join(subfolder_path, file)\n",
    "            if file.endswith('.csv'):\n",
    "                df = pd.read_csv(file_path)\n",
    "                print(file, len(df))\n"
   ]
  },
  {
   "cell_type": "code",
   "execution_count": 6,
   "metadata": {},
   "outputs": [
    {
     "data": {
      "text/plain": [
       "4147"
      ]
     },
     "execution_count": 6,
     "metadata": {},
     "output_type": "execute_result"
    }
   ],
   "source": [
    "df = pd.read_csv('data/doc2dial/qa_train_dmv_withRefs.csv')\n",
    "len(df)"
   ]
  }
 ],
 "metadata": {
  "kernelspec": {
   "display_name": "atlas-env",
   "language": "python",
   "name": "python3"
  },
  "language_info": {
   "codemirror_mode": {
    "name": "ipython",
    "version": 3
   },
   "file_extension": ".py",
   "mimetype": "text/x-python",
   "name": "python",
   "nbconvert_exporter": "python",
   "pygments_lexer": "ipython3",
   "version": "3.8.16"
  },
  "orig_nbformat": 4,
  "vscode": {
   "interpreter": {
    "hash": "0524695ab7cc8b827f32433f08320ad099c792295e0943ecb481c2e54455043d"
   }
  }
 },
 "nbformat": 4,
 "nbformat_minor": 2
}
