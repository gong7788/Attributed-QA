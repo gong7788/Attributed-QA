{
 "cells": [
  {
   "cell_type": "code",
   "execution_count": 1,
   "metadata": {},
   "outputs": [
    {
     "name": "stderr",
     "output_type": "stream",
     "text": [
      "/home/ygong/miniconda3/envs/atlas-env/lib/python3.8/site-packages/tqdm/auto.py:21: TqdmWarning: IProgress not found. Please update jupyter and ipywidgets. See https://ipywidgets.readthedocs.io/en/stable/user_install.html\n",
      "  from .autonotebook import tqdm as notebook_tqdm\n"
     ]
    }
   ],
   "source": [
    "import pandas as pd\n",
    "import ast\n",
    "from embedding import embedding\n",
    "from dataloader import OpenQADataset\n",
    "from torch.utils.data import DataLoader\n",
    "from langchain.docstore.document import Document\n",
    "from langchain.embeddings import HuggingFaceEmbeddings\n",
    "from langchain.docstore.document import Document\n",
    "from langchain.vectorstores import FAISS"
   ]
  },
  {
   "cell_type": "code",
   "execution_count": 6,
   "metadata": {},
   "outputs": [],
   "source": [
    "df = pd.read_csv('data/openqa/data.csv')"
   ]
  },
  {
   "cell_type": "code",
   "execution_count": 7,
   "metadata": {},
   "outputs": [
    {
     "data": {
      "text/html": [
       "<div>\n",
       "<style scoped>\n",
       "    .dataframe tbody tr th:only-of-type {\n",
       "        vertical-align: middle;\n",
       "    }\n",
       "\n",
       "    .dataframe tbody tr th {\n",
       "        vertical-align: top;\n",
       "    }\n",
       "\n",
       "    .dataframe thead th {\n",
       "        text-align: right;\n",
       "    }\n",
       "</style>\n",
       "<table border=\"1\" class=\"dataframe\">\n",
       "  <thead>\n",
       "    <tr style=\"text-align: right;\">\n",
       "      <th></th>\n",
       "      <th>question</th>\n",
       "      <th>answer</th>\n",
       "      <th>passage</th>\n",
       "      <th>human_rating</th>\n",
       "      <th>paragraphs</th>\n",
       "    </tr>\n",
       "  </thead>\n",
       "  <tbody>\n",
       "    <tr>\n",
       "      <th>0</th>\n",
       "      <td>who played hyde in league of extraordinary gen...</td>\n",
       "      <td>Jason Flemyng</td>\n",
       "      <td>Title: Jason Flemyng\\nSection: Television and ...</td>\n",
       "      <td>Y</td>\n",
       "      <td>[\"Jason Iain Flemyng (born 25 September 1966) ...</td>\n",
       "    </tr>\n",
       "    <tr>\n",
       "      <th>1</th>\n",
       "      <td>who signed the largest on the declaration of i...</td>\n",
       "      <td>John Hancock</td>\n",
       "      <td>Title: United States Declaration of Independen...</td>\n",
       "      <td>Y</td>\n",
       "      <td>['The Declaration of Independence, headed The ...</td>\n",
       "    </tr>\n",
       "    <tr>\n",
       "      <th>2</th>\n",
       "      <td>when was the last time the carolina hurricanes...</td>\n",
       "      <td>2009</td>\n",
       "      <td>Title: 2009 Stanley Cup playoffs\\nSection: Con...</td>\n",
       "      <td>Y</td>\n",
       "      <td>['The 2009 Stanley Cup playoffs of the Nationa...</td>\n",
       "    </tr>\n",
       "    <tr>\n",
       "      <th>3</th>\n",
       "      <td>where was 2017 beauty and the beast filmed</td>\n",
       "      <td>England</td>\n",
       "      <td>Title: Beauty and the Beast (2017 film)\\n\\nA l...</td>\n",
       "      <td>Y</td>\n",
       "      <td>[\"Beauty and the Beast is a 2017 American musi...</td>\n",
       "    </tr>\n",
       "    <tr>\n",
       "      <th>4</th>\n",
       "      <td>when does the next warrior book come out</td>\n",
       "      <td>2018</td>\n",
       "      <td>Title: Adonal Foyle\\n\\nAdonal David Foyle (bor...</td>\n",
       "      <td>N</td>\n",
       "      <td>[\"Adonal David Foyle (born March 9, 1975) is a...</td>\n",
       "    </tr>\n",
       "  </tbody>\n",
       "</table>\n",
       "</div>"
      ],
      "text/plain": [
       "                                            question         answer  \\\n",
       "0  who played hyde in league of extraordinary gen...  Jason Flemyng   \n",
       "1  who signed the largest on the declaration of i...   John Hancock   \n",
       "2  when was the last time the carolina hurricanes...           2009   \n",
       "3         where was 2017 beauty and the beast filmed        England   \n",
       "4           when does the next warrior book come out           2018   \n",
       "\n",
       "                                             passage human_rating  \\\n",
       "0  Title: Jason Flemyng\\nSection: Television and ...            Y   \n",
       "1  Title: United States Declaration of Independen...            Y   \n",
       "2  Title: 2009 Stanley Cup playoffs\\nSection: Con...            Y   \n",
       "3  Title: Beauty and the Beast (2017 film)\\n\\nA l...            Y   \n",
       "4  Title: Adonal Foyle\\n\\nAdonal David Foyle (bor...            N   \n",
       "\n",
       "                                          paragraphs  \n",
       "0  [\"Jason Iain Flemyng (born 25 September 1966) ...  \n",
       "1  ['The Declaration of Independence, headed The ...  \n",
       "2  ['The 2009 Stanley Cup playoffs of the Nationa...  \n",
       "3  [\"Beauty and the Beast is a 2017 American musi...  \n",
       "4  [\"Adonal David Foyle (born March 9, 1975) is a...  "
      ]
     },
     "execution_count": 7,
     "metadata": {},
     "output_type": "execute_result"
    }
   ],
   "source": [
    "df.head()"
   ]
  },
  {
   "cell_type": "code",
   "execution_count": 31,
   "metadata": {},
   "outputs": [
    {
     "name": "stdout",
     "output_type": "stream",
     "text": [
      "same title Title: Quantitative research -> 689\n",
      "same title Title: Transit of Venus -> 690\n",
      "same title Title: England at the Cricket World Cup -> 691\n",
      "same title Title: Ek Anek Aur Ekta -> 692\n",
      "same title Title: Sistine Chapel -> 693\n",
      "same title Title: United States House of Representatives -> 694\n",
      "same title Title: Berlin Blockade -> 695\n",
      "same title Title: Drink -> 696\n",
      "same title Title: Vietnam Chamber of Commerce and Industry -> 697\n",
      "same title Title: Stephen Elop -> 698\n",
      "same title Title: History of the Houston Astros -> 699\n",
      "same title Title: Josefina López -> 700\n",
      "same title Title: Culture of Jharkhand -> 701\n",
      "same title Title: Four Big Pollution Diseases of Japan -> 702\n",
      "same title Title: José Martí -> 703\n",
      "same title Title: 2007 New England Patriots–New York Giants game -> 704\n",
      "same title Title: Summer of '42 -> 705\n",
      "same title Title: Phosphocreatine -> 706\n",
      "same title Title: Triangle center -> 707\n",
      "same title Title: User State Migration Tool -> 708\n",
      "same title Title: Figure skating at the 1998 Winter Olympics -> 709\n",
      "same title Title: Derek Morgan (Criminal Minds) -> 710\n",
      "same title Title: Alcohol laws of Texas -> 711\n",
      "same title Title: St. Bernard (dog) -> 712\n",
      "same title Title: Heroes and Villains (Only Fools and Horses) -> 713\n",
      "same title Title: -ase -> 714\n",
      "same title Title: Child benefits in the United Kingdom -> 715\n",
      "same title Title: Rudolph Contreras -> 716\n",
      "same title Title: Tennessine -> 717\n",
      "same title Title: Malware analysis -> 718\n",
      "same title Title: Contemporary R&B -> 719\n",
      "same title Title: Alt-Tab -> 720\n",
      "same title Title: Habib -> 721\n",
      "same title Title: Jacques Cousteau -> 722\n",
      "same title Title: Cory Monteith -> 723\n",
      "same title Title: Stony Creek Bridge -> 724\n",
      "same title Title: Big Brother Canada (season 6) -> 725\n",
      "same title Title: Celebrity Big Brother (American TV series) -> 726\n",
      "same title Title: Beast (Beauty and the Beast) -> 727\n",
      "same title Title: My Bucket's Got a Hole in It -> 728\n",
      "same title Title: Game of Thrones: Season 8 (soundtrack) -> 729\n",
      "same title Title: Vachellia sieberiana -> 730\n",
      "same title Title: Gone, Gone, Gone (Phillip Phillips song) -> 731\n",
      "same title Title: 2017 Wimbledon Championships – Women's Singles -> 732\n",
      "same title Title: God Save the Queen -> 733\n",
      "same title Title: Alaska -> 734\n",
      "same title Title: Stop the World (And Let Me Off) -> 735\n",
      "same title Title: Fractionation of carbon isotopes in oxygenic photosynthesis -> 736\n",
      "same title Title: A. P. J. Abdul Kalam -> 737\n",
      "same title Title: Neil Armstrong -> 738\n",
      "same title Title: The Living Room Sessions (B. J. Thomas album) -> 739\n",
      "same title Title: Nomogram -> 740\n",
      "same title Title: Weight -> 741\n",
      "same title Title: Gianluigi Buffon -> 742\n",
      "same title Title: Kudzu in the United States -> 743\n",
      "same title Title: X – Live in Los Angeles -> 744\n",
      "same title Title: Best Thing I Never Had -> 745\n",
      "same title Title: iPhone SE (1st generation) -> 746\n",
      "same title Title: Electronic Fund Transfer Act -> 747\n",
      "same title Title: Flag of India -> 748\n",
      "same title Title: NCIS: Los Angeles (season 8) -> 749\n",
      "same title Title: Great Wall of China -> 750\n",
      "same title Title: Land Rover Defender (L663) -> 751\n",
      "same title Title: NBA All-Star Game Kobe Bryant Most Valuable Player Award -> 752\n",
      "same title Title: Santa Claus -> 753\n",
      "same title Title: Karl Aage Hansen -> 754\n",
      "same title Title: Ned Brooks -> 755\n",
      "same title Title: Crazy/Beautiful -> 756\n",
      "same title Title: Kate Walsh (actress) -> 757\n",
      "same title Title: Cristiano Ronaldo -> 775\n",
      "same title Title: Grace and Frankie -> 789\n",
      "same title Title: Wilt Chamberlain's 100-point game -> 814\n",
      "same title Title: Cristiano Ronaldo -> 826\n",
      "failed to save Title: Gulfstream G650/G700/G800 836\n",
      "same title Title: Bacterial cell structure -> 837\n",
      "same title Title: 2011 New York Giants season -> 843\n",
      "same title Title: Justin Timberlake -> 921\n",
      "same title Title: Ouija -> 944\n",
      "same title Title: The Flash (season 4) -> 971\n",
      "same title Title: Elvis Presley -> 997\n"
     ]
    }
   ],
   "source": [
    "def get_title(passage):\n",
    "    return passage.split('\\n')[0]\n",
    "\n",
    "# dic = {}\n",
    "\n",
    "for idx, row in df.iterrows():\n",
    "    if idx > 688:\n",
    "        title = get_title(row['passage'])\n",
    "        model='sentence-transformers/gtr-t5-base'\n",
    "        embeddings = HuggingFaceEmbeddings(model_name = model)\n",
    "        if title not in dic:\n",
    "            dic[title] = [idx]\n",
    "\n",
    "            paras = row['paragraphs']\n",
    "            # question = row['question']\n",
    "            paragraph_list = ast.literal_eval(paras)\n",
    "            docs = [Document(page_content=paragraph_list[i], metadata={'p_idx':i}) for i in range(len(paragraph_list))]\n",
    "            # build index\n",
    "            db = FAISS.from_documents(docs, embeddings)\n",
    "            try:\n",
    "                db.save_local(\"data/faiss_index\", index_name=title)\n",
    "            except:\n",
    "                print('failed to save {} {}'.format(title, idx))\n",
    "        else:\n",
    "            dic[title].append(idx)\n",
    "            print('same title {} -> {}'.format(title, idx))\n",
    "\n"
   ]
  },
  {
   "cell_type": "code",
   "execution_count": 32,
   "metadata": {},
   "outputs": [
    {
     "data": {
      "text/plain": [
       "985"
      ]
     },
     "execution_count": 32,
     "metadata": {},
     "output_type": "execute_result"
    }
   ],
   "source": [
    "len(dic)"
   ]
  },
  {
   "cell_type": "code",
   "execution_count": 13,
   "metadata": {},
   "outputs": [
    {
     "data": {
      "text/plain": [
       "question                when was the first election held in india\n",
       "answer                                                    1951–52\n",
       "passage         Title: 1951–52 elections in India\\n\\nThis arti...\n",
       "human_rating                                                    Y\n",
       "paragraphs      ['Independent India held its first elections i...\n",
       "Name: 324, dtype: object"
      ]
     },
     "execution_count": 13,
     "metadata": {},
     "output_type": "execute_result"
    }
   ],
   "source": [
    "df.loc[324]"
   ]
  },
  {
   "cell_type": "code",
   "execution_count": 9,
   "metadata": {},
   "outputs": [
    {
     "data": {
      "text/plain": [
       "question        when were the first general elections held in ...\n",
       "answer                                                       1951\n",
       "passage         Title: 1951–52 elections in India\\nSection: Ge...\n",
       "human_rating                                                    Y\n",
       "paragraphs      ['Independent India held its first elections i...\n",
       "Name: 426, dtype: object"
      ]
     },
     "execution_count": 9,
     "metadata": {},
     "output_type": "execute_result"
    }
   ],
   "source": [
    "df.loc[426]"
   ]
  },
  {
   "cell_type": "code",
   "execution_count": 2,
   "metadata": {},
   "outputs": [],
   "source": [
    "path = 'data/openqa/data.csv'\n",
    "dataset = OpenQADataset(path)"
   ]
  },
  {
   "cell_type": "code",
   "execution_count": 3,
   "metadata": {},
   "outputs": [],
   "source": [
    "dataloader = DataLoader(dataset, batch_size=2, shuffle=False)\n",
    "batch = next(iter(dataloader))"
   ]
  },
  {
   "cell_type": "code",
   "execution_count": 9,
   "metadata": {},
   "outputs": [
    {
     "data": {
      "text/plain": [
       "['Title: Jason Flemyng', 'Title: United States Declaration of Independence']"
      ]
     },
     "execution_count": 9,
     "metadata": {},
     "output_type": "execute_result"
    }
   ],
   "source": [
    "passages = batch['passage']\n",
    "[get_title(passage) for passage in passages]"
   ]
  },
  {
   "cell_type": "code",
   "execution_count": 10,
   "metadata": {},
   "outputs": [],
   "source": [
    "questions = batch['question']\n",
    "paragraphs = batch['paragraphs']"
   ]
  },
  {
   "cell_type": "code",
   "execution_count": 26,
   "metadata": {},
   "outputs": [
    {
     "name": "stdout",
     "output_type": "stream",
     "text": [
      "Title: United States Declaration of Independence\n"
     ]
    },
    {
     "data": {
      "text/plain": [
       "[Document(page_content=\"John Trumbull's painting Declaration of Independence has played a significant role in popular conceptions of the Declaration of Independence. The painting is 12-by-18-foot (3.7 by 5.5\\xa0m) in size and was commissioned by the United States Congress in 1817; it has hung in the United States Capitol Rotunda since 1826. It is sometimes described as the signing of the Declaration of Independence, but it actually shows the Committee of Five presenting their draft of the Declaration to the Second Continental Congress on June 28, 1776, and not the signing of the document, which took place later.\\n\", metadata={'p_idx': 109}),\n",
       " Document(page_content='The first and most famous signature on the engrossed copy was that of John Hancock, President of the Continental Congress. Two future presidents (Thomas Jefferson and John Adams) and a father and great-grandfather of two other presidents (Benjamin Harrison V) were among the signatories. Edward Rutledge (age 26) was the youngest signer, and Benjamin Franklin (age 70) was the oldest signer. The fifty-six signers of the Declaration represented the new states as follows (from north to south):\\n', metadata={'p_idx': 75}),\n",
       " Document(page_content='The document signed by Congress and enshrined in the National Archives is usually regarded as the Declaration of Independence, but historian Julian P. Boyd argued that the Declaration, like Magna Carta, is not a single document. Boyd considered the printed broadsides ordered by Congress to be official texts, as well. The Declaration was first published as a broadside that was printed the night of July 4 by John Dunlap of Philadelphia. Dunlap printed about 200 broadsides, of which 26 are known to survive. The 26th copy was discovered in The National Archives in England in 2009.\\n', metadata={'p_idx': 96}),\n",
       " Document(page_content=\"The Declaration became official when Congress recorded its vote adopting the document on July 4; it was transposed on paper and signed by John Hancock, President of the Congress, on that day. Signatures of the other delegates were not needed to further authenticate it. The signatures of fifty-six delegates are affixed to the Declaration, though the exact date when each person signed became debatable. Jefferson, Franklin, and Adams all wrote that the Declaration was signed by Congress on July 4. But in 1796, signer Thomas McKean disputed that, because some signers were not then present, including several who were not even elected to Congress until after that date. Historians have generally accepted McKean's version of events. History particularly shows most delegates signed on August 2, 1776, and those who were not then present added their names later.\\n\", metadata={'p_idx': 83})]"
      ]
     },
     "execution_count": 26,
     "metadata": {},
     "output_type": "execute_result"
    }
   ],
   "source": [
    "idx = 1\n",
    "\n",
    "paras = paragraphs[idx]\n",
    "question = questions[idx]\n",
    "paragraph_list = ast.literal_eval(paras)\n",
    "title = get_title(passages[idx])\n",
    "print(title)\n",
    "docs = [Document(page_content=paragraph_list[i], metadata={'p_idx':i}) for i in range(len(paragraph_list))]\n",
    "# build index or read index\n",
    "model='sentence-transformers/gtr-t5-base'\n",
    "embeddings = HuggingFaceEmbeddings(model_name = model)\n",
    "db = FAISS.from_documents(docs, embeddings)\n",
    "db.save_local(\"data/faiss_index\", index_name=title)"
   ]
  },
  {
   "cell_type": "code",
   "execution_count": 32,
   "metadata": {},
   "outputs": [
    {
     "data": {
      "text/plain": [
       "[Document(page_content=\"John Trumbull's painting Declaration of Independence has played a significant role in popular conceptions of the Declaration of Independence. The painting is 12-by-18-foot (3.7 by 5.5\\xa0m) in size and was commissioned by the United States Congress in 1817; it has hung in the United States Capitol Rotunda since 1826. It is sometimes described as the signing of the Declaration of Independence, but it actually shows the Committee of Five presenting their draft of the Declaration to the Second Continental Congress on June 28, 1776, and not the signing of the document, which took place later.\\n\", metadata={'p_idx': 109}),\n",
       " Document(page_content='The first and most famous signature on the engrossed copy was that of John Hancock, President of the Continental Congress. Two future presidents (Thomas Jefferson and John Adams) and a father and great-grandfather of two other presidents (Benjamin Harrison V) were among the signatories. Edward Rutledge (age 26) was the youngest signer, and Benjamin Franklin (age 70) was the oldest signer. The fifty-six signers of the Declaration represented the new states as follows (from north to south):\\n', metadata={'p_idx': 75}),\n",
       " Document(page_content='The document signed by Congress and enshrined in the National Archives is usually regarded as the Declaration of Independence, but historian Julian P. Boyd argued that the Declaration, like Magna Carta, is not a single document. Boyd considered the printed broadsides ordered by Congress to be official texts, as well. The Declaration was first published as a broadside that was printed the night of July 4 by John Dunlap of Philadelphia. Dunlap printed about 200 broadsides, of which 26 are known to survive. The 26th copy was discovered in The National Archives in England in 2009.\\n', metadata={'p_idx': 96}),\n",
       " Document(page_content=\"The Declaration became official when Congress recorded its vote adopting the document on July 4; it was transposed on paper and signed by John Hancock, President of the Congress, on that day. Signatures of the other delegates were not needed to further authenticate it. The signatures of fifty-six delegates are affixed to the Declaration, though the exact date when each person signed became debatable. Jefferson, Franklin, and Adams all wrote that the Declaration was signed by Congress on July 4. But in 1796, signer Thomas McKean disputed that, because some signers were not then present, including several who were not even elected to Congress until after that date. Historians have generally accepted McKean's version of events. History particularly shows most delegates signed on August 2, 1776, and those who were not then present added their names later.\\n\", metadata={'p_idx': 83})]"
      ]
     },
     "execution_count": 32,
     "metadata": {},
     "output_type": "execute_result"
    }
   ],
   "source": [
    "db.similarity_search(question)"
   ]
  },
  {
   "cell_type": "code",
   "execution_count": 16,
   "metadata": {},
   "outputs": [
    {
     "data": {
      "text/plain": [
       "'Title: United States Declaration of Independence'"
      ]
     },
     "execution_count": 16,
     "metadata": {},
     "output_type": "execute_result"
    }
   ],
   "source": [
    "title = get_title(passages[1])\n",
    "title"
   ]
  },
  {
   "cell_type": "code",
   "execution_count": 27,
   "metadata": {},
   "outputs": [
    {
     "data": {
      "text/plain": [
       "[Document(page_content=\"John Trumbull's painting Declaration of Independence has played a significant role in popular conceptions of the Declaration of Independence. The painting is 12-by-18-foot (3.7 by 5.5\\xa0m) in size and was commissioned by the United States Congress in 1817; it has hung in the United States Capitol Rotunda since 1826. It is sometimes described as the signing of the Declaration of Independence, but it actually shows the Committee of Five presenting their draft of the Declaration to the Second Continental Congress on June 28, 1776, and not the signing of the document, which took place later.\\n\", metadata={'p_idx': 109}),\n",
       " Document(page_content='The first and most famous signature on the engrossed copy was that of John Hancock, President of the Continental Congress. Two future presidents (Thomas Jefferson and John Adams) and a father and great-grandfather of two other presidents (Benjamin Harrison V) were among the signatories. Edward Rutledge (age 26) was the youngest signer, and Benjamin Franklin (age 70) was the oldest signer. The fifty-six signers of the Declaration represented the new states as follows (from north to south):\\n', metadata={'p_idx': 75}),\n",
       " Document(page_content='The document signed by Congress and enshrined in the National Archives is usually regarded as the Declaration of Independence, but historian Julian P. Boyd argued that the Declaration, like Magna Carta, is not a single document. Boyd considered the printed broadsides ordered by Congress to be official texts, as well. The Declaration was first published as a broadside that was printed the night of July 4 by John Dunlap of Philadelphia. Dunlap printed about 200 broadsides, of which 26 are known to survive. The 26th copy was discovered in The National Archives in England in 2009.\\n', metadata={'p_idx': 96}),\n",
       " Document(page_content=\"The Declaration became official when Congress recorded its vote adopting the document on July 4; it was transposed on paper and signed by John Hancock, President of the Congress, on that day. Signatures of the other delegates were not needed to further authenticate it. The signatures of fifty-six delegates are affixed to the Declaration, though the exact date when each person signed became debatable. Jefferson, Franklin, and Adams all wrote that the Declaration was signed by Congress on July 4. But in 1796, signer Thomas McKean disputed that, because some signers were not then present, including several who were not even elected to Congress until after that date. Historians have generally accepted McKean's version of events. History particularly shows most delegates signed on August 2, 1776, and those who were not then present added their names later.\\n\", metadata={'p_idx': 83})]"
      ]
     },
     "execution_count": 27,
     "metadata": {},
     "output_type": "execute_result"
    }
   ],
   "source": [
    "question = questions[1]\n",
    "title = get_title(passages[1])\n",
    "model='sentence-transformers/gtr-t5-base'\n",
    "embeddings = HuggingFaceEmbeddings(model_name = model)\n",
    "new_db = FAISS.load_local(\"data/faiss_index\", embeddings= embeddings, index_name=title)\n",
    "new_db.similarity_search(question)"
   ]
  },
  {
   "cell_type": "code",
   "execution_count": null,
   "metadata": {},
   "outputs": [],
   "source": []
  }
 ],
 "metadata": {
  "kernelspec": {
   "display_name": "atlas-env",
   "language": "python",
   "name": "python3"
  },
  "language_info": {
   "codemirror_mode": {
    "name": "ipython",
    "version": 3
   },
   "file_extension": ".py",
   "mimetype": "text/x-python",
   "name": "python",
   "nbconvert_exporter": "python",
   "pygments_lexer": "ipython3",
   "version": "3.8.16"
  },
  "orig_nbformat": 4
 },
 "nbformat": 4,
 "nbformat_minor": 2
}
