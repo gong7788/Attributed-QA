{
 "cells": [
  {
   "cell_type": "code",
   "execution_count": 1,
   "metadata": {},
   "outputs": [],
   "source": [
    "import pandas as pd\n",
    "import json\n",
    "import os"
   ]
  },
  {
   "cell_type": "code",
   "execution_count": 2,
   "metadata": {},
   "outputs": [],
   "source": [
    "df = pd.read_csv('data/doc2dial/doc2dial_testset/DEFAULT/eval.csv')"
   ]
  },
  {
   "cell_type": "code",
   "execution_count": 10,
   "metadata": {},
   "outputs": [],
   "source": [
    "def example(index):\n",
    "    # print(df.loc[index])\n",
    "    print('Question: ')\n",
    "    print(df.loc[index]['question'])\n",
    "    print('True Answer:')\n",
    "    print(df.loc[index]['answer'])\n",
    "    print('Model Answer:')\n",
    "    print(df.loc[index]['model_answer'])\n",
    "    print('True Ref:')\n",
    "    print(df.loc[index]['true_ref_str'])\n",
    "    print('retrived_doc:')\n",
    "    print(df.loc[index]['retrived_doc'])\n",
    "\n",
    "    \n",
    "def analys(df):\n",
    "    answer_f1_avg = df['answer_f1'].mean()\n",
    "    answer_prec = df['answer_prec'].mean()\n",
    "    answer_recall = df['answer_recall'].mean()\n",
    "    # autoais_retrevied = df['autoais_retrevied(model_answer)'].mean()\n",
    "    autoais_retrevied = len(df[df['autoais_retrevied(model_answer)'] == '1'])/len(df)\n",
    "    att_f1 = df['att_f1'].mean()\n",
    "    att_prec = df['att_prec'].mean()\n",
    "    att_recall = df['att_recall'].mean()\n",
    "    autoais_true_answer = len(df[df['autoais_true_answer'] == '1'])/len(df)\n",
    "    print(f'answer_f1_avg: {answer_f1_avg}')\n",
    "    print(f'answer_prec: {answer_prec}')\n",
    "    print(f'answer_recall: {answer_recall}')\n",
    "    print(f'autoais_retrevied: {autoais_retrevied}')\n",
    "    print(f'att_f1: {att_f1}')\n",
    "    print(f'att_prec: {att_prec}')\n",
    "    print(f'att_recall: {att_recall}')\n",
    "    print(f'autoais_true_answer: {autoais_true_answer}')\n",
    "    "
   ]
  },
  {
   "cell_type": "code",
   "execution_count": 39,
   "metadata": {},
   "outputs": [],
   "source": [
    "target_path = 'data/doc2dial/new_dataset'\n",
    "\n",
    "# folders = []\n",
    "for subfolder in os.listdir(target_path):\n",
    "    if not os.path.isdir(os.path.join(target_path, subfolder)):\n",
    "        continue\n",
    "    subfolder_path = os.path.join(target_path, subfolder)\n",
    "\n",
    "    eval_path = os.path.join(subfolder_path, 'eval.csv')\n",
    "    extra_path = os.path.join(subfolder_path, 'extra_eval.csv')\n",
    "    cos_sim_path = os.path.join(subfolder_path, 'cos_sim.csv')\n",
    "\n",
    "    eval_df = pd.read_csv(eval_path)\n",
    "    extra_df = pd.read_csv(extra_path)\n",
    "    cos_sim_df = pd.read_csv(cos_sim_path)\n",
    "\n",
    "    concat_df = pd.concat([eval_df, extra_df, cos_sim_df], axis=1)\n",
    "    concat_df.to_csv(os.path.join(subfolder_path, 'concat.csv'))\n",
    "    # folders.append(subfolder_path)"
   ]
  },
  {
   "cell_type": "code",
   "execution_count": null,
   "metadata": {},
   "outputs": [],
   "source": []
  },
  {
   "cell_type": "code",
   "execution_count": 15,
   "metadata": {},
   "outputs": [
    {
     "name": "stdout",
     "output_type": "stream",
     "text": [
      "1000 1000 1000\n"
     ]
    }
   ],
   "source": [
    "test_path = 'data/doc2dial/new_dataset/DEFAULT'\n",
    "eval_path = os.path.join(test_path, 'eval.csv')\n",
    "extra_path = os.path.join(test_path, 'extra_eval.csv')\n",
    "cos_sim_path = os.path.join(test_path, 'cos_sim.csv')\n",
    "\n",
    "eval_df = pd.read_csv(eval_path)\n",
    "extra_df = pd.read_csv(extra_path)\n",
    "cos_sim_df = pd.read_csv(cos_sim_path)\n",
    "\n",
    "print(len(eval_df), len(extra_df), len(cos_sim_df))\n"
   ]
  },
  {
   "cell_type": "code",
   "execution_count": 18,
   "metadata": {},
   "outputs": [],
   "source": [
    "concat_df = pd.concat([eval_df, extra_df, cos_sim_df], axis=1)"
   ]
  },
  {
   "cell_type": "code",
   "execution_count": 25,
   "metadata": {},
   "outputs": [
    {
     "data": {
      "text/plain": [
       "Index(['question', 'answer', 'model_answer', 'true_ref_str', 'retrived_doc',\n",
       "       'answer_f1', 'answer_prec', 'answer_recall',\n",
       "       'autoais_retrevied(model_answer)', 'att_f1', 'att_prec', 'att_recall',\n",
       "       'autoais_true_answer', 'ref_range', 'BLEU', 'ROUGHLS', 'BLEU_ANS',\n",
       "       'ROUGHLS_ANS', 'cos_sim', 'cos_sim_ans'],\n",
       "      dtype='object')"
      ]
     },
     "execution_count": 25,
     "metadata": {},
     "output_type": "execute_result"
    }
   ],
   "source": [
    "concat_df.columns"
   ]
  },
  {
   "cell_type": "code",
   "execution_count": 23,
   "metadata": {},
   "outputs": [
    {
     "name": "stdout",
     "output_type": "stream",
     "text": [
      "20 20\n"
     ]
    }
   ],
   "source": [
    "att_features = ['true_ref_str', 'retrived_doc', 'att_f1', 'att_prec', 'att_recall', 'BLEU', 'ROUGHLS', 'cos_sim']\n",
    "ans_features = ['answer', 'model_answer', 'answer_f1', 'answer_prec', 'answer_recall', 'BLEU_ANS',\n",
    "       'ROUGHLS_ANS', 'cos_sim_ans']\n",
    "others = ['question', 'ref_range', 'autoais_retrevied(model_answer)', 'autoais_true_answer']\n"
   ]
  },
  {
   "cell_type": "code",
   "execution_count": 34,
   "metadata": {},
   "outputs": [
    {
     "data": {
      "text/plain": [
       "459"
      ]
     },
     "execution_count": 34,
     "metadata": {},
     "output_type": "execute_result"
    }
   ],
   "source": [
    "len(concat_df[concat_df['autoais_retrevied(model_answer)'] == 'yes'])"
   ]
  },
  {
   "cell_type": "code",
   "execution_count": 35,
   "metadata": {},
   "outputs": [],
   "source": [
    "def analys_df(concat_df):\n",
    "    n = len(concat_df)\n",
    "    autoais_model_answer = len(concat_df[concat_df['autoais_retrevied(model_answer)'] == 'yes'])/n\n",
    "    autoais_answer = len(concat_df[concat_df['autoais_true_answer'] == 'yes'])/n\n",
    "\n",
    "    print('autoais_model_answer: ', autoais_model_answer)\n",
    "    print('autoais_answer: ', autoais_answer)"
   ]
  },
  {
   "cell_type": "code",
   "execution_count": 36,
   "metadata": {},
   "outputs": [
    {
     "name": "stdout",
     "output_type": "stream",
     "text": [
      "autoais_model_answer:  0.459\n",
      "autoais_answer:  0.378\n"
     ]
    }
   ],
   "source": [
    "analys_df(concat_df)"
   ]
  },
  {
   "cell_type": "code",
   "execution_count": null,
   "metadata": {},
   "outputs": [],
   "source": [
    "def heatmap(concat_df):\n",
    "    pass"
   ]
  }
 ],
 "metadata": {
  "kernelspec": {
   "display_name": "atlas-env",
   "language": "python",
   "name": "python3"
  },
  "language_info": {
   "codemirror_mode": {
    "name": "ipython",
    "version": 3
   },
   "file_extension": ".py",
   "mimetype": "text/x-python",
   "name": "python",
   "nbconvert_exporter": "python",
   "pygments_lexer": "ipython3",
   "version": "3.8.16"
  },
  "orig_nbformat": 4
 },
 "nbformat": 4,
 "nbformat_minor": 2
}
