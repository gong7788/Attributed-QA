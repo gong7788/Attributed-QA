{
 "cells": [
  {
   "cell_type": "code",
   "execution_count": 1,
   "metadata": {},
   "outputs": [],
   "source": [
    "import pandas as pd\n",
    "import json"
   ]
  },
  {
   "cell_type": "code",
   "execution_count": 2,
   "metadata": {},
   "outputs": [],
   "source": [
    "df = pd.read_csv('data/doc2dial/doc2dial_testset/DEFAULT/eval.csv')"
   ]
  },
  {
   "cell_type": "code",
   "execution_count": 10,
   "metadata": {},
   "outputs": [],
   "source": [
    "def example(index):\n",
    "    # print(df.loc[index])\n",
    "    print('Question: ')\n",
    "    print(df.loc[index]['question'])\n",
    "    print('True Answer:')\n",
    "    print(df.loc[index]['answer'])\n",
    "    print('Model Answer:')\n",
    "    print(df.loc[index]['model_answer'])\n",
    "    print('True Ref:')\n",
    "    print(df.loc[index]['true_ref_str'])\n",
    "    print('retrived_doc:')\n",
    "    print(df.loc[index]['retrived_doc'])\n",
    "\n",
    "    \n",
    "def analys(df):\n",
    "    answer_f1_avg = df['answer_f1'].mean()\n",
    "    answer_prec = df['answer_prec'].mean()\n",
    "    answer_recall = df['answer_recall'].mean()\n",
    "    # autoais_retrevied = df['autoais_retrevied(model_answer)'].mean()\n",
    "    autoais_retrevied = len(df[df['autoais_retrevied(model_answer)'] == '1'])/len(df)\n",
    "    att_f1 = df['att_f1'].mean()\n",
    "    att_prec = df['att_prec'].mean()\n",
    "    att_recall = df['att_recall'].mean()\n",
    "    autoais_true_answer = len(df[df['autoais_true_answer'] == '1'])/len(df)\n",
    "    print(f'answer_f1_avg: {answer_f1_avg}')\n",
    "    print(f'answer_prec: {answer_prec}')\n",
    "    print(f'answer_recall: {answer_recall}')\n",
    "    print(f'autoais_retrevied: {autoais_retrevied}')\n",
    "    print(f'att_f1: {att_f1}')\n",
    "    print(f'att_prec: {att_prec}')\n",
    "    print(f'att_recall: {att_recall}')\n",
    "    print(f'autoais_true_answer: {autoais_true_answer}')\n",
    "    "
   ]
  },
  {
   "cell_type": "code",
   "execution_count": 7,
   "metadata": {},
   "outputs": [
    {
     "name": "stdout",
     "output_type": "stream",
     "text": [
      "Question: \n",
      "What if my insurance lapsed too?\n",
      "True Answer:\n",
      "You'll need to either bring a copy of your current, new, insurance or pay the un-insured fee.\n",
      "Please make sure to bring all documentation needed to a local branch to expedite this process.\n",
      "Model Answer:\n",
      "I would have to pay for the plates\n",
      "True Ref:\n",
      "Because we all pay indirectly for crashes involving uninsured motorists ,  New York State requires every motorist to maintain auto insurance every single day a vehicle is registered.  DMV works with insurance companies to electronically monitor your insurance coverage ,  When that happens , \n",
      "retrived_doc:\n",
      "possible mail correspondence can reach you. Also , turning in your plates is important to avoid an insurance lapse.\n"
     ]
    }
   ],
   "source": [
    "example(2)"
   ]
  },
  {
   "cell_type": "code",
   "execution_count": 5,
   "metadata": {},
   "outputs": [
    {
     "name": "stdout",
     "output_type": "stream",
     "text": [
      "answer_f1_avg: 0.12677739186135162\n",
      "answer_prec: 0.27770991880233487\n",
      "answer_recall: 0.10309733293597707\n",
      "autoais_retrevied: 0.2333000997008973\n",
      "att_f1: 0.2258884523339757\n",
      "att_prec: 0.21296288706875702\n",
      "att_recall: 0.4704671315478364\n",
      "autoais_true_answer: 0.21073558648111332\n"
     ]
    }
   ],
   "source": [
    "analys(df)"
   ]
  },
  {
   "cell_type": "code",
   "execution_count": 12,
   "metadata": {},
   "outputs": [],
   "source": [
    "df = pd.read_csv('data/doc2dial/doc2dial_testset/doc2dial_500_top5/eval.csv')"
   ]
  },
  {
   "cell_type": "code",
   "execution_count": 13,
   "metadata": {},
   "outputs": [
    {
     "name": "stdout",
     "output_type": "stream",
     "text": [
      "answer_f1_avg: 0.1416277043466649\n",
      "answer_prec: 0.28963087890552514\n",
      "answer_recall: 0.12242884258533641\n",
      "autoais_retrevied: 0.33399602385685884\n",
      "att_f1: 0.12060043167434409\n",
      "att_prec: 0.0682965806981322\n",
      "att_recall: 0.7944171008904347\n",
      "autoais_true_answer: 0.352882703777336\n"
     ]
    }
   ],
   "source": [
    "analys(df)"
   ]
  },
  {
   "cell_type": "code",
   "execution_count": null,
   "metadata": {},
   "outputs": [],
   "source": []
  }
 ],
 "metadata": {
  "kernelspec": {
   "display_name": "atlas-env",
   "language": "python",
   "name": "python3"
  },
  "language_info": {
   "codemirror_mode": {
    "name": "ipython",
    "version": 3
   },
   "file_extension": ".py",
   "mimetype": "text/x-python",
   "name": "python",
   "nbconvert_exporter": "python",
   "pygments_lexer": "ipython3",
   "version": "3.8.16"
  },
  "orig_nbformat": 4
 },
 "nbformat": 4,
 "nbformat_minor": 2
}
