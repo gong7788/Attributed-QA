{
 "cells": [
  {
   "cell_type": "code",
   "execution_count": 2,
   "metadata": {},
   "outputs": [],
   "source": [
    "import pandas as pd\n",
    "import json\n",
    "import os\n",
    "import seaborn as sns\n",
    "%matplotlib inline"
   ]
  },
  {
   "cell_type": "code",
   "execution_count": 10,
   "metadata": {},
   "outputs": [],
   "source": [
    "#read text\n",
    "human_label_df = pd.read_csv('data/doc2dial/human_label.csv', header=None)"
   ]
  },
  {
   "cell_type": "code",
   "execution_count": 11,
   "metadata": {},
   "outputs": [
    {
     "data": {
      "text/plain": [
       "0      no\n",
       "1      no\n",
       "2      no\n",
       "3     yes\n",
       "4      no\n",
       "     ... \n",
       "95    yes\n",
       "96    yes\n",
       "97    yes\n",
       "98     no\n",
       "99     no\n",
       "Name: 0, Length: 100, dtype: object"
      ]
     },
     "execution_count": 11,
     "metadata": {},
     "output_type": "execute_result"
    }
   ],
   "source": [
    "human_label_df[0]"
   ]
  },
  {
   "cell_type": "code",
   "execution_count": 10,
   "metadata": {},
   "outputs": [],
   "source": [
    "def example(index):\n",
    "    # print(df.loc[index])\n",
    "    print('Question: ')\n",
    "    print(df.loc[index]['question'])\n",
    "    print('True Answer:')\n",
    "    print(df.loc[index]['answer'])\n",
    "    print('Model Answer:')\n",
    "    print(df.loc[index]['model_answer'])\n",
    "    print('True Ref:')\n",
    "    print(df.loc[index]['true_ref_str'])\n",
    "    print('retrived_doc:')\n",
    "    print(df.loc[index]['retrived_doc'])\n",
    "\n",
    "    \n",
    "def analys(df):\n",
    "    answer_f1_avg = df['answer_f1'].mean()\n",
    "    answer_prec = df['answer_prec'].mean()\n",
    "    answer_recall = df['answer_recall'].mean()\n",
    "    # autoais_retrevied = df['autoais_retrevied(model_answer)'].mean()\n",
    "    autoais_retrevied = len(df[df['autoais_retrevied(model_answer)'] == '1'])/len(df)\n",
    "    att_f1 = df['att_f1'].mean()\n",
    "    att_prec = df['att_prec'].mean()\n",
    "    att_recall = df['att_recall'].mean()\n",
    "    autoais_true_answer = len(df[df['autoais_true_answer'] == '1'])/len(df)\n",
    "    print(f'answer_f1_avg: {answer_f1_avg}')\n",
    "    print(f'answer_prec: {answer_prec}')\n",
    "    print(f'answer_recall: {answer_recall}')\n",
    "    print(f'autoais_retrevied: {autoais_retrevied}')\n",
    "    print(f'att_f1: {att_f1}')\n",
    "    print(f'att_prec: {att_prec}')\n",
    "    print(f'att_recall: {att_recall}')\n",
    "    print(f'autoais_true_answer: {autoais_true_answer}')\n",
    "    "
   ]
  },
  {
   "cell_type": "markdown",
   "metadata": {},
   "source": [
    "# normal analysis"
   ]
  },
  {
   "cell_type": "code",
   "execution_count": 4,
   "metadata": {},
   "outputs": [],
   "source": [
    "target_path = 'data/doc2dial/new_dataset'\n",
    "\n",
    "# folders = []\n",
    "for subfolder in os.listdir(target_path):\n",
    "    if not os.path.isdir(os.path.join(target_path, subfolder)):\n",
    "        continue\n",
    "    subfolder_path = os.path.join(target_path, subfolder)\n",
    "\n",
    "    eval_path = os.path.join(subfolder_path, 'eval.csv')\n",
    "    extra_path = os.path.join(subfolder_path, 'extra_eval.csv')\n",
    "    cos_sim_path = os.path.join(subfolder_path, 'cos_sim.csv')\n",
    "\n",
    "    eval_df = pd.read_csv(eval_path)\n",
    "    extra_df = pd.read_csv(extra_path)\n",
    "    cos_sim_df = pd.read_csv(cos_sim_path)\n",
    "\n",
    "    concat_df = pd.concat([eval_df, extra_df, cos_sim_df], axis=1)\n",
    "    concat_df.to_csv(os.path.join(subfolder_path, 'concat.csv'))"
   ]
  },
  {
   "cell_type": "code",
   "execution_count": null,
   "metadata": {},
   "outputs": [],
   "source": []
  },
  {
   "cell_type": "code",
   "execution_count": 2,
   "metadata": {},
   "outputs": [
    {
     "name": "stdout",
     "output_type": "stream",
     "text": [
      "1000 1000 1000\n"
     ]
    }
   ],
   "source": [
    "test_path = 'data/doc2dial/new_dataset/DEFAULT'\n",
    "eval_path = os.path.join(test_path, 'eval.csv')\n",
    "extra_path = os.path.join(test_path, 'extra_eval.csv')\n",
    "cos_sim_path = os.path.join(test_path, 'cos_sim.csv')\n",
    "\n",
    "eval_df = pd.read_csv(eval_path)\n",
    "extra_df = pd.read_csv(extra_path)\n",
    "cos_sim_df = pd.read_csv(cos_sim_path)\n",
    "\n",
    "print(len(eval_df), len(extra_df), len(cos_sim_df))\n"
   ]
  },
  {
   "cell_type": "markdown",
   "metadata": {},
   "source": [
    "# Or read concat directly from file"
   ]
  },
  {
   "cell_type": "code",
   "execution_count": 3,
   "metadata": {},
   "outputs": [],
   "source": [
    "concat_df = pd.read_csv('data/doc2dial/new_dataset/DEFAULT/concat.csv')"
   ]
  },
  {
   "cell_type": "code",
   "execution_count": 46,
   "metadata": {},
   "outputs": [
    {
     "data": {
      "text/plain": [
       "0                                                    yes\n",
       "1                                                    yes\n",
       "2                                                     no\n",
       "3                                                    yes\n",
       "4      The cost of the traffic points is independent ...\n",
       "                             ...                        \n",
       "995                           it is not possible to tell\n",
       "996                           it is not possible to tell\n",
       "997                                                   no\n",
       "998                                                   no\n",
       "999                                                   no\n",
       "Name: autoais_true_answer, Length: 1000, dtype: object"
      ]
     },
     "execution_count": 46,
     "metadata": {},
     "output_type": "execute_result"
    }
   ],
   "source": [
    "concat_df['autoais_true_answer']"
   ]
  },
  {
   "cell_type": "code",
   "execution_count": 12,
   "metadata": {},
   "outputs": [
    {
     "data": {
      "text/plain": [
       "499"
      ]
     },
     "execution_count": 12,
     "metadata": {},
     "output_type": "execute_result"
    }
   ],
   "source": [
    "len(concat_df[concat_df['autoais_retrevied(model_answer)'] == 'yes'])"
   ]
  },
  {
   "cell_type": "code",
   "execution_count": 16,
   "metadata": {},
   "outputs": [
    {
     "data": {
      "text/plain": [
       "201"
      ]
     },
     "execution_count": 16,
     "metadata": {},
     "output_type": "execute_result"
    }
   ],
   "source": [
    "len(concat_df[concat_df['autoais_retrevied(model_answer)'] == 'no'])"
   ]
  },
  {
   "cell_type": "code",
   "execution_count": 3,
   "metadata": {},
   "outputs": [],
   "source": [
    "concat_df = pd.concat([eval_df, extra_df, cos_sim_df], axis=1)"
   ]
  },
  {
   "cell_type": "code",
   "execution_count": 14,
   "metadata": {},
   "outputs": [
    {
     "data": {
      "text/plain": [
       "Index(['Unnamed: 0', 'question', 'answer', 'model_answer', 'true_ref_str',\n",
       "       'retrived_doc', 'answer_f1', 'answer_prec', 'answer_recall',\n",
       "       'autoais_retrevied(model_answer)', 'att_f1', 'att_prec', 'att_recall',\n",
       "       'autoais_true_answer', 'ref_range', 'BLEU', 'ROUGHLS', 'BLEU_ANS',\n",
       "       'ROUGHLS_ANS', 'cos_sim', 'cos_sim_ans'],\n",
       "      dtype='object')"
      ]
     },
     "execution_count": 14,
     "metadata": {},
     "output_type": "execute_result"
    }
   ],
   "source": [
    "concat_df.columns"
   ]
  },
  {
   "cell_type": "code",
   "execution_count": 15,
   "metadata": {},
   "outputs": [
    {
     "data": {
      "text/plain": [
       "Unnamed: 0                           int64\n",
       "question                            object\n",
       "answer                              object\n",
       "model_answer                        object\n",
       "true_ref_str                        object\n",
       "retrived_doc                        object\n",
       "answer_f1                          float64\n",
       "answer_prec                        float64\n",
       "answer_recall                      float64\n",
       "autoais_retrevied(model_answer)     object\n",
       "att_f1                             float64\n",
       "att_prec                           float64\n",
       "att_recall                         float64\n",
       "autoais_true_answer                 object\n",
       "ref_range                           object\n",
       "BLEU                               float64\n",
       "ROUGHLS                            float64\n",
       "BLEU_ANS                           float64\n",
       "ROUGHLS_ANS                        float64\n",
       "cos_sim                            float64\n",
       "cos_sim_ans                        float64\n",
       "dtype: object"
      ]
     },
     "execution_count": 15,
     "metadata": {},
     "output_type": "execute_result"
    }
   ],
   "source": [
    "concat_df.dtypes"
   ]
  },
  {
   "cell_type": "code",
   "execution_count": 41,
   "metadata": {},
   "outputs": [],
   "source": [
    "concat_df.loc[concat_df['cos_sim'] >= 0.8, 'cos_sim'] = 1"
   ]
  },
  {
   "cell_type": "code",
   "execution_count": 43,
   "metadata": {},
   "outputs": [],
   "source": [
    "concat_df.loc[concat_df['cos_sim'] < 0.8, 'cos_sim'] = 0"
   ]
  },
  {
   "cell_type": "code",
   "execution_count": 21,
   "metadata": {},
   "outputs": [
    {
     "data": {
      "text/plain": [
       "Unnamed: 0                                                                         3\n",
       "question                           Ok, and can you tell me again where should I r...\n",
       "answer                             Sure. Any change of address must be reported t...\n",
       "model_answer                                                                     DMV\n",
       "true_ref_str                       you must report a change of address to DMV wit...\n",
       "retrived_doc                       By statute , you must report a change of addre...\n",
       "answer_f1                                                                   0.086957\n",
       "answer_prec                                                                      1.0\n",
       "answer_recall                                                               0.045455\n",
       "autoais_retrevied(model_answer)                                                  yes\n",
       "att_f1                                                                      0.517241\n",
       "att_prec                                                                     0.37037\n",
       "att_recall                                                                  0.857143\n",
       "autoais_true_answer                                                              yes\n",
       "ref_range                                                   [(346, 416), (416, 567)]\n",
       "BLEU                                                                        0.004603\n",
       "ROUGHLS                                                                     0.001917\n",
       "BLEU_ANS                                                                    0.537285\n",
       "ROUGHLS_ANS                                                                 0.095412\n",
       "cos_sim                                                                     0.928467\n",
       "cos_sim_ans                                                                 0.628196\n",
       "Name: 3, dtype: object"
      ]
     },
     "execution_count": 21,
     "metadata": {},
     "output_type": "execute_result"
    }
   ],
   "source": [
    "concat_df.loc[3]"
   ]
  },
  {
   "cell_type": "code",
   "execution_count": null,
   "metadata": {},
   "outputs": [],
   "source": [
    "# TODO BLEU/ROUGH good? or not?\n",
    "# TODO GPT3.5 "
   ]
  },
  {
   "cell_type": "code",
   "execution_count": 20,
   "metadata": {},
   "outputs": [
    {
     "data": {
      "text/plain": [
       "0     0.579289\n",
       "1     0.624455\n",
       "2     0.624455\n",
       "3     0.928467\n",
       "4     0.530527\n",
       "        ...   \n",
       "95    0.563755\n",
       "96    0.568629\n",
       "97    0.647721\n",
       "98    0.496772\n",
       "99    0.807665\n",
       "Name: cos_sim, Length: 100, dtype: float64"
      ]
     },
     "execution_count": 20,
     "metadata": {},
     "output_type": "execute_result"
    }
   ],
   "source": [
    "concat_df['cos_sim'][:100]"
   ]
  },
  {
   "cell_type": "code",
   "execution_count": 7,
   "metadata": {},
   "outputs": [],
   "source": [
    "labels_df = pd.read_csv('data/doc2dial/human_label.csv')"
   ]
  },
  {
   "cell_type": "code",
   "execution_count": 10,
   "metadata": {},
   "outputs": [
    {
     "data": {
      "text/html": [
       "<div>\n",
       "<style scoped>\n",
       "    .dataframe tbody tr th:only-of-type {\n",
       "        vertical-align: middle;\n",
       "    }\n",
       "\n",
       "    .dataframe tbody tr th {\n",
       "        vertical-align: top;\n",
       "    }\n",
       "\n",
       "    .dataframe thead th {\n",
       "        text-align: right;\n",
       "    }\n",
       "</style>\n",
       "<table border=\"1\" class=\"dataframe\">\n",
       "  <thead>\n",
       "    <tr style=\"text-align: right;\">\n",
       "      <th></th>\n",
       "      <th>label</th>\n",
       "    </tr>\n",
       "  </thead>\n",
       "  <tbody>\n",
       "    <tr>\n",
       "      <th>0</th>\n",
       "      <td>no</td>\n",
       "    </tr>\n",
       "    <tr>\n",
       "      <th>1</th>\n",
       "      <td>no</td>\n",
       "    </tr>\n",
       "    <tr>\n",
       "      <th>2</th>\n",
       "      <td>no</td>\n",
       "    </tr>\n",
       "    <tr>\n",
       "      <th>3</th>\n",
       "      <td>yes</td>\n",
       "    </tr>\n",
       "    <tr>\n",
       "      <th>4</th>\n",
       "      <td>no</td>\n",
       "    </tr>\n",
       "    <tr>\n",
       "      <th>...</th>\n",
       "      <td>...</td>\n",
       "    </tr>\n",
       "    <tr>\n",
       "      <th>95</th>\n",
       "      <td>yes</td>\n",
       "    </tr>\n",
       "    <tr>\n",
       "      <th>96</th>\n",
       "      <td>yes</td>\n",
       "    </tr>\n",
       "    <tr>\n",
       "      <th>97</th>\n",
       "      <td>yes</td>\n",
       "    </tr>\n",
       "    <tr>\n",
       "      <th>98</th>\n",
       "      <td>no</td>\n",
       "    </tr>\n",
       "    <tr>\n",
       "      <th>99</th>\n",
       "      <td>no</td>\n",
       "    </tr>\n",
       "  </tbody>\n",
       "</table>\n",
       "<p>100 rows × 1 columns</p>\n",
       "</div>"
      ],
      "text/plain": [
       "   label\n",
       "0     no\n",
       "1     no\n",
       "2     no\n",
       "3    yes\n",
       "4     no\n",
       "..   ...\n",
       "95   yes\n",
       "96   yes\n",
       "97   yes\n",
       "98    no\n",
       "99    no\n",
       "\n",
       "[100 rows x 1 columns]"
      ]
     },
     "execution_count": 10,
     "metadata": {},
     "output_type": "execute_result"
    }
   ],
   "source": [
    "labels_df"
   ]
  },
  {
   "cell_type": "code",
   "execution_count": 8,
   "metadata": {},
   "outputs": [],
   "source": [
    "import scipy.stats"
   ]
  },
  {
   "cell_type": "code",
   "execution_count": 13,
   "metadata": {},
   "outputs": [
    {
     "ename": "TypeError",
     "evalue": "unsupported operand type(s) for +: 'float' and 'numpy.str_'",
     "output_type": "error",
     "traceback": [
      "\u001b[0;31m---------------------------------------------------------------------------\u001b[0m",
      "\u001b[0;31mTypeError\u001b[0m                                 Traceback (most recent call last)",
      "Cell \u001b[0;32mIn[13], line 1\u001b[0m\n\u001b[0;32m----> 1\u001b[0m correlation_coefficient, p_value \u001b[39m=\u001b[39m scipy\u001b[39m.\u001b[39;49mstats\u001b[39m.\u001b[39;49mpearsonr(\u001b[39mlist\u001b[39;49m(labels_df[\u001b[39m'\u001b[39;49m\u001b[39mlabel\u001b[39;49m\u001b[39m'\u001b[39;49m]), \u001b[39mlist\u001b[39;49m(concat_df[\u001b[39m'\u001b[39;49m\u001b[39mcos_sim\u001b[39;49m\u001b[39m'\u001b[39;49m][:\u001b[39m100\u001b[39;49m]))\n\u001b[1;32m      3\u001b[0m \u001b[39mprint\u001b[39m(\u001b[39mf\u001b[39m\u001b[39m\"\u001b[39m\u001b[39mPearson Correlation Coefficient: \u001b[39m\u001b[39m{\u001b[39;00mcorrelation_coefficient\u001b[39m}\u001b[39;00m\u001b[39m\"\u001b[39m)\n\u001b[1;32m      4\u001b[0m \u001b[39mprint\u001b[39m(\u001b[39mf\u001b[39m\u001b[39m\"\u001b[39m\u001b[39mP-value: \u001b[39m\u001b[39m{\u001b[39;00mp_value\u001b[39m}\u001b[39;00m\u001b[39m\"\u001b[39m)\n",
      "File \u001b[0;32m~/miniconda3/envs/cloned/lib/python3.8/site-packages/scipy/stats/_stats_py.py:4432\u001b[0m, in \u001b[0;36mpearsonr\u001b[0;34m(x, y, alternative)\u001b[0m\n\u001b[1;32m   4427\u001b[0m     \u001b[39mreturn\u001b[39;00m result\n\u001b[1;32m   4429\u001b[0m \u001b[39m# dtype is the data type for the calculations.  This expression ensures\u001b[39;00m\n\u001b[1;32m   4430\u001b[0m \u001b[39m# that the data type is at least 64 bit floating point.  It might have\u001b[39;00m\n\u001b[1;32m   4431\u001b[0m \u001b[39m# more precision if the input is, for example, np.longdouble.\u001b[39;00m\n\u001b[0;32m-> 4432\u001b[0m dtype \u001b[39m=\u001b[39m \u001b[39mtype\u001b[39m(\u001b[39m1.0\u001b[39;49m \u001b[39m+\u001b[39;49m x[\u001b[39m0\u001b[39;49m] \u001b[39m+\u001b[39m y[\u001b[39m0\u001b[39m])\n\u001b[1;32m   4434\u001b[0m \u001b[39mif\u001b[39;00m n \u001b[39m==\u001b[39m \u001b[39m2\u001b[39m:\n\u001b[1;32m   4435\u001b[0m     r \u001b[39m=\u001b[39m dtype(np\u001b[39m.\u001b[39msign(x[\u001b[39m1\u001b[39m] \u001b[39m-\u001b[39m x[\u001b[39m0\u001b[39m])\u001b[39m*\u001b[39mnp\u001b[39m.\u001b[39msign(y[\u001b[39m1\u001b[39m] \u001b[39m-\u001b[39m y[\u001b[39m0\u001b[39m]))\n",
      "\u001b[0;31mTypeError\u001b[0m: unsupported operand type(s) for +: 'float' and 'numpy.str_'"
     ]
    }
   ],
   "source": [
    "correlation_coefficient, p_value = scipy.stats.pearsonr(list(labels_df['label']), list(concat_df['cos_sim'][:100]))\n",
    "\n",
    "print(f\"Pearson Correlation Coefficient: {correlation_coefficient}\")\n",
    "print(f\"P-value: {p_value}\")"
   ]
  },
  {
   "cell_type": "code",
   "execution_count": 11,
   "metadata": {},
   "outputs": [
    {
     "data": {
      "text/plain": [
       "<Axes: xlabel='label', ylabel='cos_sim'>"
      ]
     },
     "execution_count": 11,
     "metadata": {},
     "output_type": "execute_result"
    },
    {
     "data": {
      "image/png": "[encoded data removed]",
      "text/plain": [
       "<Figure size 640x480 with 1 Axes>"
      ]
     },
     "metadata": {},
     "output_type": "display_data"
    }
   ],
   "source": [
    "sns.scatterplot(x=labels_df['label'], y=concat_df['cos_sim'][:100])"
   ]
  },
  {
   "cell_type": "code",
   "execution_count": 4,
   "metadata": {},
   "outputs": [],
   "source": [
    "# random sample 0 or 1 for 1000 times\n",
    "import random\n",
    "ls = [random.randint(0,1) for i in range(1000)]"
   ]
  },
  {
   "cell_type": "code",
   "execution_count": 23,
   "metadata": {},
   "outputs": [
    {
     "name": "stdout",
     "output_type": "stream",
     "text": [
      "20 20\n"
     ]
    }
   ],
   "source": [
    "att_features = ['true_ref_str', 'retrived_doc', 'att_f1', 'att_prec', 'att_recall', 'BLEU', 'ROUGHLS', 'cos_sim']\n",
    "ans_features = ['answer', 'model_answer', 'answer_f1', 'answer_prec', 'answer_recall', 'BLEU_ANS',\n",
    "       'ROUGHLS_ANS', 'cos_sim_ans']\n",
    "others = ['question', 'ref_range', 'autoais_retrevied(model_answer)', 'autoais_true_answer']\n"
   ]
  },
  {
   "cell_type": "code",
   "execution_count": 34,
   "metadata": {},
   "outputs": [
    {
     "data": {
      "text/plain": [
       "459"
      ]
     },
     "execution_count": 34,
     "metadata": {},
     "output_type": "execute_result"
    }
   ],
   "source": [
    "len(concat_df[concat_df['autoais_retrevied(model_answer)'] == 'yes'])"
   ]
  },
  {
   "cell_type": "code",
   "execution_count": 4,
   "metadata": {},
   "outputs": [
    {
     "data": {
      "text/plain": [
       "558"
      ]
     },
     "execution_count": 4,
     "metadata": {},
     "output_type": "execute_result"
    }
   ],
   "source": [
    "len(concat_df[concat_df['autoais_true_answer'] == 'yes']) + len(concat_df[concat_df['autoais_true_answer'] == 'no'])"
   ]
  },
  {
   "cell_type": "markdown",
   "metadata": {},
   "source": [
    "# here"
   ]
  },
  {
   "cell_type": "code",
   "execution_count": 5,
   "metadata": {},
   "outputs": [],
   "source": [
    "def analys_df(concat_df):\n",
    "    cos_sim_threshold = 0.75\n",
    "    n = len(concat_df)\n",
    "    # attribution parts\n",
    "    avg_att_f1 = concat_df['att_f1'].mean()\n",
    "    avg_att_prec = concat_df['att_prec'].mean()\n",
    "    avg_att_recall = concat_df['att_recall'].mean()\n",
    "    avg_BLEU = concat_df['BLEU'].mean()\n",
    "    avg_ROUGE = concat_df['ROUGHLS'].mean()\n",
    "    concat_df.loc[concat_df['cos_sim'] >= cos_sim_threshold, 'cos_sim'] = 1\n",
    "    concat_df.loc[concat_df['cos_sim'] < cos_sim_threshold, 'cos_sim'] = 0\n",
    "    cos_sim_num = len(concat_df[concat_df['cos_sim'] == 1])\n",
    "    valid_autoais = len(concat_df[concat_df['autoais_retrevied(model_answer)'] == 'yes']) + len(concat_df[concat_df['autoais_retrevied(model_answer)'] == 'no'])\n",
    "    auotais_yes = len(concat_df[concat_df['autoais_retrevied(model_answer)'] == 'yes'])\n",
    "    auotais_no = len(concat_df[concat_df['autoais_retrevied(model_answer)'] == 'no'])\n",
    "\n",
    "    # print(f'avg_att_prec: {avg_att_prec}, avg_att_recall: {avg_att_recall}, avg_att_f1: {avg_att_f1}')\n",
    "    # print(f'avg_BLEU: {avg_BLEU}, avg_ROUGE: {avg_ROUGE}')\n",
    "    # print(f'cos_sim_num: {cos_sim_num}, n: {n}, cos_sim_num/n: {cos_sim_num/n}')\n",
    "    # print(f'yes: {auotais_yes}, no: {auotais_no}, valid_autoais: {valid_autoais}')\n",
    "    # print(f'autoais_yes/valid_autoais: {auotais_yes/valid_autoais}, autoais_yes/n: {auotais_yes/n}')\n",
    "\n",
    "    # print('------------------')\n",
    "    avg_ans_f1 = concat_df['answer_f1'].mean()\n",
    "    avg_ans_prec = concat_df['answer_prec'].mean()\n",
    "    avg_ans_recall = concat_df['answer_recall'].mean()\n",
    "    avg_ans_BLEU = concat_df['BLEU_ANS'].mean()\n",
    "    ave_ans_ROUGE = concat_df['ROUGHLS_ANS'].mean()\n",
    "    concat_df.loc[concat_df['cos_sim_ans'] >= cos_sim_threshold, 'cos_sim_ans'] = 1\n",
    "    concat_df.loc[concat_df['cos_sim_ans'] < cos_sim_threshold, 'cos_sim_ans'] = 0\n",
    "    cos_sim_ans_num = len(concat_df[concat_df['cos_sim_ans'] == 1])\n",
    "    valid_autoais_ans = len(concat_df[concat_df['autoais_true_answer'] == 'yes']) + len(concat_df[concat_df['autoais_true_answer'] == 'no'])\n",
    "    auotais_ans_yes = len(concat_df[concat_df['autoais_true_answer'] == 'yes'])\n",
    "    auotais_ans_no = len(concat_df[concat_df['autoais_true_answer'] == 'no'])\n",
    "\n",
    "    # print(f'avg_ans_prec: {avg_ans_prec}, avg_ans_recall: {avg_ans_recall}, avg_ans_f1: {avg_ans_f1}')\n",
    "    # print(f'avg_ans_BLEU: {avg_ans_BLEU}, ave_ans_ROUGE: {ave_ans_ROUGE}')\n",
    "    # print(f'cos_sim_ans_num: {cos_sim_ans_num}, n: {n}, cos_sim_ans_num/n: {cos_sim_ans_num/n}')\n",
    "    # print(f'yes: {auotais_ans_yes}, no: {auotais_ans_no}, valid_autoais_ans: {valid_autoais_ans}')\n",
    "    # print(f'autoais_ans_yes/valid_autoais_ans: {auotais_ans_yes/valid_autoais_ans}, autoais_ans_yes/n: {auotais_ans_yes/n}')\n",
    "\n",
    "\n",
    "\n",
    "    # autoais_model_answer = len(concat_df[concat_df['autoais_retrevied(model_answer)'] == 'yes'])/n\n",
    "    # autoais_answer = len(concat_df[concat_df['autoais_true_answer'] == 'yes'])/n\n",
    "    # concat_df['autoais_true_answer'] = concat_df['autoais_true_answer'].replace({'yes': 1, 'no': 0, 'it is not possible to tell': -1})\n",
    "\n",
    "    # print('autoais_model_answer: ', autoais_model_answer)\n",
    "    # print('autoais_answer: ', autoais_answer)\n",
    "    ls = [avg_att_prec, avg_att_recall, avg_att_f1, avg_BLEU, avg_ROUGE, cos_sim_num, auotais_yes, auotais_no, valid_autoais,\n",
    "          avg_ans_prec, avg_ans_recall, avg_ans_f1, avg_ans_BLEU, ave_ans_ROUGE, cos_sim_ans_num,auotais_ans_yes, auotais_ans_no, valid_autoais_ans]\n",
    "    return ls"
   ]
  },
  {
   "cell_type": "markdown",
   "metadata": {},
   "source": [
    "# new method only"
   ]
  },
  {
   "cell_type": "code",
   "execution_count": 7,
   "metadata": {},
   "outputs": [
    {
     "name": "stdout",
     "output_type": "stream",
     "text": [
      "data/doc2dial/new_dataset/doc2dial_1000_top1_new\n",
      "data/doc2dial/new_dataset/doc2dial_500_top1_new\n",
      "data/doc2dial/new_dataset/doc2dial_250_top1_new\n"
     ]
    }
   ],
   "source": [
    "# redo for new method experiments\n",
    "# 1. create new concat.csv\n",
    "target_path = 'data/doc2dial/new_dataset'\n",
    "\n",
    "# folders = []\n",
    "for subfolder in os.listdir(target_path):\n",
    "    if '_new' in subfolder:\n",
    "        # for new method only\n",
    "        subfolder_path = os.path.join(target_path, subfolder)\n",
    "\n",
    "        print(subfolder_path)\n",
    "        # eval_path = os.path.join(subfolder_path, 'eval.csv')\n",
    "        # extra_path = os.path.join(subfolder_path, 'extra_eval.csv')\n",
    "        # cos_sim_path = os.path.join(subfolder_path, 'cos_sim.csv')\n",
    "\n",
    "        # eval_df = pd.read_csv(eval_path)\n",
    "        # extra_df = pd.read_csv(extra_path)\n",
    "        # cos_sim_df = pd.read_csv(cos_sim_path)\n",
    "\n",
    "        # concat_df = pd.concat([eval_df, extra_df, cos_sim_df], axis=1)\n",
    "        # concat_df.to_csv(os.path.join(subfolder_path, 'concat.csv'))"
   ]
  },
  {
   "cell_type": "code",
   "execution_count": null,
   "metadata": {},
   "outputs": [],
   "source": [
    "# analys new methods\n"
   ]
  },
  {
   "cell_type": "code",
   "execution_count": 14,
   "metadata": {},
   "outputs": [
    {
     "data": {
      "text/plain": [
       "[0.2260629408018919,\n",
       " 0.4726534693889257,\n",
       " 0.23699311750130653,\n",
       " 0.022283237816085683,\n",
       " 0.006535238436753232,\n",
       " 106,\n",
       " 459,\n",
       " 168,\n",
       " 627,\n",
       " 0.31328327421318963,\n",
       " 0.11323856509448196,\n",
       " 0.1334359314314095,\n",
       " 0.21872720633131243,\n",
       " 0.04090916372918998,\n",
       " 28,\n",
       " 378,\n",
       " 180,\n",
       " 558]"
      ]
     },
     "execution_count": 14,
     "metadata": {},
     "output_type": "execute_result"
    }
   ],
   "source": [
    "analys_df(concat_df)"
   ]
  },
  {
   "cell_type": "code",
   "execution_count": 8,
   "metadata": {},
   "outputs": [
    {
     "name": "stdout",
     "output_type": "stream",
     "text": [
      "read:  data/doc2dial/new_dataset/DEFAULT/concat.csv\n",
      "read:  data/doc2dial/new_dataset/doc2dial_250_top5/concat.csv\n",
      "read:  data/doc2dial/new_dataset/doc2dial_500_top5/concat.csv\n",
      "read:  data/doc2dial/new_dataset/doc2dial_1000_top1_new/concat.csv\n",
      "read:  data/doc2dial/new_dataset/doc2dial_250_top1/concat.csv\n",
      "read:  data/doc2dial/new_dataset/doc2dial_1000_top1/concat.csv\n",
      "read:  data/doc2dial/new_dataset/doc2dial_500_top1_new/concat.csv\n",
      "read:  data/doc2dial/new_dataset/doc2dial_250_top1_new/concat.csv\n"
     ]
    }
   ],
   "source": [
    "target_path = 'data/doc2dial/new_dataset'\n",
    "result_df = pd.DataFrame(columns=['Experiments', 'avg_att_prec', 'avg_att_recall', 'avg_att_f1', \n",
    "                                      'avg_BLEU', 'avg_ROUGE', \n",
    "                                      'cos_sim_num', 'auotais_yes', 'auotais_no', 'valid_autoais',\n",
    "                                      'avg_ans_prec', 'avg_ans_recall', 'avg_ans_f1', \n",
    "                                      'avg_ans_BLEU', 'ave_ans_ROUGE', \n",
    "                                      'cos_sim_ans_num','auotais_ans_yes', 'auotais_ans_no', 'valid_autoais_ans'])\n",
    "\n",
    "for subfolder in os.listdir(target_path):\n",
    "\n",
    "    if not os.path.isdir(os.path.join(target_path, subfolder)):\n",
    "        continue\n",
    "\n",
    "    if subfolder == 'DEFAULT':\n",
    "        name = '500_top1'\n",
    "    else:\n",
    "        name = subfolder\n",
    "\n",
    "    subfolder_path = os.path.join(target_path, subfolder)\n",
    "    file_name = 'concat.csv'\n",
    "    file_path = os.path.join(subfolder_path, file_name)\n",
    "\n",
    "    if not os.path.exists(file_path):\n",
    "        print('not exist: ', file_path)\n",
    "    else:\n",
    "        print('read: ', file_path)\n",
    "        concat_df = pd.read_csv(file_path)\n",
    "        ls = analys_df(concat_df)\n",
    "        result_df.loc[len(result_df)] = [name] + ls \n",
    "\n",
    "result_df.to_csv('temp_new.csv', index=False)"
   ]
  },
  {
   "cell_type": "code",
   "execution_count": 19,
   "metadata": {},
   "outputs": [
    {
     "data": {
      "text/html": [
       "<div>\n",
       "<style scoped>\n",
       "    .dataframe tbody tr th:only-of-type {\n",
       "        vertical-align: middle;\n",
       "    }\n",
       "\n",
       "    .dataframe tbody tr th {\n",
       "        vertical-align: top;\n",
       "    }\n",
       "\n",
       "    .dataframe thead th {\n",
       "        text-align: right;\n",
       "    }\n",
       "</style>\n",
       "<table border=\"1\" class=\"dataframe\">\n",
       "  <thead>\n",
       "    <tr style=\"text-align: right;\">\n",
       "      <th></th>\n",
       "      <th>Experiments</th>\n",
       "      <th>avg_att_prec</th>\n",
       "      <th>avg_att_recall</th>\n",
       "      <th>avg_att_f1</th>\n",
       "      <th>avg_BLEU</th>\n",
       "      <th>avg_ROUGE</th>\n",
       "      <th>cos_sim_num</th>\n",
       "      <th>auotais_yes</th>\n",
       "      <th>auotais_no</th>\n",
       "      <th>valid_autoais</th>\n",
       "      <th>avg_ans_prec</th>\n",
       "      <th>avg_ans_recall</th>\n",
       "      <th>avg_ans_f1</th>\n",
       "      <th>avg_ans_BLEU</th>\n",
       "      <th>ave_ans_ROUGE</th>\n",
       "      <th>cos_sim_ans_num</th>\n",
       "      <th>auotais_ans_yes</th>\n",
       "      <th>auotais_ans_no</th>\n",
       "      <th>valid_autoais_ans</th>\n",
       "    </tr>\n",
       "  </thead>\n",
       "  <tbody>\n",
       "    <tr>\n",
       "      <th>0</th>\n",
       "      <td>doc2dial_250_top1_new</td>\n",
       "      <td>0.281097</td>\n",
       "      <td>0.339823</td>\n",
       "      <td>0.250622</td>\n",
       "      <td>0.032763</td>\n",
       "      <td>0.009315</td>\n",
       "      <td>140</td>\n",
       "      <td>499</td>\n",
       "      <td>201</td>\n",
       "      <td>700</td>\n",
       "      <td>0.302083</td>\n",
       "      <td>0.091849</td>\n",
       "      <td>0.118345</td>\n",
       "      <td>0.220112</td>\n",
       "      <td>0.043247</td>\n",
       "      <td>34</td>\n",
       "      <td>398</td>\n",
       "      <td>234</td>\n",
       "      <td>632</td>\n",
       "    </tr>\n",
       "  </tbody>\n",
       "</table>\n",
       "</div>"
      ],
      "text/plain": [
       "             Experiments  avg_att_prec  avg_att_recall  avg_att_f1  avg_BLEU  \\\n",
       "0  doc2dial_250_top1_new      0.281097        0.339823    0.250622  0.032763   \n",
       "\n",
       "   avg_ROUGE  cos_sim_num  auotais_yes  auotais_no  valid_autoais  \\\n",
       "0   0.009315          140          499         201            700   \n",
       "\n",
       "   avg_ans_prec  avg_ans_recall  avg_ans_f1  avg_ans_BLEU  ave_ans_ROUGE  \\\n",
       "0      0.302083        0.091849    0.118345      0.220112       0.043247   \n",
       "\n",
       "   cos_sim_ans_num  auotais_ans_yes  auotais_ans_no  valid_autoais_ans  \n",
       "0               34              398             234                632  "
      ]
     },
     "execution_count": 19,
     "metadata": {},
     "output_type": "execute_result"
    }
   ],
   "source": [
    "result_df"
   ]
  },
  {
   "cell_type": "code",
   "execution_count": 5,
   "metadata": {},
   "outputs": [
    {
     "data": {
      "text/plain": [
       "['name', 1, 2, 3, 4, 5, 6, 7, 8, 9, 10]"
      ]
     },
     "execution_count": 5,
     "metadata": {},
     "output_type": "execute_result"
    }
   ],
   "source": [
    "l = [1, 2, 3, 4, 5, 6, 7, 8, 9, 10]\n",
    "name = 'name'\n",
    "[name] + l "
   ]
  },
  {
   "cell_type": "code",
   "execution_count": 31,
   "metadata": {},
   "outputs": [
    {
     "data": {
      "text/plain": [
       "'The cost of the traffic points is independent of the DRA, so you get a separate charge based on the total points you accumulate.'"
      ]
     },
     "execution_count": 31,
     "metadata": {},
     "output_type": "execute_result"
    }
   ],
   "source": [
    "concat_df.iloc[4]['autoais_true_answer']"
   ]
  },
  {
   "cell_type": "code",
   "execution_count": 16,
   "metadata": {},
   "outputs": [
    {
     "ename": "NameError",
     "evalue": "name 'num_cols' is not defined",
     "output_type": "error",
     "traceback": [
      "\u001b[0;31m---------------------------------------------------------------------------\u001b[0m",
      "\u001b[0;31mNameError\u001b[0m                                 Traceback (most recent call last)",
      "Cell \u001b[0;32mIn[16], line 1\u001b[0m\n\u001b[0;32m----> 1\u001b[0m sns\u001b[39m.\u001b[39mheatmap(concat_df[num_cols]\u001b[39m.\u001b[39mcorr(), annot\u001b[39m=\u001b[39m\u001b[39mTrue\u001b[39;00m, linewidths\u001b[39m=\u001b[39m\u001b[39m.5\u001b[39m, fmt\u001b[39m=\u001b[39m \u001b[39m'\u001b[39m\u001b[39m.2f\u001b[39m\u001b[39m'\u001b[39m)\n",
      "\u001b[0;31mNameError\u001b[0m: name 'num_cols' is not defined"
     ]
    }
   ],
   "source": [
    "sns.heatmap(concat_df[num_cols].corr(), annot=True, linewidths=.5, fmt= '.2f')"
   ]
  },
  {
   "cell_type": "code",
   "execution_count": null,
   "metadata": {},
   "outputs": [],
   "source": [
    "sns.heatmap(concat_df['cos_sim'], annot=True, linewidths=.5, fmt= '.2f')"
   ]
  },
  {
   "cell_type": "code",
   "execution_count": 29,
   "metadata": {},
   "outputs": [],
   "source": [
    "read = pd.read_csv('data/doc2dial/new_dataset/doc2dial_500_top5/doc2dial_500_top5_ModelAnswer.csv')"
   ]
  },
  {
   "cell_type": "code",
   "execution_count": 31,
   "metadata": {},
   "outputs": [
    {
     "data": {
      "text/plain": [
       "question        Can you tell me more about Traffic points and ...\n",
       "answer          Traffic points is the system used by DMV to tr...\n",
       "model_answer    DMV maintains a point system to track dangerou...\n",
       "ref             [{'sp_id': '41', 'label': 'solution'}, {'sp_id...\n",
       "retrived_doc    4. Understanding how Much Traffic Points Cost\\...\n",
       "doc_id               Top 5 DMV Mistakes and How to Avoid Them#3_0\n",
       "dial_id                          9f44c1539efe6f7e79b02eb1b413aa43\n",
       "Name: 4, dtype: object"
      ]
     },
     "execution_count": 31,
     "metadata": {},
     "output_type": "execute_result"
    }
   ],
   "source": [
    "read.loc[4]"
   ]
  },
  {
   "cell_type": "code",
   "execution_count": 42,
   "metadata": {},
   "outputs": [],
   "source": [
    "from nltk.translate.bleu_score import sentence_bleu\n",
    "from nltk.translate.bleu_score import SmoothingFunction\n",
    "import nltk\n",
    "import re\n",
    "import os\n",
    "import pandas as pd"
   ]
  },
  {
   "cell_type": "code",
   "execution_count": 38,
   "metadata": {},
   "outputs": [],
   "source": [
    "def extract_one_sentence(chunk, answer, method='BLEU'):\n",
    "    if re.match(r'\\d. ', chunk) is not None:\n",
    "        # if chunk start with like '1. ', remove it\n",
    "        chunk = chunk[3:]\n",
    "\n",
    "    sentences = nltk.sent_tokenize(chunk)\n",
    "    best_sentence = '' \n",
    "    best_score = 0\n",
    "\n",
    "    ref_tokens = nltk.word_tokenize(answer)\n",
    "    \n",
    "    if method == 'BLEU':\n",
    "        if len(sentences) == 1:\n",
    "            return sentences[0]\n",
    "        \n",
    "        chencherry = SmoothingFunction()\n",
    "        for sentence in sentences:\n",
    "            if re.match(r'\\d\\.', sentence) is not None:\n",
    "                continue\n",
    "\n",
    "            sentence_tokens = nltk.word_tokenize(sentence)\n",
    "            score = sentence_bleu([ref_tokens], sentence_tokens, smoothing_function=chencherry.method2)\n",
    "            \n",
    "            if score > best_score:\n",
    "                best_score = score\n",
    "                best_sentence = sentence\n",
    "\n",
    "    return best_sentence"
   ]
  },
  {
   "cell_type": "code",
   "execution_count": 154,
   "metadata": {},
   "outputs": [
    {
     "name": "stdout",
     "output_type": "stream",
     "text": [
      "\n"
     ]
    }
   ],
   "source": [
    "s = extract_one_sentence(read.loc[1]['retrived_doc'], read.loc[1]['model_answer'])\n",
    "print(s)"
   ]
  },
  {
   "cell_type": "code",
   "execution_count": 148,
   "metadata": {},
   "outputs": [
    {
     "data": {
      "text/plain": [
       "''"
      ]
     },
     "execution_count": 148,
     "metadata": {},
     "output_type": "execute_result"
    }
   ],
   "source": [
    "s"
   ]
  },
  {
   "cell_type": "code",
   "execution_count": 36,
   "metadata": {},
   "outputs": [
    {
     "name": "stdout",
     "output_type": "stream",
     "text": [
      "4. Understanding how Much Traffic Points Cost\n",
      "DMV maintains a point system to track dangerous drivers. Often , motorists convicted of a traffic ticket feel they have resolved all their motoring issues with the local court, but later learn that the Driver Responsibility Assessment DRA is a separate DMV charge based on the total points they accumulate. The $300 DRA fee can be paid in $100 annual installments over three years. Motorists who fail to maintain an updated address with DMV may resolve their tickets with the court, but never\n",
      "receive their DRA assessment because we do not have their new address on record. Failure to pay the DRA will result in a suspended license. Learn more about About the NYS Driver Point System [4] and how to Pay Driver Responsibility Assessment [5 ]\n",
      "a lost title, paying a DRA or scheduling a road test. Our award - winning website is recognized as one of the best in the nation. It has all the answers you need to efficiently perform any DMV transaction. Consider signing up for our MyDMV service, which offers even more benefits. Sign up or log into MyDMV [6 ]\n"
     ]
    }
   ],
   "source": [
    "print(read.loc[4]['retrived_doc'])"
   ]
  },
  {
   "cell_type": "markdown",
   "metadata": {},
   "source": [
    "# Extract attribution"
   ]
  },
  {
   "cell_type": "code",
   "execution_count": 63,
   "metadata": {},
   "outputs": [
    {
     "name": "stdout",
     "output_type": "stream",
     "text": [
      "target file:  data/doc2dial/new_dataset/DEFAULT/DEFAULT_ModelAnswer.csv\n",
      "target file:  data/doc2dial/new_dataset/doc2dial_250_top5/doc2dial_250_top5_ModelAnswer.csv\n",
      "target file:  data/doc2dial/new_dataset/doc2dial_500_top5/doc2dial_500_top5_ModelAnswer.csv\n",
      "target file:  data/doc2dial/new_dataset/doc2dial_1000_top1_new/checkpoint.csv\n",
      "target file:  data/doc2dial/new_dataset/doc2dial_250_top1/doc2dial_250_top1_ModelAnswer.csv\n",
      "target file:  data/doc2dial/new_dataset/doc2dial_1000_top1/doc2dial_1000_top1_ModelAnswer.csv\n",
      "target file:  data/doc2dial/new_dataset/doc2dial_500_top1_new/doc2dial_500_top1_new_xModelAnswer.csv\n",
      "target file:  data/doc2dial/new_dataset/doc2dial_250_top1_new/doc2dial_250_top1_new_xModelAnswer.csv\n"
     ]
    }
   ],
   "source": [
    "target_path = 'data/doc2dial/new_dataset'\n",
    "\n",
    "for subfolder in os.listdir(target_path):\n",
    "\n",
    "    result_df = pd.DataFrame(columns=['question', 'answer', 'model_answer', 'retrived_doc', 'ref', 'attribution', 'doc_id'])\n",
    "\n",
    "    if not os.path.isdir(os.path.join(target_path, subfolder)):\n",
    "        continue\n",
    "\n",
    "    if subfolder == 'DEFAULT':\n",
    "        name = '500_top1'\n",
    "    else:\n",
    "        name = subfolder\n",
    "\n",
    "    subfolder_path = os.path.join(target_path, subfolder)\n",
    "    ourpur_path = os.path.join(subfolder_path, 'attribution_.csv')\n",
    "    ############################\n",
    "    if 'new' in subfolder:\n",
    "        file_name = subfolder + '_xModelAnswer.csv' \n",
    "    else:\n",
    "        file_name = subfolder + '_ModelAnswer.csv' \n",
    "\n",
    "    file_path = os.path.join(subfolder_path, file_name)\n",
    "    ################################\n",
    "\n",
    "    if not os.path.exists(file_path):\n",
    "        file_path = '/'.join(file_path.split('/')[:-1]) + '/checkpoint.csv'\n",
    "        if not os.path.exists(file_path):\n",
    "            raise Exception('File not found: {}'.format(file_path))\n",
    "            \n",
    "    if os.path.exists(file_path):\n",
    "        print('target file: ', file_path)\n",
    "        # print('Processing: {}'.format(ourpur_path))\n",
    "        df = pd.read_csv(file_path)\n",
    "        for index, row in df.iterrows():\n",
    "            chunk = row['retrived_doc']\n",
    "            model_answer = row['model_answer'] if not pd.isna(row['model_answer']) else ''\n",
    "            attr = extract_one_sentence(chunk, model_answer)\n",
    "\n",
    "            result_df.loc[len(result_df)] = [row['question'], \n",
    "                                            row['answer'], \n",
    "                                            row['model_answer'], \n",
    "                                            row['retrived_doc'],\n",
    "                                            row['ref'],\n",
    "                                            attr,\n",
    "                                            row['doc_id']]\n",
    "    result_df.to_csv(ourpur_path, index=False)"
   ]
  },
  {
   "cell_type": "code",
   "execution_count": 5,
   "metadata": {},
   "outputs": [
    {
     "ename": "NameError",
     "evalue": "name 'pd' is not defined",
     "output_type": "error",
     "traceback": [
      "\u001b[0;31m---------------------------------------------------------------------------\u001b[0m",
      "\u001b[0;31mNameError\u001b[0m                                 Traceback (most recent call last)",
      "Cell \u001b[0;32mIn[5], line 1\u001b[0m\n\u001b[0;32m----> 1\u001b[0m d \u001b[39m=\u001b[39m pd\u001b[39m.\u001b[39mread_csv(\u001b[39m'\u001b[39m\u001b[39mdata/doc2dial/new_dataset/doc2dial_1000_top1_new/attribution_.csv\u001b[39m\u001b[39m'\u001b[39m)\n\u001b[1;32m      2\u001b[0m d\n",
      "\u001b[0;31mNameError\u001b[0m: name 'pd' is not defined"
     ]
    }
   ],
   "source": [
    "d = pd.read_csv('data/doc2dial/new_dataset/doc2dial_1000_top1_new/attribution_.csv')\n",
    "d"
   ]
  },
  {
   "cell_type": "code",
   "execution_count": 55,
   "metadata": {},
   "outputs": [],
   "source": [
    "import re"
   ]
  },
  {
   "cell_type": "code",
   "execution_count": 123,
   "metadata": {},
   "outputs": [
    {
     "data": {
      "text/plain": [
       "False"
      ]
     },
     "execution_count": 123,
     "metadata": {},
     "output_type": "execute_result"
    }
   ],
   "source": [
    "re.match(r'^\\d+\\. ', 'customers 3. visiting a DMV office do ') !=  None"
   ]
  },
  {
   "cell_type": "code",
   "execution_count": 113,
   "metadata": {},
   "outputs": [
    {
     "name": "stdout",
     "output_type": "stream",
     "text": [
      "'1. This is a valid sentence.' starts with a digit and a period.\n",
      "'2. Another valid sentence.' starts with a digit and a period.\n",
      "'A regular 3. sentence without a digit.' does not start with a digit and a period.\n"
     ]
    }
   ],
   "source": [
    "def starts_with_digit_and_period(sentence):\n",
    "    pattern = r'^\\d+\\. '  # Regular expression pattern for \\d. \n",
    "    return re.match(pattern, sentence) is not None\n",
    "\n",
    "# Test sentences\n",
    "sentences = [\"1. This is a valid sentence.\",\n",
    "             \"2. Another valid sentence.\",\n",
    "             \"A regular 3. sentence without a digit.\"]\n",
    "\n",
    "for sentence in sentences:\n",
    "    if starts_with_digit_and_period(sentence):\n",
    "        print(f\"'{sentence}' starts with a digit and a period.\")\n",
    "    else:\n",
    "        print(f\"'{sentence}' does not start with a digit and a period.\")"
   ]
  },
  {
   "cell_type": "code",
   "execution_count": 47,
   "metadata": {},
   "outputs": [],
   "source": [
    "df = pd.read_csv('data/doc2dial/new_dataset/doc2dial_1000_top1_new/attribution.csv')"
   ]
  },
  {
   "cell_type": "code",
   "execution_count": 48,
   "metadata": {},
   "outputs": [
    {
     "data": {
      "text/html": [
       "<div>\n",
       "<style scoped>\n",
       "    .dataframe tbody tr th:only-of-type {\n",
       "        vertical-align: middle;\n",
       "    }\n",
       "\n",
       "    .dataframe tbody tr th {\n",
       "        vertical-align: top;\n",
       "    }\n",
       "\n",
       "    .dataframe thead th {\n",
       "        text-align: right;\n",
       "    }\n",
       "</style>\n",
       "<table border=\"1\" class=\"dataframe\">\n",
       "  <thead>\n",
       "    <tr style=\"text-align: right;\">\n",
       "      <th></th>\n",
       "      <th>question</th>\n",
       "      <th>answer</th>\n",
       "      <th>model_answer</th>\n",
       "      <th>attribution</th>\n",
       "    </tr>\n",
       "  </thead>\n",
       "  <tbody>\n",
       "    <tr>\n",
       "      <th>0</th>\n",
       "      <td>Hello, I forgot o update my address, can you h...</td>\n",
       "      <td>hi, you have to report any change of address t...</td>\n",
       "      <td>Yes, I will.</td>\n",
       "      <td>Also , turning in your plates is important to ...</td>\n",
       "    </tr>\n",
       "    <tr>\n",
       "      <th>1</th>\n",
       "      <td>Can I do my DMV transactions online?</td>\n",
       "      <td>Yes, you can sign up for MyDMV for all the onl...</td>\n",
       "      <td>No</td>\n",
       "      <td>NaN</td>\n",
       "    </tr>\n",
       "    <tr>\n",
       "      <th>2</th>\n",
       "      <td>Thanks, and in case I forget to bring all of t...</td>\n",
       "      <td>This happens often with our customers so that'...</td>\n",
       "      <td>Don't visit a DMV office at all</td>\n",
       "      <td>Better yet , don t visit a DMV office at all, ...</td>\n",
       "    </tr>\n",
       "    <tr>\n",
       "      <th>3</th>\n",
       "      <td>Ok, and can you tell me again where should I r...</td>\n",
       "      <td>Sure. Any change of address must be reported t...</td>\n",
       "      <td>DMV</td>\n",
       "      <td>Many DMV customers make easily avoidable mista...</td>\n",
       "    </tr>\n",
       "    <tr>\n",
       "      <th>4</th>\n",
       "      <td>Can you tell me more about Traffic points and ...</td>\n",
       "      <td>Traffic points is the system used by DMV to tr...</td>\n",
       "      <td>DMV maintains a point system to track dangerou...</td>\n",
       "      <td>Often , motorists convicted of a traffic ticke...</td>\n",
       "    </tr>\n",
       "    <tr>\n",
       "      <th>...</th>\n",
       "      <td>...</td>\n",
       "      <td>...</td>\n",
       "      <td>...</td>\n",
       "      <td>...</td>\n",
       "    </tr>\n",
       "    <tr>\n",
       "      <th>507</th>\n",
       "      <td>I need more info on self-certification</td>\n",
       "      <td>Do you need to self-certify?</td>\n",
       "      <td>I need to know how to get my CDL back to a CDL.</td>\n",
       "      <td>If your CDL was downgraded because of your \" n...</td>\n",
       "    </tr>\n",
       "    <tr>\n",
       "      <th>508</th>\n",
       "      <td>No</td>\n",
       "      <td>Do you want to know the self-certification dri...</td>\n",
       "      <td>I am not a \"private\" company that provides sch...</td>\n",
       "      <td>I work for a \"private\" company that provides s...</td>\n",
       "    </tr>\n",
       "    <tr>\n",
       "      <th>509</th>\n",
       "      <td>No</td>\n",
       "      <td>Do you want to know what happens if your drivi...</td>\n",
       "      <td>I am not a \"private\" company that provides sch...</td>\n",
       "      <td>I work for a \"private\" company that provides s...</td>\n",
       "    </tr>\n",
       "    <tr>\n",
       "      <th>510</th>\n",
       "      <td>Yes</td>\n",
       "      <td>If your driving type changes you must go into ...</td>\n",
       "      <td>Yes</td>\n",
       "      <td>Yes , you are eligible for Excepted Intrastate...</td>\n",
       "    </tr>\n",
       "    <tr>\n",
       "      <th>511</th>\n",
       "      <td>What do I do next if my driving type changes?</td>\n",
       "      <td>You must go into your local DMV office to cha...</td>\n",
       "      <td>go into your local DMV office to change your s...</td>\n",
       "      <td>If your driving type changes , you must go int...</td>\n",
       "    </tr>\n",
       "  </tbody>\n",
       "</table>\n",
       "<p>512 rows × 4 columns</p>\n",
       "</div>"
      ],
      "text/plain": [
       "                                              question  \\\n",
       "0    Hello, I forgot o update my address, can you h...   \n",
       "1                 Can I do my DMV transactions online?   \n",
       "2    Thanks, and in case I forget to bring all of t...   \n",
       "3    Ok, and can you tell me again where should I r...   \n",
       "4    Can you tell me more about Traffic points and ...   \n",
       "..                                                 ...   \n",
       "507             I need more info on self-certification   \n",
       "508                                                 No   \n",
       "509                                                 No   \n",
       "510                                                Yes   \n",
       "511      What do I do next if my driving type changes?   \n",
       "\n",
       "                                                answer  \\\n",
       "0    hi, you have to report any change of address t...   \n",
       "1    Yes, you can sign up for MyDMV for all the onl...   \n",
       "2    This happens often with our customers so that'...   \n",
       "3    Sure. Any change of address must be reported t...   \n",
       "4    Traffic points is the system used by DMV to tr...   \n",
       "..                                                 ...   \n",
       "507                       Do you need to self-certify?   \n",
       "508  Do you want to know the self-certification dri...   \n",
       "509  Do you want to know what happens if your drivi...   \n",
       "510  If your driving type changes you must go into ...   \n",
       "511   You must go into your local DMV office to cha...   \n",
       "\n",
       "                                          model_answer  \\\n",
       "0                                         Yes, I will.   \n",
       "1                                                   No   \n",
       "2                      Don't visit a DMV office at all   \n",
       "3                                                  DMV   \n",
       "4    DMV maintains a point system to track dangerou...   \n",
       "..                                                 ...   \n",
       "507    I need to know how to get my CDL back to a CDL.   \n",
       "508  I am not a \"private\" company that provides sch...   \n",
       "509  I am not a \"private\" company that provides sch...   \n",
       "510                                                Yes   \n",
       "511  go into your local DMV office to change your s...   \n",
       "\n",
       "                                           attribution  \n",
       "0    Also , turning in your plates is important to ...  \n",
       "1                                                  NaN  \n",
       "2    Better yet , don t visit a DMV office at all, ...  \n",
       "3    Many DMV customers make easily avoidable mista...  \n",
       "4    Often , motorists convicted of a traffic ticke...  \n",
       "..                                                 ...  \n",
       "507  If your CDL was downgraded because of your \" n...  \n",
       "508  I work for a \"private\" company that provides s...  \n",
       "509  I work for a \"private\" company that provides s...  \n",
       "510  Yes , you are eligible for Excepted Intrastate...  \n",
       "511  If your driving type changes , you must go int...  \n",
       "\n",
       "[512 rows x 4 columns]"
      ]
     },
     "execution_count": 48,
     "metadata": {},
     "output_type": "execute_result"
    }
   ],
   "source": [
    "df"
   ]
  },
  {
   "cell_type": "code",
   "execution_count": 29,
   "metadata": {},
   "outputs": [
    {
     "name": "stdout",
     "output_type": "stream",
     "text": [
      "Many DMV customers make easily avoidable mistakes that cause them significant problems, including encounters with law enforcement and impounded vehicles. Because we see customers make these mistakes over and over again , we are issuing this list of the top five DMV mistakes and how to avoid them.\n",
      "1. Forgetting to Update Address \n",
      "By statute , you must report a change of address to DMV within ten days of moving. That is the case for the address associated with your license, as well as all the addresses associated with each registered vehicle, which may differ. It is not sufficient to only: write your new address on the back of your old license; tell the United States Postal Service; or inform the police officer writing you a ticket. If you fail to keep your address current , you will miss a suspension order and may be charged with operating an unregistered vehicle and/or aggravated unlicensed operation, both misdemeanors. This really happens , but the good news is this is a problem that is easily avoidable. Learn more about how to change the address on your license and registrations [1 ]\n",
      "2. Leaving the State Without Notifying DMV \n",
      "States communicate with each other , so when you move to another state, be sure to tie up any loose ends regarding your New York State license or registration. That means resolving any unanswered tickets, suspensions or revocations, and surrendering your license plates to NYS when you get to your new home state. A license suspension or revocation here could mean that your new home state will not issue you a license there. Remember , it is important to notify DMV of your new address so that any possible mail correspondence can reach you. Also , turning in your plates is important to avoid an insurance lapse.\n"
     ]
    }
   ],
   "source": [
    "print(df.loc[0]['retrived_doc'])"
   ]
  },
  {
   "cell_type": "code",
   "execution_count": 44,
   "metadata": {},
   "outputs": [
    {
     "name": "stdout",
     "output_type": "stream",
     "text": [
      "Many DMV customers make easily avoidable mistakes that cause them significant problems, including encounters with law enforcement and impounded vehicles.\n",
      "*****\n",
      "Because we see customers make these mistakes over and over again , we are issuing this list of the top five DMV mistakes and how to avoid them.\n",
      "*****\n",
      "Forgetting to Update Address \n",
      "By statute , you must report a change of address to DMV within ten days of moving.\n",
      "*****\n",
      "That is the case for the address associated with your license, as well as all the addresses associated with each registered vehicle, which may differ.\n",
      "*****\n",
      "It is not sufficient to only: write your new address on the back of your old license; tell the United States Postal Service; or inform the police officer writing you a ticket.\n",
      "*****\n",
      "If you fail to keep your address current , you will miss a suspension order and may be charged with operating an unregistered vehicle and/or aggravated unlicensed operation, both misdemeanors.\n",
      "*****\n",
      "This really happens , but the good news is this is a problem that is easily avoidable.\n",
      "*****\n",
      "Learn more about how to change the address on your license and registrations [1 ]\n",
      "2.\n",
      "*****\n",
      "Leaving the State Without Notifying DMV \n",
      "States communicate with each other , so when you move to another state, be sure to tie up any loose ends regarding your New York State license or registration.\n",
      "*****\n",
      "That means resolving any unanswered tickets, suspensions or revocations, and surrendering your license plates to NYS when you get to your new home state.\n",
      "*****\n",
      "A license suspension or revocation here could mean that your new home state will not issue you a license there.\n",
      "*****\n",
      "Remember , it is important to notify DMV of your new address so that any possible mail correspondence can reach you.\n",
      "*****\n",
      "Also , turning in your plates is important to avoid an insurance lapse.\n",
      "*****\n"
     ]
    }
   ],
   "source": [
    "for sentence in nltk.sent_tokenize(df.loc[0]['retrived_doc']):\n",
    "\n",
    "    if re.match(r'\\d\\.', sentence) is not None:\n",
    "        continue\n",
    "\n",
    "    print(sentence)\n",
    "    print('*****')"
   ]
  },
  {
   "cell_type": "code",
   "execution_count": 1,
   "metadata": {},
   "outputs": [
    {
     "name": "stderr",
     "output_type": "stream",
     "text": [
      "/home/ygong/miniconda3/envs/cloned/lib/python3.8/site-packages/tqdm/auto.py:21: TqdmWarning: IProgress not found. Please update jupyter and ipywidgets. See https://ipywidgets.readthedocs.io/en/stable/user_install.html\n",
      "  from .autonotebook import tqdm as notebook_tqdm\n"
     ]
    }
   ],
   "source": [
    "from dataloader import attDataset\n",
    "from torch.utils.data import DataLoader\n",
    "\n",
    "path = 'data/doc2dial/new_dataset/DEFAULT/attribution_.csv'\n",
    "\n",
    "dataset = attDataset(path)"
   ]
  },
  {
   "cell_type": "code",
   "execution_count": 2,
   "metadata": {},
   "outputs": [],
   "source": [
    "dataloader = DataLoader(dataset, batch_size=32, shuffle=False)"
   ]
  },
  {
   "cell_type": "code",
   "execution_count": 7,
   "metadata": {},
   "outputs": [
    {
     "data": {
      "text/plain": [
       "32"
      ]
     },
     "execution_count": 7,
     "metadata": {},
     "output_type": "execute_result"
    }
   ],
   "source": [
    "len(dataloader)"
   ]
  },
  {
   "cell_type": "code",
   "execution_count": 3,
   "metadata": {},
   "outputs": [],
   "source": [
    "for batch in dataloader:\n",
    "    continue    \n",
    "    # questions = batch['question']\n",
    "    # print(questions)\n",
    "        # answers = batch['answer']\n",
    "        # # could be nan\n",
    "        # model_answer = [temp if isinstance(temp, str) else '' for temp in batch['model_answer']]\n",
    "        # # could be nan\n",
    "        # attribution_ls = [temp if isinstance(temp, str) else '' for temp in batch['attribution']]\n",
    "        # true_refs = [temp if isinstance(temp, str) else '' for temp in batch['ref_string'] ]\n"
   ]
  },
  {
   "cell_type": "code",
   "execution_count": 22,
   "metadata": {},
   "outputs": [],
   "source": [
    "import pandas as pd\n",
    "df = pd.read_csv('data/doc2dial/new_dataset/doc2dial_250_top1_new/eval_one_att.csv')"
   ]
  },
  {
   "cell_type": "code",
   "execution_count": 28,
   "metadata": {},
   "outputs": [
    {
     "data": {
      "text/html": [
       "<div>\n",
       "<style scoped>\n",
       "    .dataframe tbody tr th:only-of-type {\n",
       "        vertical-align: middle;\n",
       "    }\n",
       "\n",
       "    .dataframe tbody tr th {\n",
       "        vertical-align: top;\n",
       "    }\n",
       "\n",
       "    .dataframe thead th {\n",
       "        text-align: right;\n",
       "    }\n",
       "</style>\n",
       "<table border=\"1\" class=\"dataframe\">\n",
       "  <thead>\n",
       "    <tr style=\"text-align: right;\">\n",
       "      <th></th>\n",
       "      <th>question</th>\n",
       "      <th>answer</th>\n",
       "      <th>model_answer</th>\n",
       "      <th>true_ref_str</th>\n",
       "      <th>attribution</th>\n",
       "      <th>answer_f1</th>\n",
       "      <th>answer_prec</th>\n",
       "      <th>answer_recall</th>\n",
       "      <th>autoais_retrevied(model_answer)</th>\n",
       "      <th>att_f1</th>\n",
       "      <th>att_prec</th>\n",
       "      <th>att_recall</th>\n",
       "      <th>autoais_true_answer</th>\n",
       "    </tr>\n",
       "  </thead>\n",
       "  <tbody>\n",
       "    <tr>\n",
       "      <th>0</th>\n",
       "      <td>Hello, I forgot o update my address, can you h...</td>\n",
       "      <td>hi, you have to report any change of address t...</td>\n",
       "      <td>I'd like to know what the top five DMV mistake...</td>\n",
       "      <td>you must report a change of address to DMV wit...</td>\n",
       "      <td>the top five DMV mistakes and how to avoid them.</td>\n",
       "      <td>0.088889</td>\n",
       "      <td>0.200000</td>\n",
       "      <td>0.057143</td>\n",
       "      <td>yes</td>\n",
       "      <td>0.090909</td>\n",
       "      <td>0.222222</td>\n",
       "      <td>0.057143</td>\n",
       "      <td>no</td>\n",
       "    </tr>\n",
       "    <tr>\n",
       "      <th>1</th>\n",
       "      <td>Can I do my DMV transactions online?</td>\n",
       "      <td>Yes, you can sign up for MyDMV for all the onl...</td>\n",
       "      <td>Yes</td>\n",
       "      <td>Sign up or log into MyDMV [6 ]</td>\n",
       "      <td>NaN</td>\n",
       "      <td>0.153846</td>\n",
       "      <td>1.000000</td>\n",
       "      <td>0.083333</td>\n",
       "      <td>no</td>\n",
       "      <td>0.000000</td>\n",
       "      <td>0.000000</td>\n",
       "      <td>0.000000</td>\n",
       "      <td>yes</td>\n",
       "    </tr>\n",
       "    <tr>\n",
       "      <th>2</th>\n",
       "      <td>Thanks, and in case I forget to bring all of t...</td>\n",
       "      <td>This happens often with our customers so that'...</td>\n",
       "      <td>a suspended license</td>\n",
       "      <td>About ten percent of customers visiting a DMV ...</td>\n",
       "      <td>Failure to pay the DRA will result in a suspen...</td>\n",
       "      <td>0.000000</td>\n",
       "      <td>0.000000</td>\n",
       "      <td>0.000000</td>\n",
       "      <td>no</td>\n",
       "      <td>0.083333</td>\n",
       "      <td>0.444444</td>\n",
       "      <td>0.045977</td>\n",
       "      <td>no</td>\n",
       "    </tr>\n",
       "    <tr>\n",
       "      <th>3</th>\n",
       "      <td>Ok, and can you tell me again where should I r...</td>\n",
       "      <td>Sure. Any change of address must be reported t...</td>\n",
       "      <td>DMV</td>\n",
       "      <td>you must report a change of address to DMV wit...</td>\n",
       "      <td>By statute , you must report a change of addre...</td>\n",
       "      <td>0.086957</td>\n",
       "      <td>1.000000</td>\n",
       "      <td>0.045455</td>\n",
       "      <td>yes</td>\n",
       "      <td>0.480000</td>\n",
       "      <td>0.800000</td>\n",
       "      <td>0.342857</td>\n",
       "      <td>yes</td>\n",
       "    </tr>\n",
       "    <tr>\n",
       "      <th>4</th>\n",
       "      <td>Can you tell me more about Traffic points and ...</td>\n",
       "      <td>Traffic points is the system used by DMV to tr...</td>\n",
       "      <td>DMV maintains a point system to track dangerou...</td>\n",
       "      <td>DMV maintains a point system to track dangerou...</td>\n",
       "      <td>Often , motorists convicted of a traffic ticke...</td>\n",
       "      <td>0.312500</td>\n",
       "      <td>0.294118</td>\n",
       "      <td>0.333333</td>\n",
       "      <td>yes</td>\n",
       "      <td>0.735294</td>\n",
       "      <td>0.961538</td>\n",
       "      <td>0.595238</td>\n",
       "      <td>The cost of the traffic points is independent ...</td>\n",
       "    </tr>\n",
       "  </tbody>\n",
       "</table>\n",
       "</div>"
      ],
      "text/plain": [
       "                                            question  \\\n",
       "0  Hello, I forgot o update my address, can you h...   \n",
       "1               Can I do my DMV transactions online?   \n",
       "2  Thanks, and in case I forget to bring all of t...   \n",
       "3  Ok, and can you tell me again where should I r...   \n",
       "4  Can you tell me more about Traffic points and ...   \n",
       "\n",
       "                                              answer  \\\n",
       "0  hi, you have to report any change of address t...   \n",
       "1  Yes, you can sign up for MyDMV for all the onl...   \n",
       "2  This happens often with our customers so that'...   \n",
       "3  Sure. Any change of address must be reported t...   \n",
       "4  Traffic points is the system used by DMV to tr...   \n",
       "\n",
       "                                        model_answer  \\\n",
       "0  I'd like to know what the top five DMV mistake...   \n",
       "1                                                Yes   \n",
       "2                                a suspended license   \n",
       "3                                                DMV   \n",
       "4  DMV maintains a point system to track dangerou...   \n",
       "\n",
       "                                        true_ref_str  \\\n",
       "0  you must report a change of address to DMV wit...   \n",
       "1                    Sign up or log into MyDMV [6 ]    \n",
       "2  About ten percent of customers visiting a DMV ...   \n",
       "3  you must report a change of address to DMV wit...   \n",
       "4  DMV maintains a point system to track dangerou...   \n",
       "\n",
       "                                         attribution  answer_f1  answer_prec  \\\n",
       "0   the top five DMV mistakes and how to avoid them.   0.088889     0.200000   \n",
       "1                                                NaN   0.153846     1.000000   \n",
       "2  Failure to pay the DRA will result in a suspen...   0.000000     0.000000   \n",
       "3  By statute , you must report a change of addre...   0.086957     1.000000   \n",
       "4  Often , motorists convicted of a traffic ticke...   0.312500     0.294118   \n",
       "\n",
       "   answer_recall autoais_retrevied(model_answer)    att_f1  att_prec  \\\n",
       "0       0.057143                             yes  0.090909  0.222222   \n",
       "1       0.083333                              no  0.000000  0.000000   \n",
       "2       0.000000                              no  0.083333  0.444444   \n",
       "3       0.045455                             yes  0.480000  0.800000   \n",
       "4       0.333333                             yes  0.735294  0.961538   \n",
       "\n",
       "   att_recall                                autoais_true_answer  \n",
       "0    0.057143                                                 no  \n",
       "1    0.000000                                                yes  \n",
       "2    0.045977                                                 no  \n",
       "3    0.342857                                                yes  \n",
       "4    0.595238  The cost of the traffic points is independent ...  "
      ]
     },
     "execution_count": 28,
     "metadata": {},
     "output_type": "execute_result"
    }
   ],
   "source": [
    "df.head(5)"
   ]
  },
  {
   "cell_type": "code",
   "execution_count": 26,
   "metadata": {},
   "outputs": [
    {
     "name": "stdout",
     "output_type": "stream",
     "text": [
      "Failure to pay the DRA will result in a suspended license.\n"
     ]
    }
   ],
   "source": [
    "print(df.loc[2]['attribution'])"
   ]
  },
  {
   "cell_type": "code",
   "execution_count": 44,
   "metadata": {},
   "outputs": [],
   "source": [
    "df1 = pd.read_csv('data/doc2dial/new_dataset/doc2dial_1000_top1_new/attribution_.csv')"
   ]
  },
  {
   "cell_type": "code",
   "execution_count": 47,
   "metadata": {},
   "outputs": [
    {
     "data": {
      "text/html": [
       "<div>\n",
       "<style scoped>\n",
       "    .dataframe tbody tr th:only-of-type {\n",
       "        vertical-align: middle;\n",
       "    }\n",
       "\n",
       "    .dataframe tbody tr th {\n",
       "        vertical-align: top;\n",
       "    }\n",
       "\n",
       "    .dataframe thead th {\n",
       "        text-align: right;\n",
       "    }\n",
       "</style>\n",
       "<table border=\"1\" class=\"dataframe\">\n",
       "  <thead>\n",
       "    <tr style=\"text-align: right;\">\n",
       "      <th></th>\n",
       "      <th>question</th>\n",
       "      <th>answer</th>\n",
       "      <th>model_answer</th>\n",
       "      <th>retrived_doc</th>\n",
       "      <th>ref</th>\n",
       "      <th>attribution</th>\n",
       "      <th>doc_id</th>\n",
       "    </tr>\n",
       "  </thead>\n",
       "  <tbody>\n",
       "    <tr>\n",
       "      <th>0</th>\n",
       "      <td>Hello, I forgot o update my address, can you h...</td>\n",
       "      <td>hi, you have to report any change of address t...</td>\n",
       "      <td>Yes, I will.</td>\n",
       "      <td>Many DMV customers make easily avoidable mista...</td>\n",
       "      <td>[{'sp_id': '6', 'label': 'solution'}, {'sp_id'...</td>\n",
       "      <td>Also , turning in your plates is important to ...</td>\n",
       "      <td>Top 5 DMV Mistakes and How to Avoid Them#3_0</td>\n",
       "    </tr>\n",
       "    <tr>\n",
       "      <th>1</th>\n",
       "      <td>Can I do my DMV transactions online?</td>\n",
       "      <td>Yes, you can sign up for MyDMV for all the onl...</td>\n",
       "      <td>No</td>\n",
       "      <td>4. Understanding how Much Traffic Points Cost ...</td>\n",
       "      <td>[{'sp_id': '56', 'label': 'solution'}]</td>\n",
       "      <td>NaN</td>\n",
       "      <td>Top 5 DMV Mistakes and How to Avoid Them#3_0</td>\n",
       "    </tr>\n",
       "    <tr>\n",
       "      <th>2</th>\n",
       "      <td>Thanks, and in case I forget to bring all of t...</td>\n",
       "      <td>This happens often with our customers so that'...</td>\n",
       "      <td>Don't visit a DMV office at all</td>\n",
       "      <td>4. Understanding how Much Traffic Points Cost ...</td>\n",
       "      <td>[{'sp_id': '49', 'label': 'solution'}, {'sp_id...</td>\n",
       "      <td>Better yet , don t visit a DMV office at all, ...</td>\n",
       "      <td>Top 5 DMV Mistakes and How to Avoid Them#3_0</td>\n",
       "    </tr>\n",
       "    <tr>\n",
       "      <th>3</th>\n",
       "      <td>Ok, and can you tell me again where should I r...</td>\n",
       "      <td>Sure. Any change of address must be reported t...</td>\n",
       "      <td>DMV</td>\n",
       "      <td>Many DMV customers make easily avoidable mista...</td>\n",
       "      <td>[{'sp_id': '6', 'label': 'solution'}, {'sp_id'...</td>\n",
       "      <td>Many DMV customers make easily avoidable mista...</td>\n",
       "      <td>Top 5 DMV Mistakes and How to Avoid Them#3_0</td>\n",
       "    </tr>\n",
       "    <tr>\n",
       "      <th>4</th>\n",
       "      <td>Can you tell me more about Traffic points and ...</td>\n",
       "      <td>Traffic points is the system used by DMV to tr...</td>\n",
       "      <td>DMV maintains a point system to track dangerou...</td>\n",
       "      <td>Learn more about Insurances Lapes [2] and How ...</td>\n",
       "      <td>[{'sp_id': '41', 'label': 'solution'}, {'sp_id...</td>\n",
       "      <td>Often , motorists convicted of a traffic ticke...</td>\n",
       "      <td>Top 5 DMV Mistakes and How to Avoid Them#3_0</td>\n",
       "    </tr>\n",
       "    <tr>\n",
       "      <th>...</th>\n",
       "      <td>...</td>\n",
       "      <td>...</td>\n",
       "      <td>...</td>\n",
       "      <td>...</td>\n",
       "      <td>...</td>\n",
       "      <td>...</td>\n",
       "      <td>...</td>\n",
       "    </tr>\n",
       "    <tr>\n",
       "      <th>507</th>\n",
       "      <td>I need more info on self-certification</td>\n",
       "      <td>Do you need to self-certify?</td>\n",
       "      <td>I need to know how to get my CDL back to a CDL.</td>\n",
       "      <td>12. The Medical Examiner s Certificate I previ...</td>\n",
       "      <td>[{'sp_id': '2', 'label': 'precondition'}]</td>\n",
       "      <td>If your CDL was downgraded because of your \" n...</td>\n",
       "      <td>Medical Certification FAQ's#3_0</td>\n",
       "    </tr>\n",
       "    <tr>\n",
       "      <th>508</th>\n",
       "      <td>No</td>\n",
       "      <td>Do you want to know the self-certification dri...</td>\n",
       "      <td>I am not a \"private\" company that provides sch...</td>\n",
       "      <td>5. I am eligible for an excepted operation, bu...</td>\n",
       "      <td>[{'sp_id': '6', 'label': 'precondition'}]</td>\n",
       "      <td>I work for a \"private\" company that provides s...</td>\n",
       "      <td>Medical Certification FAQ's#3_0</td>\n",
       "    </tr>\n",
       "    <tr>\n",
       "      <th>509</th>\n",
       "      <td>No</td>\n",
       "      <td>Do you want to know what happens if your drivi...</td>\n",
       "      <td>I am not a \"private\" company that provides sch...</td>\n",
       "      <td>5. I am eligible for an excepted operation, bu...</td>\n",
       "      <td>[{'sp_id': '17', 'label': 'precondition'}]</td>\n",
       "      <td>I work for a \"private\" company that provides s...</td>\n",
       "      <td>Medical Certification FAQ's#3_0</td>\n",
       "    </tr>\n",
       "    <tr>\n",
       "      <th>510</th>\n",
       "      <td>Yes</td>\n",
       "      <td>If your driving type changes you must go into ...</td>\n",
       "      <td>Yes</td>\n",
       "      <td>5. I am eligible for an excepted operation, bu...</td>\n",
       "      <td>[{'sp_id': '18', 'label': 'precondition'}]</td>\n",
       "      <td>Yes , you are eligible for Excepted Intrastate...</td>\n",
       "      <td>Medical Certification FAQ's#3_0</td>\n",
       "    </tr>\n",
       "    <tr>\n",
       "      <th>511</th>\n",
       "      <td>What do I do next if my driving type changes?</td>\n",
       "      <td>You must go into your local DMV office to cha...</td>\n",
       "      <td>go into your local DMV office to change your s...</td>\n",
       "      <td>2. What are the self-certification driving typ...</td>\n",
       "      <td>[{'sp_id': '19', 'label': 'solution'}, {'sp_id...</td>\n",
       "      <td>If your driving type changes , you must go int...</td>\n",
       "      <td>Medical Certification FAQ's#3_0</td>\n",
       "    </tr>\n",
       "  </tbody>\n",
       "</table>\n",
       "<p>512 rows × 7 columns</p>\n",
       "</div>"
      ],
      "text/plain": [
       "                                              question  \\\n",
       "0    Hello, I forgot o update my address, can you h...   \n",
       "1                 Can I do my DMV transactions online?   \n",
       "2    Thanks, and in case I forget to bring all of t...   \n",
       "3    Ok, and can you tell me again where should I r...   \n",
       "4    Can you tell me more about Traffic points and ...   \n",
       "..                                                 ...   \n",
       "507             I need more info on self-certification   \n",
       "508                                                 No   \n",
       "509                                                 No   \n",
       "510                                                Yes   \n",
       "511      What do I do next if my driving type changes?   \n",
       "\n",
       "                                                answer  \\\n",
       "0    hi, you have to report any change of address t...   \n",
       "1    Yes, you can sign up for MyDMV for all the onl...   \n",
       "2    This happens often with our customers so that'...   \n",
       "3    Sure. Any change of address must be reported t...   \n",
       "4    Traffic points is the system used by DMV to tr...   \n",
       "..                                                 ...   \n",
       "507                       Do you need to self-certify?   \n",
       "508  Do you want to know the self-certification dri...   \n",
       "509  Do you want to know what happens if your drivi...   \n",
       "510  If your driving type changes you must go into ...   \n",
       "511   You must go into your local DMV office to cha...   \n",
       "\n",
       "                                          model_answer  \\\n",
       "0                                         Yes, I will.   \n",
       "1                                                   No   \n",
       "2                      Don't visit a DMV office at all   \n",
       "3                                                  DMV   \n",
       "4    DMV maintains a point system to track dangerou...   \n",
       "..                                                 ...   \n",
       "507    I need to know how to get my CDL back to a CDL.   \n",
       "508  I am not a \"private\" company that provides sch...   \n",
       "509  I am not a \"private\" company that provides sch...   \n",
       "510                                                Yes   \n",
       "511  go into your local DMV office to change your s...   \n",
       "\n",
       "                                          retrived_doc  \\\n",
       "0    Many DMV customers make easily avoidable mista...   \n",
       "1    4. Understanding how Much Traffic Points Cost ...   \n",
       "2    4. Understanding how Much Traffic Points Cost ...   \n",
       "3    Many DMV customers make easily avoidable mista...   \n",
       "4    Learn more about Insurances Lapes [2] and How ...   \n",
       "..                                                 ...   \n",
       "507  12. The Medical Examiner s Certificate I previ...   \n",
       "508  5. I am eligible for an excepted operation, bu...   \n",
       "509  5. I am eligible for an excepted operation, bu...   \n",
       "510  5. I am eligible for an excepted operation, bu...   \n",
       "511  2. What are the self-certification driving typ...   \n",
       "\n",
       "                                                   ref  \\\n",
       "0    [{'sp_id': '6', 'label': 'solution'}, {'sp_id'...   \n",
       "1               [{'sp_id': '56', 'label': 'solution'}]   \n",
       "2    [{'sp_id': '49', 'label': 'solution'}, {'sp_id...   \n",
       "3    [{'sp_id': '6', 'label': 'solution'}, {'sp_id'...   \n",
       "4    [{'sp_id': '41', 'label': 'solution'}, {'sp_id...   \n",
       "..                                                 ...   \n",
       "507          [{'sp_id': '2', 'label': 'precondition'}]   \n",
       "508          [{'sp_id': '6', 'label': 'precondition'}]   \n",
       "509         [{'sp_id': '17', 'label': 'precondition'}]   \n",
       "510         [{'sp_id': '18', 'label': 'precondition'}]   \n",
       "511  [{'sp_id': '19', 'label': 'solution'}, {'sp_id...   \n",
       "\n",
       "                                           attribution  \\\n",
       "0    Also , turning in your plates is important to ...   \n",
       "1                                                  NaN   \n",
       "2    Better yet , don t visit a DMV office at all, ...   \n",
       "3    Many DMV customers make easily avoidable mista...   \n",
       "4    Often , motorists convicted of a traffic ticke...   \n",
       "..                                                 ...   \n",
       "507  If your CDL was downgraded because of your \" n...   \n",
       "508  I work for a \"private\" company that provides s...   \n",
       "509  I work for a \"private\" company that provides s...   \n",
       "510  Yes , you are eligible for Excepted Intrastate...   \n",
       "511  If your driving type changes , you must go int...   \n",
       "\n",
       "                                           doc_id  \n",
       "0    Top 5 DMV Mistakes and How to Avoid Them#3_0  \n",
       "1    Top 5 DMV Mistakes and How to Avoid Them#3_0  \n",
       "2    Top 5 DMV Mistakes and How to Avoid Them#3_0  \n",
       "3    Top 5 DMV Mistakes and How to Avoid Them#3_0  \n",
       "4    Top 5 DMV Mistakes and How to Avoid Them#3_0  \n",
       "..                                            ...  \n",
       "507               Medical Certification FAQ's#3_0  \n",
       "508               Medical Certification FAQ's#3_0  \n",
       "509               Medical Certification FAQ's#3_0  \n",
       "510               Medical Certification FAQ's#3_0  \n",
       "511               Medical Certification FAQ's#3_0  \n",
       "\n",
       "[512 rows x 7 columns]"
      ]
     },
     "execution_count": 47,
     "metadata": {},
     "output_type": "execute_result"
    }
   ],
   "source": [
    "df1"
   ]
  },
  {
   "cell_type": "code",
   "execution_count": 48,
   "metadata": {},
   "outputs": [
    {
     "data": {
      "text/plain": [
       "''"
      ]
     },
     "execution_count": 48,
     "metadata": {},
     "output_type": "execute_result"
    }
   ],
   "source": [
    "extract_one_sentence(df1.loc[1]['retrived_doc'], df1.loc[1]['model_answer'], method='BLEU')"
   ]
  }
 ],
 "metadata": {
  "kernelspec": {
   "display_name": "Python 3 (ipykernel)",
   "language": "python",
   "name": "python3"
  },
  "language_info": {
   "codemirror_mode": {
    "name": "ipython",
    "version": 3
   },
   "file_extension": ".py",
   "mimetype": "text/x-python",
   "name": "python",
   "nbconvert_exporter": "python",
   "pygments_lexer": "ipython3",
   "version": "3.8.16"
  },
  "orig_nbformat": 4
 },
 "nbformat": 4,
 "nbformat_minor": 2
}
